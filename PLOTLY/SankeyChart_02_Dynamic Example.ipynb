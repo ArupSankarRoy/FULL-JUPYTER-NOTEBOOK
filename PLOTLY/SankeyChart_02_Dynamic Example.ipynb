{
 "cells": [
  {
   "cell_type": "markdown",
   "id": "72e89526",
   "metadata": {},
   "source": [
    "# DYNAMIC EXAMPLE"
   ]
  },
  {
   "cell_type": "code",
   "execution_count": 1,
   "id": "f047f407",
   "metadata": {},
   "outputs": [],
   "source": [
    "import plotly as go"
   ]
  },
  {
   "cell_type": "code",
   "execution_count": 2,
   "id": "bc3cd86e",
   "metadata": {},
   "outputs": [],
   "source": [
    "incomes = {'Salary' : 1500 , 'Blog' : 50 , 'Other Income' : 10}\n",
    "expenses = {\"Rent\" : 600 , \"Utilities\" : 200, \"Groceries\" : 300, \"Car\": 100, \"Other Expenses\":50, \"Saving\":10}\n"
   ]
  },
  {
   "cell_type": "code",
   "execution_count": 3,
   "id": "28ff8b49",
   "metadata": {},
   "outputs": [
    {
     "data": {
      "text/plain": [
       "['Salary',\n",
       " 'Blog',\n",
       " 'Other Income',\n",
       " 'Total Income',\n",
       " 'Rent',\n",
       " 'Utilities',\n",
       " 'Groceries',\n",
       " 'Car',\n",
       " 'Other Expenses',\n",
       " 'Saving']"
      ]
     },
     "execution_count": 3,
     "metadata": {},
     "output_type": "execute_result"
    }
   ],
   "source": [
    "label = list(incomes.keys()) + [\"Total Income\"] + list(expenses.keys())\n",
    "label      "
   ]
  },
  {
   "cell_type": "code",
   "execution_count": 4,
   "id": "620a2c36",
   "metadata": {},
   "outputs": [
    {
     "data": {
      "text/plain": [
       "[0, 1, 2, 3, 3, 3, 3, 3, 3]"
      ]
     },
     "execution_count": 4,
     "metadata": {},
     "output_type": "execute_result"
    }
   ],
   "source": [
    "source = list(range(len(incomes))) + [len(incomes)] * len(expenses)\n",
    "source"
   ]
  },
  {
   "cell_type": "code",
   "execution_count": 5,
   "id": "721720a7",
   "metadata": {},
   "outputs": [
    {
     "data": {
      "text/plain": [
       "[3, 3, 3, 4, 5, 6, 7, 8, 9]"
      ]
     },
     "execution_count": 5,
     "metadata": {},
     "output_type": "execute_result"
    }
   ],
   "source": [
    "target = [len(incomes)] * len(incomes) + [label.index(expense) for expense in expenses.keys()]\n",
    "\n",
    "target"
   ]
  },
  {
   "cell_type": "code",
   "execution_count": 6,
   "id": "a0988f9b",
   "metadata": {},
   "outputs": [
    {
     "data": {
      "text/plain": [
       "[0, 1, 2]"
      ]
     },
     "execution_count": 6,
     "metadata": {},
     "output_type": "execute_result"
    }
   ],
   "source": [
    "ls = list(range(len(incomes)))\n",
    "ls"
   ]
  },
  {
   "cell_type": "code",
   "execution_count": 7,
   "id": "e5a2826d",
   "metadata": {},
   "outputs": [
    {
     "data": {
      "text/plain": [
       "range(0, 3)"
      ]
     },
     "execution_count": 7,
     "metadata": {},
     "output_type": "execute_result"
    }
   ],
   "source": [
    " range(len(incomes))\n"
   ]
  },
  {
   "cell_type": "code",
   "execution_count": 8,
   "id": "d1fdffbe",
   "metadata": {},
   "outputs": [
    {
     "data": {
      "text/plain": [
       "[3]"
      ]
     },
     "execution_count": 8,
     "metadata": {},
     "output_type": "execute_result"
    }
   ],
   "source": [
    "[len(incomes)]"
   ]
  }
 ],
 "metadata": {
  "kernelspec": {
   "display_name": "Python 3 (ipykernel)",
   "language": "python",
   "name": "python3"
  },
  "language_info": {
   "codemirror_mode": {
    "name": "ipython",
    "version": 3
   },
   "file_extension": ".py",
   "mimetype": "text/x-python",
   "name": "python",
   "nbconvert_exporter": "python",
   "pygments_lexer": "ipython3",
   "version": "3.11.3"
  }
 },
 "nbformat": 4,
 "nbformat_minor": 5
}
