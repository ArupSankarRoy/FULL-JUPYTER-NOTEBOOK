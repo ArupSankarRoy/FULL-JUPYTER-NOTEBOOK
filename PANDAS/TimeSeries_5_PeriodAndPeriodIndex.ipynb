{
 "cells": [
  {
   "cell_type": "code",
   "execution_count": 1,
   "id": "77567f7b",
   "metadata": {},
   "outputs": [
    {
     "data": {
      "text/plain": [
       "Period('2016', 'A-DEC')"
      ]
     },
     "execution_count": 1,
     "metadata": {},
     "output_type": "execute_result"
    }
   ],
   "source": [
    "import pandas as pd\n",
    "\n",
    "y = pd.Period(\"2016\") # A-DEC means Period is Annual and Ending in December\n",
    "y"
   ]
  },
  {
   "cell_type": "code",
   "execution_count": 2,
   "id": "b1b40d6b",
   "metadata": {},
   "outputs": [
    {
     "data": {
      "text/plain": [
       "['__add__',\n",
       " '__array_priority__',\n",
       " '__class__',\n",
       " '__delattr__',\n",
       " '__dict__',\n",
       " '__dir__',\n",
       " '__doc__',\n",
       " '__eq__',\n",
       " '__format__',\n",
       " '__ge__',\n",
       " '__getattribute__',\n",
       " '__gt__',\n",
       " '__hash__',\n",
       " '__init__',\n",
       " '__init_subclass__',\n",
       " '__le__',\n",
       " '__lt__',\n",
       " '__module__',\n",
       " '__ne__',\n",
       " '__new__',\n",
       " '__radd__',\n",
       " '__reduce__',\n",
       " '__reduce_ex__',\n",
       " '__repr__',\n",
       " '__rsub__',\n",
       " '__setattr__',\n",
       " '__setstate__',\n",
       " '__sizeof__',\n",
       " '__str__',\n",
       " '__sub__',\n",
       " '__subclasshook__',\n",
       " '__weakref__',\n",
       " '_add_offset',\n",
       " '_add_timedeltalike_scalar',\n",
       " '_dtype',\n",
       " '_from_ordinal',\n",
       " '_maybe_convert_freq',\n",
       " '_require_matching_freq',\n",
       " 'asfreq',\n",
       " 'day',\n",
       " 'day_of_week',\n",
       " 'day_of_year',\n",
       " 'dayofweek',\n",
       " 'dayofyear',\n",
       " 'days_in_month',\n",
       " 'daysinmonth',\n",
       " 'end_time',\n",
       " 'freq',\n",
       " 'freqstr',\n",
       " 'hour',\n",
       " 'is_leap_year',\n",
       " 'minute',\n",
       " 'month',\n",
       " 'now',\n",
       " 'ordinal',\n",
       " 'quarter',\n",
       " 'qyear',\n",
       " 'second',\n",
       " 'start_time',\n",
       " 'strftime',\n",
       " 'to_timestamp',\n",
       " 'week',\n",
       " 'weekday',\n",
       " 'weekofyear',\n",
       " 'year']"
      ]
     },
     "execution_count": 2,
     "metadata": {},
     "output_type": "execute_result"
    }
   ],
   "source": [
    "dir(y)"
   ]
  },
  {
   "cell_type": "code",
   "execution_count": 3,
   "id": "b294376c",
   "metadata": {},
   "outputs": [
    {
     "data": {
      "text/plain": [
       "Timestamp('2016-01-01 00:00:00')"
      ]
     },
     "execution_count": 3,
     "metadata": {},
     "output_type": "execute_result"
    }
   ],
   "source": [
    "y.start_time"
   ]
  },
  {
   "cell_type": "code",
   "execution_count": 4,
   "id": "814f26ce",
   "metadata": {},
   "outputs": [
    {
     "data": {
      "text/plain": [
       "Timestamp('2016-12-31 23:59:59.999999999')"
      ]
     },
     "execution_count": 4,
     "metadata": {},
     "output_type": "execute_result"
    }
   ],
   "source": [
    "y.end_time"
   ]
  },
  {
   "cell_type": "code",
   "execution_count": 5,
   "id": "b402b7de",
   "metadata": {},
   "outputs": [
    {
     "data": {
      "text/plain": [
       "Period('2011-01', 'M')"
      ]
     },
     "execution_count": 5,
     "metadata": {},
     "output_type": "execute_result"
    }
   ],
   "source": [
    "m = pd.Period(\"2011-1\" , freq = \"M\")\n",
    "m"
   ]
  },
  {
   "cell_type": "code",
   "execution_count": 6,
   "id": "caaccd7a",
   "metadata": {},
   "outputs": [
    {
     "data": {
      "text/plain": [
       "Period('2011-02', 'M')"
      ]
     },
     "execution_count": 6,
     "metadata": {},
     "output_type": "execute_result"
    }
   ],
   "source": [
    "m + 1 # month + 1"
   ]
  },
  {
   "cell_type": "code",
   "execution_count": 7,
   "id": "f357ec03",
   "metadata": {},
   "outputs": [
    {
     "data": {
      "text/plain": [
       "Period('2017-02-28', 'D')"
      ]
     },
     "execution_count": 7,
     "metadata": {},
     "output_type": "execute_result"
    }
   ],
   "source": [
    "d = pd.Period(\"2017-02-28\" , freq = \"D\")\n",
    "d"
   ]
  },
  {
   "cell_type": "code",
   "execution_count": 8,
   "id": "5e69d032",
   "metadata": {},
   "outputs": [
    {
     "data": {
      "text/plain": [
       "Period('2017-03-01', 'D')"
      ]
     },
     "execution_count": 8,
     "metadata": {},
     "output_type": "execute_result"
    }
   ],
   "source": [
    "d + 1 # NOTE d + 1 gives 2017-03-01 because 2016 is a Leap Year"
   ]
  },
  {
   "cell_type": "code",
   "execution_count": 3,
   "id": "a212bcd8",
   "metadata": {},
   "outputs": [
    {
     "data": {
      "text/plain": [
       "Period('2017-02-28 23:00', 'H')"
      ]
     },
     "execution_count": 3,
     "metadata": {},
     "output_type": "execute_result"
    }
   ],
   "source": [
    "h = pd.Period(\"2017-02-28 23:00:00\" , freq = \"H\")\n",
    "h"
   ]
  },
  {
   "cell_type": "code",
   "execution_count": 4,
   "id": "273238e3",
   "metadata": {},
   "outputs": [
    {
     "data": {
      "text/plain": [
       "Timestamp('2017-02-28 23:00:00')"
      ]
     },
     "execution_count": 4,
     "metadata": {},
     "output_type": "execute_result"
    }
   ],
   "source": [
    "h.start_time"
   ]
  },
  {
   "cell_type": "code",
   "execution_count": 5,
   "id": "27762175",
   "metadata": {},
   "outputs": [
    {
     "data": {
      "text/plain": [
       "Timestamp('2017-02-28 23:59:59.999999999')"
      ]
     },
     "execution_count": 5,
     "metadata": {},
     "output_type": "execute_result"
    }
   ],
   "source": [
    "h.end_time"
   ]
  },
  {
   "cell_type": "code",
   "execution_count": 6,
   "id": "d31a2ca8",
   "metadata": {},
   "outputs": [
    {
     "data": {
      "text/plain": [
       "Period('2017-03-01 00:00', 'H')"
      ]
     },
     "execution_count": 6,
     "metadata": {},
     "output_type": "execute_result"
    }
   ],
   "source": [
    "h + 1"
   ]
  },
  {
   "cell_type": "markdown",
   "id": "4289f5af",
   "metadata": {},
   "source": [
    "# Quaterly Time Period "
   ]
  },
  {
   "cell_type": "markdown",
   "id": "46d527c1",
   "metadata": {},
   "source": [
    "### 1 quater = 3 months"
   ]
  },
  {
   "cell_type": "code",
   "execution_count": 7,
   "id": "a094bbb0",
   "metadata": {},
   "outputs": [
    {
     "data": {
      "text/plain": [
       "Period('2017Q1', 'Q-DEC')"
      ]
     },
     "execution_count": 7,
     "metadata": {},
     "output_type": "execute_result"
    }
   ],
   "source": [
    "q = pd.Period(\"2017Q1\") # Now the ans says that Time ends on December\n",
    "q"
   ]
  },
  {
   "cell_type": "code",
   "execution_count": 8,
   "id": "c9981a1e",
   "metadata": {},
   "outputs": [
    {
     "data": {
      "text/plain": [
       "Period('2017Q1', 'Q-JAN')"
      ]
     },
     "execution_count": 8,
     "metadata": {},
     "output_type": "execute_result"
    }
   ],
   "source": [
    "q = pd.Period(\"2017Q1\" , freq = \"Q-JAN\") # ITS START TIME 2016-02-01 \n",
    "q\n",
    "# HERE YEAR ENDS AT JANUARY INSTED OF DECEMBER"
   ]
  },
  {
   "cell_type": "code",
   "execution_count": 10,
   "id": "3674714c",
   "metadata": {},
   "outputs": [
    {
     "data": {
      "text/plain": [
       "Timestamp('2016-04-30 23:59:59.999999999')"
      ]
     },
     "execution_count": 10,
     "metadata": {},
     "output_type": "execute_result"
    }
   ],
   "source": [
    "q.end_time"
   ]
  },
  {
   "cell_type": "markdown",
   "id": "972d2e49",
   "metadata": {},
   "source": [
    "## CONVERTING FREQUENCY TO SOME ANOTHER FREQUENCY"
   ]
  },
  {
   "cell_type": "code",
   "execution_count": 11,
   "id": "9efd5a0a",
   "metadata": {},
   "outputs": [
    {
     "data": {
      "text/plain": [
       "Period('2016-04', 'M')"
      ]
     },
     "execution_count": 11,
     "metadata": {},
     "output_type": "execute_result"
    }
   ],
   "source": [
    "q.asfreq(\"M\" , how = \"end\")"
   ]
  },
  {
   "cell_type": "markdown",
   "id": "0cc89d35",
   "metadata": {},
   "source": [
    "### ARITHMATIC OPERATIONS BETWEEN FREQUENCIES"
   ]
  },
  {
   "cell_type": "code",
   "execution_count": 28,
   "id": "c230a8ab",
   "metadata": {},
   "outputs": [
    {
     "data": {
      "text/plain": [
       "Period('2017Q1', 'Q-JAN')"
      ]
     },
     "execution_count": 28,
     "metadata": {},
     "output_type": "execute_result"
    }
   ],
   "source": [
    "q1 = pd.Period(\"2017Q1\" , freq = \"Q-JAN\")\n",
    "q1"
   ]
  },
  {
   "cell_type": "code",
   "execution_count": 29,
   "id": "a1a143c2",
   "metadata": {},
   "outputs": [
    {
     "data": {
      "text/plain": [
       "Period('2018Q2', 'Q-JAN')"
      ]
     },
     "execution_count": 29,
     "metadata": {},
     "output_type": "execute_result"
    }
   ],
   "source": [
    "q2 = pd.Period(\"2018Q2\" , freq = \"Q-JAN\")\n",
    "q2"
   ]
  },
  {
   "cell_type": "code",
   "execution_count": 32,
   "id": "7e20ba2c",
   "metadata": {},
   "outputs": [
    {
     "data": {
      "text/plain": [
       "<5 * QuarterEnds: startingMonth=1>"
      ]
     },
     "execution_count": 32,
     "metadata": {},
     "output_type": "execute_result"
    }
   ],
   "source": [
    "q2 - q1 "
   ]
  },
  {
   "cell_type": "code",
   "execution_count": 21,
   "id": "fceccc1a",
   "metadata": {},
   "outputs": [
    {
     "name": "stdout",
     "output_type": "stream",
     "text": [
      "START TIME :: 2017-04-01 00:00:00 \n",
      "END TIME   :: 2017-06-30 23:59:59.999999999\n"
     ]
    }
   ],
   "source": [
    "q3 = pd.Period(\"2017Q2\" , freq = \"Q-DEC\")\n",
    "\n",
    "print(f\"START TIME :: {q3.start_time} \\nEND TIME   :: {q3.end_time}\")"
   ]
  },
  {
   "cell_type": "code",
   "execution_count": 2,
   "id": "75307c9c",
   "metadata": {
    "scrolled": true
   },
   "outputs": [
    {
     "data": {
      "text/plain": [
       "PeriodIndex(['2011Q4', '2012Q1', '2012Q2', '2012Q3', '2012Q4', '2013Q1',\n",
       "             '2013Q2', '2013Q3', '2013Q4', '2014Q1', '2014Q2', '2014Q3',\n",
       "             '2014Q4', '2015Q1', '2015Q2', '2015Q3', '2015Q4', '2016Q1',\n",
       "             '2016Q2', '2016Q3', '2016Q4', '2017Q1', '2017Q2', '2017Q3',\n",
       "             '2017Q4'],\n",
       "            dtype='period[Q-JAN]')"
      ]
     },
     "execution_count": 2,
     "metadata": {},
     "output_type": "execute_result"
    }
   ],
   "source": [
    "idx = pd.period_range('2011' , '2017' , freq = 'Q-JAN')\n",
    "idx\n",
    "\n",
    "# NOTICE THAT, EXCEPT 2011 EVERY YEAR HAS 4 NUMBER OF QUARTILES."
   ]
  },
  {
   "cell_type": "code",
   "execution_count": 35,
   "id": "cdb91f5d",
   "metadata": {},
   "outputs": [
    {
     "name": "stdout",
     "output_type": "stream",
     "text": [
      "START TIME :: 2010-11-01 00:00:00, END TIME :: 2011-01-31 23:59:59.999999999\n"
     ]
    }
   ],
   "source": [
    "print(f\"START TIME :: {idx[0].start_time}, END TIME :: {idx[0].end_time}\")"
   ]
  },
  {
   "cell_type": "code",
   "execution_count": 4,
   "id": "382202e8",
   "metadata": {},
   "outputs": [
    {
     "data": {
      "text/plain": [
       "2011Q4   -1.740184\n",
       "2012Q1   -0.612771\n",
       "2012Q2    1.188813\n",
       "2012Q3    1.149702\n",
       "2012Q4   -1.078372\n",
       "2013Q1   -1.248712\n",
       "2013Q2   -0.036572\n",
       "2013Q3   -0.585242\n",
       "2013Q4    0.851589\n",
       "2014Q1   -1.883902\n",
       "2014Q2    0.020183\n",
       "2014Q3    0.984205\n",
       "2014Q4   -0.161882\n",
       "2015Q1   -0.177793\n",
       "2015Q2   -0.607921\n",
       "2015Q3    0.556926\n",
       "2015Q4    0.385485\n",
       "2016Q1   -0.247301\n",
       "2016Q2    0.310660\n",
       "2016Q3    0.189622\n",
       "2016Q4    1.149876\n",
       "2017Q1    0.983670\n",
       "2017Q2   -0.786013\n",
       "2017Q3   -0.486151\n",
       "2017Q4   -0.635151\n",
       "Freq: Q-JAN, dtype: float64"
      ]
     },
     "execution_count": 4,
     "metadata": {},
     "output_type": "execute_result"
    }
   ],
   "source": [
    "import numpy as np\n",
    "\n",
    "ps = pd.Series(np.random.randn(len(idx)) , idx)\n",
    "ps"
   ]
  },
  {
   "cell_type": "code",
   "execution_count": 5,
   "id": "d0dc75c9",
   "metadata": {
    "scrolled": true
   },
   "outputs": [
    {
     "data": {
      "text/plain": [
       "PeriodIndex(['2011Q4', '2012Q1', '2012Q2', '2012Q3', '2012Q4', '2013Q1',\n",
       "             '2013Q2', '2013Q3', '2013Q4', '2014Q1', '2014Q2', '2014Q3',\n",
       "             '2014Q4', '2015Q1', '2015Q2', '2015Q3', '2015Q4', '2016Q1',\n",
       "             '2016Q2', '2016Q3', '2016Q4', '2017Q1', '2017Q2', '2017Q3',\n",
       "             '2017Q4'],\n",
       "            dtype='period[Q-JAN]')"
      ]
     },
     "execution_count": 5,
     "metadata": {},
     "output_type": "execute_result"
    }
   ],
   "source": [
    "ps.index"
   ]
  },
  {
   "cell_type": "code",
   "execution_count": 6,
   "id": "336bf70a",
   "metadata": {
    "scrolled": true
   },
   "outputs": [
    {
     "data": {
      "text/plain": [
       "2011Q4   -1.740184\n",
       "2012Q1   -0.612771\n",
       "2012Q2    1.188813\n",
       "2012Q3    1.149702\n",
       "2012Q4   -1.078372\n",
       "2013Q1   -1.248712\n",
       "2013Q2   -0.036572\n",
       "2013Q3   -0.585242\n",
       "2013Q4    0.851589\n",
       "2014Q1   -1.883902\n",
       "2014Q2    0.020183\n",
       "2014Q3    0.984205\n",
       "2014Q4   -0.161882\n",
       "Freq: Q-JAN, dtype: float64"
      ]
     },
     "execution_count": 6,
     "metadata": {},
     "output_type": "execute_result"
    }
   ],
   "source": [
    "ps[\"2011\" : \"2013\"]"
   ]
  },
  {
   "cell_type": "code",
   "execution_count": 7,
   "id": "57a28ac6",
   "metadata": {},
   "outputs": [
    {
     "data": {
      "text/plain": [
       "2010-11-01   -1.740184\n",
       "2011-02-01   -0.612771\n",
       "2011-05-01    1.188813\n",
       "2011-08-01    1.149702\n",
       "2011-11-01   -1.078372\n",
       "2012-02-01   -1.248712\n",
       "2012-05-01   -0.036572\n",
       "2012-08-01   -0.585242\n",
       "2012-11-01    0.851589\n",
       "2013-02-01   -1.883902\n",
       "2013-05-01    0.020183\n",
       "2013-08-01    0.984205\n",
       "2013-11-01   -0.161882\n",
       "2014-02-01   -0.177793\n",
       "2014-05-01   -0.607921\n",
       "2014-08-01    0.556926\n",
       "2014-11-01    0.385485\n",
       "2015-02-01   -0.247301\n",
       "2015-05-01    0.310660\n",
       "2015-08-01    0.189622\n",
       "2015-11-01    1.149876\n",
       "2016-02-01    0.983670\n",
       "2016-05-01   -0.786013\n",
       "2016-08-01   -0.486151\n",
       "2016-11-01   -0.635151\n",
       "Freq: QS-NOV, dtype: float64"
      ]
     },
     "execution_count": 7,
     "metadata": {},
     "output_type": "execute_result"
    }
   ],
   "source": [
    "pst = ps.to_timestamp()\n",
    "pst"
   ]
  },
  {
   "cell_type": "code",
   "execution_count": 8,
   "id": "bf8115c2",
   "metadata": {},
   "outputs": [
    {
     "data": {
      "text/plain": [
       "DatetimeIndex(['2010-11-01', '2011-02-01', '2011-05-01', '2011-08-01',\n",
       "               '2011-11-01', '2012-02-01', '2012-05-01', '2012-08-01',\n",
       "               '2012-11-01', '2013-02-01', '2013-05-01', '2013-08-01',\n",
       "               '2013-11-01', '2014-02-01', '2014-05-01', '2014-08-01',\n",
       "               '2014-11-01', '2015-02-01', '2015-05-01', '2015-08-01',\n",
       "               '2015-11-01', '2016-02-01', '2016-05-01', '2016-08-01',\n",
       "               '2016-11-01'],\n",
       "              dtype='datetime64[ns]', freq='QS-NOV')"
      ]
     },
     "execution_count": 8,
     "metadata": {},
     "output_type": "execute_result"
    }
   ],
   "source": [
    "pst.index"
   ]
  },
  {
   "cell_type": "code",
   "execution_count": 9,
   "id": "71549a25",
   "metadata": {},
   "outputs": [
    {
     "data": {
      "text/plain": [
       "2010Q4   -1.740184\n",
       "2011Q1   -0.612771\n",
       "2011Q2    1.188813\n",
       "2011Q3    1.149702\n",
       "2011Q4   -1.078372\n",
       "2012Q1   -1.248712\n",
       "2012Q2   -0.036572\n",
       "2012Q3   -0.585242\n",
       "2012Q4    0.851589\n",
       "2013Q1   -1.883902\n",
       "2013Q2    0.020183\n",
       "2013Q3    0.984205\n",
       "2013Q4   -0.161882\n",
       "2014Q1   -0.177793\n",
       "2014Q2   -0.607921\n",
       "2014Q3    0.556926\n",
       "2014Q4    0.385485\n",
       "2015Q1   -0.247301\n",
       "2015Q2    0.310660\n",
       "2015Q3    0.189622\n",
       "2015Q4    1.149876\n",
       "2016Q1    0.983670\n",
       "2016Q2   -0.786013\n",
       "2016Q3   -0.486151\n",
       "2016Q4   -0.635151\n",
       "Freq: Q-DEC, dtype: float64"
      ]
     },
     "execution_count": 9,
     "metadata": {},
     "output_type": "execute_result"
    }
   ],
   "source": [
    "# To get the period index back we use\n",
    "\n",
    "pst.to_period()"
   ]
  }
 ],
 "metadata": {
  "kernelspec": {
   "display_name": "Python 3 (ipykernel)",
   "language": "python",
   "name": "python3"
  },
  "language_info": {
   "codemirror_mode": {
    "name": "ipython",
    "version": 3
   },
   "file_extension": ".py",
   "mimetype": "text/x-python",
   "name": "python",
   "nbconvert_exporter": "python",
   "pygments_lexer": "ipython3",
   "version": "3.10.9"
  }
 },
 "nbformat": 4,
 "nbformat_minor": 5
}
