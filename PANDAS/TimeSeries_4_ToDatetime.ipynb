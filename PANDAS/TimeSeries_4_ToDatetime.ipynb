{
 "cells": [
  {
   "cell_type": "code",
   "execution_count": 2,
   "id": "35f6cfcf",
   "metadata": {},
   "outputs": [
    {
     "data": {
      "text/plain": [
       "DatetimeIndex(['2017-01-05 14:30:00', '2017-01-05 00:00:00',\n",
       "               '2017-01-05 00:00:00', '2017-01-05 00:00:00',\n",
       "               '2017-01-05 00:00:00'],\n",
       "              dtype='datetime64[ns]', freq=None)"
      ]
     },
     "execution_count": 2,
     "metadata": {},
     "output_type": "execute_result"
    }
   ],
   "source": [
    "import pandas as pd\n",
    "\n",
    "dates = [\"2017-01-05 2:30:00 PM\" , \"Jan 5, 2017\" , \"01/05/2017\" , \"2017/01/05\" , \"20170105\"]\n",
    "pd.to_datetime(dates)"
   ]
  },
  {
   "cell_type": "raw",
   "id": "84431dc9",
   "metadata": {},
   "source": [
    "US : mm/dd/yyyy\n",
    "Europe :dd/mm/yyyy"
   ]
  },
  {
   "cell_type": "code",
   "execution_count": 3,
   "id": "46deb7a1",
   "metadata": {},
   "outputs": [
    {
     "data": {
      "text/plain": [
       "Timestamp('2017-05-01 00:00:00')"
      ]
     },
     "execution_count": 3,
     "metadata": {},
     "output_type": "execute_result"
    }
   ],
   "source": [
    "pd.to_datetime(\"05/01/2017\") # Europe Format \n",
    "\n",
    "# Output gives in US format"
   ]
  },
  {
   "cell_type": "code",
   "execution_count": 5,
   "id": "5749d015",
   "metadata": {},
   "outputs": [
    {
     "data": {
      "text/plain": [
       "Timestamp('2017-01-05 00:00:00')"
      ]
     },
     "execution_count": 5,
     "metadata": {},
     "output_type": "execute_result"
    }
   ],
   "source": [
    "pd.to_datetime(\"05/01/2017\" , dayfirst = True)"
   ]
  },
  {
   "cell_type": "markdown",
   "id": "0265f81f",
   "metadata": {},
   "source": [
    "# CUSTOM DATE TIME FORMAT"
   ]
  },
  {
   "cell_type": "code",
   "execution_count": 8,
   "id": "79a59563",
   "metadata": {},
   "outputs": [
    {
     "data": {
      "text/plain": [
       "Timestamp('2017-01-05 00:00:00')"
      ]
     },
     "execution_count": 8,
     "metadata": {},
     "output_type": "execute_result"
    }
   ],
   "source": [
    "pd.to_datetime(\"05$01$2017\" , format = \"%d$%m$%Y\" ) # Note : Year's %Y \"Y is Capital\" "
   ]
  },
  {
   "cell_type": "code",
   "execution_count": null,
   "id": "236b4aea",
   "metadata": {},
   "outputs": [],
   "source": [
    "dates = [\"2017-01-05 2:30:00 PM\" , \"Jan 5, 2017\" , \"01/05/2017\" , \"2017/01/05\" , \"20170105\" , \"abc\"]\n",
    "pd.to_datetime(dates , errors = \"ignore\")\n",
    "\n",
    "# THIS WILL IGNORE THE ERRORS AND DONT PERFORM THE DATETIME CONVERSION"
   ]
  },
  {
   "cell_type": "code",
   "execution_count": 9,
   "id": "5c9c6eb8",
   "metadata": {},
   "outputs": [
    {
     "data": {
      "text/plain": [
       "DatetimeIndex(['2017-01-05 14:30:00', '2017-01-05 00:00:00',\n",
       "               '2017-01-05 00:00:00', '2017-01-05 00:00:00',\n",
       "               '2017-01-05 00:00:00',                 'NaT'],\n",
       "              dtype='datetime64[ns]', freq=None)"
      ]
     },
     "execution_count": 9,
     "metadata": {},
     "output_type": "execute_result"
    }
   ],
   "source": [
    "# IF U WANT TO JUST IGNORE THE INVALID STRING AND STILL PERFORM THE CONVERSION OF THE REST OF IT THEN...\n",
    "\n",
    "dates = [\"2017-01-05 2:30:00 PM\" , \"Jan 5, 2017\" , \"01/05/2017\" , \"2017/01/05\" , \"20170105\" , \"abc\"]\n",
    "pd.to_datetime(dates , errors = \"coerce\")"
   ]
  },
  {
   "cell_type": "markdown",
   "id": "a872ad00",
   "metadata": {},
   "source": [
    "## Epoch (unix time) is a number of seconds that have passed since Jan 1,1970 00:00:00 UTC"
   ]
  },
  {
   "cell_type": "code",
   "execution_count": 12,
   "id": "03a2e007",
   "metadata": {},
   "outputs": [
    {
     "data": {
      "text/plain": [
       "DatetimeIndex(['2023-04-19 18:11:59'], dtype='datetime64[ns]', freq=None)"
      ]
     },
     "execution_count": 12,
     "metadata": {},
     "output_type": "execute_result"
    }
   ],
   "source": [
    "t = 1681927919\n",
    "dt = pd.to_datetime([t] , unit = \"s\")\n",
    "dt"
   ]
  },
  {
   "cell_type": "code",
   "execution_count": 13,
   "id": "cba3d9ff",
   "metadata": {},
   "outputs": [
    {
     "data": {
      "text/plain": [
       "array([1681927919000000000], dtype=int64)"
      ]
     },
     "execution_count": 13,
     "metadata": {},
     "output_type": "execute_result"
    }
   ],
   "source": [
    "dt.view(\"int64\")"
   ]
  }
 ],
 "metadata": {
  "kernelspec": {
   "display_name": "Python 3 (ipykernel)",
   "language": "python",
   "name": "python3"
  },
  "language_info": {
   "codemirror_mode": {
    "name": "ipython",
    "version": 3
   },
   "file_extension": ".py",
   "mimetype": "text/x-python",
   "name": "python",
   "nbconvert_exporter": "python",
   "pygments_lexer": "ipython3",
   "version": "3.10.9"
  }
 },
 "nbformat": 4,
 "nbformat_minor": 5
}
