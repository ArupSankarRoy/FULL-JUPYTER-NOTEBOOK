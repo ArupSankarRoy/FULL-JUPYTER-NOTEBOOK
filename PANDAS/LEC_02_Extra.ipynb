{
 "cells": [
  {
   "cell_type": "code",
   "execution_count": 1,
   "id": "e7b0c2d7",
   "metadata": {},
   "outputs": [],
   "source": [
    "d1 = {\n",
    "    \"names\" : [\"Justine\" , \"Simpson\" ,\"Ollis\", \"Sally\" , \"John\"],\n",
    "    \"ages\" : [21 , 22 , 23 , 24 , 32]\n",
    "}\n",
    "\n",
    "d2 = {\n",
    "    \"math_score\" : [67 , 88 , 77 , 96 , 78],\n",
    "    \"english_score\" : [90 , 78 , 66 , 66 , 90 ]\n",
    "}\n",
    "\n",
    "d3 = {\n",
    "    \"science_score\" : [79 , 55 ,44 , 67 ,79],\n",
    "    \"GPA\" : [3.4 , 3.0 , 3.5 ,3.6  , 3.9]\n",
    "}\n",
    "\n",
    "import pandas as pd\n",
    "\n",
    "df1  = pd.DataFrame(d1)\n",
    "df2  = pd.DataFrame(d2)\n",
    "df3  = pd.DataFrame(d3)\n",
    "\n",
    "path = r\"C:\\Users\\Asus\\Desktop\\Jupyter Notebook\\PANDAS\\multiple_sheets.xlsx\"\n",
    "\n",
    "with pd.ExcelWriter(path) as engine :\n",
    "    \n",
    "    df1.to_excel(excel_writer = engine , sheet_name = \"bio\" , index = False)\n",
    "    df2.to_excel(excel_writer = engine , sheet_name = \"scores\" , index = False)\n",
    "    df3.to_excel(excel_writer = engine , sheet_name = \"GPA\" , index = False)"
   ]
  },
  {
   "cell_type": "code",
   "execution_count": null,
   "id": "8c57747a",
   "metadata": {},
   "outputs": [],
   "source": []
  }
 ],
 "metadata": {
  "kernelspec": {
   "display_name": "Python 3 (ipykernel)",
   "language": "python",
   "name": "python3"
  },
  "language_info": {
   "codemirror_mode": {
    "name": "ipython",
    "version": 3
   },
   "file_extension": ".py",
   "mimetype": "text/x-python",
   "name": "python",
   "nbconvert_exporter": "python",
   "pygments_lexer": "ipython3",
   "version": "3.10.9"
  }
 },
 "nbformat": 4,
 "nbformat_minor": 5
}
