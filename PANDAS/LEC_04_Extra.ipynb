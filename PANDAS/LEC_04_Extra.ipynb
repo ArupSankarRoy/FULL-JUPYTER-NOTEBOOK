{
 "cells": [
  {
   "cell_type": "code",
   "execution_count": 6,
   "id": "6a425e4d",
   "metadata": {},
   "outputs": [
    {
     "name": "stdout",
     "output_type": "stream",
     "text": [
      "Original DataFrame:\n",
      "       name  age gender\n",
      "0    Alice   25      F\n",
      "1      Bob   18      M\n",
      "2  Charlie   35      M\n",
      "3    David   42      M\n",
      "4      Eve   20      F\n",
      "Modified DataFrame:\n",
      "     name  age gender\n",
      "0  Alice   25      F\n",
      "1    Bob   18      M\n",
      "3  David   42      M\n",
      "Modified DataFrame:\n",
      "     name  age gender\n",
      "0  Alice   25      F\n",
      "3  David   42      M\n"
     ]
    }
   ],
   "source": [
    "import pandas as pd\n",
    "\n",
    "# create example DataFrame\n",
    "df = pd.DataFrame({\n",
    "    'name': ['Alice', 'Bob', 'Charlie', 'David', 'Eve'],\n",
    "    'age': [25, 18, 35, 42, 20],\n",
    "    'gender': ['F', 'M', 'M', 'M', 'F']\n",
    "})\n",
    "\n",
    "# print original DataFrame\n",
    "print('Original DataFrame:\\n', df)\n",
    "\n",
    "# delete rows with index values 2 and 4\n",
    "df.drop([2, 4], axis=0, inplace=True)   # inplace=True parameter will modify the original DataFrame and return None so \n",
    "                                        # df = df.drop([2, 4], axis=0, inplace=True) will not work\n",
    "\n",
    "# print modified DataFrame\n",
    "print('Modified DataFrame:\\n', df)\n",
    "\n",
    "# delete rows where age is less than 18\n",
    "df.drop(df[df[\"age\"] <= 18].index, axis=0, inplace=True)\n",
    "\n",
    "# print modified DataFrame\n",
    "print('Modified DataFrame:\\n', df)\n"
   ]
  },
  {
   "cell_type": "code",
   "execution_count": 26,
   "id": "d2c47cc4",
   "metadata": {},
   "outputs": [
    {
     "name": "stdout",
     "output_type": "stream",
     "text": [
      "\n",
      "ORIGINAL DATA FRAME\n",
      "\n",
      "      name  age gender\n",
      "0    Alice   25      F\n",
      "1      Bob   18      M\n",
      "2  Charlie   35      M\n",
      "3    David   42      M\n",
      "4      Eve   20      F\n",
      "Here is : [0    False\n",
      "1     True\n",
      "2    False\n",
      "3    False\n",
      "4    False\n",
      "Name: age, dtype: bool]\n",
      "\n",
      "MODIFIED DATA FRAME AFTER DELETION\n",
      "       name  age gender\n",
      "0    Alice   25      F\n",
      "2  Charlie   35      M\n",
      "3    David   42      M\n",
      "4      Eve   20      F\n"
     ]
    }
   ],
   "source": [
    "# import pandas as pd\n",
    "\n",
    "# dic = {\n",
    "#     'name': ['Alice', 'Bob', 'Charlie', 'David', 'Eve'],\n",
    "#     'age': [25, 18, 35, 42, 20],\n",
    "#     'gender': ['F', 'M', 'M', 'M', 'F']\n",
    "# }\n",
    "\n",
    "# df = pd.DataFrame(dic)\n",
    "\n",
    "# print(\"\\nORIGINAL DATA FRAME\\n\")\n",
    "# print(df)\n",
    "\n",
    "# df = df.drop([1 , 3] , axis = 0)\n",
    "\n",
    "# print(\"\\nMODIFIED DATA FRAME\\n\")\n",
    "# print(df)\n",
    "\n",
    "#---------------------------------------------------------------\n",
    "\n",
    "import pandas as pd\n",
    "\n",
    "dic = {\n",
    "    'name': ['Alice', 'Bob', 'Charlie', 'David', 'Eve'],\n",
    "    'age': [25, 18, 35, 42, 20],\n",
    "    'gender': ['F', 'M', 'M', 'M', 'F']\n",
    "}\n",
    "\n",
    "\n",
    "df = pd.DataFrame(dic)\n",
    "print(\"\\nORIGINAL DATA FRAME\\n\")\n",
    "print(df)\n",
    "\n",
    "# print(\"\\nMODIFIED DATA FRAME\\n\")\n",
    "# df.drop([1 , 3] , axis = 0 , inplace = True)\n",
    "# print(df)\n",
    "\n",
    "df.drop(df[df[\"age\"] <= 18].index , axis = 0 , inplace= True) # [df[\"age\"] <= 18] will give me a list of \"True/False\" value\n",
    "                                                              # df[df[\"age\"] <= 18] will give me True value's DATAFRAME i.e  1      Bob   18      M\n",
    "                                                              # df[df[\"age\"] <= 18].index will give me that data frame's index number.\n",
    "                                                                \n",
    "print(\"\\nMODIFIED DATA FRAME AFTER DELETION\\n\", df)\n",
    "\n",
    "\n",
    "\n",
    "\n"
   ]
  },
  {
   "cell_type": "code",
   "execution_count": 28,
   "id": "b61efd75",
   "metadata": {},
   "outputs": [
    {
     "name": "stdout",
     "output_type": "stream",
     "text": [
      "   a  b  c  row_sum\n",
      "0  1  4  7       12\n",
      "1  2  5  8       15\n",
      "2  3  6  9       18\n"
     ]
    }
   ],
   "source": [
    "import pandas as pd\n",
    "\n",
    "df = pd.DataFrame({\n",
    "    'a': [1, 2, 3],\n",
    "    'b': [4, 5, 6],\n",
    "    'c': [7, 8, 9]\n",
    "})\n",
    "\n",
    "df['row_sum'] = df.apply(lambda row: row.sum(), axis=1)\n",
    "print(df)\n"
   ]
  },
  {
   "cell_type": "markdown",
   "id": "987b3bb5",
   "metadata": {},
   "source": [
    "### The .assign() function in Pandas is used to create new columns or modify existing columns in a DataFrame,\n",
    "### while returning a new DataFrame with the updated columns.\n",
    "### The .assign() function is useful when you want to create a new column based on existing columns in a DataFrame,\n",
    "### without modifying the original DataFrame. It allows you to chain multiple column creation operations together,\n",
    "### which can make your code more concise and readable."
   ]
  },
  {
   "cell_type": "code",
   "execution_count": 7,
   "id": "ac055d05",
   "metadata": {},
   "outputs": [
    {
     "name": "stdout",
     "output_type": "stream",
     "text": [
      "Original DataFrame \n",
      "    A  B  C\n",
      "0  1  4  7\n",
      "1  2  5  8\n",
      "2  3  6  9\n",
      "New DataFrame \n",
      "    A  B  C  D\n",
      "0  1  4  7  5\n",
      "1  2  5  8  7\n",
      "2  3  6  9  9\n"
     ]
    }
   ],
   "source": [
    "import pandas as pd\n",
    "\n",
    "# create a sample DataFrame\n",
    "df = pd.DataFrame({'A': [1, 2, 3], 'B': [4, 5, 6], 'C': [7, 8, 9]})\n",
    "\n",
    "# use .assign() to create a new column based on existing columns\n",
    "df_new = df.assign(D = df['A'] + df['B'])\n",
    "\n",
    "# display the original DataFrame\n",
    "print(\"Original DataFrame \\n\",df)\n",
    "\n",
    "# display the updated DataFrame\n",
    "print(\"New DataFrame \\n\",df_new)\n",
    "\n"
   ]
  },
  {
   "cell_type": "code",
   "execution_count": 5,
   "id": "3fc25331",
   "metadata": {},
   "outputs": [
    {
     "data": {
      "text/html": [
       "<div>\n",
       "<style scoped>\n",
       "    .dataframe tbody tr th:only-of-type {\n",
       "        vertical-align: middle;\n",
       "    }\n",
       "\n",
       "    .dataframe tbody tr th {\n",
       "        vertical-align: top;\n",
       "    }\n",
       "\n",
       "    .dataframe thead th {\n",
       "        text-align: right;\n",
       "    }\n",
       "</style>\n",
       "<table border=\"1\" class=\"dataframe\">\n",
       "  <thead>\n",
       "    <tr style=\"text-align: right;\">\n",
       "      <th></th>\n",
       "      <th>A</th>\n",
       "      <th>B</th>\n",
       "      <th>C</th>\n",
       "      <th>D</th>\n",
       "    </tr>\n",
       "  </thead>\n",
       "  <tbody>\n",
       "    <tr>\n",
       "      <th>0</th>\n",
       "      <td>1</td>\n",
       "      <td>4</td>\n",
       "      <td>7</td>\n",
       "      <td>10</td>\n",
       "    </tr>\n",
       "    <tr>\n",
       "      <th>1</th>\n",
       "      <td>2</td>\n",
       "      <td>5</td>\n",
       "      <td>8</td>\n",
       "      <td>20</td>\n",
       "    </tr>\n",
       "    <tr>\n",
       "      <th>2</th>\n",
       "      <td>3</td>\n",
       "      <td>6</td>\n",
       "      <td>9</td>\n",
       "      <td>30</td>\n",
       "    </tr>\n",
       "  </tbody>\n",
       "</table>\n",
       "</div>"
      ],
      "text/plain": [
       "   A  B  C   D\n",
       "0  1  4  7  10\n",
       "1  2  5  8  20\n",
       "2  3  6  9  30"
      ]
     },
     "execution_count": 5,
     "metadata": {},
     "output_type": "execute_result"
    }
   ],
   "source": [
    "import pandas as pd\n",
    "\n",
    "# create a sample DataFrame\n",
    "df = pd.DataFrame({'A': [1, 2, 3], 'B': [4, 5, 6], 'C': [7, 8, 9]})\n",
    "\n",
    "# use the .assign() function to create a new column\n",
    "df_new = df.assign(D = [10, 20, 30])\n",
    "\n",
    "# display the updated DataFrame\n",
    "df_new\n"
   ]
  },
  {
   "cell_type": "markdown",
   "id": "193338c3",
   "metadata": {},
   "source": [
    "## The insert() function in Pandas modifies the original DataFrame in place, and does not return a new DataFrame.The insert() function allows you to insert a new column at a specific position in a DataFrame."
   ]
  },
  {
   "cell_type": "code",
   "execution_count": 8,
   "id": "69a830ff",
   "metadata": {},
   "outputs": [
    {
     "data": {
      "text/html": [
       "<div>\n",
       "<style scoped>\n",
       "    .dataframe tbody tr th:only-of-type {\n",
       "        vertical-align: middle;\n",
       "    }\n",
       "\n",
       "    .dataframe tbody tr th {\n",
       "        vertical-align: top;\n",
       "    }\n",
       "\n",
       "    .dataframe thead th {\n",
       "        text-align: right;\n",
       "    }\n",
       "</style>\n",
       "<table border=\"1\" class=\"dataframe\">\n",
       "  <thead>\n",
       "    <tr style=\"text-align: right;\">\n",
       "      <th></th>\n",
       "      <th>A</th>\n",
       "      <th>col1</th>\n",
       "      <th>col2</th>\n",
       "      <th>B</th>\n",
       "      <th>C</th>\n",
       "    </tr>\n",
       "  </thead>\n",
       "  <tbody>\n",
       "    <tr>\n",
       "      <th>0</th>\n",
       "      <td>1</td>\n",
       "      <td>10</td>\n",
       "      <td>a</td>\n",
       "      <td>4</td>\n",
       "      <td>7</td>\n",
       "    </tr>\n",
       "    <tr>\n",
       "      <th>1</th>\n",
       "      <td>2</td>\n",
       "      <td>20</td>\n",
       "      <td>b</td>\n",
       "      <td>5</td>\n",
       "      <td>8</td>\n",
       "    </tr>\n",
       "    <tr>\n",
       "      <th>2</th>\n",
       "      <td>3</td>\n",
       "      <td>30</td>\n",
       "      <td>c</td>\n",
       "      <td>6</td>\n",
       "      <td>9</td>\n",
       "    </tr>\n",
       "  </tbody>\n",
       "</table>\n",
       "</div>"
      ],
      "text/plain": [
       "   A  col1 col2  B  C\n",
       "0  1    10    a  4  7\n",
       "1  2    20    b  5  8\n",
       "2  3    30    c  6  9"
      ]
     },
     "execution_count": 8,
     "metadata": {},
     "output_type": "execute_result"
    }
   ],
   "source": [
    "import pandas as pd\n",
    "\n",
    "# create a sample DataFrame\n",
    "df = pd.DataFrame({'A': [1, 2, 3], 'B': [4, 5, 6], 'C': [7, 8, 9]})\n",
    "\n",
    "# insert two new columns after the first column\n",
    "df.insert(1, 'col1', [10, 20, 30])\n",
    "df.insert(2, 'col2', ['a', 'b', 'c'])\n",
    "\n",
    "# display the updated DataFrame\n",
    "df\n"
   ]
  }
 ],
 "metadata": {
  "kernelspec": {
   "display_name": "Python 3 (ipykernel)",
   "language": "python",
   "name": "python3"
  },
  "language_info": {
   "codemirror_mode": {
    "name": "ipython",
    "version": 3
   },
   "file_extension": ".py",
   "mimetype": "text/x-python",
   "name": "python",
   "nbconvert_exporter": "python",
   "pygments_lexer": "ipython3",
   "version": "3.10.9"
  }
 },
 "nbformat": 4,
 "nbformat_minor": 5
}
