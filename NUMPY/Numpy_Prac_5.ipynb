{
 "cells": [
  {
   "cell_type": "code",
   "execution_count": 17,
   "id": "da0eb062",
   "metadata": {},
   "outputs": [],
   "source": [
    "import numpy as np"
   ]
  },
  {
   "cell_type": "code",
   "execution_count": 25,
   "id": "92a711fa",
   "metadata": {},
   "outputs": [
    {
     "name": "stdout",
     "output_type": "stream",
     "text": [
      "False\n"
     ]
    }
   ],
   "source": [
    "# HOW TO KNOW AN ARRAY IS RESHAPABLE OR NOT ?\n",
    "# Ans. Array's shape's product == User shape's product.\n",
    "\n",
    "import numpy as np\n",
    "\n",
    "def is_reshapable(arr , shape):\n",
    "    return np.prod(arr.shape) == np.prod(shape)\n",
    "        \n",
    "arr = np.array([1 , 2 , 3 , 4 , 5 , 6])\n",
    "shape = (3 , 1)\n",
    "print(is_reshapable(arr , shape))\n",
    "    "
   ]
  },
  {
   "cell_type": "code",
   "execution_count": 3,
   "id": "a4bf0cec",
   "metadata": {},
   "outputs": [
    {
     "name": "stdout",
     "output_type": "stream",
     "text": [
      "[[1 2 3]\n",
      " [4 5 6]\n",
      " [7 8 9]]\n",
      "[[10 11 12]\n",
      " [13 14 15]\n",
      " [16 17 18]]\n"
     ]
    }
   ],
   "source": [
    "arr1 = np.arange(1 , 10).reshape(3 , 3)\n",
    "arr2 = np.arange(10 , 19).reshape(3 , 3)\n",
    "print(arr1)\n",
    "print(arr2)"
   ]
  },
  {
   "cell_type": "code",
   "execution_count": 8,
   "id": "6982f273",
   "metadata": {},
   "outputs": [
    {
     "data": {
      "text/plain": [
       "array([[ 10,  22,  36],\n",
       "       [ 52,  70,  90],\n",
       "       [112, 136, 162]])"
      ]
     },
     "execution_count": 8,
     "metadata": {},
     "output_type": "execute_result"
    }
   ],
   "source": [
    "np.add(arr1 , arr2)\n",
    "np.subtract(arr1 , arr2)\n",
    "np.round(np.divide(arr1 , arr2) , 1)\n",
    "np.multiply(arr1 , arr2) # THIS IS NOT ACTUAL MATRIX MULTIPLICATION PRODUCT"
   ]
  },
  {
   "cell_type": "code",
   "execution_count": 10,
   "id": "1f682c99",
   "metadata": {},
   "outputs": [
    {
     "name": "stdout",
     "output_type": "stream",
     "text": [
      "[[ 84  90  96]\n",
      " [201 216 231]\n",
      " [318 342 366]]\n",
      "[[ 84  90  96]\n",
      " [201 216 231]\n",
      " [318 342 366]]\n"
     ]
    }
   ],
   "source": [
    "print(arr1.dot(arr2))\n",
    "\n",
    "#     --OR--\n",
    "\n",
    "print(arr1 @ arr2)"
   ]
  },
  {
   "cell_type": "code",
   "execution_count": 16,
   "id": "2021f434",
   "metadata": {},
   "outputs": [
    {
     "name": "stdout",
     "output_type": "stream",
     "text": [
      "THE MAXIMUM VALUE OF arr1 MATRIX IS 9\n",
      "THE INDEX POSITION OF MAXIMUM VALUE OF arr1 MATRIX IS 8\n"
     ]
    }
   ],
   "source": [
    "print(f\"THE MAXIMUM VALUE OF arr1 MATRIX IS {arr1.max()}\\nTHE INDEX POSITION OF MAXIMUM VALUE OF arr1 MATRIX IS {arr1.argmax()}\")"
   ]
  }
 ],
 "metadata": {
  "kernelspec": {
   "display_name": "Python 3 (ipykernel)",
   "language": "python",
   "name": "python3"
  },
  "language_info": {
   "codemirror_mode": {
    "name": "ipython",
    "version": 3
   },
   "file_extension": ".py",
   "mimetype": "text/x-python",
   "name": "python",
   "nbconvert_exporter": "python",
   "pygments_lexer": "ipython3",
   "version": "3.11.3"
  }
 },
 "nbformat": 4,
 "nbformat_minor": 5
}
