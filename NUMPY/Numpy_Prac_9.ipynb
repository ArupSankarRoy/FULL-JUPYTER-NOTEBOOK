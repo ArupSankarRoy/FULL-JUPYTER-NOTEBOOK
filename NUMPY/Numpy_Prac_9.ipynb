{
 "cells": [
  {
   "cell_type": "code",
   "execution_count": 2,
   "id": "b4bef6ab",
   "metadata": {},
   "outputs": [],
   "source": [
    "import numpy as np\n",
    "import random"
   ]
  },
  {
   "cell_type": "code",
   "execution_count": 5,
   "id": "978375cc",
   "metadata": {},
   "outputs": [
    {
     "name": "stdout",
     "output_type": "stream",
     "text": [
      "[0.91820664]\n"
     ]
    }
   ],
   "source": [
    "type(np.random.random(1))\n",
    "print(np.random.random(1)) # This will give value between 0-1 "
   ]
  },
  {
   "cell_type": "code",
   "execution_count": 4,
   "id": "b676c25f",
   "metadata": {},
   "outputs": [
    {
     "data": {
      "text/plain": [
       "array([[0.01988692, 0.46542759],\n",
       "       [0.32506542, 0.87204662],\n",
       "       [0.55993049, 0.59060959]])"
      ]
     },
     "execution_count": 4,
     "metadata": {},
     "output_type": "execute_result"
    }
   ],
   "source": [
    "# DIFFERENCE BETWEEN rand() and random()\n",
    "\n",
    "np.random.random((3 , 2))\n",
    "np.random.rand(3 , 2)"
   ]
  },
  {
   "cell_type": "code",
   "execution_count": 8,
   "id": "7c28c653",
   "metadata": {},
   "outputs": [
    {
     "data": {
      "text/plain": [
       "array([[0.6, 0.5, 0.7],\n",
       "       [0.8, 0.2, 0.1],\n",
       "       [1. , 0.3, 0.8]])"
      ]
     },
     "execution_count": 8,
     "metadata": {},
     "output_type": "execute_result"
    }
   ],
   "source": [
    "np.round(np.random.random((3 , 3)) , 1)"
   ]
  },
  {
   "cell_type": "code",
   "execution_count": 12,
   "id": "2ca09ba7",
   "metadata": {},
   "outputs": [
    {
     "data": {
      "text/plain": [
       "array([[[3, 1, 2, 1],\n",
       "        [3, 2, 1, 2],\n",
       "        [3, 3, 3, 2],\n",
       "        [2, 1, 2, 2]],\n",
       "\n",
       "       [[2, 3, 1, 2],\n",
       "        [3, 2, 2, 1],\n",
       "        [3, 3, 3, 2],\n",
       "        [3, 2, 3, 3]]])"
      ]
     },
     "execution_count": 12,
     "metadata": {},
     "output_type": "execute_result"
    }
   ],
   "source": [
    "np.random.randint(1 , 4 , (2 , 4 , 4))\n",
    "# Here (2,4,4) means matrix contain 2 value , each value contain 4 value and among these 4 value's each part contain 4 values\n"
   ]
  },
  {
   "cell_type": "code",
   "execution_count": 14,
   "id": "c4bc94d6",
   "metadata": {
    "scrolled": false
   },
   "outputs": [
    {
     "data": {
      "text/plain": [
       "1"
      ]
     },
     "execution_count": 14,
     "metadata": {},
     "output_type": "execute_result"
    }
   ],
   "source": [
    "np.random.randint(1 , 4)"
   ]
  },
  {
   "cell_type": "code",
   "execution_count": 15,
   "id": "de391ef6",
   "metadata": {},
   "outputs": [
    {
     "data": {
      "text/plain": [
       "array([[2, 2, 1, 4, 1, 2]])"
      ]
     },
     "execution_count": 15,
     "metadata": {},
     "output_type": "execute_result"
    }
   ],
   "source": [
    "np.random.seed(10)\n",
    "np.random.randint(1 , 5 , (1 , 6))"
   ]
  },
  {
   "cell_type": "code",
   "execution_count": 17,
   "id": "204f2fe2",
   "metadata": {},
   "outputs": [
    {
     "data": {
      "text/plain": [
       "array([[2, 2, 1, 4, 1, 2]])"
      ]
     },
     "execution_count": 17,
     "metadata": {},
     "output_type": "execute_result"
    }
   ],
   "source": [
    "np.random.seed(10) # .seed(value) it's a type of Locking function.\n",
    "# Here i specified value 10. the array we got using of np.random.randint(1 , 5 , (1 , 6)) function,\n",
    "# the same array we can get if we specified the value = 10\n",
    "np.random.randint(1 , 5 , (1 , 6))"
   ]
  },
  {
   "cell_type": "code",
   "execution_count": 22,
   "id": "754c812d",
   "metadata": {},
   "outputs": [
    {
     "data": {
      "text/plain": [
       "array([4, 6, 8])"
      ]
     },
     "execution_count": 22,
     "metadata": {},
     "output_type": "execute_result"
    }
   ],
   "source": [
    "np.random.randint(0, 10, size=(3,), dtype=int)\n"
   ]
  },
  {
   "cell_type": "code",
   "execution_count": 24,
   "id": "a33e37eb",
   "metadata": {},
   "outputs": [
    {
     "data": {
      "text/plain": [
       "array([[0.54254437, 0.14217005, 0.37334076],\n",
       "       [0.67413362, 0.44183317, 0.43401399],\n",
       "       [0.61776698, 0.51313824, 0.65039718]])"
      ]
     },
     "execution_count": 24,
     "metadata": {},
     "output_type": "execute_result"
    }
   ],
   "source": [
    "np.random.rand(3)\n",
    "np.random.rand(3  , 3)"
   ]
  },
  {
   "cell_type": "code",
   "execution_count": 25,
   "id": "9c2e3743",
   "metadata": {},
   "outputs": [
    {
     "data": {
      "text/plain": [
       "array([[ 1.2616859 ,  0.41765968,  0.89395769],\n",
       "       [ 0.04735517, -0.60842552, -0.26854813],\n",
       "       [-0.66630197, -0.34401183,  0.80705192]])"
      ]
     },
     "execution_count": 25,
     "metadata": {},
     "output_type": "execute_result"
    }
   ],
   "source": [
    "np.random.randn(3 , 3)"
   ]
  },
  {
   "cell_type": "code",
   "execution_count": 26,
   "id": "b3e2d993",
   "metadata": {
    "scrolled": true
   },
   "outputs": [
    {
     "name": "stdout",
     "output_type": "stream",
     "text": [
      "44\n",
      "2\n",
      "2\n",
      "45\n",
      "45\n",
      "2\n",
      "2\n",
      "44\n",
      "45\n",
      "44\n"
     ]
    }
   ],
   "source": [
    "x = [2 , 7 , 44 , 66 , 45]\n",
    "\n",
    "for i in range(10):\n",
    "    print(np.random.choice(x))"
   ]
  },
  {
   "cell_type": "code",
   "execution_count": 28,
   "id": "9a19e163",
   "metadata": {
    "scrolled": true
   },
   "outputs": [
    {
     "data": {
      "text/plain": [
       "array([ 7, 66,  2, 45, 44])"
      ]
     },
     "execution_count": 28,
     "metadata": {},
     "output_type": "execute_result"
    }
   ],
   "source": [
    "np.random.permutation(x) # It's use for array Shuffling"
   ]
  },
  {
   "cell_type": "code",
   "execution_count": 1,
   "id": "bbbcfb87",
   "metadata": {},
   "outputs": [
    {
     "name": "stdout",
     "output_type": "stream",
     "text": [
      "[[2 2 1 4 1 2]]\n",
      "[[2 3 2 3 4 1]]\n"
     ]
    }
   ],
   "source": [
    "import numpy as np\n",
    "\n",
    "# Set the seed value\n",
    "np.random.seed(10)\n",
    "\n",
    "# Print the array\n",
    "print(np.random.randint(1, 5, (1, 6)))\n",
    "\n",
    "# Reset the seed value\n",
    "np.random.seed(None)\n",
    "\n",
    "# Print the array\n",
    "print(np.random.randint(1, 5, (1, 6)))"
   ]
  },
  {
   "cell_type": "code",
   "execution_count": 2,
   "id": "4e48cba5",
   "metadata": {
    "scrolled": true
   },
   "outputs": [
    {
     "data": {
      "text/plain": [
       "5"
      ]
     },
     "execution_count": 2,
     "metadata": {},
     "output_type": "execute_result"
    }
   ],
   "source": [
    "x = np.array([5 , 4 , 3 , 5])\n",
    "np.random.choice(x)"
   ]
  },
  {
   "cell_type": "code",
   "execution_count": 3,
   "id": "22b8a133",
   "metadata": {},
   "outputs": [
    {
     "data": {
      "text/plain": [
       "array([4, 4, 5])"
      ]
     },
     "execution_count": 3,
     "metadata": {},
     "output_type": "execute_result"
    }
   ],
   "source": [
    "np.random.choice(6, 3) # random value btw 0-6 and total 3 value"
   ]
  },
  {
   "cell_type": "code",
   "execution_count": 10,
   "id": "8773b7b6",
   "metadata": {
    "scrolled": true
   },
   "outputs": [
    {
     "data": {
      "text/plain": [
       "array([0, 5, 0])"
      ]
     },
     "execution_count": 10,
     "metadata": {},
     "output_type": "execute_result"
    }
   ],
   "source": [
    "np.random.choice((0,5), 3) # random shuffling 0 and 5 and total 3 value"
   ]
  },
  {
   "cell_type": "code",
   "execution_count": 11,
   "id": "44ad2d19",
   "metadata": {},
   "outputs": [
    {
     "data": {
      "text/plain": [
       "array([4, 0, 2])"
      ]
     },
     "execution_count": 11,
     "metadata": {},
     "output_type": "execute_result"
    }
   ],
   "source": [
    "np.random.permutation(np.arange(5))[:3]"
   ]
  },
  {
   "cell_type": "code",
   "execution_count": 12,
   "id": "e88be60a",
   "metadata": {},
   "outputs": [
    {
     "data": {
      "text/plain": [
       "array([2, 1, 3])"
      ]
     },
     "execution_count": 12,
     "metadata": {},
     "output_type": "execute_result"
    }
   ],
   "source": [
    "np.random.choice(6, 3 , replace = True)"
   ]
  },
  {
   "cell_type": "raw",
   "id": "9abcffdc",
   "metadata": {},
   "source": [
    "When replace=True (the default behavior if not specified), it allows for sampling with replacement. This means that elements in the output can be selected multiple times from the input array. In other words, the same element can appear more than once in the result"
   ]
  },
  {
   "cell_type": "code",
   "execution_count": null,
   "id": "2d405060",
   "metadata": {},
   "outputs": [],
   "source": []
  }
 ],
 "metadata": {
  "kernelspec": {
   "display_name": "Python 3 (ipykernel)",
   "language": "python",
   "name": "python3"
  },
  "language_info": {
   "codemirror_mode": {
    "name": "ipython",
    "version": 3
   },
   "file_extension": ".py",
   "mimetype": "text/x-python",
   "name": "python",
   "nbconvert_exporter": "python",
   "pygments_lexer": "ipython3",
   "version": "3.11.3"
  }
 },
 "nbformat": 4,
 "nbformat_minor": 5
}
