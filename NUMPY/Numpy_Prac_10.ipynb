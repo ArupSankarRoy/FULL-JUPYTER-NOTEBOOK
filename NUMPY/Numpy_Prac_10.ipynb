{
 "cells": [
  {
   "cell_type": "code",
   "execution_count": 2,
   "id": "cd130c59",
   "metadata": {},
   "outputs": [],
   "source": [
    "import numpy as np"
   ]
  },
  {
   "cell_type": "code",
   "execution_count": 4,
   "id": "6a9f91ee",
   "metadata": {},
   "outputs": [],
   "source": [
    "ch_name = 'Arup Sankar Roy'\n",
    "str1 = ' a Machine Learning Engineer'"
   ]
  },
  {
   "cell_type": "code",
   "execution_count": 8,
   "id": "6e67a93c",
   "metadata": {},
   "outputs": [
    {
     "data": {
      "text/plain": [
       "array('Arup Sankar Roy a Machine Learning Engineer', dtype='<U43')"
      ]
     },
     "execution_count": 8,
     "metadata": {},
     "output_type": "execute_result"
    }
   ],
   "source": [
    "str2 = np.char.add(ch_name , str1)\n",
    "str2"
   ]
  },
  {
   "cell_type": "code",
   "execution_count": 6,
   "id": "34edaf85",
   "metadata": {},
   "outputs": [
    {
     "data": {
      "text/plain": [
       "array(' a machine learning engineer', dtype='<U28')"
      ]
     },
     "execution_count": 6,
     "metadata": {},
     "output_type": "execute_result"
    }
   ],
   "source": [
    "np.char.lower(str1)"
   ]
  },
  {
   "cell_type": "code",
   "execution_count": 12,
   "id": "7f3a8673",
   "metadata": {},
   "outputs": [
    {
     "data": {
      "text/plain": [
       "array(60)"
      ]
     },
     "execution_count": 12,
     "metadata": {},
     "output_type": "execute_result"
    }
   ],
   "source": [
    "np.char.str_len(np.char.center(str2 , 60 , fillchar = '*')) "
   ]
  },
  {
   "cell_type": "code",
   "execution_count": 13,
   "id": "f02c8fc5",
   "metadata": {
    "scrolled": true
   },
   "outputs": [
    {
     "data": {
      "text/plain": [
       "array('********Arup Sankar Roy a Machine Learning Engineer*********',\n",
       "      dtype='<U60')"
      ]
     },
     "execution_count": 13,
     "metadata": {},
     "output_type": "execute_result"
    }
   ],
   "source": [
    "np.char.center(str2 , 60 , fillchar = '*')"
   ]
  },
  {
   "cell_type": "code",
   "execution_count": 14,
   "id": "c88b7949",
   "metadata": {},
   "outputs": [
    {
     "data": {
      "text/plain": [
       "array(list(['a', 'Machine', 'Learning', 'Engineer']), dtype=object)"
      ]
     },
     "execution_count": 14,
     "metadata": {},
     "output_type": "execute_result"
    }
   ],
   "source": [
    "np.char.split(str1)"
   ]
  },
  {
   "cell_type": "code",
   "execution_count": 16,
   "id": "0fb83847",
   "metadata": {},
   "outputs": [
    {
     "data": {
      "text/plain": [
       "array(list(['Arup', 'Sankar', 'Roy']), dtype=object)"
      ]
     },
     "execution_count": 16,
     "metadata": {},
     "output_type": "execute_result"
    }
   ],
   "source": [
    "np.char.splitlines('Arup\\nSankar\\nRoy')"
   ]
  },
  {
   "cell_type": "code",
   "execution_count": 3,
   "id": "d23eb097",
   "metadata": {},
   "outputs": [
    {
     "name": "stdout",
     "output_type": "stream",
     "text": [
      "d:m:y\n"
     ]
    }
   ],
   "source": [
    "str1 = 'dmy'\n",
    "str2 = 'dmy'\n",
    "\n",
    "tar = np.char.join([':' , '/'] , [str1 , str2])\n",
    "print(tar[0])"
   ]
  },
  {
   "cell_type": "code",
   "execution_count": 21,
   "id": "f9b61c16",
   "metadata": {},
   "outputs": [
    {
     "data": {
      "text/plain": [
       "array('Arup Sankar Roy a ML Engineer', dtype='<U29')"
      ]
     },
     "execution_count": 21,
     "metadata": {},
     "output_type": "execute_result"
    }
   ],
   "source": [
    "string = 'Arup Sankar Roy a Machine Learning Engineer'\n",
    "np.char.replace(string , 'Machine Learning' , 'ML')"
   ]
  },
  {
   "cell_type": "code",
   "execution_count": 22,
   "id": "79b2a32d",
   "metadata": {},
   "outputs": [
    {
     "data": {
      "text/plain": [
       "array(True)"
      ]
     },
     "execution_count": 22,
     "metadata": {},
     "output_type": "execute_result"
    }
   ],
   "source": [
    "np.char.equal(str1 , str2)"
   ]
  },
  {
   "cell_type": "code",
   "execution_count": 23,
   "id": "983da030",
   "metadata": {
    "scrolled": true
   },
   "outputs": [
    {
     "data": {
      "text/plain": [
       "array(5)"
      ]
     },
     "execution_count": 23,
     "metadata": {},
     "output_type": "execute_result"
    }
   ],
   "source": [
    "np.char.count(string , 'a')"
   ]
  },
  {
   "cell_type": "code",
   "execution_count": 25,
   "id": "6d050846",
   "metadata": {},
   "outputs": [
    {
     "data": {
      "text/plain": [
       "array(18)"
      ]
     },
     "execution_count": 25,
     "metadata": {},
     "output_type": "execute_result"
    }
   ],
   "source": [
    "np.char.find(string , 'Machine Learning')"
   ]
  },
  {
   "cell_type": "code",
   "execution_count": null,
   "id": "bbeb5049",
   "metadata": {},
   "outputs": [],
   "source": []
  }
 ],
 "metadata": {
  "kernelspec": {
   "display_name": "Python 3 (ipykernel)",
   "language": "python",
   "name": "python3"
  },
  "language_info": {
   "codemirror_mode": {
    "name": "ipython",
    "version": 3
   },
   "file_extension": ".py",
   "mimetype": "text/x-python",
   "name": "python",
   "nbconvert_exporter": "python",
   "pygments_lexer": "ipython3",
   "version": "3.11.3"
  }
 },
 "nbformat": 4,
 "nbformat_minor": 5
}
