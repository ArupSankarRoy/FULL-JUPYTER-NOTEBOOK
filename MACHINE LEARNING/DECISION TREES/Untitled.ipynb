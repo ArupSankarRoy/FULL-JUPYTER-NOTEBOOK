{
 "cells": [
  {
   "cell_type": "code",
   "execution_count": 1,
   "id": "c971c7b7",
   "metadata": {},
   "outputs": [],
   "source": [
    "import pandas as pd\n",
    "import matplotlib.pyplot as plt\n",
    "import seaborn as sns\n",
    "import graphviz\n",
    "import numpy as np\n",
    "import re\n",
    "from sklearn import tree\n",
    "from sklearn.tree import DecisionTreeRegressor\n",
    "from sklearn import datasets\n",
    "from sklearn import preprocessing"
   ]
  },
  {
   "cell_type": "code",
   "execution_count": 2,
   "id": "73c5d22e",
   "metadata": {},
   "outputs": [],
   "source": [
    "df = pd.DataFrame({\n",
    "    'IndianEconomicCondition': ['Boom', 'Boom', 'Uncertain', 'Recession', 'Recession', 'Recession', 'Uncertain', 'Boom', 'Boom', 'Recession'],\n",
    "    'GlobalMarketPerformance': ['Good', 'Good', 'Good', 'Bad', 'Ugly', 'Ugly', 'Ugly', 'Bad', 'Ugly', 'Bad'],\n",
    "    'RBISupportMarket': ['High', 'High', 'High', 'High', 'Normal', 'Normal', 'High', 'Normal', 'Normal' , 'Normal'],\n",
    "    'BuyerSentiment': ['Weak', 'Strong', 'Weak', 'Weak', 'Weak', 'Strong', 'Strong', 'Weak', 'Weak', 'Weak'],\n",
    "    'NoOfStocksDown': [0.31, 0.38, 0.58, 0.56, 0.65, 0.29, 0.54, 0.44, 0.48, 0.58]\n",
    "})\n",
    "df.to_csv('IndianEconomy.csv' , index = False)"
   ]
  },
  {
   "cell_type": "code",
   "execution_count": 3,
   "id": "c7721eef",
   "metadata": {},
   "outputs": [
    {
     "data": {
      "text/html": [
       "<div>\n",
       "<style scoped>\n",
       "    .dataframe tbody tr th:only-of-type {\n",
       "        vertical-align: middle;\n",
       "    }\n",
       "\n",
       "    .dataframe tbody tr th {\n",
       "        vertical-align: top;\n",
       "    }\n",
       "\n",
       "    .dataframe thead th {\n",
       "        text-align: right;\n",
       "    }\n",
       "</style>\n",
       "<table border=\"1\" class=\"dataframe\">\n",
       "  <thead>\n",
       "    <tr style=\"text-align: right;\">\n",
       "      <th></th>\n",
       "      <th>IndianEconomicCondition</th>\n",
       "      <th>GlobalMarketPerformance</th>\n",
       "      <th>RBISupportMarket</th>\n",
       "      <th>BuyerSentiment</th>\n",
       "      <th>NoOfStocksDown</th>\n",
       "    </tr>\n",
       "  </thead>\n",
       "  <tbody>\n",
       "    <tr>\n",
       "      <th>0</th>\n",
       "      <td>Boom</td>\n",
       "      <td>Good</td>\n",
       "      <td>High</td>\n",
       "      <td>Weak</td>\n",
       "      <td>0.31</td>\n",
       "    </tr>\n",
       "    <tr>\n",
       "      <th>1</th>\n",
       "      <td>Boom</td>\n",
       "      <td>Good</td>\n",
       "      <td>High</td>\n",
       "      <td>Strong</td>\n",
       "      <td>0.38</td>\n",
       "    </tr>\n",
       "    <tr>\n",
       "      <th>2</th>\n",
       "      <td>Uncertain</td>\n",
       "      <td>Good</td>\n",
       "      <td>High</td>\n",
       "      <td>Weak</td>\n",
       "      <td>0.58</td>\n",
       "    </tr>\n",
       "    <tr>\n",
       "      <th>3</th>\n",
       "      <td>Recession</td>\n",
       "      <td>Bad</td>\n",
       "      <td>High</td>\n",
       "      <td>Weak</td>\n",
       "      <td>0.56</td>\n",
       "    </tr>\n",
       "    <tr>\n",
       "      <th>4</th>\n",
       "      <td>Recession</td>\n",
       "      <td>Ugly</td>\n",
       "      <td>Normal</td>\n",
       "      <td>Weak</td>\n",
       "      <td>0.65</td>\n",
       "    </tr>\n",
       "    <tr>\n",
       "      <th>5</th>\n",
       "      <td>Recession</td>\n",
       "      <td>Ugly</td>\n",
       "      <td>Normal</td>\n",
       "      <td>Strong</td>\n",
       "      <td>0.29</td>\n",
       "    </tr>\n",
       "    <tr>\n",
       "      <th>6</th>\n",
       "      <td>Uncertain</td>\n",
       "      <td>Ugly</td>\n",
       "      <td>High</td>\n",
       "      <td>Strong</td>\n",
       "      <td>0.54</td>\n",
       "    </tr>\n",
       "    <tr>\n",
       "      <th>7</th>\n",
       "      <td>Boom</td>\n",
       "      <td>Bad</td>\n",
       "      <td>Normal</td>\n",
       "      <td>Weak</td>\n",
       "      <td>0.44</td>\n",
       "    </tr>\n",
       "    <tr>\n",
       "      <th>8</th>\n",
       "      <td>Boom</td>\n",
       "      <td>Ugly</td>\n",
       "      <td>Normal</td>\n",
       "      <td>Weak</td>\n",
       "      <td>0.48</td>\n",
       "    </tr>\n",
       "    <tr>\n",
       "      <th>9</th>\n",
       "      <td>Recession</td>\n",
       "      <td>Bad</td>\n",
       "      <td>Normal</td>\n",
       "      <td>Weak</td>\n",
       "      <td>0.58</td>\n",
       "    </tr>\n",
       "  </tbody>\n",
       "</table>\n",
       "</div>"
      ],
      "text/plain": [
       "  IndianEconomicCondition GlobalMarketPerformance RBISupportMarket  \\\n",
       "0                    Boom                    Good             High   \n",
       "1                    Boom                    Good             High   \n",
       "2               Uncertain                    Good             High   \n",
       "3               Recession                     Bad             High   \n",
       "4               Recession                    Ugly           Normal   \n",
       "5               Recession                    Ugly           Normal   \n",
       "6               Uncertain                    Ugly             High   \n",
       "7                    Boom                     Bad           Normal   \n",
       "8                    Boom                    Ugly           Normal   \n",
       "9               Recession                     Bad           Normal   \n",
       "\n",
       "  BuyerSentiment  NoOfStocksDown  \n",
       "0           Weak            0.31  \n",
       "1         Strong            0.38  \n",
       "2           Weak            0.58  \n",
       "3           Weak            0.56  \n",
       "4           Weak            0.65  \n",
       "5         Strong            0.29  \n",
       "6         Strong            0.54  \n",
       "7           Weak            0.44  \n",
       "8           Weak            0.48  \n",
       "9           Weak            0.58  "
      ]
     },
     "execution_count": 3,
     "metadata": {},
     "output_type": "execute_result"
    }
   ],
   "source": [
    "df = pd.read_csv('IndianEconomy.csv')\n",
    "df"
   ]
  },
  {
   "cell_type": "code",
   "execution_count": 4,
   "id": "89dc8fb8",
   "metadata": {},
   "outputs": [],
   "source": [
    "X = df.iloc[: , 0:4]\n",
    "y = df.iloc[: , -1]"
   ]
  },
  {
   "cell_type": "code",
   "execution_count": 5,
   "id": "bcffb6af",
   "metadata": {},
   "outputs": [],
   "source": [
    "totalcategoricalvalue = \\\n",
    "list(np.unique(X['IndianEconomicCondition']))+list(np.unique(X['GlobalMarketPerformance'])) + \\\n",
    "list(np.unique(X['RBISupportMarket']))+list(np.unique(X['BuyerSentiment'])) + list(['Yes' , 'No'])\n",
    "\n",
    "# The backslash () is used as a line continuation character in Python. \n",
    "# It allows you to break long lines of code into multiple lines for better readability."
   ]
  },
  {
   "cell_type": "code",
   "execution_count": 6,
   "id": "c7e431f7",
   "metadata": {},
   "outputs": [
    {
     "data": {
      "text/plain": [
       "['Boom',\n",
       " 'Recession',\n",
       " 'Uncertain',\n",
       " 'Bad',\n",
       " 'Good',\n",
       " 'Ugly',\n",
       " 'High',\n",
       " 'Normal',\n",
       " 'Strong',\n",
       " 'Weak',\n",
       " 'Yes',\n",
       " 'No']"
      ]
     },
     "execution_count": 6,
     "metadata": {},
     "output_type": "execute_result"
    }
   ],
   "source": [
    "totalcategoricalvalue"
   ]
  },
  {
   "cell_type": "code",
   "execution_count": 16,
   "id": "71c67603",
   "metadata": {},
   "outputs": [
    {
     "name": "stdout",
     "output_type": "stream",
     "text": [
      "Lebel main is :  LabelEncoder()\n",
      "   IndianEconomicCondition  GlobalMarketPerformance  RBISupportMarket  \\\n",
      "0                        1                        2                 3   \n",
      "1                        1                        2                 3   \n",
      "2                        9                        2                 3   \n",
      "3                        6                        0                 3   \n",
      "4                        6                        8                 5   \n",
      "5                        6                        8                 5   \n",
      "6                        9                        8                 3   \n",
      "7                        1                        0                 5   \n",
      "8                        1                        8                 5   \n",
      "9                        6                        0                 5   \n",
      "\n",
      "   BuyerSentiment  \n",
      "0              10  \n",
      "1               7  \n",
      "2              10  \n",
      "3              10  \n",
      "4              10  \n",
      "5               7  \n",
      "6               7  \n",
      "7              10  \n",
      "8              10  \n",
      "9              10  \n",
      "0    0.31\n",
      "1    0.38\n",
      "2    0.58\n",
      "3    0.56\n",
      "4    0.65\n",
      "5    0.29\n",
      "6    0.54\n",
      "7    0.44\n",
      "8    0.48\n",
      "9    0.58\n",
      "Name: NoOfStocksDown, dtype: float64\n"
     ]
    }
   ],
   "source": [
    "# Convert X and Y to Encoded Numeric Values\n",
    "\n",
    "le_main = preprocessing.LabelEncoder()\n",
    "le_main.fit(totalcategoricalvalue)\n",
    "\n",
    "X_train = pd.DataFrame()\n",
    "y_train = pd.DataFrame()\n",
    "\n",
    "# Transforming categorical value into Numerical\n",
    "X_train['IndianEconomicCondition'] = le_main.transform(X['IndianEconomicCondition'])\n",
    "X_train['GlobalMarketPerformance'] = le_main.transform(X['GlobalMarketPerformance'])\n",
    "X_train['RBISupportMarket'] = le_main.transform(X['RBISupportMarket'])\n",
    "X_train['BuyerSentiment'] = le_main.transform(X['BuyerSentiment'])\n",
    "y_train = y\n",
    "print(X_train)\n",
    "print(y_train)"
   ]
  },
  {
   "cell_type": "markdown",
   "id": "df38fd1f",
   "metadata": {},
   "source": [
    "# Visualize the Mappings"
   ]
  },
  {
   "cell_type": "code",
   "execution_count": 8,
   "id": "447ea114",
   "metadata": {},
   "outputs": [
    {
     "data": {
      "text/html": [
       "<div>\n",
       "<style scoped>\n",
       "    .dataframe tbody tr th:only-of-type {\n",
       "        vertical-align: middle;\n",
       "    }\n",
       "\n",
       "    .dataframe tbody tr th {\n",
       "        vertical-align: top;\n",
       "    }\n",
       "\n",
       "    .dataframe thead th {\n",
       "        text-align: right;\n",
       "    }\n",
       "</style>\n",
       "<table border=\"1\" class=\"dataframe\">\n",
       "  <thead>\n",
       "    <tr style=\"text-align: right;\">\n",
       "      <th></th>\n",
       "      <th>class</th>\n",
       "      <th>encoded</th>\n",
       "    </tr>\n",
       "  </thead>\n",
       "  <tbody>\n",
       "    <tr>\n",
       "      <th>0</th>\n",
       "      <td>Bad</td>\n",
       "      <td>0</td>\n",
       "    </tr>\n",
       "    <tr>\n",
       "      <th>1</th>\n",
       "      <td>Boom</td>\n",
       "      <td>1</td>\n",
       "    </tr>\n",
       "    <tr>\n",
       "      <th>2</th>\n",
       "      <td>Good</td>\n",
       "      <td>2</td>\n",
       "    </tr>\n",
       "    <tr>\n",
       "      <th>3</th>\n",
       "      <td>High</td>\n",
       "      <td>3</td>\n",
       "    </tr>\n",
       "    <tr>\n",
       "      <th>4</th>\n",
       "      <td>No</td>\n",
       "      <td>4</td>\n",
       "    </tr>\n",
       "    <tr>\n",
       "      <th>5</th>\n",
       "      <td>Normal</td>\n",
       "      <td>5</td>\n",
       "    </tr>\n",
       "    <tr>\n",
       "      <th>6</th>\n",
       "      <td>Recession</td>\n",
       "      <td>6</td>\n",
       "    </tr>\n",
       "    <tr>\n",
       "      <th>7</th>\n",
       "      <td>Strong</td>\n",
       "      <td>7</td>\n",
       "    </tr>\n",
       "    <tr>\n",
       "      <th>8</th>\n",
       "      <td>Ugly</td>\n",
       "      <td>8</td>\n",
       "    </tr>\n",
       "    <tr>\n",
       "      <th>9</th>\n",
       "      <td>Uncertain</td>\n",
       "      <td>9</td>\n",
       "    </tr>\n",
       "    <tr>\n",
       "      <th>10</th>\n",
       "      <td>Weak</td>\n",
       "      <td>10</td>\n",
       "    </tr>\n",
       "    <tr>\n",
       "      <th>11</th>\n",
       "      <td>Yes</td>\n",
       "      <td>11</td>\n",
       "    </tr>\n",
       "  </tbody>\n",
       "</table>\n",
       "</div>"
      ],
      "text/plain": [
       "        class  encoded\n",
       "0         Bad        0\n",
       "1        Boom        1\n",
       "2        Good        2\n",
       "3        High        3\n",
       "4          No        4\n",
       "5      Normal        5\n",
       "6   Recession        6\n",
       "7      Strong        7\n",
       "8        Ugly        8\n",
       "9   Uncertain        9\n",
       "10       Weak       10\n",
       "11        Yes       11"
      ]
     },
     "execution_count": 8,
     "metadata": {},
     "output_type": "execute_result"
    }
   ],
   "source": [
    "# Print ,What we got encoded as what\n",
    "mappings = pd.DataFrame()\n",
    "mappings['class'] = le_main.classes_\n",
    "mappings['encoded'] = le_main.transform(le_main.classes_) \n",
    "mappings"
   ]
  },
  {
   "cell_type": "markdown",
   "id": "6581e922",
   "metadata": {},
   "source": [
    "# Validation Data Sets"
   ]
  },
  {
   "cell_type": "code",
   "execution_count": 9,
   "id": "f124af15",
   "metadata": {},
   "outputs": [],
   "source": [
    "df2 = pd.DataFrame({\n",
    "    'IndianEconomicCondition': ['Recession', 'Recession', 'Recession'],\n",
    "    'GlobalMarketPerformance': ['Good', 'Good', 'Good'],\n",
    "    'RBISupportMarket': ['High', 'High', 'High'],\n",
    "    'BuyerSentiment': ['Weak', 'Strong', 'Strong'],\n",
    "    'NoOfStocksDown': [0.39 , 0.33 , 0.42]\n",
    "})\n",
    "df2.to_csv('IndianEconomy_validation.csv' , index = False)"
   ]
  },
  {
   "cell_type": "code",
   "execution_count": 10,
   "id": "ebbaed25",
   "metadata": {},
   "outputs": [
    {
     "data": {
      "text/html": [
       "<div>\n",
       "<style scoped>\n",
       "    .dataframe tbody tr th:only-of-type {\n",
       "        vertical-align: middle;\n",
       "    }\n",
       "\n",
       "    .dataframe tbody tr th {\n",
       "        vertical-align: top;\n",
       "    }\n",
       "\n",
       "    .dataframe thead th {\n",
       "        text-align: right;\n",
       "    }\n",
       "</style>\n",
       "<table border=\"1\" class=\"dataframe\">\n",
       "  <thead>\n",
       "    <tr style=\"text-align: right;\">\n",
       "      <th></th>\n",
       "      <th>IndianEconomicCondition</th>\n",
       "      <th>GlobalMarketPerformance</th>\n",
       "      <th>RBISupportMarket</th>\n",
       "      <th>BuyerSentiment</th>\n",
       "      <th>NoOfStocksDown</th>\n",
       "    </tr>\n",
       "  </thead>\n",
       "  <tbody>\n",
       "    <tr>\n",
       "      <th>0</th>\n",
       "      <td>Recession</td>\n",
       "      <td>Good</td>\n",
       "      <td>High</td>\n",
       "      <td>Weak</td>\n",
       "      <td>0.39</td>\n",
       "    </tr>\n",
       "    <tr>\n",
       "      <th>1</th>\n",
       "      <td>Recession</td>\n",
       "      <td>Good</td>\n",
       "      <td>High</td>\n",
       "      <td>Strong</td>\n",
       "      <td>0.33</td>\n",
       "    </tr>\n",
       "    <tr>\n",
       "      <th>2</th>\n",
       "      <td>Recession</td>\n",
       "      <td>Good</td>\n",
       "      <td>High</td>\n",
       "      <td>Strong</td>\n",
       "      <td>0.42</td>\n",
       "    </tr>\n",
       "  </tbody>\n",
       "</table>\n",
       "</div>"
      ],
      "text/plain": [
       "  IndianEconomicCondition GlobalMarketPerformance RBISupportMarket  \\\n",
       "0               Recession                    Good             High   \n",
       "1               Recession                    Good             High   \n",
       "2               Recession                    Good             High   \n",
       "\n",
       "  BuyerSentiment  NoOfStocksDown  \n",
       "0           Weak            0.39  \n",
       "1         Strong            0.33  \n",
       "2         Strong            0.42  "
      ]
     },
     "execution_count": 10,
     "metadata": {},
     "output_type": "execute_result"
    }
   ],
   "source": [
    "df2"
   ]
  },
  {
   "cell_type": "code",
   "execution_count": 11,
   "id": "92dd530f",
   "metadata": {
    "scrolled": true
   },
   "outputs": [
    {
     "name": "stdout",
     "output_type": "stream",
     "text": [
      "   IndianEconomicCondition  GlobalMarketPerformance  RBISupportMarket  \\\n",
      "0                        6                        2                 3   \n",
      "1                        6                        2                 3   \n",
      "2                        6                        2                 3   \n",
      "\n",
      "   BuyerSentiment  \n",
      "0              10  \n",
      "1               7  \n",
      "2               7  \n",
      "0    0.39\n",
      "1    0.33\n",
      "2    0.42\n",
      "Name: NoOfStocksDown, dtype: float64\n"
     ]
    }
   ],
   "source": [
    "X_test = pd.DataFrame()\n",
    "y_test = pd.DataFrame()\n",
    "\n",
    "# Here use le_main instance\n",
    "X_test['IndianEconomicCondition'] = le_main.transform(df2['IndianEconomicCondition'])\n",
    "X_test['GlobalMarketPerformance'] = le_main.transform(df2['GlobalMarketPerformance'])\n",
    "X_test['RBISupportMarket'] = le_main.transform(df2['RBISupportMarket'])\n",
    "X_test['BuyerSentiment'] = le_main.transform(df2['BuyerSentiment'])\n",
    "y_test = df2['NoOfStocksDown']\n",
    "print(X_test)\n",
    "print(y_test)"
   ]
  },
  {
   "cell_type": "markdown",
   "id": "18a0a29e",
   "metadata": {},
   "source": [
    "# Decision Tree Model-Regression"
   ]
  },
  {
   "cell_type": "code",
   "execution_count": 22,
   "id": "2c5647b1",
   "metadata": {},
   "outputs": [],
   "source": [
    "def getTotalAbsoluteError(X_t , y_t , modelInput): \n",
    "    predictedValues = modelInput.predict(X_t)\n",
    "    errors = y_t.values.flatten() - predictedValues\n",
    "    return (sum(abs(errors)))"
   ]
  },
  {
   "cell_type": "markdown",
   "id": "1a82c2e0",
   "metadata": {},
   "source": [
    "# Tree Depth"
   ]
  },
  {
   "cell_type": "code",
   "execution_count": 23,
   "id": "abdb2080",
   "metadata": {},
   "outputs": [
    {
     "name": "stderr",
     "output_type": "stream",
     "text": [
      "C:\\Users\\arups\\AppData\\Local\\Temp\\ipykernel_1292\\2783841975.py:18: UserWarning: color is redundantly defined by the 'color' keyword argument and the fmt string \"rs-\" (-> color='r'). The keyword argument will take precedence.\n",
      "  ax.plot(errIndex , err , 'rs-' , color = 'orange' , linewidth = 1.5)\n",
      "C:\\Users\\arups\\AppData\\Local\\Temp\\ipykernel_1292\\2783841975.py:19: UserWarning: color is redundantly defined by the 'color' keyword argument and the fmt string \"rs-\" (-> color='r'). The keyword argument will take precedence.\n",
      "  ax.plot(errIndex , errTest , 'rs-' , color = 'green' , linewidth = 1.5)\n"
     ]
    },
    {
     "data": {
      "image/png": "[encoded data removed]",
      "text/plain": [
       "<Figure size 640x480 with 1 Axes>"
      ]
     },
     "metadata": {},
     "output_type": "display_data"
    }
   ],
   "source": [
    "err = []\n",
    "errIndex = []\n",
    "errTest = []\n",
    "\n",
    "# Model training: The decision tree regressor algorithm utilizes the training data to construct \n",
    "# a decision tree that captures the patterns and relationships between the features and target values.\n",
    "# The tree structure is built based on the specified hyperparameters, such as the maximum depth (max_depth), \n",
    "# which determines the depth of the tree.\n",
    "\n",
    "for treedepth in range(1 , 7):\n",
    "    clf2 = DecisionTreeRegressor(random_state = 2345 , max_depth=treedepth)\n",
    "    model2 = clf2.fit(X_train , y_train)\n",
    "    err.append(getTotalAbsoluteError(X_train , y_train , model2))\n",
    "    errTest.append(getTotalAbsoluteError(X_test , y_test , model2))\n",
    "    errIndex.append(treedepth)\n",
    "    \n",
    "fig , ax = plt.subplots()\n",
    "ax.plot(errIndex , err , 'rs-' , color = 'orange' , linewidth = 1.5)\n",
    "ax.plot(errIndex , errTest , 'rs-' , color = 'green' , linewidth = 1.5)\n",
    "ax.set_xlabel('Max Depth Tree')\n",
    "ax.set_ylabel('Total Error (MAE)')\n",
    "ax.set_title('Error VS Tree depth for training set')\n",
    "plt.legend(['Train' , 'Validate'])\n",
    "plt.show()"
   ]
  },
  {
   "cell_type": "markdown",
   "id": "daa0b288",
   "metadata": {},
   "source": [
    "# Min Sample Leaves"
   ]
  },
  {
   "cell_type": "code",
   "execution_count": 14,
   "id": "5de27bcc",
   "metadata": {},
   "outputs": [
    {
     "name": "stderr",
     "output_type": "stream",
     "text": [
      "C:\\Users\\arups\\AppData\\Local\\Temp\\ipykernel_1292\\1537085392.py:13: UserWarning: color is redundantly defined by the 'color' keyword argument and the fmt string \"rs-\" (-> color='r'). The keyword argument will take precedence.\n",
      "  ax.plot(errIndex , err , 'rs-' , color = 'orange' , linewidth = 1.5)\n",
      "C:\\Users\\arups\\AppData\\Local\\Temp\\ipykernel_1292\\1537085392.py:14: UserWarning: color is redundantly defined by the 'color' keyword argument and the fmt string \"rs-\" (-> color='r'). The keyword argument will take precedence.\n",
      "  ax.plot(errIndex , errTest , 'rs-' , color = 'green' , linewidth = 1.5)\n"
     ]
    },
    {
     "data": {
      "image/png": "[encoded data removed]",
      "text/plain": [
       "<Figure size 640x480 with 1 Axes>"
      ]
     },
     "metadata": {},
     "output_type": "display_data"
    }
   ],
   "source": [
    "err = []\n",
    "errIndex = []\n",
    "errTest = []\n",
    " \n",
    "for leafcount in range(1 , 7):\n",
    "    clf2 = DecisionTreeRegressor(random_state = 2345 , min_samples_leaf = leafcount)\n",
    "    model2 = clf2.fit(X_train , y_train)\n",
    "    err.append(getTotalAbsoluteError(X_train , y_train , model2))\n",
    "    errTest.append(getTotalAbsoluteError(X_test , y_test , model2))\n",
    "    errIndex.append(leafcount)\n",
    "    \n",
    "fig , ax = plt.subplots()\n",
    "ax.plot(errIndex , err , 'rs-' , color = 'orange' , linewidth = 1.5)\n",
    "ax.plot(errIndex , errTest , 'rs-' , color = 'green' , linewidth = 1.5)\n",
    "ax.set_xlabel('Min Leaf')\n",
    "ax.set_ylabel('Total Error (MAE)')\n",
    "ax.set_title('Error VS Tree depth for training set')\n",
    "plt.legend(['Train' , 'Validate'] , loc = 'lower right')\n",
    "plt.show()"
   ]
  },
  {
   "cell_type": "markdown",
   "id": "3d204621",
   "metadata": {},
   "source": [
    "# Another way of display using export_text"
   ]
  },
  {
   "cell_type": "code",
   "execution_count": 15,
   "id": "6509eb5b",
   "metadata": {},
   "outputs": [
    {
     "name": "stdout",
     "output_type": "stream",
     "text": [
      "|--- value: [0.48]\n",
      "\n"
     ]
    }
   ],
   "source": [
    "print(tree.export_text(clf2))"
   ]
  },
  {
   "cell_type": "code",
   "execution_count": 21,
   "id": "cf4f45b2",
   "metadata": {},
   "outputs": [
    {
     "name": "stdout",
     "output_type": "stream",
     "text": [
      "[ 1  6  9  0  2  8  3  5  7 10 11  4]\n"
     ]
    }
   ],
   "source": [
    "from sklearn import preprocessing\n",
    "\n",
    "totalcategoricalvalue = ['Boom', 'Recession', 'Uncertain', 'Bad', 'Good', 'Ugly', 'High', 'Normal', 'Strong', 'Weak', 'Yes', 'No']\n",
    "\n",
    "le_main = preprocessing.LabelEncoder()\n",
    "le_main.fit(totalcategoricalvalue)\n",
    "\n",
    "encoded_values = le_main.transform(totalcategoricalvalue)\n",
    "\n",
    "print(encoded_values)\n"
   ]
  }
 ],
 "metadata": {
  "kernelspec": {
   "display_name": "Python 3 (ipykernel)",
   "language": "python",
   "name": "python3"
  },
  "language_info": {
   "codemirror_mode": {
    "name": "ipython",
    "version": 3
   },
   "file_extension": ".py",
   "mimetype": "text/x-python",
   "name": "python",
   "nbconvert_exporter": "python",
   "pygments_lexer": "ipython3",
   "version": "3.11.3"
  }
 },
 "nbformat": 4,
 "nbformat_minor": 5
}
