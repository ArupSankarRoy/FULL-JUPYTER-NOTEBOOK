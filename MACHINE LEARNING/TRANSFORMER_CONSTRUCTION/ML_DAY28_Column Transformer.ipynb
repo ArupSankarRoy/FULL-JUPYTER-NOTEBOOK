{
 "cells": [
  {
   "cell_type": "code",
   "execution_count": 1,
   "id": "6910ac84",
   "metadata": {},
   "outputs": [],
   "source": [
    "import numpy as np\n",
    "import pandas as pd"
   ]
  },
  {
   "cell_type": "code",
   "execution_count": 2,
   "id": "bf7c739f",
   "metadata": {},
   "outputs": [],
   "source": [
    "from sklearn.impute import SimpleImputer\n",
    "from sklearn.preprocessing import OrdinalEncoder\n",
    "from sklearn.preprocessing import OneHotEncoder"
   ]
  },
  {
   "cell_type": "code",
   "execution_count": null,
   "id": "73a9685d",
   "metadata": {},
   "outputs": [],
   "source": [
    "df = pd.read_csv('https://raw.githubusercontent.com/campusx-official/100-days-of-machine-learning/main/day28-column-transformer/covid_toy.csv')\n",
    "df.sample(5)"
   ]
  },
  {
   "cell_type": "code",
   "execution_count": null,
   "id": "53fce8f4",
   "metadata": {},
   "outputs": [],
   "source": [
    "df.isnull().sum()"
   ]
  },
  {
   "cell_type": "markdown",
   "id": "458453d5",
   "metadata": {},
   "source": [
    "# Aam Zindigi"
   ]
  },
  {
   "cell_type": "code",
   "execution_count": null,
   "id": "cc117a50",
   "metadata": {},
   "outputs": [],
   "source": [
    "from sklearn.model_selection import train_test_split\n",
    "\n",
    "X_train , X_test , y_train , y_test =  train_test_split(df.drop('has_covid' , axis = 1) , df['has_covid'] , random_state= 2 , test_size=0.2)"
   ]
  },
  {
   "cell_type": "code",
   "execution_count": null,
   "id": "e33d1bb3",
   "metadata": {},
   "outputs": [],
   "source": [
    "# Adding Simple imputer to fever column\n",
    "\n",
    "si = SimpleImputer() # default strategy is mean\n",
    "\n",
    "X_train_fever = si.fit_transform(X_train[['fever']])\n",
    "X_test_fever = si.transform(X_test[['fever']])\n",
    "\n",
    "X_train_fever.shape\n",
    "X_test_fever.shape"
   ]
  },
  {
   "cell_type": "code",
   "execution_count": null,
   "id": "18d631f4",
   "metadata": {},
   "outputs": [],
   "source": [
    "# Adding Ordinal Encoder to cough column\n",
    "\n",
    "oe = OrdinalEncoder(categories=[['Mild' , 'Strong']])\n",
    "X_train_cough = oe.fit_transform(X_train[['cough']])\n",
    "X_test_cough = oe.transform(X_test[['cough']])\n",
    "\n",
    "# print(type(X_train_cough[0][0])) <class 'numpy.float64'>\n",
    "X_train_cough.shape\n",
    "X_test_cough.shape"
   ]
  },
  {
   "cell_type": "code",
   "execution_count": null,
   "id": "2e7a5764",
   "metadata": {
    "scrolled": true
   },
   "outputs": [],
   "source": [
    "# Adding One Hot Encoding to gender and city column\n",
    "\n",
    "ohe = OneHotEncoder(drop = 'first' , sparse_output=False)\n",
    "\n",
    "X_train_gender_city = ohe.fit_transform(X_train[['gender' , 'city']])\n",
    "X_test_gender_city = ohe.transform(X_test[['gender' , 'city']])\n",
    "\n",
    "\n",
    "X_test_gender_city.shape"
   ]
  },
  {
   "cell_type": "code",
   "execution_count": null,
   "id": "2496e6fd",
   "metadata": {},
   "outputs": [],
   "source": [
    "X_train"
   ]
  },
  {
   "cell_type": "code",
   "execution_count": null,
   "id": "b100751f",
   "metadata": {
    "scrolled": true
   },
   "outputs": [],
   "source": [
    "# Extracting Age\n",
    "\n",
    "X_train_age = X_train.drop(['gender' , 'fever' , 'cough' , 'city'] , axis = 1).values\n",
    "X_test_age = X_test.drop(['gender' , 'fever' , 'cough' , 'city'] , axis = 1).values\n",
    "\n",
    "X_train_age.shape"
   ]
  },
  {
   "cell_type": "code",
   "execution_count": null,
   "id": "161745fa",
   "metadata": {},
   "outputs": [],
   "source": [
    "# concatenate all thsese\n",
    "\n",
    "X_train_transformed = np.c_[X_train_age , X_train_fever , X_train_gender_city , X_train_cough]\n",
    "X_test_transformed = np.c_[X_test_age , X_test_fever , X_test_gender_city , X_test_cough]\n",
    "\n",
    "X_train_transformed.shape"
   ]
  },
  {
   "cell_type": "markdown",
   "id": "f69d86b4",
   "metadata": {},
   "source": [
    "# Mentos Zindigi"
   ]
  },
  {
   "cell_type": "code",
   "execution_count": null,
   "id": "d8a7060a",
   "metadata": {},
   "outputs": [],
   "source": [
    "from sklearn.compose import ColumnTransformer"
   ]
  },
  {
   "cell_type": "code",
   "execution_count": null,
   "id": "a3f90f88",
   "metadata": {},
   "outputs": [],
   "source": [
    "transformer = ColumnTransformer(transformers=[\n",
    "    ('tnf1' , SimpleImputer() , ['fever']),\n",
    "    ('tnf2' , OrdinalEncoder(categories=[['Mild' , 'Strong']]) , ['cough']),\n",
    "    ('tnf3' , OneHotEncoder(drop = 'first' , sparse_output=False) , ['gender' , 'city']) # Here ['gender' , 'city'] list used\n",
    "    \n",
    "] , remainder='passthrough')"
   ]
  },
  {
   "cell_type": "code",
   "execution_count": null,
   "id": "1f1da0d3",
   "metadata": {},
   "outputs": [],
   "source": [
    "transformer.fit_transform(X_train)\n",
    "transformer.transform(X_test)"
   ]
  },
  {
   "cell_type": "code",
   "execution_count": null,
   "id": "f3c097cd",
   "metadata": {},
   "outputs": [],
   "source": [
    "# df['fever'].fillna(df['fever'].ffill() , inplace = False).head(20)"
   ]
  }
 ],
 "metadata": {
  "kernelspec": {
   "display_name": "Python 3 (ipykernel)",
   "language": "python",
   "name": "python3"
  },
  "language_info": {
   "codemirror_mode": {
    "name": "ipython",
    "version": 3
   },
   "file_extension": ".py",
   "mimetype": "text/x-python",
   "name": "python",
   "nbconvert_exporter": "python",
   "pygments_lexer": "ipython3",
   "version": "3.11.3"
  }
 },
 "nbformat": 4,
 "nbformat_minor": 5
}
