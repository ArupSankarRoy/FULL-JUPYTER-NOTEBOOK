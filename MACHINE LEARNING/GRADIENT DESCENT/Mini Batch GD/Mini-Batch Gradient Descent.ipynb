{
 "cells": [
  {
   "cell_type": "code",
   "execution_count": 1,
   "id": "dec8e620",
   "metadata": {},
   "outputs": [],
   "source": [
    "import numpy as np\n",
    "from sklearn.datasets import load_diabetes\n",
    "from sklearn.linear_model import LinearRegression\n",
    "from sklearn.metrics import r2_score\n",
    "from sklearn.model_selection import train_test_split\n",
    "import time\n",
    "import random"
   ]
  },
  {
   "cell_type": "code",
   "execution_count": 2,
   "id": "4743a02c",
   "metadata": {},
   "outputs": [],
   "source": [
    "X , y = load_diabetes(return_X_y=True)"
   ]
  },
  {
   "cell_type": "code",
   "execution_count": 3,
   "id": "aaad1dc6",
   "metadata": {},
   "outputs": [],
   "source": [
    "X_train,X_test,y_train,y_test = train_test_split(X,y,test_size=0.2,random_state=2)"
   ]
  },
  {
   "cell_type": "code",
   "execution_count": 4,
   "id": "96c8bcc2",
   "metadata": {},
   "outputs": [],
   "source": [
    "class MBGDRegressor:\n",
    "    \n",
    "    def __init__(self,batch_size,learning_rate=0.01,epochs=100):\n",
    "        \n",
    "        self.coef_ = None\n",
    "        self.intercept_ = None\n",
    "        self.lr = learning_rate\n",
    "        self.epochs = epochs\n",
    "        self.batch_size = batch_size\n",
    "        \n",
    "    def fit(self,X_train,y_train):\n",
    "        # init your coefs\n",
    "        self.intercept_ = 0\n",
    "        self.coef_ = np.ones(X_train.shape[1])\n",
    "        \n",
    "        for i in range(self.epochs):\n",
    "            for j in range(int(X_train.shape[0]/self.batch_size)): # No of Batches\n",
    "                idx = random.sample(range(X_train.shape[0]),self.batch_size)\n",
    "                \n",
    "                y_hat = np.dot(X_train[idx],self.coef_) + self.intercept_\n",
    "                \n",
    "                intercept_der = -2 * np.mean(y_train[idx] - y_hat)\n",
    "                self.intercept_ = self.intercept_ - (self.lr * intercept_der)\n",
    "                \n",
    "                coef_der = -2 * np.dot((y_train[idx] - y_hat),X_train[idx])\n",
    "                self.coef_ = self.coef_ - (self.lr * coef_der)\n",
    "        \n",
    "        print(self.intercept_,self.coef_)\n",
    "    \n",
    "    def predict(self,X_test):\n",
    "        return np.dot(X_test,self.coef_) + self.intercept_"
   ]
  },
  {
   "cell_type": "code",
   "execution_count": 5,
   "id": "d126ad09",
   "metadata": {},
   "outputs": [],
   "source": [
    "mbr = MBGDRegressor(batch_size=int(X_train.shape[0]/50),learning_rate=0.01 , epochs=50)"
   ]
  },
  {
   "cell_type": "code",
   "execution_count": 6,
   "id": "7264cb35",
   "metadata": {
    "scrolled": true
   },
   "outputs": [
    {
     "name": "stdout",
     "output_type": "stream",
     "text": [
      "154.01587614666843 [  59.15951095  -64.54157726  350.54334481  246.4016604    15.61353261\n",
      "  -31.44391944 -173.35438181  127.45429078  320.19054311  137.85453945]\n"
     ]
    }
   ],
   "source": [
    "mbr.fit(X_train, y_train)"
   ]
  },
  {
   "cell_type": "code",
   "execution_count": 7,
   "id": "51760c7a",
   "metadata": {
    "scrolled": true
   },
   "outputs": [
    {
     "data": {
      "text/plain": [
       "array([155.87979252, 192.43402284, 142.23409279, 111.11764888,\n",
       "       247.01707737, 238.80226542, 110.00033879, 117.13672119,\n",
       "        95.21856029, 186.91865377, 162.78010552, 174.77922183,\n",
       "       186.21513999, 152.85488699, 255.75467549,  94.27751505,\n",
       "       187.01265955, 141.58847968, 142.5292232 , 141.79432696,\n",
       "       135.01879499, 191.58457126, 167.72691763, 179.90077044,\n",
       "       128.8845177 , 222.21473472, 197.42491159, 122.47796719,\n",
       "        64.81529651, 242.40950863, 237.63041142, 121.15722523,\n",
       "        76.36687578, 111.95748615, 202.33467431, 167.94747076,\n",
       "       169.3620998 , 198.02078753, 117.21359651, 235.46197938,\n",
       "       138.34797145, 129.54584835, 186.46907741, 187.99662517,\n",
       "       172.95945493, 147.93680076, 175.8974657 , 280.17635604,\n",
       "       119.89061806, 190.68545405, 239.06708423, 131.99337538,\n",
       "       145.41477983, 153.00380429, 191.82617405, 115.89346115,\n",
       "       157.15600539,  88.5580339 , 160.57952384, 145.0996999 ,\n",
       "       165.8111366 , 172.98130957, 112.89517371, 206.48205634,\n",
       "       159.48042692, 155.49180637, 154.24001716, 189.35499729,\n",
       "       124.68728411, 145.72555939, 203.55096597, 188.74947841,\n",
       "       123.07843429, 153.23971019, 143.52345671, 116.04011775,\n",
       "        88.75033942,  91.53867091, 173.30135671,  91.77202329,\n",
       "       101.78816769, 111.80728764, 167.13586816, 259.4844782 ,\n",
       "       202.38307327, 142.15189004, 252.32944678, 186.93321725,\n",
       "       116.32341786])"
      ]
     },
     "execution_count": 7,
     "metadata": {},
     "output_type": "execute_result"
    }
   ],
   "source": [
    "y_pred = mbr.predict(X_test)\n",
    "y_pred"
   ]
  },
  {
   "cell_type": "code",
   "execution_count": 8,
   "id": "20b03dfc",
   "metadata": {
    "scrolled": true
   },
   "outputs": [
    {
     "data": {
      "text/plain": [
       "-0.4746521415742393"
      ]
     },
     "execution_count": 8,
     "metadata": {},
     "output_type": "execute_result"
    }
   ],
   "source": [
    "r2_score(y_pred,y_test)"
   ]
  },
  {
   "cell_type": "code",
   "execution_count": 9,
   "id": "d5c369c1",
   "metadata": {},
   "outputs": [],
   "source": [
    "from sklearn.linear_model import SGDRegressor"
   ]
  },
  {
   "cell_type": "code",
   "execution_count": 10,
   "id": "2d54341b",
   "metadata": {},
   "outputs": [],
   "source": [
    "sgd = SGDRegressor(learning_rate='constant',eta0=0.1)"
   ]
  },
  {
   "cell_type": "code",
   "execution_count": 11,
   "id": "8ec107c5",
   "metadata": {},
   "outputs": [],
   "source": [
    "\n",
    "batch_size = 35\n",
    "\n",
    "for i in range(100):\n",
    "    \n",
    "    idx = random.sample(range(X_train.shape[0]),batch_size)\n",
    "    sgd.partial_fit(X_train[idx],y_train[idx])"
   ]
  },
  {
   "cell_type": "code",
   "execution_count": 12,
   "id": "0dbffd3f",
   "metadata": {},
   "outputs": [
    {
     "data": {
      "text/plain": [
       "0.4189556257916871"
      ]
     },
     "execution_count": 12,
     "metadata": {},
     "output_type": "execute_result"
    }
   ],
   "source": [
    "y_pred = sgd.predict(X_test)\n",
    "r2_score(y_test,y_pred)"
   ]
  }
 ],
 "metadata": {
  "kernelspec": {
   "display_name": "Python 3 (ipykernel)",
   "language": "python",
   "name": "python3"
  },
  "language_info": {
   "codemirror_mode": {
    "name": "ipython",
    "version": 3
   },
   "file_extension": ".py",
   "mimetype": "text/x-python",
   "name": "python",
   "nbconvert_exporter": "python",
   "pygments_lexer": "ipython3",
   "version": "3.11.3"
  }
 },
 "nbformat": 4,
 "nbformat_minor": 5
}
