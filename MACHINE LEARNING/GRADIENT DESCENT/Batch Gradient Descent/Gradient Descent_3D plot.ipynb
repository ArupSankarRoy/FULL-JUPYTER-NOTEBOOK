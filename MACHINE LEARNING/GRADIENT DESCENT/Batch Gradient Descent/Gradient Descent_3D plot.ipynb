{
 "cells": [
  {
   "cell_type": "code",
   "execution_count": 1,
   "id": "d821fad5",
   "metadata": {},
   "outputs": [],
   "source": [
    "from sklearn.datasets import make_regression\n",
    "import matplotlib.pyplot as plt\n",
    "import numpy as np"
   ]
  },
  {
   "cell_type": "code",
   "execution_count": 2,
   "id": "b59a5303",
   "metadata": {},
   "outputs": [],
   "source": [
    "X,y = make_regression(n_samples=100, n_features=1, n_informative=1, n_targets=1,noise=30)"
   ]
  },
  {
   "cell_type": "code",
   "execution_count": 35,
   "id": "ba5c2ee5",
   "metadata": {
    "scrolled": true
   },
   "outputs": [],
   "source": [
    "plt.scatter(X,y)\n",
    "plt.show()"
   ]
  },
  {
   "cell_type": "code",
   "execution_count": 4,
   "id": "b97d22ac",
   "metadata": {},
   "outputs": [],
   "source": [
    "m_arr = np.linspace(-150, 150, 10)\n",
    "b_arr = np.linspace(-150, 150, 10)\n",
    "mGrid, bGrid = np.meshgrid(m_arr,b_arr)\n",
    "\n",
    "final = np.vstack((mGrid.ravel().reshape(1,100),bGrid.ravel().reshape(1,100))).T\n",
    "\n",
    "z_arr = []\n",
    "\n",
    "for i in range(final.shape[0]):\n",
    "    z_arr.append(np.sum((y - final[i,0]*X.reshape(100) - final[i,1])**2))\n",
    "\n",
    "z_arr = np.array(z_arr).reshape(10,10)"
   ]
  },
  {
   "cell_type": "code",
   "execution_count": 23,
   "id": "9b2495ab",
   "metadata": {
    "scrolled": false
   },
   "outputs": [
    {
     "data": {
      "application/vnd.plotly.v1+json": {
       "config": {
        "plotlyServerURL": "https://plot.ly"
       },
       "data": [
        {
         "type": "surface",
         "x": [
          -150,
          -116.66666666666666,
          -83.33333333333333,
          -50,
          -16.666666666666657,
          16.666666666666686,
          50,
          83.33333333333334,
          116.66666666666669,
          150
         ],
         "y": [
          -150,
          -116.66666666666666,
          -83.33333333333333,
          -50,
          -16.666666666666657,
          16.666666666666686,
          50,
          83.33333333333334,
          116.66666666666669,
          150
         ],
         "z": [
          [
           5406237.474103857,
           4318484.15086335,
           3458161.176159412,
           2825268.5499920417,
           2419806.2723612357,
           2241774.3432669984,
           2291172.7627093275,
           2568001.5306882234,
           3072260.647203686,
           3803950.112255716
          ],
          [
           4514047.486287468,
           3431525.3576137824,
           2576433.577476664,
           1948772.1458761129,
           1548541.0628121283,
           1375740.3282847104,
           1430369.9422938596,
           1712429.904839576,
           2221920.2159218593,
           2958840.875540708
          ],
          [
           3844079.7206933033,
           2766788.7865864374,
           1916928.2010161392,
           1294497.963982408,
           899498.075485243,
           731928.5355246454,
           791789.3441006143,
           1079080.5012131508,
           1593802.0068622536,
           2335953.8610479226
          ],
          [
           3396334.1773213595,
           2324274.437781314,
           1479645.046777836,
           862446.0043109246,
           472677.31038057996,
           310338.9649868022,
           375430.9681295913,
           667953.3198089475,
           1187906.0200248708,
           1935289.0687773598
          ],
          [
           3170810.8561716382,
           2103982.3111984134,
           1264584.114761755,
           652616.2668616635,
           268078.76749813894,
           110971.61667118127,
           181294.81438079049,
           479048.3606269665,
           1004232.2554097096,
           1756846.498729019
          ],
          [
           3167509.75724414,
           2105912.4068377344,
           1271745.4049678964,
           665008.751634625,
           285702.44683792035,
           133826.4905777827,
           209380.8828542119,
           512365.62366720807,
           1042780.7130167715,
           1800626.1509029008
          ],
          [
           3386430.880538863,
           2330064.724699278,
           1501128.9173962597,
           899623.4586298084,
           525548.3483999236,
           378903.5867066062,
           459689.1735498553,
           767905.1089296716,
           1303551.392846055,
           2066628.0252990043
          ],
          [
           3827574.2260558084,
           2776439.264783044,
           1952734.6520468455,
           1356460.3878472145,
           987616.4721841498,
           846202.9050576519,
           932219.6864677211,
           1245666.8164143579,
           1786544.2948975612,
           2554852.1219173307
          ],
          [
           4490939.7937949775,
           3445036.0270890323,
           2626562.608919654,
           2035519.5392868428,
           1671906.8181905977,
           1535724.4456309204,
           1626972.4216078096,
           1945650.746121266,
           2491759.419171289,
           3265298.440757878
          ],
          [
           5376527.583756366,
           4335855.011617241,
           3522612.7880146834,
           2936800.9129486918,
           2578419.386419268,
           2447468.20842641,
           2543947.378970119,
           2867856.898050396,
           3419196.765667239,
           4197966.981820648
          ]
         ]
        }
       ],
       "layout": {
        "autosize": false,
        "height": 500,
        "margin": {
         "b": 65,
         "l": 65,
         "r": 50,
         "t": 90
        },
        "template": {
         "data": {
          "bar": [
           {
            "error_x": {
             "color": "#2a3f5f"
            },
            "error_y": {
             "color": "#2a3f5f"
            },
            "marker": {
             "line": {
              "color": "#E5ECF6",
              "width": 0.5
             },
             "pattern": {
              "fillmode": "overlay",
              "size": 10,
              "solidity": 0.2
             }
            },
            "type": "bar"
           }
          ],
          "barpolar": [
           {
            "marker": {
             "line": {
              "color": "#E5ECF6",
              "width": 0.5
             },
             "pattern": {
              "fillmode": "overlay",
              "size": 10,
              "solidity": 0.2
             }
            },
            "type": "barpolar"
           }
          ],
          "carpet": [
           {
            "aaxis": {
             "endlinecolor": "#2a3f5f",
             "gridcolor": "white",
             "linecolor": "white",
             "minorgridcolor": "white",
             "startlinecolor": "#2a3f5f"
            },
            "baxis": {
             "endlinecolor": "#2a3f5f",
             "gridcolor": "white",
             "linecolor": "white",
             "minorgridcolor": "white",
             "startlinecolor": "#2a3f5f"
            },
            "type": "carpet"
           }
          ],
          "choropleth": [
           {
            "colorbar": {
             "outlinewidth": 0,
             "ticks": ""
            },
            "type": "choropleth"
           }
          ],
          "contour": [
           {
            "colorbar": {
             "outlinewidth": 0,
             "ticks": ""
            },
            "colorscale": [
             [
              0,
              "#0d0887"
             ],
             [
              0.1111111111111111,
              "#46039f"
             ],
             [
              0.2222222222222222,
              "#7201a8"
             ],
             [
              0.3333333333333333,
              "#9c179e"
             ],
             [
              0.4444444444444444,
              "#bd3786"
             ],
             [
              0.5555555555555556,
              "#d8576b"
             ],
             [
              0.6666666666666666,
              "#ed7953"
             ],
             [
              0.7777777777777778,
              "#fb9f3a"
             ],
             [
              0.8888888888888888,
              "#fdca26"
             ],
             [
              1,
              "#f0f921"
             ]
            ],
            "type": "contour"
           }
          ],
          "contourcarpet": [
           {
            "colorbar": {
             "outlinewidth": 0,
             "ticks": ""
            },
            "type": "contourcarpet"
           }
          ],
          "heatmap": [
           {
            "colorbar": {
             "outlinewidth": 0,
             "ticks": ""
            },
            "colorscale": [
             [
              0,
              "#0d0887"
             ],
             [
              0.1111111111111111,
              "#46039f"
             ],
             [
              0.2222222222222222,
              "#7201a8"
             ],
             [
              0.3333333333333333,
              "#9c179e"
             ],
             [
              0.4444444444444444,
              "#bd3786"
             ],
             [
              0.5555555555555556,
              "#d8576b"
             ],
             [
              0.6666666666666666,
              "#ed7953"
             ],
             [
              0.7777777777777778,
              "#fb9f3a"
             ],
             [
              0.8888888888888888,
              "#fdca26"
             ],
             [
              1,
              "#f0f921"
             ]
            ],
            "type": "heatmap"
           }
          ],
          "heatmapgl": [
           {
            "colorbar": {
             "outlinewidth": 0,
             "ticks": ""
            },
            "colorscale": [
             [
              0,
              "#0d0887"
             ],
             [
              0.1111111111111111,
              "#46039f"
             ],
             [
              0.2222222222222222,
              "#7201a8"
             ],
             [
              0.3333333333333333,
              "#9c179e"
             ],
             [
              0.4444444444444444,
              "#bd3786"
             ],
             [
              0.5555555555555556,
              "#d8576b"
             ],
             [
              0.6666666666666666,
              "#ed7953"
             ],
             [
              0.7777777777777778,
              "#fb9f3a"
             ],
             [
              0.8888888888888888,
              "#fdca26"
             ],
             [
              1,
              "#f0f921"
             ]
            ],
            "type": "heatmapgl"
           }
          ],
          "histogram": [
           {
            "marker": {
             "pattern": {
              "fillmode": "overlay",
              "size": 10,
              "solidity": 0.2
             }
            },
            "type": "histogram"
           }
          ],
          "histogram2d": [
           {
            "colorbar": {
             "outlinewidth": 0,
             "ticks": ""
            },
            "colorscale": [
             [
              0,
              "#0d0887"
             ],
             [
              0.1111111111111111,
              "#46039f"
             ],
             [
              0.2222222222222222,
              "#7201a8"
             ],
             [
              0.3333333333333333,
              "#9c179e"
             ],
             [
              0.4444444444444444,
              "#bd3786"
             ],
             [
              0.5555555555555556,
              "#d8576b"
             ],
             [
              0.6666666666666666,
              "#ed7953"
             ],
             [
              0.7777777777777778,
              "#fb9f3a"
             ],
             [
              0.8888888888888888,
              "#fdca26"
             ],
             [
              1,
              "#f0f921"
             ]
            ],
            "type": "histogram2d"
           }
          ],
          "histogram2dcontour": [
           {
            "colorbar": {
             "outlinewidth": 0,
             "ticks": ""
            },
            "colorscale": [
             [
              0,
              "#0d0887"
             ],
             [
              0.1111111111111111,
              "#46039f"
             ],
             [
              0.2222222222222222,
              "#7201a8"
             ],
             [
              0.3333333333333333,
              "#9c179e"
             ],
             [
              0.4444444444444444,
              "#bd3786"
             ],
             [
              0.5555555555555556,
              "#d8576b"
             ],
             [
              0.6666666666666666,
              "#ed7953"
             ],
             [
              0.7777777777777778,
              "#fb9f3a"
             ],
             [
              0.8888888888888888,
              "#fdca26"
             ],
             [
              1,
              "#f0f921"
             ]
            ],
            "type": "histogram2dcontour"
           }
          ],
          "mesh3d": [
           {
            "colorbar": {
             "outlinewidth": 0,
             "ticks": ""
            },
            "type": "mesh3d"
           }
          ],
          "parcoords": [
           {
            "line": {
             "colorbar": {
              "outlinewidth": 0,
              "ticks": ""
             }
            },
            "type": "parcoords"
           }
          ],
          "pie": [
           {
            "automargin": true,
            "type": "pie"
           }
          ],
          "scatter": [
           {
            "fillpattern": {
             "fillmode": "overlay",
             "size": 10,
             "solidity": 0.2
            },
            "type": "scatter"
           }
          ],
          "scatter3d": [
           {
            "line": {
             "colorbar": {
              "outlinewidth": 0,
              "ticks": ""
             }
            },
            "marker": {
             "colorbar": {
              "outlinewidth": 0,
              "ticks": ""
             }
            },
            "type": "scatter3d"
           }
          ],
          "scattercarpet": [
           {
            "marker": {
             "colorbar": {
              "outlinewidth": 0,
              "ticks": ""
             }
            },
            "type": "scattercarpet"
           }
          ],
          "scattergeo": [
           {
            "marker": {
             "colorbar": {
              "outlinewidth": 0,
              "ticks": ""
             }
            },
            "type": "scattergeo"
           }
          ],
          "scattergl": [
           {
            "marker": {
             "colorbar": {
              "outlinewidth": 0,
              "ticks": ""
             }
            },
            "type": "scattergl"
           }
          ],
          "scattermapbox": [
           {
            "marker": {
             "colorbar": {
              "outlinewidth": 0,
              "ticks": ""
             }
            },
            "type": "scattermapbox"
           }
          ],
          "scatterpolar": [
           {
            "marker": {
             "colorbar": {
              "outlinewidth": 0,
              "ticks": ""
             }
            },
            "type": "scatterpolar"
           }
          ],
          "scatterpolargl": [
           {
            "marker": {
             "colorbar": {
              "outlinewidth": 0,
              "ticks": ""
             }
            },
            "type": "scatterpolargl"
           }
          ],
          "scatterternary": [
           {
            "marker": {
             "colorbar": {
              "outlinewidth": 0,
              "ticks": ""
             }
            },
            "type": "scatterternary"
           }
          ],
          "surface": [
           {
            "colorbar": {
             "outlinewidth": 0,
             "ticks": ""
            },
            "colorscale": [
             [
              0,
              "#0d0887"
             ],
             [
              0.1111111111111111,
              "#46039f"
             ],
             [
              0.2222222222222222,
              "#7201a8"
             ],
             [
              0.3333333333333333,
              "#9c179e"
             ],
             [
              0.4444444444444444,
              "#bd3786"
             ],
             [
              0.5555555555555556,
              "#d8576b"
             ],
             [
              0.6666666666666666,
              "#ed7953"
             ],
             [
              0.7777777777777778,
              "#fb9f3a"
             ],
             [
              0.8888888888888888,
              "#fdca26"
             ],
             [
              1,
              "#f0f921"
             ]
            ],
            "type": "surface"
           }
          ],
          "table": [
           {
            "cells": {
             "fill": {
              "color": "#EBF0F8"
             },
             "line": {
              "color": "white"
             }
            },
            "header": {
             "fill": {
              "color": "#C8D4E3"
             },
             "line": {
              "color": "white"
             }
            },
            "type": "table"
           }
          ]
         },
         "layout": {
          "annotationdefaults": {
           "arrowcolor": "#2a3f5f",
           "arrowhead": 0,
           "arrowwidth": 1
          },
          "autotypenumbers": "strict",
          "coloraxis": {
           "colorbar": {
            "outlinewidth": 0,
            "ticks": ""
           }
          },
          "colorscale": {
           "diverging": [
            [
             0,
             "#8e0152"
            ],
            [
             0.1,
             "#c51b7d"
            ],
            [
             0.2,
             "#de77ae"
            ],
            [
             0.3,
             "#f1b6da"
            ],
            [
             0.4,
             "#fde0ef"
            ],
            [
             0.5,
             "#f7f7f7"
            ],
            [
             0.6,
             "#e6f5d0"
            ],
            [
             0.7,
             "#b8e186"
            ],
            [
             0.8,
             "#7fbc41"
            ],
            [
             0.9,
             "#4d9221"
            ],
            [
             1,
             "#276419"
            ]
           ],
           "sequential": [
            [
             0,
             "#0d0887"
            ],
            [
             0.1111111111111111,
             "#46039f"
            ],
            [
             0.2222222222222222,
             "#7201a8"
            ],
            [
             0.3333333333333333,
             "#9c179e"
            ],
            [
             0.4444444444444444,
             "#bd3786"
            ],
            [
             0.5555555555555556,
             "#d8576b"
            ],
            [
             0.6666666666666666,
             "#ed7953"
            ],
            [
             0.7777777777777778,
             "#fb9f3a"
            ],
            [
             0.8888888888888888,
             "#fdca26"
            ],
            [
             1,
             "#f0f921"
            ]
           ],
           "sequentialminus": [
            [
             0,
             "#0d0887"
            ],
            [
             0.1111111111111111,
             "#46039f"
            ],
            [
             0.2222222222222222,
             "#7201a8"
            ],
            [
             0.3333333333333333,
             "#9c179e"
            ],
            [
             0.4444444444444444,
             "#bd3786"
            ],
            [
             0.5555555555555556,
             "#d8576b"
            ],
            [
             0.6666666666666666,
             "#ed7953"
            ],
            [
             0.7777777777777778,
             "#fb9f3a"
            ],
            [
             0.8888888888888888,
             "#fdca26"
            ],
            [
             1,
             "#f0f921"
            ]
           ]
          },
          "colorway": [
           "#636efa",
           "#EF553B",
           "#00cc96",
           "#ab63fa",
           "#FFA15A",
           "#19d3f3",
           "#FF6692",
           "#B6E880",
           "#FF97FF",
           "#FECB52"
          ],
          "font": {
           "color": "#2a3f5f"
          },
          "geo": {
           "bgcolor": "white",
           "lakecolor": "white",
           "landcolor": "#E5ECF6",
           "showlakes": true,
           "showland": true,
           "subunitcolor": "white"
          },
          "hoverlabel": {
           "align": "left"
          },
          "hovermode": "closest",
          "mapbox": {
           "style": "light"
          },
          "paper_bgcolor": "white",
          "plot_bgcolor": "#E5ECF6",
          "polar": {
           "angularaxis": {
            "gridcolor": "white",
            "linecolor": "white",
            "ticks": ""
           },
           "bgcolor": "#E5ECF6",
           "radialaxis": {
            "gridcolor": "white",
            "linecolor": "white",
            "ticks": ""
           }
          },
          "scene": {
           "xaxis": {
            "backgroundcolor": "#E5ECF6",
            "gridcolor": "white",
            "gridwidth": 2,
            "linecolor": "white",
            "showbackground": true,
            "ticks": "",
            "zerolinecolor": "white"
           },
           "yaxis": {
            "backgroundcolor": "#E5ECF6",
            "gridcolor": "white",
            "gridwidth": 2,
            "linecolor": "white",
            "showbackground": true,
            "ticks": "",
            "zerolinecolor": "white"
           },
           "zaxis": {
            "backgroundcolor": "#E5ECF6",
            "gridcolor": "white",
            "gridwidth": 2,
            "linecolor": "white",
            "showbackground": true,
            "ticks": "",
            "zerolinecolor": "white"
           }
          },
          "shapedefaults": {
           "line": {
            "color": "#2a3f5f"
           }
          },
          "ternary": {
           "aaxis": {
            "gridcolor": "white",
            "linecolor": "white",
            "ticks": ""
           },
           "baxis": {
            "gridcolor": "white",
            "linecolor": "white",
            "ticks": ""
           },
           "bgcolor": "#E5ECF6",
           "caxis": {
            "gridcolor": "white",
            "linecolor": "white",
            "ticks": ""
           }
          },
          "title": {
           "x": 0.05
          },
          "xaxis": {
           "automargin": true,
           "gridcolor": "white",
           "linecolor": "white",
           "ticks": "",
           "title": {
            "standoff": 15
           },
           "zerolinecolor": "white",
           "zerolinewidth": 2
          },
          "yaxis": {
           "automargin": true,
           "gridcolor": "white",
           "linecolor": "white",
           "ticks": "",
           "title": {
            "standoff": 15
           },
           "zerolinecolor": "white",
           "zerolinewidth": 2
          }
         }
        },
        "title": {
         "text": "Cost Function"
        },
        "width": 500
       }
      },
      "text/html": [
       "<div>                            <div id=\"360b9eda-295f-4439-a307-cd263cc618f8\" class=\"plotly-graph-div\" style=\"height:500px; width:500px;\"></div>            <script type=\"text/javascript\">                require([\"plotly\"], function(Plotly) {                    window.PLOTLYENV=window.PLOTLYENV || {};                                    if (document.getElementById(\"360b9eda-295f-4439-a307-cd263cc618f8\")) {                    Plotly.newPlot(                        \"360b9eda-295f-4439-a307-cd263cc618f8\",                        [{\"x\":[-150.0,-116.66666666666666,-83.33333333333333,-50.0,-16.666666666666657,16.666666666666686,50.0,83.33333333333334,116.66666666666669,150.0],\"y\":[-150.0,-116.66666666666666,-83.33333333333333,-50.0,-16.666666666666657,16.666666666666686,50.0,83.33333333333334,116.66666666666669,150.0],\"z\":[[5406237.474103857,4318484.15086335,3458161.176159412,2825268.5499920417,2419806.2723612357,2241774.3432669984,2291172.7627093275,2568001.5306882234,3072260.647203686,3803950.112255716],[4514047.486287468,3431525.3576137824,2576433.577476664,1948772.1458761129,1548541.0628121283,1375740.3282847104,1430369.9422938596,1712429.904839576,2221920.2159218593,2958840.875540708],[3844079.7206933033,2766788.7865864374,1916928.2010161392,1294497.963982408,899498.075485243,731928.5355246454,791789.3441006143,1079080.5012131508,1593802.0068622536,2335953.8610479226],[3396334.1773213595,2324274.437781314,1479645.046777836,862446.0043109246,472677.31038057996,310338.9649868022,375430.9681295913,667953.3198089475,1187906.0200248708,1935289.0687773598],[3170810.8561716382,2103982.3111984134,1264584.114761755,652616.2668616635,268078.76749813894,110971.61667118127,181294.81438079049,479048.3606269665,1004232.2554097096,1756846.498729019],[3167509.75724414,2105912.4068377344,1271745.4049678964,665008.751634625,285702.44683792035,133826.4905777827,209380.8828542119,512365.62366720807,1042780.7130167715,1800626.1509029008],[3386430.880538863,2330064.724699278,1501128.9173962597,899623.4586298084,525548.3483999236,378903.5867066062,459689.1735498553,767905.1089296716,1303551.392846055,2066628.0252990043],[3827574.2260558084,2776439.264783044,1952734.6520468455,1356460.3878472145,987616.4721841498,846202.9050576519,932219.6864677211,1245666.8164143579,1786544.2948975612,2554852.1219173307],[4490939.7937949775,3445036.0270890323,2626562.608919654,2035519.5392868428,1671906.8181905977,1535724.4456309204,1626972.4216078096,1945650.746121266,2491759.419171289,3265298.440757878],[5376527.583756366,4335855.011617241,3522612.7880146834,2936800.9129486918,2578419.386419268,2447468.20842641,2543947.378970119,2867856.898050396,3419196.765667239,4197966.981820648]],\"type\":\"surface\"}],                        {\"template\":{\"data\":{\"histogram2dcontour\":[{\"type\":\"histogram2dcontour\",\"colorbar\":{\"outlinewidth\":0,\"ticks\":\"\"},\"colorscale\":[[0.0,\"#0d0887\"],[0.1111111111111111,\"#46039f\"],[0.2222222222222222,\"#7201a8\"],[0.3333333333333333,\"#9c179e\"],[0.4444444444444444,\"#bd3786\"],[0.5555555555555556,\"#d8576b\"],[0.6666666666666666,\"#ed7953\"],[0.7777777777777778,\"#fb9f3a\"],[0.8888888888888888,\"#fdca26\"],[1.0,\"#f0f921\"]]}],\"choropleth\":[{\"type\":\"choropleth\",\"colorbar\":{\"outlinewidth\":0,\"ticks\":\"\"}}],\"histogram2d\":[{\"type\":\"histogram2d\",\"colorbar\":{\"outlinewidth\":0,\"ticks\":\"\"},\"colorscale\":[[0.0,\"#0d0887\"],[0.1111111111111111,\"#46039f\"],[0.2222222222222222,\"#7201a8\"],[0.3333333333333333,\"#9c179e\"],[0.4444444444444444,\"#bd3786\"],[0.5555555555555556,\"#d8576b\"],[0.6666666666666666,\"#ed7953\"],[0.7777777777777778,\"#fb9f3a\"],[0.8888888888888888,\"#fdca26\"],[1.0,\"#f0f921\"]]}],\"heatmap\":[{\"type\":\"heatmap\",\"colorbar\":{\"outlinewidth\":0,\"ticks\":\"\"},\"colorscale\":[[0.0,\"#0d0887\"],[0.1111111111111111,\"#46039f\"],[0.2222222222222222,\"#7201a8\"],[0.3333333333333333,\"#9c179e\"],[0.4444444444444444,\"#bd3786\"],[0.5555555555555556,\"#d8576b\"],[0.6666666666666666,\"#ed7953\"],[0.7777777777777778,\"#fb9f3a\"],[0.8888888888888888,\"#fdca26\"],[1.0,\"#f0f921\"]]}],\"heatmapgl\":[{\"type\":\"heatmapgl\",\"colorbar\":{\"outlinewidth\":0,\"ticks\":\"\"},\"colorscale\":[[0.0,\"#0d0887\"],[0.1111111111111111,\"#46039f\"],[0.2222222222222222,\"#7201a8\"],[0.3333333333333333,\"#9c179e\"],[0.4444444444444444,\"#bd3786\"],[0.5555555555555556,\"#d8576b\"],[0.6666666666666666,\"#ed7953\"],[0.7777777777777778,\"#fb9f3a\"],[0.8888888888888888,\"#fdca26\"],[1.0,\"#f0f921\"]]}],\"contourcarpet\":[{\"type\":\"contourcarpet\",\"colorbar\":{\"outlinewidth\":0,\"ticks\":\"\"}}],\"contour\":[{\"type\":\"contour\",\"colorbar\":{\"outlinewidth\":0,\"ticks\":\"\"},\"colorscale\":[[0.0,\"#0d0887\"],[0.1111111111111111,\"#46039f\"],[0.2222222222222222,\"#7201a8\"],[0.3333333333333333,\"#9c179e\"],[0.4444444444444444,\"#bd3786\"],[0.5555555555555556,\"#d8576b\"],[0.6666666666666666,\"#ed7953\"],[0.7777777777777778,\"#fb9f3a\"],[0.8888888888888888,\"#fdca26\"],[1.0,\"#f0f921\"]]}],\"surface\":[{\"type\":\"surface\",\"colorbar\":{\"outlinewidth\":0,\"ticks\":\"\"},\"colorscale\":[[0.0,\"#0d0887\"],[0.1111111111111111,\"#46039f\"],[0.2222222222222222,\"#7201a8\"],[0.3333333333333333,\"#9c179e\"],[0.4444444444444444,\"#bd3786\"],[0.5555555555555556,\"#d8576b\"],[0.6666666666666666,\"#ed7953\"],[0.7777777777777778,\"#fb9f3a\"],[0.8888888888888888,\"#fdca26\"],[1.0,\"#f0f921\"]]}],\"mesh3d\":[{\"type\":\"mesh3d\",\"colorbar\":{\"outlinewidth\":0,\"ticks\":\"\"}}],\"scatter\":[{\"fillpattern\":{\"fillmode\":\"overlay\",\"size\":10,\"solidity\":0.2},\"type\":\"scatter\"}],\"parcoords\":[{\"type\":\"parcoords\",\"line\":{\"colorbar\":{\"outlinewidth\":0,\"ticks\":\"\"}}}],\"scatterpolargl\":[{\"type\":\"scatterpolargl\",\"marker\":{\"colorbar\":{\"outlinewidth\":0,\"ticks\":\"\"}}}],\"bar\":[{\"error_x\":{\"color\":\"#2a3f5f\"},\"error_y\":{\"color\":\"#2a3f5f\"},\"marker\":{\"line\":{\"color\":\"#E5ECF6\",\"width\":0.5},\"pattern\":{\"fillmode\":\"overlay\",\"size\":10,\"solidity\":0.2}},\"type\":\"bar\"}],\"scattergeo\":[{\"type\":\"scattergeo\",\"marker\":{\"colorbar\":{\"outlinewidth\":0,\"ticks\":\"\"}}}],\"scatterpolar\":[{\"type\":\"scatterpolar\",\"marker\":{\"colorbar\":{\"outlinewidth\":0,\"ticks\":\"\"}}}],\"histogram\":[{\"marker\":{\"pattern\":{\"fillmode\":\"overlay\",\"size\":10,\"solidity\":0.2}},\"type\":\"histogram\"}],\"scattergl\":[{\"type\":\"scattergl\",\"marker\":{\"colorbar\":{\"outlinewidth\":0,\"ticks\":\"\"}}}],\"scatter3d\":[{\"type\":\"scatter3d\",\"line\":{\"colorbar\":{\"outlinewidth\":0,\"ticks\":\"\"}},\"marker\":{\"colorbar\":{\"outlinewidth\":0,\"ticks\":\"\"}}}],\"scattermapbox\":[{\"type\":\"scattermapbox\",\"marker\":{\"colorbar\":{\"outlinewidth\":0,\"ticks\":\"\"}}}],\"scatterternary\":[{\"type\":\"scatterternary\",\"marker\":{\"colorbar\":{\"outlinewidth\":0,\"ticks\":\"\"}}}],\"scattercarpet\":[{\"type\":\"scattercarpet\",\"marker\":{\"colorbar\":{\"outlinewidth\":0,\"ticks\":\"\"}}}],\"carpet\":[{\"aaxis\":{\"endlinecolor\":\"#2a3f5f\",\"gridcolor\":\"white\",\"linecolor\":\"white\",\"minorgridcolor\":\"white\",\"startlinecolor\":\"#2a3f5f\"},\"baxis\":{\"endlinecolor\":\"#2a3f5f\",\"gridcolor\":\"white\",\"linecolor\":\"white\",\"minorgridcolor\":\"white\",\"startlinecolor\":\"#2a3f5f\"},\"type\":\"carpet\"}],\"table\":[{\"cells\":{\"fill\":{\"color\":\"#EBF0F8\"},\"line\":{\"color\":\"white\"}},\"header\":{\"fill\":{\"color\":\"#C8D4E3\"},\"line\":{\"color\":\"white\"}},\"type\":\"table\"}],\"barpolar\":[{\"marker\":{\"line\":{\"color\":\"#E5ECF6\",\"width\":0.5},\"pattern\":{\"fillmode\":\"overlay\",\"size\":10,\"solidity\":0.2}},\"type\":\"barpolar\"}],\"pie\":[{\"automargin\":true,\"type\":\"pie\"}]},\"layout\":{\"autotypenumbers\":\"strict\",\"colorway\":[\"#636efa\",\"#EF553B\",\"#00cc96\",\"#ab63fa\",\"#FFA15A\",\"#19d3f3\",\"#FF6692\",\"#B6E880\",\"#FF97FF\",\"#FECB52\"],\"font\":{\"color\":\"#2a3f5f\"},\"hovermode\":\"closest\",\"hoverlabel\":{\"align\":\"left\"},\"paper_bgcolor\":\"white\",\"plot_bgcolor\":\"#E5ECF6\",\"polar\":{\"bgcolor\":\"#E5ECF6\",\"angularaxis\":{\"gridcolor\":\"white\",\"linecolor\":\"white\",\"ticks\":\"\"},\"radialaxis\":{\"gridcolor\":\"white\",\"linecolor\":\"white\",\"ticks\":\"\"}},\"ternary\":{\"bgcolor\":\"#E5ECF6\",\"aaxis\":{\"gridcolor\":\"white\",\"linecolor\":\"white\",\"ticks\":\"\"},\"baxis\":{\"gridcolor\":\"white\",\"linecolor\":\"white\",\"ticks\":\"\"},\"caxis\":{\"gridcolor\":\"white\",\"linecolor\":\"white\",\"ticks\":\"\"}},\"coloraxis\":{\"colorbar\":{\"outlinewidth\":0,\"ticks\":\"\"}},\"colorscale\":{\"sequential\":[[0.0,\"#0d0887\"],[0.1111111111111111,\"#46039f\"],[0.2222222222222222,\"#7201a8\"],[0.3333333333333333,\"#9c179e\"],[0.4444444444444444,\"#bd3786\"],[0.5555555555555556,\"#d8576b\"],[0.6666666666666666,\"#ed7953\"],[0.7777777777777778,\"#fb9f3a\"],[0.8888888888888888,\"#fdca26\"],[1.0,\"#f0f921\"]],\"sequentialminus\":[[0.0,\"#0d0887\"],[0.1111111111111111,\"#46039f\"],[0.2222222222222222,\"#7201a8\"],[0.3333333333333333,\"#9c179e\"],[0.4444444444444444,\"#bd3786\"],[0.5555555555555556,\"#d8576b\"],[0.6666666666666666,\"#ed7953\"],[0.7777777777777778,\"#fb9f3a\"],[0.8888888888888888,\"#fdca26\"],[1.0,\"#f0f921\"]],\"diverging\":[[0,\"#8e0152\"],[0.1,\"#c51b7d\"],[0.2,\"#de77ae\"],[0.3,\"#f1b6da\"],[0.4,\"#fde0ef\"],[0.5,\"#f7f7f7\"],[0.6,\"#e6f5d0\"],[0.7,\"#b8e186\"],[0.8,\"#7fbc41\"],[0.9,\"#4d9221\"],[1,\"#276419\"]]},\"xaxis\":{\"gridcolor\":\"white\",\"linecolor\":\"white\",\"ticks\":\"\",\"title\":{\"standoff\":15},\"zerolinecolor\":\"white\",\"automargin\":true,\"zerolinewidth\":2},\"yaxis\":{\"gridcolor\":\"white\",\"linecolor\":\"white\",\"ticks\":\"\",\"title\":{\"standoff\":15},\"zerolinecolor\":\"white\",\"automargin\":true,\"zerolinewidth\":2},\"scene\":{\"xaxis\":{\"backgroundcolor\":\"#E5ECF6\",\"gridcolor\":\"white\",\"linecolor\":\"white\",\"showbackground\":true,\"ticks\":\"\",\"zerolinecolor\":\"white\",\"gridwidth\":2},\"yaxis\":{\"backgroundcolor\":\"#E5ECF6\",\"gridcolor\":\"white\",\"linecolor\":\"white\",\"showbackground\":true,\"ticks\":\"\",\"zerolinecolor\":\"white\",\"gridwidth\":2},\"zaxis\":{\"backgroundcolor\":\"#E5ECF6\",\"gridcolor\":\"white\",\"linecolor\":\"white\",\"showbackground\":true,\"ticks\":\"\",\"zerolinecolor\":\"white\",\"gridwidth\":2}},\"shapedefaults\":{\"line\":{\"color\":\"#2a3f5f\"}},\"annotationdefaults\":{\"arrowcolor\":\"#2a3f5f\",\"arrowhead\":0,\"arrowwidth\":1},\"geo\":{\"bgcolor\":\"white\",\"landcolor\":\"#E5ECF6\",\"subunitcolor\":\"white\",\"showland\":true,\"showlakes\":true,\"lakecolor\":\"white\"},\"title\":{\"x\":0.05},\"mapbox\":{\"style\":\"light\"}}},\"margin\":{\"l\":65,\"r\":50,\"b\":65,\"t\":90},\"title\":{\"text\":\"Cost Function\"},\"autosize\":false,\"width\":500,\"height\":500},                        {\"responsive\": true}                    ).then(function(){\n",
       "                            \n",
       "var gd = document.getElementById('360b9eda-295f-4439-a307-cd263cc618f8');\n",
       "var x = new MutationObserver(function (mutations, observer) {{\n",
       "        var display = window.getComputedStyle(gd).display;\n",
       "        if (!display || display === 'none') {{\n",
       "            console.log([gd, 'removed!']);\n",
       "            Plotly.purge(gd);\n",
       "            observer.disconnect();\n",
       "        }}\n",
       "}});\n",
       "\n",
       "// Listen for the removal of the full notebook cells\n",
       "var notebookContainer = gd.closest('#notebook-container');\n",
       "if (notebookContainer) {{\n",
       "    x.observe(notebookContainer, {childList: true});\n",
       "}}\n",
       "\n",
       "// Listen for the clearing of the current output cell\n",
       "var outputEl = gd.closest('.output');\n",
       "if (outputEl) {{\n",
       "    x.observe(outputEl, {childList: true});\n",
       "}}\n",
       "\n",
       "                        })                };                });            </script>        </div>"
      ]
     },
     "metadata": {},
     "output_type": "display_data"
    }
   ],
   "source": [
    "import plotly.graph_objects as go\n",
    "\n",
    "fig = go.Figure(data=[go.Surface(x = m_arr, y = b_arr, z =z_arr)])\n",
    "\n",
    "fig.update_layout(title='Cost Function', autosize=False,\n",
    "                  width=500, height=500,\n",
    "                  margin=dict(l=65, r=50, b=65, t=90)) # left-right-bottom-top\n",
    "fig.show()\n",
    "\n",
    "fig.write_html(\"cost_function.html\")"
   ]
  },
  {
   "cell_type": "code",
   "execution_count": 16,
   "id": "db0b7799",
   "metadata": {},
   "outputs": [],
   "source": [
    "\n",
    "b = 150\n",
    "m = -127.82\n",
    "lr = 0.001\n",
    "all_b = []\n",
    "all_m = []\n",
    "all_cost = []\n",
    "\n",
    "epochs = 30\n",
    "\n",
    "for i in range(epochs):\n",
    "    slope_b = 0\n",
    "    slope_m = 0\n",
    "    cost = 0\n",
    "    for j in range(X.shape[0]):\n",
    "        slope_b = slope_b - 2*(y[j] - (m * X[j]) -  b)\n",
    "        slope_m = slope_m - 2*(y[j] - (m * X[j]) -  b)*X[j]\n",
    "        cost = cost + (y[j] - m * X[j] -b) ** 2\n",
    "\n",
    "    b = b - (lr * slope_b)\n",
    "    m = m - (lr * slope_m)\n",
    "    all_b.append(b)\n",
    "    all_m.append(m)\n",
    "    all_cost.append(cost)"
   ]
  },
  {
   "cell_type": "code",
   "execution_count": 27,
   "id": "62152115",
   "metadata": {
    "scrolled": false
   },
   "outputs": [
    {
     "data": {
      "application/vnd.plotly.v1+json": {
       "config": {
        "plotlyServerURL": "https://plot.ly"
       },
       "data": [
        {
         "hovertemplate": "x=%{x}<br>y=%{y}<br>z=%{z}<extra></extra>",
         "legendgroup": "",
         "marker": {
          "color": "#636efa",
          "symbol": "circle"
         },
         "mode": "markers",
         "name": "",
         "scene": "scene",
         "showlegend": false,
         "type": "scatter3d",
         "x": [
          -97.7283322252647,
          -73.65477945168314,
          -54.39509640317091,
          -38.98614762819735,
          -26.657605465433633,
          -16.793330149903447,
          -8.900490112275474,
          -2.5848702577456724,
          2.468872520209521,
          6.512998405301974,
          9.74931116021747,
          12.339255899820154,
          14.411994863084704,
          16.07086630863201,
          17.398550440628625,
          18.46120134583112,
          19.311752018556252,
          19.992558054972488,
          20.53751242277125,
          20.973737187765078,
          21.32293687114886,
          21.602481153706282,
          21.826271083805267,
          22.005432103288456,
          22.148868534702455,
          22.26370723934448,
          22.355652610281055,
          22.429270629550107,
          22.48821617172682,
          22.535414899045094
         ],
         "y": [
          119.9946078618821,
          95.84862031931502,
          76.41849019063545,
          60.78371005330195,
          48.2033394552343,
          38.08099927427939,
          29.936685380422862,
          23.384074181608185,
          18.112250809914233,
          13.870998711973144,
          10.458956985198409,
          7.714086800248577,
          5.505996997923555,
          3.72976654534078,
          2.3009720919108587,
          1.1516856925509433,
          0.22725353278546168,
          -0.5162966514790917,
          -1.1143420848456174,
          -1.5953441176340326,
          -1.982199522823258,
          -2.2933279053124456,
          -2.543546726782686,
          -2.7447754037586765,
          -2.9066018488760053,
          -3.036738314462495,
          -3.1413881561786923,
          -3.2255409152640495,
          -3.2932097216965133,
          -3.34762228688246
         ],
         "z": [
          465874618.4904807,
          303136858.29926676,
          198368191.60643736,
          130917060.10318704,
          87489897.33840665,
          59529217.2797809,
          41526099.221468516,
          29934025.604515277,
          22469750.866443403,
          17663273.784034774,
          14568145.841578828,
          12574984.251888232,
          11291417.985638613,
          10464798.424932271,
          9932439.69455859,
          9589581.818458349,
          9368763.722222213,
          9226542.07222798,
          9134939.634673595,
          9075938.771497197,
          9037935.632134607,
          9013456.832392916,
          8997689.069945594,
          8987532.218652735,
          8980989.519149048,
          8976774.84995985,
          8974059.796180813,
          8972310.748700043,
          8971183.985177651,
          8970458.093566682
         ]
        },
        {
         "type": "surface",
         "x": [
          -150,
          -116.66666666666666,
          -83.33333333333333,
          -50,
          -16.666666666666657,
          16.666666666666686,
          50,
          83.33333333333334,
          116.66666666666669,
          150
         ],
         "y": [
          -150,
          -116.66666666666666,
          -83.33333333333333,
          -50,
          -16.666666666666657,
          16.666666666666686,
          50,
          83.33333333333334,
          116.66666666666669,
          150
         ],
         "z": [
          [
           540623747.4103857,
           431848415.08633506,
           345816117.6159412,
           282526854.99920416,
           241980627.23612356,
           224177434.32669985,
           229117276.27093276,
           256800153.06882235,
           307226064.7203686,
           380395011.22557163
          ],
          [
           451404748.6287468,
           343152535.7613782,
           257643357.7476664,
           194877214.5876113,
           154854106.28121284,
           137574032.82847103,
           143036994.22938594,
           171242990.4839576,
           222192021.5921859,
           295884087.55407083
          ],
          [
           384407972.06933033,
           276678878.6586437,
           191692820.10161394,
           129449796.39824079,
           89949807.5485243,
           73192853.55246453,
           79178934.41006143,
           107908050.12131508,
           159380200.68622535,
           233595386.10479227
          ],
          [
           339633417.73213595,
           232427443.7781314,
           147964504.6777836,
           86244600.43109246,
           47267731.038058,
           31033896.49868022,
           37543096.812959135,
           66795331.98089475,
           118790602.00248708,
           193528906.87773597
          ],
          [
           317081085.61716384,
           210398231.11984134,
           126458411.47617552,
           65261626.68616635,
           26807876.749813896,
           11097161.667118127,
           18129481.438079048,
           47904836.06269665,
           100423225.54097097,
           175684649.8729019
          ],
          [
           316750975.724414,
           210591240.68377343,
           127174540.49678963,
           66500875.163462505,
           28570244.683792036,
           13382649.05777827,
           20938088.28542119,
           51236562.36672081,
           104278071.30167715,
           180062615.09029007
          ],
          [
           338643088.0538863,
           233006472.4699278,
           150112891.73962596,
           89962345.86298084,
           52554834.83999237,
           37890358.67066062,
           45968917.35498553,
           76790510.89296716,
           130355139.2846055,
           206662802.52990043
          ],
          [
           382757422.6055808,
           277643926.4783044,
           195273465.20468456,
           135646038.78472143,
           98761647.21841498,
           84620290.5057652,
           93221968.64677212,
           124566681.64143579,
           178654429.4897561,
           255485212.19173306
          ],
          [
           449093979.37949777,
           344503602.70890325,
           262656260.8919654,
           203551953.9286843,
           167190681.81905976,
           153572444.56309202,
           162697242.16078097,
           194565074.6121266,
           249175941.91712892,
           326529844.0757878
          ],
          [
           537652758.3756366,
           433585501.16172415,
           352261278.8014683,
           293680091.2948692,
           257841938.6419268,
           244746820.842641,
           254394737.8970119,
           286785689.8050396,
           341919676.56672394,
           419796698.1820648
          ]
         ]
        }
       ],
       "layout": {
        "legend": {
         "tracegroupgap": 0
        },
        "margin": {
         "t": 60
        },
        "scene": {
         "domain": {
          "x": [
           0,
           1
          ],
          "y": [
           0,
           1
          ]
         },
         "xaxis": {
          "title": {
           "text": "x"
          }
         },
         "yaxis": {
          "title": {
           "text": "y"
          }
         },
         "zaxis": {
          "title": {
           "text": "z"
          }
         }
        },
        "template": {
         "data": {
          "bar": [
           {
            "error_x": {
             "color": "#2a3f5f"
            },
            "error_y": {
             "color": "#2a3f5f"
            },
            "marker": {
             "line": {
              "color": "#E5ECF6",
              "width": 0.5
             },
             "pattern": {
              "fillmode": "overlay",
              "size": 10,
              "solidity": 0.2
             }
            },
            "type": "bar"
           }
          ],
          "barpolar": [
           {
            "marker": {
             "line": {
              "color": "#E5ECF6",
              "width": 0.5
             },
             "pattern": {
              "fillmode": "overlay",
              "size": 10,
              "solidity": 0.2
             }
            },
            "type": "barpolar"
           }
          ],
          "carpet": [
           {
            "aaxis": {
             "endlinecolor": "#2a3f5f",
             "gridcolor": "white",
             "linecolor": "white",
             "minorgridcolor": "white",
             "startlinecolor": "#2a3f5f"
            },
            "baxis": {
             "endlinecolor": "#2a3f5f",
             "gridcolor": "white",
             "linecolor": "white",
             "minorgridcolor": "white",
             "startlinecolor": "#2a3f5f"
            },
            "type": "carpet"
           }
          ],
          "choropleth": [
           {
            "colorbar": {
             "outlinewidth": 0,
             "ticks": ""
            },
            "type": "choropleth"
           }
          ],
          "contour": [
           {
            "colorbar": {
             "outlinewidth": 0,
             "ticks": ""
            },
            "colorscale": [
             [
              0,
              "#0d0887"
             ],
             [
              0.1111111111111111,
              "#46039f"
             ],
             [
              0.2222222222222222,
              "#7201a8"
             ],
             [
              0.3333333333333333,
              "#9c179e"
             ],
             [
              0.4444444444444444,
              "#bd3786"
             ],
             [
              0.5555555555555556,
              "#d8576b"
             ],
             [
              0.6666666666666666,
              "#ed7953"
             ],
             [
              0.7777777777777778,
              "#fb9f3a"
             ],
             [
              0.8888888888888888,
              "#fdca26"
             ],
             [
              1,
              "#f0f921"
             ]
            ],
            "type": "contour"
           }
          ],
          "contourcarpet": [
           {
            "colorbar": {
             "outlinewidth": 0,
             "ticks": ""
            },
            "type": "contourcarpet"
           }
          ],
          "heatmap": [
           {
            "colorbar": {
             "outlinewidth": 0,
             "ticks": ""
            },
            "colorscale": [
             [
              0,
              "#0d0887"
             ],
             [
              0.1111111111111111,
              "#46039f"
             ],
             [
              0.2222222222222222,
              "#7201a8"
             ],
             [
              0.3333333333333333,
              "#9c179e"
             ],
             [
              0.4444444444444444,
              "#bd3786"
             ],
             [
              0.5555555555555556,
              "#d8576b"
             ],
             [
              0.6666666666666666,
              "#ed7953"
             ],
             [
              0.7777777777777778,
              "#fb9f3a"
             ],
             [
              0.8888888888888888,
              "#fdca26"
             ],
             [
              1,
              "#f0f921"
             ]
            ],
            "type": "heatmap"
           }
          ],
          "heatmapgl": [
           {
            "colorbar": {
             "outlinewidth": 0,
             "ticks": ""
            },
            "colorscale": [
             [
              0,
              "#0d0887"
             ],
             [
              0.1111111111111111,
              "#46039f"
             ],
             [
              0.2222222222222222,
              "#7201a8"
             ],
             [
              0.3333333333333333,
              "#9c179e"
             ],
             [
              0.4444444444444444,
              "#bd3786"
             ],
             [
              0.5555555555555556,
              "#d8576b"
             ],
             [
              0.6666666666666666,
              "#ed7953"
             ],
             [
              0.7777777777777778,
              "#fb9f3a"
             ],
             [
              0.8888888888888888,
              "#fdca26"
             ],
             [
              1,
              "#f0f921"
             ]
            ],
            "type": "heatmapgl"
           }
          ],
          "histogram": [
           {
            "marker": {
             "pattern": {
              "fillmode": "overlay",
              "size": 10,
              "solidity": 0.2
             }
            },
            "type": "histogram"
           }
          ],
          "histogram2d": [
           {
            "colorbar": {
             "outlinewidth": 0,
             "ticks": ""
            },
            "colorscale": [
             [
              0,
              "#0d0887"
             ],
             [
              0.1111111111111111,
              "#46039f"
             ],
             [
              0.2222222222222222,
              "#7201a8"
             ],
             [
              0.3333333333333333,
              "#9c179e"
             ],
             [
              0.4444444444444444,
              "#bd3786"
             ],
             [
              0.5555555555555556,
              "#d8576b"
             ],
             [
              0.6666666666666666,
              "#ed7953"
             ],
             [
              0.7777777777777778,
              "#fb9f3a"
             ],
             [
              0.8888888888888888,
              "#fdca26"
             ],
             [
              1,
              "#f0f921"
             ]
            ],
            "type": "histogram2d"
           }
          ],
          "histogram2dcontour": [
           {
            "colorbar": {
             "outlinewidth": 0,
             "ticks": ""
            },
            "colorscale": [
             [
              0,
              "#0d0887"
             ],
             [
              0.1111111111111111,
              "#46039f"
             ],
             [
              0.2222222222222222,
              "#7201a8"
             ],
             [
              0.3333333333333333,
              "#9c179e"
             ],
             [
              0.4444444444444444,
              "#bd3786"
             ],
             [
              0.5555555555555556,
              "#d8576b"
             ],
             [
              0.6666666666666666,
              "#ed7953"
             ],
             [
              0.7777777777777778,
              "#fb9f3a"
             ],
             [
              0.8888888888888888,
              "#fdca26"
             ],
             [
              1,
              "#f0f921"
             ]
            ],
            "type": "histogram2dcontour"
           }
          ],
          "mesh3d": [
           {
            "colorbar": {
             "outlinewidth": 0,
             "ticks": ""
            },
            "type": "mesh3d"
           }
          ],
          "parcoords": [
           {
            "line": {
             "colorbar": {
              "outlinewidth": 0,
              "ticks": ""
             }
            },
            "type": "parcoords"
           }
          ],
          "pie": [
           {
            "automargin": true,
            "type": "pie"
           }
          ],
          "scatter": [
           {
            "fillpattern": {
             "fillmode": "overlay",
             "size": 10,
             "solidity": 0.2
            },
            "type": "scatter"
           }
          ],
          "scatter3d": [
           {
            "line": {
             "colorbar": {
              "outlinewidth": 0,
              "ticks": ""
             }
            },
            "marker": {
             "colorbar": {
              "outlinewidth": 0,
              "ticks": ""
             }
            },
            "type": "scatter3d"
           }
          ],
          "scattercarpet": [
           {
            "marker": {
             "colorbar": {
              "outlinewidth": 0,
              "ticks": ""
             }
            },
            "type": "scattercarpet"
           }
          ],
          "scattergeo": [
           {
            "marker": {
             "colorbar": {
              "outlinewidth": 0,
              "ticks": ""
             }
            },
            "type": "scattergeo"
           }
          ],
          "scattergl": [
           {
            "marker": {
             "colorbar": {
              "outlinewidth": 0,
              "ticks": ""
             }
            },
            "type": "scattergl"
           }
          ],
          "scattermapbox": [
           {
            "marker": {
             "colorbar": {
              "outlinewidth": 0,
              "ticks": ""
             }
            },
            "type": "scattermapbox"
           }
          ],
          "scatterpolar": [
           {
            "marker": {
             "colorbar": {
              "outlinewidth": 0,
              "ticks": ""
             }
            },
            "type": "scatterpolar"
           }
          ],
          "scatterpolargl": [
           {
            "marker": {
             "colorbar": {
              "outlinewidth": 0,
              "ticks": ""
             }
            },
            "type": "scatterpolargl"
           }
          ],
          "scatterternary": [
           {
            "marker": {
             "colorbar": {
              "outlinewidth": 0,
              "ticks": ""
             }
            },
            "type": "scatterternary"
           }
          ],
          "surface": [
           {
            "colorbar": {
             "outlinewidth": 0,
             "ticks": ""
            },
            "colorscale": [
             [
              0,
              "#0d0887"
             ],
             [
              0.1111111111111111,
              "#46039f"
             ],
             [
              0.2222222222222222,
              "#7201a8"
             ],
             [
              0.3333333333333333,
              "#9c179e"
             ],
             [
              0.4444444444444444,
              "#bd3786"
             ],
             [
              0.5555555555555556,
              "#d8576b"
             ],
             [
              0.6666666666666666,
              "#ed7953"
             ],
             [
              0.7777777777777778,
              "#fb9f3a"
             ],
             [
              0.8888888888888888,
              "#fdca26"
             ],
             [
              1,
              "#f0f921"
             ]
            ],
            "type": "surface"
           }
          ],
          "table": [
           {
            "cells": {
             "fill": {
              "color": "#EBF0F8"
             },
             "line": {
              "color": "white"
             }
            },
            "header": {
             "fill": {
              "color": "#C8D4E3"
             },
             "line": {
              "color": "white"
             }
            },
            "type": "table"
           }
          ]
         },
         "layout": {
          "annotationdefaults": {
           "arrowcolor": "#2a3f5f",
           "arrowhead": 0,
           "arrowwidth": 1
          },
          "autotypenumbers": "strict",
          "coloraxis": {
           "colorbar": {
            "outlinewidth": 0,
            "ticks": ""
           }
          },
          "colorscale": {
           "diverging": [
            [
             0,
             "#8e0152"
            ],
            [
             0.1,
             "#c51b7d"
            ],
            [
             0.2,
             "#de77ae"
            ],
            [
             0.3,
             "#f1b6da"
            ],
            [
             0.4,
             "#fde0ef"
            ],
            [
             0.5,
             "#f7f7f7"
            ],
            [
             0.6,
             "#e6f5d0"
            ],
            [
             0.7,
             "#b8e186"
            ],
            [
             0.8,
             "#7fbc41"
            ],
            [
             0.9,
             "#4d9221"
            ],
            [
             1,
             "#276419"
            ]
           ],
           "sequential": [
            [
             0,
             "#0d0887"
            ],
            [
             0.1111111111111111,
             "#46039f"
            ],
            [
             0.2222222222222222,
             "#7201a8"
            ],
            [
             0.3333333333333333,
             "#9c179e"
            ],
            [
             0.4444444444444444,
             "#bd3786"
            ],
            [
             0.5555555555555556,
             "#d8576b"
            ],
            [
             0.6666666666666666,
             "#ed7953"
            ],
            [
             0.7777777777777778,
             "#fb9f3a"
            ],
            [
             0.8888888888888888,
             "#fdca26"
            ],
            [
             1,
             "#f0f921"
            ]
           ],
           "sequentialminus": [
            [
             0,
             "#0d0887"
            ],
            [
             0.1111111111111111,
             "#46039f"
            ],
            [
             0.2222222222222222,
             "#7201a8"
            ],
            [
             0.3333333333333333,
             "#9c179e"
            ],
            [
             0.4444444444444444,
             "#bd3786"
            ],
            [
             0.5555555555555556,
             "#d8576b"
            ],
            [
             0.6666666666666666,
             "#ed7953"
            ],
            [
             0.7777777777777778,
             "#fb9f3a"
            ],
            [
             0.8888888888888888,
             "#fdca26"
            ],
            [
             1,
             "#f0f921"
            ]
           ]
          },
          "colorway": [
           "#636efa",
           "#EF553B",
           "#00cc96",
           "#ab63fa",
           "#FFA15A",
           "#19d3f3",
           "#FF6692",
           "#B6E880",
           "#FF97FF",
           "#FECB52"
          ],
          "font": {
           "color": "#2a3f5f"
          },
          "geo": {
           "bgcolor": "white",
           "lakecolor": "white",
           "landcolor": "#E5ECF6",
           "showlakes": true,
           "showland": true,
           "subunitcolor": "white"
          },
          "hoverlabel": {
           "align": "left"
          },
          "hovermode": "closest",
          "mapbox": {
           "style": "light"
          },
          "paper_bgcolor": "white",
          "plot_bgcolor": "#E5ECF6",
          "polar": {
           "angularaxis": {
            "gridcolor": "white",
            "linecolor": "white",
            "ticks": ""
           },
           "bgcolor": "#E5ECF6",
           "radialaxis": {
            "gridcolor": "white",
            "linecolor": "white",
            "ticks": ""
           }
          },
          "scene": {
           "xaxis": {
            "backgroundcolor": "#E5ECF6",
            "gridcolor": "white",
            "gridwidth": 2,
            "linecolor": "white",
            "showbackground": true,
            "ticks": "",
            "zerolinecolor": "white"
           },
           "yaxis": {
            "backgroundcolor": "#E5ECF6",
            "gridcolor": "white",
            "gridwidth": 2,
            "linecolor": "white",
            "showbackground": true,
            "ticks": "",
            "zerolinecolor": "white"
           },
           "zaxis": {
            "backgroundcolor": "#E5ECF6",
            "gridcolor": "white",
            "gridwidth": 2,
            "linecolor": "white",
            "showbackground": true,
            "ticks": "",
            "zerolinecolor": "white"
           }
          },
          "shapedefaults": {
           "line": {
            "color": "#2a3f5f"
           }
          },
          "ternary": {
           "aaxis": {
            "gridcolor": "white",
            "linecolor": "white",
            "ticks": ""
           },
           "baxis": {
            "gridcolor": "white",
            "linecolor": "white",
            "ticks": ""
           },
           "bgcolor": "#E5ECF6",
           "caxis": {
            "gridcolor": "white",
            "linecolor": "white",
            "ticks": ""
           }
          },
          "title": {
           "x": 0.05
          },
          "xaxis": {
           "automargin": true,
           "gridcolor": "white",
           "linecolor": "white",
           "ticks": "",
           "title": {
            "standoff": 15
           },
           "zerolinecolor": "white",
           "zerolinewidth": 2
          },
          "yaxis": {
           "automargin": true,
           "gridcolor": "white",
           "linecolor": "white",
           "ticks": "",
           "title": {
            "standoff": 15
           },
           "zerolinecolor": "white",
           "zerolinewidth": 2
          }
         }
        }
       }
      },
      "text/html": [
       "<div>                            <div id=\"ba043b54-b73d-4cb2-857b-90a4ec916854\" class=\"plotly-graph-div\" style=\"height:525px; width:100%;\"></div>            <script type=\"text/javascript\">                require([\"plotly\"], function(Plotly) {                    window.PLOTLYENV=window.PLOTLYENV || {};                                    if (document.getElementById(\"ba043b54-b73d-4cb2-857b-90a4ec916854\")) {                    Plotly.newPlot(                        \"ba043b54-b73d-4cb2-857b-90a4ec916854\",                        [{\"hovertemplate\":\"x=%{x}\\u003cbr\\u003ey=%{y}\\u003cbr\\u003ez=%{z}\\u003cextra\\u003e\\u003c\\u002fextra\\u003e\",\"legendgroup\":\"\",\"marker\":{\"color\":\"#636efa\",\"symbol\":\"circle\"},\"mode\":\"markers\",\"name\":\"\",\"scene\":\"scene\",\"showlegend\":false,\"x\":[-97.7283322252647,-73.65477945168314,-54.39509640317091,-38.98614762819735,-26.657605465433633,-16.793330149903447,-8.900490112275474,-2.5848702577456724,2.468872520209521,6.512998405301974,9.74931116021747,12.339255899820154,14.411994863084704,16.07086630863201,17.398550440628625,18.46120134583112,19.311752018556252,19.992558054972488,20.53751242277125,20.973737187765078,21.32293687114886,21.602481153706282,21.826271083805267,22.005432103288456,22.148868534702455,22.26370723934448,22.355652610281055,22.429270629550107,22.48821617172682,22.535414899045094],\"y\":[119.9946078618821,95.84862031931502,76.41849019063545,60.78371005330195,48.2033394552343,38.08099927427939,29.936685380422862,23.384074181608185,18.112250809914233,13.870998711973144,10.458956985198409,7.714086800248577,5.505996997923555,3.72976654534078,2.3009720919108587,1.1516856925509433,0.22725353278546168,-0.5162966514790917,-1.1143420848456174,-1.5953441176340326,-1.982199522823258,-2.2933279053124456,-2.543546726782686,-2.7447754037586765,-2.9066018488760053,-3.036738314462495,-3.1413881561786923,-3.2255409152640495,-3.2932097216965133,-3.34762228688246],\"z\":[465874618.4904807,303136858.29926676,198368191.60643736,130917060.10318704,87489897.33840665,59529217.2797809,41526099.221468516,29934025.604515277,22469750.866443403,17663273.784034774,14568145.841578828,12574984.251888232,11291417.985638613,10464798.424932271,9932439.69455859,9589581.818458349,9368763.722222213,9226542.07222798,9134939.634673595,9075938.771497197,9037935.632134607,9013456.832392916,8997689.069945594,8987532.218652735,8980989.519149048,8976774.84995985,8974059.796180813,8972310.748700043,8971183.985177651,8970458.093566682],\"type\":\"scatter3d\"},{\"x\":[-150.0,-116.66666666666666,-83.33333333333333,-50.0,-16.666666666666657,16.666666666666686,50.0,83.33333333333334,116.66666666666669,150.0],\"y\":[-150.0,-116.66666666666666,-83.33333333333333,-50.0,-16.666666666666657,16.666666666666686,50.0,83.33333333333334,116.66666666666669,150.0],\"z\":[[540623747.4103857,431848415.08633506,345816117.6159412,282526854.99920416,241980627.23612356,224177434.32669985,229117276.27093276,256800153.06882235,307226064.7203686,380395011.22557163],[451404748.6287468,343152535.7613782,257643357.7476664,194877214.5876113,154854106.28121284,137574032.82847103,143036994.22938594,171242990.4839576,222192021.5921859,295884087.55407083],[384407972.06933033,276678878.6586437,191692820.10161394,129449796.39824079,89949807.5485243,73192853.55246453,79178934.41006143,107908050.12131508,159380200.68622535,233595386.10479227],[339633417.73213595,232427443.7781314,147964504.6777836,86244600.43109246,47267731.038058,31033896.49868022,37543096.812959135,66795331.98089475,118790602.00248708,193528906.87773597],[317081085.61716384,210398231.11984134,126458411.47617552,65261626.68616635,26807876.749813896,11097161.667118127,18129481.438079048,47904836.06269665,100423225.54097097,175684649.8729019],[316750975.724414,210591240.68377343,127174540.49678963,66500875.163462505,28570244.683792036,13382649.05777827,20938088.28542119,51236562.36672081,104278071.30167715,180062615.09029007],[338643088.0538863,233006472.4699278,150112891.73962596,89962345.86298084,52554834.83999237,37890358.67066062,45968917.35498553,76790510.89296716,130355139.2846055,206662802.52990043],[382757422.6055808,277643926.4783044,195273465.20468456,135646038.78472143,98761647.21841498,84620290.5057652,93221968.64677212,124566681.64143579,178654429.4897561,255485212.19173306],[449093979.37949777,344503602.70890325,262656260.8919654,203551953.9286843,167190681.81905976,153572444.56309202,162697242.16078097,194565074.6121266,249175941.91712892,326529844.0757878],[537652758.3756366,433585501.16172415,352261278.8014683,293680091.2948692,257841938.6419268,244746820.842641,254394737.8970119,286785689.8050396,341919676.56672394,419796698.1820648]],\"type\":\"surface\"}],                        {\"template\":{\"data\":{\"histogram2dcontour\":[{\"type\":\"histogram2dcontour\",\"colorbar\":{\"outlinewidth\":0,\"ticks\":\"\"},\"colorscale\":[[0.0,\"#0d0887\"],[0.1111111111111111,\"#46039f\"],[0.2222222222222222,\"#7201a8\"],[0.3333333333333333,\"#9c179e\"],[0.4444444444444444,\"#bd3786\"],[0.5555555555555556,\"#d8576b\"],[0.6666666666666666,\"#ed7953\"],[0.7777777777777778,\"#fb9f3a\"],[0.8888888888888888,\"#fdca26\"],[1.0,\"#f0f921\"]]}],\"choropleth\":[{\"type\":\"choropleth\",\"colorbar\":{\"outlinewidth\":0,\"ticks\":\"\"}}],\"histogram2d\":[{\"type\":\"histogram2d\",\"colorbar\":{\"outlinewidth\":0,\"ticks\":\"\"},\"colorscale\":[[0.0,\"#0d0887\"],[0.1111111111111111,\"#46039f\"],[0.2222222222222222,\"#7201a8\"],[0.3333333333333333,\"#9c179e\"],[0.4444444444444444,\"#bd3786\"],[0.5555555555555556,\"#d8576b\"],[0.6666666666666666,\"#ed7953\"],[0.7777777777777778,\"#fb9f3a\"],[0.8888888888888888,\"#fdca26\"],[1.0,\"#f0f921\"]]}],\"heatmap\":[{\"type\":\"heatmap\",\"colorbar\":{\"outlinewidth\":0,\"ticks\":\"\"},\"colorscale\":[[0.0,\"#0d0887\"],[0.1111111111111111,\"#46039f\"],[0.2222222222222222,\"#7201a8\"],[0.3333333333333333,\"#9c179e\"],[0.4444444444444444,\"#bd3786\"],[0.5555555555555556,\"#d8576b\"],[0.6666666666666666,\"#ed7953\"],[0.7777777777777778,\"#fb9f3a\"],[0.8888888888888888,\"#fdca26\"],[1.0,\"#f0f921\"]]}],\"heatmapgl\":[{\"type\":\"heatmapgl\",\"colorbar\":{\"outlinewidth\":0,\"ticks\":\"\"},\"colorscale\":[[0.0,\"#0d0887\"],[0.1111111111111111,\"#46039f\"],[0.2222222222222222,\"#7201a8\"],[0.3333333333333333,\"#9c179e\"],[0.4444444444444444,\"#bd3786\"],[0.5555555555555556,\"#d8576b\"],[0.6666666666666666,\"#ed7953\"],[0.7777777777777778,\"#fb9f3a\"],[0.8888888888888888,\"#fdca26\"],[1.0,\"#f0f921\"]]}],\"contourcarpet\":[{\"type\":\"contourcarpet\",\"colorbar\":{\"outlinewidth\":0,\"ticks\":\"\"}}],\"contour\":[{\"type\":\"contour\",\"colorbar\":{\"outlinewidth\":0,\"ticks\":\"\"},\"colorscale\":[[0.0,\"#0d0887\"],[0.1111111111111111,\"#46039f\"],[0.2222222222222222,\"#7201a8\"],[0.3333333333333333,\"#9c179e\"],[0.4444444444444444,\"#bd3786\"],[0.5555555555555556,\"#d8576b\"],[0.6666666666666666,\"#ed7953\"],[0.7777777777777778,\"#fb9f3a\"],[0.8888888888888888,\"#fdca26\"],[1.0,\"#f0f921\"]]}],\"surface\":[{\"type\":\"surface\",\"colorbar\":{\"outlinewidth\":0,\"ticks\":\"\"},\"colorscale\":[[0.0,\"#0d0887\"],[0.1111111111111111,\"#46039f\"],[0.2222222222222222,\"#7201a8\"],[0.3333333333333333,\"#9c179e\"],[0.4444444444444444,\"#bd3786\"],[0.5555555555555556,\"#d8576b\"],[0.6666666666666666,\"#ed7953\"],[0.7777777777777778,\"#fb9f3a\"],[0.8888888888888888,\"#fdca26\"],[1.0,\"#f0f921\"]]}],\"mesh3d\":[{\"type\":\"mesh3d\",\"colorbar\":{\"outlinewidth\":0,\"ticks\":\"\"}}],\"scatter\":[{\"fillpattern\":{\"fillmode\":\"overlay\",\"size\":10,\"solidity\":0.2},\"type\":\"scatter\"}],\"parcoords\":[{\"type\":\"parcoords\",\"line\":{\"colorbar\":{\"outlinewidth\":0,\"ticks\":\"\"}}}],\"scatterpolargl\":[{\"type\":\"scatterpolargl\",\"marker\":{\"colorbar\":{\"outlinewidth\":0,\"ticks\":\"\"}}}],\"bar\":[{\"error_x\":{\"color\":\"#2a3f5f\"},\"error_y\":{\"color\":\"#2a3f5f\"},\"marker\":{\"line\":{\"color\":\"#E5ECF6\",\"width\":0.5},\"pattern\":{\"fillmode\":\"overlay\",\"size\":10,\"solidity\":0.2}},\"type\":\"bar\"}],\"scattergeo\":[{\"type\":\"scattergeo\",\"marker\":{\"colorbar\":{\"outlinewidth\":0,\"ticks\":\"\"}}}],\"scatterpolar\":[{\"type\":\"scatterpolar\",\"marker\":{\"colorbar\":{\"outlinewidth\":0,\"ticks\":\"\"}}}],\"histogram\":[{\"marker\":{\"pattern\":{\"fillmode\":\"overlay\",\"size\":10,\"solidity\":0.2}},\"type\":\"histogram\"}],\"scattergl\":[{\"type\":\"scattergl\",\"marker\":{\"colorbar\":{\"outlinewidth\":0,\"ticks\":\"\"}}}],\"scatter3d\":[{\"type\":\"scatter3d\",\"line\":{\"colorbar\":{\"outlinewidth\":0,\"ticks\":\"\"}},\"marker\":{\"colorbar\":{\"outlinewidth\":0,\"ticks\":\"\"}}}],\"scattermapbox\":[{\"type\":\"scattermapbox\",\"marker\":{\"colorbar\":{\"outlinewidth\":0,\"ticks\":\"\"}}}],\"scatterternary\":[{\"type\":\"scatterternary\",\"marker\":{\"colorbar\":{\"outlinewidth\":0,\"ticks\":\"\"}}}],\"scattercarpet\":[{\"type\":\"scattercarpet\",\"marker\":{\"colorbar\":{\"outlinewidth\":0,\"ticks\":\"\"}}}],\"carpet\":[{\"aaxis\":{\"endlinecolor\":\"#2a3f5f\",\"gridcolor\":\"white\",\"linecolor\":\"white\",\"minorgridcolor\":\"white\",\"startlinecolor\":\"#2a3f5f\"},\"baxis\":{\"endlinecolor\":\"#2a3f5f\",\"gridcolor\":\"white\",\"linecolor\":\"white\",\"minorgridcolor\":\"white\",\"startlinecolor\":\"#2a3f5f\"},\"type\":\"carpet\"}],\"table\":[{\"cells\":{\"fill\":{\"color\":\"#EBF0F8\"},\"line\":{\"color\":\"white\"}},\"header\":{\"fill\":{\"color\":\"#C8D4E3\"},\"line\":{\"color\":\"white\"}},\"type\":\"table\"}],\"barpolar\":[{\"marker\":{\"line\":{\"color\":\"#E5ECF6\",\"width\":0.5},\"pattern\":{\"fillmode\":\"overlay\",\"size\":10,\"solidity\":0.2}},\"type\":\"barpolar\"}],\"pie\":[{\"automargin\":true,\"type\":\"pie\"}]},\"layout\":{\"autotypenumbers\":\"strict\",\"colorway\":[\"#636efa\",\"#EF553B\",\"#00cc96\",\"#ab63fa\",\"#FFA15A\",\"#19d3f3\",\"#FF6692\",\"#B6E880\",\"#FF97FF\",\"#FECB52\"],\"font\":{\"color\":\"#2a3f5f\"},\"hovermode\":\"closest\",\"hoverlabel\":{\"align\":\"left\"},\"paper_bgcolor\":\"white\",\"plot_bgcolor\":\"#E5ECF6\",\"polar\":{\"bgcolor\":\"#E5ECF6\",\"angularaxis\":{\"gridcolor\":\"white\",\"linecolor\":\"white\",\"ticks\":\"\"},\"radialaxis\":{\"gridcolor\":\"white\",\"linecolor\":\"white\",\"ticks\":\"\"}},\"ternary\":{\"bgcolor\":\"#E5ECF6\",\"aaxis\":{\"gridcolor\":\"white\",\"linecolor\":\"white\",\"ticks\":\"\"},\"baxis\":{\"gridcolor\":\"white\",\"linecolor\":\"white\",\"ticks\":\"\"},\"caxis\":{\"gridcolor\":\"white\",\"linecolor\":\"white\",\"ticks\":\"\"}},\"coloraxis\":{\"colorbar\":{\"outlinewidth\":0,\"ticks\":\"\"}},\"colorscale\":{\"sequential\":[[0.0,\"#0d0887\"],[0.1111111111111111,\"#46039f\"],[0.2222222222222222,\"#7201a8\"],[0.3333333333333333,\"#9c179e\"],[0.4444444444444444,\"#bd3786\"],[0.5555555555555556,\"#d8576b\"],[0.6666666666666666,\"#ed7953\"],[0.7777777777777778,\"#fb9f3a\"],[0.8888888888888888,\"#fdca26\"],[1.0,\"#f0f921\"]],\"sequentialminus\":[[0.0,\"#0d0887\"],[0.1111111111111111,\"#46039f\"],[0.2222222222222222,\"#7201a8\"],[0.3333333333333333,\"#9c179e\"],[0.4444444444444444,\"#bd3786\"],[0.5555555555555556,\"#d8576b\"],[0.6666666666666666,\"#ed7953\"],[0.7777777777777778,\"#fb9f3a\"],[0.8888888888888888,\"#fdca26\"],[1.0,\"#f0f921\"]],\"diverging\":[[0,\"#8e0152\"],[0.1,\"#c51b7d\"],[0.2,\"#de77ae\"],[0.3,\"#f1b6da\"],[0.4,\"#fde0ef\"],[0.5,\"#f7f7f7\"],[0.6,\"#e6f5d0\"],[0.7,\"#b8e186\"],[0.8,\"#7fbc41\"],[0.9,\"#4d9221\"],[1,\"#276419\"]]},\"xaxis\":{\"gridcolor\":\"white\",\"linecolor\":\"white\",\"ticks\":\"\",\"title\":{\"standoff\":15},\"zerolinecolor\":\"white\",\"automargin\":true,\"zerolinewidth\":2},\"yaxis\":{\"gridcolor\":\"white\",\"linecolor\":\"white\",\"ticks\":\"\",\"title\":{\"standoff\":15},\"zerolinecolor\":\"white\",\"automargin\":true,\"zerolinewidth\":2},\"scene\":{\"xaxis\":{\"backgroundcolor\":\"#E5ECF6\",\"gridcolor\":\"white\",\"linecolor\":\"white\",\"showbackground\":true,\"ticks\":\"\",\"zerolinecolor\":\"white\",\"gridwidth\":2},\"yaxis\":{\"backgroundcolor\":\"#E5ECF6\",\"gridcolor\":\"white\",\"linecolor\":\"white\",\"showbackground\":true,\"ticks\":\"\",\"zerolinecolor\":\"white\",\"gridwidth\":2},\"zaxis\":{\"backgroundcolor\":\"#E5ECF6\",\"gridcolor\":\"white\",\"linecolor\":\"white\",\"showbackground\":true,\"ticks\":\"\",\"zerolinecolor\":\"white\",\"gridwidth\":2}},\"shapedefaults\":{\"line\":{\"color\":\"#2a3f5f\"}},\"annotationdefaults\":{\"arrowcolor\":\"#2a3f5f\",\"arrowhead\":0,\"arrowwidth\":1},\"geo\":{\"bgcolor\":\"white\",\"landcolor\":\"#E5ECF6\",\"subunitcolor\":\"white\",\"showland\":true,\"showlakes\":true,\"lakecolor\":\"white\"},\"title\":{\"x\":0.05},\"mapbox\":{\"style\":\"light\"}}},\"scene\":{\"domain\":{\"x\":[0.0,1.0],\"y\":[0.0,1.0]},\"xaxis\":{\"title\":{\"text\":\"x\"}},\"yaxis\":{\"title\":{\"text\":\"y\"}},\"zaxis\":{\"title\":{\"text\":\"z\"}}},\"legend\":{\"tracegroupgap\":0},\"margin\":{\"t\":60}},                        {\"responsive\": true}                    ).then(function(){\n",
       "                            \n",
       "var gd = document.getElementById('ba043b54-b73d-4cb2-857b-90a4ec916854');\n",
       "var x = new MutationObserver(function (mutations, observer) {{\n",
       "        var display = window.getComputedStyle(gd).display;\n",
       "        if (!display || display === 'none') {{\n",
       "            console.log([gd, 'removed!']);\n",
       "            Plotly.purge(gd);\n",
       "            observer.disconnect();\n",
       "        }}\n",
       "}});\n",
       "\n",
       "// Listen for the removal of the full notebook cells\n",
       "var notebookContainer = gd.closest('#notebook-container');\n",
       "if (notebookContainer) {{\n",
       "    x.observe(notebookContainer, {childList: true});\n",
       "}}\n",
       "\n",
       "// Listen for the clearing of the current output cell\n",
       "var outputEl = gd.closest('.output');\n",
       "if (outputEl) {{\n",
       "    x.observe(outputEl, {childList: true});\n",
       "}}\n",
       "\n",
       "                        })                };                });            </script>        </div>"
      ]
     },
     "metadata": {},
     "output_type": "display_data"
    }
   ],
   "source": [
    "import plotly.express as px\n",
    "\n",
    "fig = px.scatter_3d(x=np.array(all_m).ravel(), y=np.array(all_b).ravel(), z=np.array(all_cost).ravel()*100)\n",
    "\n",
    "fig.add_trace(go.Surface(x = m_arr, y = b_arr, z =z_arr*100 ))\n",
    "\n",
    "fig.show()\n",
    "\n",
    "# converting to html file\n",
    "# fig.write_html(\"cost_function2.html\")"
   ]
  },
  {
   "cell_type": "code",
   "execution_count": 29,
   "id": "d588ab11",
   "metadata": {
    "scrolled": false
   },
   "outputs": [
    {
     "data": {
      "application/vnd.plotly.v1+json": {
       "config": {
        "plotlyServerURL": "https://plot.ly"
       },
       "data": [
        {
         "line": {
          "color": "#fff",
          "width": 4
         },
         "type": "scatter",
         "x": [
          -97.7283322252647,
          -73.65477945168314,
          -54.39509640317091,
          -38.98614762819735,
          -26.657605465433633,
          -16.793330149903447,
          -8.900490112275474,
          -2.5848702577456724,
          2.468872520209521,
          6.512998405301974,
          9.74931116021747,
          12.339255899820154,
          14.411994863084704,
          16.07086630863201,
          17.398550440628625,
          18.46120134583112,
          19.311752018556252,
          19.992558054972488,
          20.53751242277125,
          20.973737187765078,
          21.32293687114886,
          21.602481153706282,
          21.826271083805267,
          22.005432103288456,
          22.148868534702455,
          22.26370723934448,
          22.355652610281055,
          22.429270629550107,
          22.48821617172682,
          22.535414899045094
         ],
         "y": [
          119.9946078618821,
          95.84862031931502,
          76.41849019063545,
          60.78371005330195,
          48.2033394552343,
          38.08099927427939,
          29.936685380422862,
          23.384074181608185,
          18.112250809914233,
          13.870998711973144,
          10.458956985198409,
          7.714086800248577,
          5.505996997923555,
          3.72976654534078,
          2.3009720919108587,
          1.1516856925509433,
          0.22725353278546168,
          -0.5162966514790917,
          -1.1143420848456174,
          -1.5953441176340326,
          -1.982199522823258,
          -2.2933279053124456,
          -2.543546726782686,
          -2.7447754037586765,
          -2.9066018488760053,
          -3.036738314462495,
          -3.1413881561786923,
          -3.2255409152640495,
          -3.2932097216965133,
          -3.34762228688246
         ]
        },
        {
         "type": "contour",
         "x": [
          -150,
          -116.66666666666666,
          -83.33333333333333,
          -50,
          -16.666666666666657,
          16.666666666666686,
          50,
          83.33333333333334,
          116.66666666666669,
          150
         ],
         "y": [
          -150,
          -116.66666666666666,
          -83.33333333333333,
          -50,
          -16.666666666666657,
          16.666666666666686,
          50,
          83.33333333333334,
          116.66666666666669,
          150
         ],
         "z": [
          [
           5406237.474103857,
           4318484.15086335,
           3458161.176159412,
           2825268.5499920417,
           2419806.2723612357,
           2241774.3432669984,
           2291172.7627093275,
           2568001.5306882234,
           3072260.647203686,
           3803950.112255716
          ],
          [
           4514047.486287468,
           3431525.3576137824,
           2576433.577476664,
           1948772.1458761129,
           1548541.0628121283,
           1375740.3282847104,
           1430369.9422938596,
           1712429.904839576,
           2221920.2159218593,
           2958840.875540708
          ],
          [
           3844079.7206933033,
           2766788.7865864374,
           1916928.2010161392,
           1294497.963982408,
           899498.075485243,
           731928.5355246454,
           791789.3441006143,
           1079080.5012131508,
           1593802.0068622536,
           2335953.8610479226
          ],
          [
           3396334.1773213595,
           2324274.437781314,
           1479645.046777836,
           862446.0043109246,
           472677.31038057996,
           310338.9649868022,
           375430.9681295913,
           667953.3198089475,
           1187906.0200248708,
           1935289.0687773598
          ],
          [
           3170810.8561716382,
           2103982.3111984134,
           1264584.114761755,
           652616.2668616635,
           268078.76749813894,
           110971.61667118127,
           181294.81438079049,
           479048.3606269665,
           1004232.2554097096,
           1756846.498729019
          ],
          [
           3167509.75724414,
           2105912.4068377344,
           1271745.4049678964,
           665008.751634625,
           285702.44683792035,
           133826.4905777827,
           209380.8828542119,
           512365.62366720807,
           1042780.7130167715,
           1800626.1509029008
          ],
          [
           3386430.880538863,
           2330064.724699278,
           1501128.9173962597,
           899623.4586298084,
           525548.3483999236,
           378903.5867066062,
           459689.1735498553,
           767905.1089296716,
           1303551.392846055,
           2066628.0252990043
          ],
          [
           3827574.2260558084,
           2776439.264783044,
           1952734.6520468455,
           1356460.3878472145,
           987616.4721841498,
           846202.9050576519,
           932219.6864677211,
           1245666.8164143579,
           1786544.2948975612,
           2554852.1219173307
          ],
          [
           4490939.7937949775,
           3445036.0270890323,
           2626562.608919654,
           2035519.5392868428,
           1671906.8181905977,
           1535724.4456309204,
           1626972.4216078096,
           1945650.746121266,
           2491759.419171289,
           3265298.440757878
          ],
          [
           5376527.583756366,
           4335855.011617241,
           3522612.7880146834,
           2936800.9129486918,
           2578419.386419268,
           2447468.20842641,
           2543947.378970119,
           2867856.898050396,
           3419196.765667239,
           4197966.981820648
          ]
         ]
        }
       ],
       "layout": {
        "template": {
         "data": {
          "bar": [
           {
            "error_x": {
             "color": "#2a3f5f"
            },
            "error_y": {
             "color": "#2a3f5f"
            },
            "marker": {
             "line": {
              "color": "#E5ECF6",
              "width": 0.5
             },
             "pattern": {
              "fillmode": "overlay",
              "size": 10,
              "solidity": 0.2
             }
            },
            "type": "bar"
           }
          ],
          "barpolar": [
           {
            "marker": {
             "line": {
              "color": "#E5ECF6",
              "width": 0.5
             },
             "pattern": {
              "fillmode": "overlay",
              "size": 10,
              "solidity": 0.2
             }
            },
            "type": "barpolar"
           }
          ],
          "carpet": [
           {
            "aaxis": {
             "endlinecolor": "#2a3f5f",
             "gridcolor": "white",
             "linecolor": "white",
             "minorgridcolor": "white",
             "startlinecolor": "#2a3f5f"
            },
            "baxis": {
             "endlinecolor": "#2a3f5f",
             "gridcolor": "white",
             "linecolor": "white",
             "minorgridcolor": "white",
             "startlinecolor": "#2a3f5f"
            },
            "type": "carpet"
           }
          ],
          "choropleth": [
           {
            "colorbar": {
             "outlinewidth": 0,
             "ticks": ""
            },
            "type": "choropleth"
           }
          ],
          "contour": [
           {
            "colorbar": {
             "outlinewidth": 0,
             "ticks": ""
            },
            "colorscale": [
             [
              0,
              "#0d0887"
             ],
             [
              0.1111111111111111,
              "#46039f"
             ],
             [
              0.2222222222222222,
              "#7201a8"
             ],
             [
              0.3333333333333333,
              "#9c179e"
             ],
             [
              0.4444444444444444,
              "#bd3786"
             ],
             [
              0.5555555555555556,
              "#d8576b"
             ],
             [
              0.6666666666666666,
              "#ed7953"
             ],
             [
              0.7777777777777778,
              "#fb9f3a"
             ],
             [
              0.8888888888888888,
              "#fdca26"
             ],
             [
              1,
              "#f0f921"
             ]
            ],
            "type": "contour"
           }
          ],
          "contourcarpet": [
           {
            "colorbar": {
             "outlinewidth": 0,
             "ticks": ""
            },
            "type": "contourcarpet"
           }
          ],
          "heatmap": [
           {
            "colorbar": {
             "outlinewidth": 0,
             "ticks": ""
            },
            "colorscale": [
             [
              0,
              "#0d0887"
             ],
             [
              0.1111111111111111,
              "#46039f"
             ],
             [
              0.2222222222222222,
              "#7201a8"
             ],
             [
              0.3333333333333333,
              "#9c179e"
             ],
             [
              0.4444444444444444,
              "#bd3786"
             ],
             [
              0.5555555555555556,
              "#d8576b"
             ],
             [
              0.6666666666666666,
              "#ed7953"
             ],
             [
              0.7777777777777778,
              "#fb9f3a"
             ],
             [
              0.8888888888888888,
              "#fdca26"
             ],
             [
              1,
              "#f0f921"
             ]
            ],
            "type": "heatmap"
           }
          ],
          "heatmapgl": [
           {
            "colorbar": {
             "outlinewidth": 0,
             "ticks": ""
            },
            "colorscale": [
             [
              0,
              "#0d0887"
             ],
             [
              0.1111111111111111,
              "#46039f"
             ],
             [
              0.2222222222222222,
              "#7201a8"
             ],
             [
              0.3333333333333333,
              "#9c179e"
             ],
             [
              0.4444444444444444,
              "#bd3786"
             ],
             [
              0.5555555555555556,
              "#d8576b"
             ],
             [
              0.6666666666666666,
              "#ed7953"
             ],
             [
              0.7777777777777778,
              "#fb9f3a"
             ],
             [
              0.8888888888888888,
              "#fdca26"
             ],
             [
              1,
              "#f0f921"
             ]
            ],
            "type": "heatmapgl"
           }
          ],
          "histogram": [
           {
            "marker": {
             "pattern": {
              "fillmode": "overlay",
              "size": 10,
              "solidity": 0.2
             }
            },
            "type": "histogram"
           }
          ],
          "histogram2d": [
           {
            "colorbar": {
             "outlinewidth": 0,
             "ticks": ""
            },
            "colorscale": [
             [
              0,
              "#0d0887"
             ],
             [
              0.1111111111111111,
              "#46039f"
             ],
             [
              0.2222222222222222,
              "#7201a8"
             ],
             [
              0.3333333333333333,
              "#9c179e"
             ],
             [
              0.4444444444444444,
              "#bd3786"
             ],
             [
              0.5555555555555556,
              "#d8576b"
             ],
             [
              0.6666666666666666,
              "#ed7953"
             ],
             [
              0.7777777777777778,
              "#fb9f3a"
             ],
             [
              0.8888888888888888,
              "#fdca26"
             ],
             [
              1,
              "#f0f921"
             ]
            ],
            "type": "histogram2d"
           }
          ],
          "histogram2dcontour": [
           {
            "colorbar": {
             "outlinewidth": 0,
             "ticks": ""
            },
            "colorscale": [
             [
              0,
              "#0d0887"
             ],
             [
              0.1111111111111111,
              "#46039f"
             ],
             [
              0.2222222222222222,
              "#7201a8"
             ],
             [
              0.3333333333333333,
              "#9c179e"
             ],
             [
              0.4444444444444444,
              "#bd3786"
             ],
             [
              0.5555555555555556,
              "#d8576b"
             ],
             [
              0.6666666666666666,
              "#ed7953"
             ],
             [
              0.7777777777777778,
              "#fb9f3a"
             ],
             [
              0.8888888888888888,
              "#fdca26"
             ],
             [
              1,
              "#f0f921"
             ]
            ],
            "type": "histogram2dcontour"
           }
          ],
          "mesh3d": [
           {
            "colorbar": {
             "outlinewidth": 0,
             "ticks": ""
            },
            "type": "mesh3d"
           }
          ],
          "parcoords": [
           {
            "line": {
             "colorbar": {
              "outlinewidth": 0,
              "ticks": ""
             }
            },
            "type": "parcoords"
           }
          ],
          "pie": [
           {
            "automargin": true,
            "type": "pie"
           }
          ],
          "scatter": [
           {
            "fillpattern": {
             "fillmode": "overlay",
             "size": 10,
             "solidity": 0.2
            },
            "type": "scatter"
           }
          ],
          "scatter3d": [
           {
            "line": {
             "colorbar": {
              "outlinewidth": 0,
              "ticks": ""
             }
            },
            "marker": {
             "colorbar": {
              "outlinewidth": 0,
              "ticks": ""
             }
            },
            "type": "scatter3d"
           }
          ],
          "scattercarpet": [
           {
            "marker": {
             "colorbar": {
              "outlinewidth": 0,
              "ticks": ""
             }
            },
            "type": "scattercarpet"
           }
          ],
          "scattergeo": [
           {
            "marker": {
             "colorbar": {
              "outlinewidth": 0,
              "ticks": ""
             }
            },
            "type": "scattergeo"
           }
          ],
          "scattergl": [
           {
            "marker": {
             "colorbar": {
              "outlinewidth": 0,
              "ticks": ""
             }
            },
            "type": "scattergl"
           }
          ],
          "scattermapbox": [
           {
            "marker": {
             "colorbar": {
              "outlinewidth": 0,
              "ticks": ""
             }
            },
            "type": "scattermapbox"
           }
          ],
          "scatterpolar": [
           {
            "marker": {
             "colorbar": {
              "outlinewidth": 0,
              "ticks": ""
             }
            },
            "type": "scatterpolar"
           }
          ],
          "scatterpolargl": [
           {
            "marker": {
             "colorbar": {
              "outlinewidth": 0,
              "ticks": ""
             }
            },
            "type": "scatterpolargl"
           }
          ],
          "scatterternary": [
           {
            "marker": {
             "colorbar": {
              "outlinewidth": 0,
              "ticks": ""
             }
            },
            "type": "scatterternary"
           }
          ],
          "surface": [
           {
            "colorbar": {
             "outlinewidth": 0,
             "ticks": ""
            },
            "colorscale": [
             [
              0,
              "#0d0887"
             ],
             [
              0.1111111111111111,
              "#46039f"
             ],
             [
              0.2222222222222222,
              "#7201a8"
             ],
             [
              0.3333333333333333,
              "#9c179e"
             ],
             [
              0.4444444444444444,
              "#bd3786"
             ],
             [
              0.5555555555555556,
              "#d8576b"
             ],
             [
              0.6666666666666666,
              "#ed7953"
             ],
             [
              0.7777777777777778,
              "#fb9f3a"
             ],
             [
              0.8888888888888888,
              "#fdca26"
             ],
             [
              1,
              "#f0f921"
             ]
            ],
            "type": "surface"
           }
          ],
          "table": [
           {
            "cells": {
             "fill": {
              "color": "#EBF0F8"
             },
             "line": {
              "color": "white"
             }
            },
            "header": {
             "fill": {
              "color": "#C8D4E3"
             },
             "line": {
              "color": "white"
             }
            },
            "type": "table"
           }
          ]
         },
         "layout": {
          "annotationdefaults": {
           "arrowcolor": "#2a3f5f",
           "arrowhead": 0,
           "arrowwidth": 1
          },
          "autotypenumbers": "strict",
          "coloraxis": {
           "colorbar": {
            "outlinewidth": 0,
            "ticks": ""
           }
          },
          "colorscale": {
           "diverging": [
            [
             0,
             "#8e0152"
            ],
            [
             0.1,
             "#c51b7d"
            ],
            [
             0.2,
             "#de77ae"
            ],
            [
             0.3,
             "#f1b6da"
            ],
            [
             0.4,
             "#fde0ef"
            ],
            [
             0.5,
             "#f7f7f7"
            ],
            [
             0.6,
             "#e6f5d0"
            ],
            [
             0.7,
             "#b8e186"
            ],
            [
             0.8,
             "#7fbc41"
            ],
            [
             0.9,
             "#4d9221"
            ],
            [
             1,
             "#276419"
            ]
           ],
           "sequential": [
            [
             0,
             "#0d0887"
            ],
            [
             0.1111111111111111,
             "#46039f"
            ],
            [
             0.2222222222222222,
             "#7201a8"
            ],
            [
             0.3333333333333333,
             "#9c179e"
            ],
            [
             0.4444444444444444,
             "#bd3786"
            ],
            [
             0.5555555555555556,
             "#d8576b"
            ],
            [
             0.6666666666666666,
             "#ed7953"
            ],
            [
             0.7777777777777778,
             "#fb9f3a"
            ],
            [
             0.8888888888888888,
             "#fdca26"
            ],
            [
             1,
             "#f0f921"
            ]
           ],
           "sequentialminus": [
            [
             0,
             "#0d0887"
            ],
            [
             0.1111111111111111,
             "#46039f"
            ],
            [
             0.2222222222222222,
             "#7201a8"
            ],
            [
             0.3333333333333333,
             "#9c179e"
            ],
            [
             0.4444444444444444,
             "#bd3786"
            ],
            [
             0.5555555555555556,
             "#d8576b"
            ],
            [
             0.6666666666666666,
             "#ed7953"
            ],
            [
             0.7777777777777778,
             "#fb9f3a"
            ],
            [
             0.8888888888888888,
             "#fdca26"
            ],
            [
             1,
             "#f0f921"
            ]
           ]
          },
          "colorway": [
           "#636efa",
           "#EF553B",
           "#00cc96",
           "#ab63fa",
           "#FFA15A",
           "#19d3f3",
           "#FF6692",
           "#B6E880",
           "#FF97FF",
           "#FECB52"
          ],
          "font": {
           "color": "#2a3f5f"
          },
          "geo": {
           "bgcolor": "white",
           "lakecolor": "white",
           "landcolor": "#E5ECF6",
           "showlakes": true,
           "showland": true,
           "subunitcolor": "white"
          },
          "hoverlabel": {
           "align": "left"
          },
          "hovermode": "closest",
          "mapbox": {
           "style": "light"
          },
          "paper_bgcolor": "white",
          "plot_bgcolor": "#E5ECF6",
          "polar": {
           "angularaxis": {
            "gridcolor": "white",
            "linecolor": "white",
            "ticks": ""
           },
           "bgcolor": "#E5ECF6",
           "radialaxis": {
            "gridcolor": "white",
            "linecolor": "white",
            "ticks": ""
           }
          },
          "scene": {
           "xaxis": {
            "backgroundcolor": "#E5ECF6",
            "gridcolor": "white",
            "gridwidth": 2,
            "linecolor": "white",
            "showbackground": true,
            "ticks": "",
            "zerolinecolor": "white"
           },
           "yaxis": {
            "backgroundcolor": "#E5ECF6",
            "gridcolor": "white",
            "gridwidth": 2,
            "linecolor": "white",
            "showbackground": true,
            "ticks": "",
            "zerolinecolor": "white"
           },
           "zaxis": {
            "backgroundcolor": "#E5ECF6",
            "gridcolor": "white",
            "gridwidth": 2,
            "linecolor": "white",
            "showbackground": true,
            "ticks": "",
            "zerolinecolor": "white"
           }
          },
          "shapedefaults": {
           "line": {
            "color": "#2a3f5f"
           }
          },
          "ternary": {
           "aaxis": {
            "gridcolor": "white",
            "linecolor": "white",
            "ticks": ""
           },
           "baxis": {
            "gridcolor": "white",
            "linecolor": "white",
            "ticks": ""
           },
           "bgcolor": "#E5ECF6",
           "caxis": {
            "gridcolor": "white",
            "linecolor": "white",
            "ticks": ""
           }
          },
          "title": {
           "x": 0.05
          },
          "xaxis": {
           "automargin": true,
           "gridcolor": "white",
           "linecolor": "white",
           "ticks": "",
           "title": {
            "standoff": 15
           },
           "zerolinecolor": "white",
           "zerolinewidth": 2
          },
          "yaxis": {
           "automargin": true,
           "gridcolor": "white",
           "linecolor": "white",
           "ticks": "",
           "title": {
            "standoff": 15
           },
           "zerolinecolor": "white",
           "zerolinewidth": 2
          }
         }
        }
       }
      },
      "text/html": [
       "<div>                            <div id=\"d950e885-6fe8-4ac8-9545-e045269ae83b\" class=\"plotly-graph-div\" style=\"height:525px; width:100%;\"></div>            <script type=\"text/javascript\">                require([\"plotly\"], function(Plotly) {                    window.PLOTLYENV=window.PLOTLYENV || {};                                    if (document.getElementById(\"d950e885-6fe8-4ac8-9545-e045269ae83b\")) {                    Plotly.newPlot(                        \"d950e885-6fe8-4ac8-9545-e045269ae83b\",                        [{\"line\":{\"color\":\"#fff\",\"width\":4},\"x\":[-97.7283322252647,-73.65477945168314,-54.39509640317091,-38.98614762819735,-26.657605465433633,-16.793330149903447,-8.900490112275474,-2.5848702577456724,2.468872520209521,6.512998405301974,9.74931116021747,12.339255899820154,14.411994863084704,16.07086630863201,17.398550440628625,18.46120134583112,19.311752018556252,19.992558054972488,20.53751242277125,20.973737187765078,21.32293687114886,21.602481153706282,21.826271083805267,22.005432103288456,22.148868534702455,22.26370723934448,22.355652610281055,22.429270629550107,22.48821617172682,22.535414899045094],\"y\":[119.9946078618821,95.84862031931502,76.41849019063545,60.78371005330195,48.2033394552343,38.08099927427939,29.936685380422862,23.384074181608185,18.112250809914233,13.870998711973144,10.458956985198409,7.714086800248577,5.505996997923555,3.72976654534078,2.3009720919108587,1.1516856925509433,0.22725353278546168,-0.5162966514790917,-1.1143420848456174,-1.5953441176340326,-1.982199522823258,-2.2933279053124456,-2.543546726782686,-2.7447754037586765,-2.9066018488760053,-3.036738314462495,-3.1413881561786923,-3.2255409152640495,-3.2932097216965133,-3.34762228688246],\"type\":\"scatter\"},{\"x\":[-150.0,-116.66666666666666,-83.33333333333333,-50.0,-16.666666666666657,16.666666666666686,50.0,83.33333333333334,116.66666666666669,150.0],\"y\":[-150.0,-116.66666666666666,-83.33333333333333,-50.0,-16.666666666666657,16.666666666666686,50.0,83.33333333333334,116.66666666666669,150.0],\"z\":[[5406237.474103857,4318484.15086335,3458161.176159412,2825268.5499920417,2419806.2723612357,2241774.3432669984,2291172.7627093275,2568001.5306882234,3072260.647203686,3803950.112255716],[4514047.486287468,3431525.3576137824,2576433.577476664,1948772.1458761129,1548541.0628121283,1375740.3282847104,1430369.9422938596,1712429.904839576,2221920.2159218593,2958840.875540708],[3844079.7206933033,2766788.7865864374,1916928.2010161392,1294497.963982408,899498.075485243,731928.5355246454,791789.3441006143,1079080.5012131508,1593802.0068622536,2335953.8610479226],[3396334.1773213595,2324274.437781314,1479645.046777836,862446.0043109246,472677.31038057996,310338.9649868022,375430.9681295913,667953.3198089475,1187906.0200248708,1935289.0687773598],[3170810.8561716382,2103982.3111984134,1264584.114761755,652616.2668616635,268078.76749813894,110971.61667118127,181294.81438079049,479048.3606269665,1004232.2554097096,1756846.498729019],[3167509.75724414,2105912.4068377344,1271745.4049678964,665008.751634625,285702.44683792035,133826.4905777827,209380.8828542119,512365.62366720807,1042780.7130167715,1800626.1509029008],[3386430.880538863,2330064.724699278,1501128.9173962597,899623.4586298084,525548.3483999236,378903.5867066062,459689.1735498553,767905.1089296716,1303551.392846055,2066628.0252990043],[3827574.2260558084,2776439.264783044,1952734.6520468455,1356460.3878472145,987616.4721841498,846202.9050576519,932219.6864677211,1245666.8164143579,1786544.2948975612,2554852.1219173307],[4490939.7937949775,3445036.0270890323,2626562.608919654,2035519.5392868428,1671906.8181905977,1535724.4456309204,1626972.4216078096,1945650.746121266,2491759.419171289,3265298.440757878],[5376527.583756366,4335855.011617241,3522612.7880146834,2936800.9129486918,2578419.386419268,2447468.20842641,2543947.378970119,2867856.898050396,3419196.765667239,4197966.981820648]],\"type\":\"contour\"}],                        {\"template\":{\"data\":{\"histogram2dcontour\":[{\"type\":\"histogram2dcontour\",\"colorbar\":{\"outlinewidth\":0,\"ticks\":\"\"},\"colorscale\":[[0.0,\"#0d0887\"],[0.1111111111111111,\"#46039f\"],[0.2222222222222222,\"#7201a8\"],[0.3333333333333333,\"#9c179e\"],[0.4444444444444444,\"#bd3786\"],[0.5555555555555556,\"#d8576b\"],[0.6666666666666666,\"#ed7953\"],[0.7777777777777778,\"#fb9f3a\"],[0.8888888888888888,\"#fdca26\"],[1.0,\"#f0f921\"]]}],\"choropleth\":[{\"type\":\"choropleth\",\"colorbar\":{\"outlinewidth\":0,\"ticks\":\"\"}}],\"histogram2d\":[{\"type\":\"histogram2d\",\"colorbar\":{\"outlinewidth\":0,\"ticks\":\"\"},\"colorscale\":[[0.0,\"#0d0887\"],[0.1111111111111111,\"#46039f\"],[0.2222222222222222,\"#7201a8\"],[0.3333333333333333,\"#9c179e\"],[0.4444444444444444,\"#bd3786\"],[0.5555555555555556,\"#d8576b\"],[0.6666666666666666,\"#ed7953\"],[0.7777777777777778,\"#fb9f3a\"],[0.8888888888888888,\"#fdca26\"],[1.0,\"#f0f921\"]]}],\"heatmap\":[{\"type\":\"heatmap\",\"colorbar\":{\"outlinewidth\":0,\"ticks\":\"\"},\"colorscale\":[[0.0,\"#0d0887\"],[0.1111111111111111,\"#46039f\"],[0.2222222222222222,\"#7201a8\"],[0.3333333333333333,\"#9c179e\"],[0.4444444444444444,\"#bd3786\"],[0.5555555555555556,\"#d8576b\"],[0.6666666666666666,\"#ed7953\"],[0.7777777777777778,\"#fb9f3a\"],[0.8888888888888888,\"#fdca26\"],[1.0,\"#f0f921\"]]}],\"heatmapgl\":[{\"type\":\"heatmapgl\",\"colorbar\":{\"outlinewidth\":0,\"ticks\":\"\"},\"colorscale\":[[0.0,\"#0d0887\"],[0.1111111111111111,\"#46039f\"],[0.2222222222222222,\"#7201a8\"],[0.3333333333333333,\"#9c179e\"],[0.4444444444444444,\"#bd3786\"],[0.5555555555555556,\"#d8576b\"],[0.6666666666666666,\"#ed7953\"],[0.7777777777777778,\"#fb9f3a\"],[0.8888888888888888,\"#fdca26\"],[1.0,\"#f0f921\"]]}],\"contourcarpet\":[{\"type\":\"contourcarpet\",\"colorbar\":{\"outlinewidth\":0,\"ticks\":\"\"}}],\"contour\":[{\"type\":\"contour\",\"colorbar\":{\"outlinewidth\":0,\"ticks\":\"\"},\"colorscale\":[[0.0,\"#0d0887\"],[0.1111111111111111,\"#46039f\"],[0.2222222222222222,\"#7201a8\"],[0.3333333333333333,\"#9c179e\"],[0.4444444444444444,\"#bd3786\"],[0.5555555555555556,\"#d8576b\"],[0.6666666666666666,\"#ed7953\"],[0.7777777777777778,\"#fb9f3a\"],[0.8888888888888888,\"#fdca26\"],[1.0,\"#f0f921\"]]}],\"surface\":[{\"type\":\"surface\",\"colorbar\":{\"outlinewidth\":0,\"ticks\":\"\"},\"colorscale\":[[0.0,\"#0d0887\"],[0.1111111111111111,\"#46039f\"],[0.2222222222222222,\"#7201a8\"],[0.3333333333333333,\"#9c179e\"],[0.4444444444444444,\"#bd3786\"],[0.5555555555555556,\"#d8576b\"],[0.6666666666666666,\"#ed7953\"],[0.7777777777777778,\"#fb9f3a\"],[0.8888888888888888,\"#fdca26\"],[1.0,\"#f0f921\"]]}],\"mesh3d\":[{\"type\":\"mesh3d\",\"colorbar\":{\"outlinewidth\":0,\"ticks\":\"\"}}],\"scatter\":[{\"fillpattern\":{\"fillmode\":\"overlay\",\"size\":10,\"solidity\":0.2},\"type\":\"scatter\"}],\"parcoords\":[{\"type\":\"parcoords\",\"line\":{\"colorbar\":{\"outlinewidth\":0,\"ticks\":\"\"}}}],\"scatterpolargl\":[{\"type\":\"scatterpolargl\",\"marker\":{\"colorbar\":{\"outlinewidth\":0,\"ticks\":\"\"}}}],\"bar\":[{\"error_x\":{\"color\":\"#2a3f5f\"},\"error_y\":{\"color\":\"#2a3f5f\"},\"marker\":{\"line\":{\"color\":\"#E5ECF6\",\"width\":0.5},\"pattern\":{\"fillmode\":\"overlay\",\"size\":10,\"solidity\":0.2}},\"type\":\"bar\"}],\"scattergeo\":[{\"type\":\"scattergeo\",\"marker\":{\"colorbar\":{\"outlinewidth\":0,\"ticks\":\"\"}}}],\"scatterpolar\":[{\"type\":\"scatterpolar\",\"marker\":{\"colorbar\":{\"outlinewidth\":0,\"ticks\":\"\"}}}],\"histogram\":[{\"marker\":{\"pattern\":{\"fillmode\":\"overlay\",\"size\":10,\"solidity\":0.2}},\"type\":\"histogram\"}],\"scattergl\":[{\"type\":\"scattergl\",\"marker\":{\"colorbar\":{\"outlinewidth\":0,\"ticks\":\"\"}}}],\"scatter3d\":[{\"type\":\"scatter3d\",\"line\":{\"colorbar\":{\"outlinewidth\":0,\"ticks\":\"\"}},\"marker\":{\"colorbar\":{\"outlinewidth\":0,\"ticks\":\"\"}}}],\"scattermapbox\":[{\"type\":\"scattermapbox\",\"marker\":{\"colorbar\":{\"outlinewidth\":0,\"ticks\":\"\"}}}],\"scatterternary\":[{\"type\":\"scatterternary\",\"marker\":{\"colorbar\":{\"outlinewidth\":0,\"ticks\":\"\"}}}],\"scattercarpet\":[{\"type\":\"scattercarpet\",\"marker\":{\"colorbar\":{\"outlinewidth\":0,\"ticks\":\"\"}}}],\"carpet\":[{\"aaxis\":{\"endlinecolor\":\"#2a3f5f\",\"gridcolor\":\"white\",\"linecolor\":\"white\",\"minorgridcolor\":\"white\",\"startlinecolor\":\"#2a3f5f\"},\"baxis\":{\"endlinecolor\":\"#2a3f5f\",\"gridcolor\":\"white\",\"linecolor\":\"white\",\"minorgridcolor\":\"white\",\"startlinecolor\":\"#2a3f5f\"},\"type\":\"carpet\"}],\"table\":[{\"cells\":{\"fill\":{\"color\":\"#EBF0F8\"},\"line\":{\"color\":\"white\"}},\"header\":{\"fill\":{\"color\":\"#C8D4E3\"},\"line\":{\"color\":\"white\"}},\"type\":\"table\"}],\"barpolar\":[{\"marker\":{\"line\":{\"color\":\"#E5ECF6\",\"width\":0.5},\"pattern\":{\"fillmode\":\"overlay\",\"size\":10,\"solidity\":0.2}},\"type\":\"barpolar\"}],\"pie\":[{\"automargin\":true,\"type\":\"pie\"}]},\"layout\":{\"autotypenumbers\":\"strict\",\"colorway\":[\"#636efa\",\"#EF553B\",\"#00cc96\",\"#ab63fa\",\"#FFA15A\",\"#19d3f3\",\"#FF6692\",\"#B6E880\",\"#FF97FF\",\"#FECB52\"],\"font\":{\"color\":\"#2a3f5f\"},\"hovermode\":\"closest\",\"hoverlabel\":{\"align\":\"left\"},\"paper_bgcolor\":\"white\",\"plot_bgcolor\":\"#E5ECF6\",\"polar\":{\"bgcolor\":\"#E5ECF6\",\"angularaxis\":{\"gridcolor\":\"white\",\"linecolor\":\"white\",\"ticks\":\"\"},\"radialaxis\":{\"gridcolor\":\"white\",\"linecolor\":\"white\",\"ticks\":\"\"}},\"ternary\":{\"bgcolor\":\"#E5ECF6\",\"aaxis\":{\"gridcolor\":\"white\",\"linecolor\":\"white\",\"ticks\":\"\"},\"baxis\":{\"gridcolor\":\"white\",\"linecolor\":\"white\",\"ticks\":\"\"},\"caxis\":{\"gridcolor\":\"white\",\"linecolor\":\"white\",\"ticks\":\"\"}},\"coloraxis\":{\"colorbar\":{\"outlinewidth\":0,\"ticks\":\"\"}},\"colorscale\":{\"sequential\":[[0.0,\"#0d0887\"],[0.1111111111111111,\"#46039f\"],[0.2222222222222222,\"#7201a8\"],[0.3333333333333333,\"#9c179e\"],[0.4444444444444444,\"#bd3786\"],[0.5555555555555556,\"#d8576b\"],[0.6666666666666666,\"#ed7953\"],[0.7777777777777778,\"#fb9f3a\"],[0.8888888888888888,\"#fdca26\"],[1.0,\"#f0f921\"]],\"sequentialminus\":[[0.0,\"#0d0887\"],[0.1111111111111111,\"#46039f\"],[0.2222222222222222,\"#7201a8\"],[0.3333333333333333,\"#9c179e\"],[0.4444444444444444,\"#bd3786\"],[0.5555555555555556,\"#d8576b\"],[0.6666666666666666,\"#ed7953\"],[0.7777777777777778,\"#fb9f3a\"],[0.8888888888888888,\"#fdca26\"],[1.0,\"#f0f921\"]],\"diverging\":[[0,\"#8e0152\"],[0.1,\"#c51b7d\"],[0.2,\"#de77ae\"],[0.3,\"#f1b6da\"],[0.4,\"#fde0ef\"],[0.5,\"#f7f7f7\"],[0.6,\"#e6f5d0\"],[0.7,\"#b8e186\"],[0.8,\"#7fbc41\"],[0.9,\"#4d9221\"],[1,\"#276419\"]]},\"xaxis\":{\"gridcolor\":\"white\",\"linecolor\":\"white\",\"ticks\":\"\",\"title\":{\"standoff\":15},\"zerolinecolor\":\"white\",\"automargin\":true,\"zerolinewidth\":2},\"yaxis\":{\"gridcolor\":\"white\",\"linecolor\":\"white\",\"ticks\":\"\",\"title\":{\"standoff\":15},\"zerolinecolor\":\"white\",\"automargin\":true,\"zerolinewidth\":2},\"scene\":{\"xaxis\":{\"backgroundcolor\":\"#E5ECF6\",\"gridcolor\":\"white\",\"linecolor\":\"white\",\"showbackground\":true,\"ticks\":\"\",\"zerolinecolor\":\"white\",\"gridwidth\":2},\"yaxis\":{\"backgroundcolor\":\"#E5ECF6\",\"gridcolor\":\"white\",\"linecolor\":\"white\",\"showbackground\":true,\"ticks\":\"\",\"zerolinecolor\":\"white\",\"gridwidth\":2},\"zaxis\":{\"backgroundcolor\":\"#E5ECF6\",\"gridcolor\":\"white\",\"linecolor\":\"white\",\"showbackground\":true,\"ticks\":\"\",\"zerolinecolor\":\"white\",\"gridwidth\":2}},\"shapedefaults\":{\"line\":{\"color\":\"#2a3f5f\"}},\"annotationdefaults\":{\"arrowcolor\":\"#2a3f5f\",\"arrowhead\":0,\"arrowwidth\":1},\"geo\":{\"bgcolor\":\"white\",\"landcolor\":\"#E5ECF6\",\"subunitcolor\":\"white\",\"showland\":true,\"showlakes\":true,\"lakecolor\":\"white\"},\"title\":{\"x\":0.05},\"mapbox\":{\"style\":\"light\"}}}},                        {\"responsive\": true}                    ).then(function(){\n",
       "                            \n",
       "var gd = document.getElementById('d950e885-6fe8-4ac8-9545-e045269ae83b');\n",
       "var x = new MutationObserver(function (mutations, observer) {{\n",
       "        var display = window.getComputedStyle(gd).display;\n",
       "        if (!display || display === 'none') {{\n",
       "            console.log([gd, 'removed!']);\n",
       "            Plotly.purge(gd);\n",
       "            observer.disconnect();\n",
       "        }}\n",
       "}});\n",
       "\n",
       "// Listen for the removal of the full notebook cells\n",
       "var notebookContainer = gd.closest('#notebook-container');\n",
       "if (notebookContainer) {{\n",
       "    x.observe(notebookContainer, {childList: true});\n",
       "}}\n",
       "\n",
       "// Listen for the clearing of the current output cell\n",
       "var outputEl = gd.closest('.output');\n",
       "if (outputEl) {{\n",
       "    x.observe(outputEl, {childList: true});\n",
       "}}\n",
       "\n",
       "                        })                };                });            </script>        </div>"
      ]
     },
     "metadata": {},
     "output_type": "display_data"
    }
   ],
   "source": [
    "import plotly.graph_objects as go\n",
    "\n",
    "fig = go.Figure(go.Scatter(x=np.array(all_m).ravel(), y=np.array(all_b).ravel(), name='High 2014',\n",
    "                         line=dict(color='#fff', width=4)))\n",
    "\n",
    "fig.add_trace(go.Contour(z=z_arr,x=m_arr,y=b_arr))\n",
    "fig.show()"
   ]
  },
  {
   "cell_type": "code",
   "execution_count": 31,
   "id": "027d3660",
   "metadata": {
    "scrolled": true
   },
   "outputs": [
    {
     "data": {
      "application/javascript": [
       "/* Put everything inside the global mpl namespace */\n",
       "/* global mpl */\n",
       "window.mpl = {};\n",
       "\n",
       "mpl.get_websocket_type = function () {\n",
       "    if (typeof WebSocket !== 'undefined') {\n",
       "        return WebSocket;\n",
       "    } else if (typeof MozWebSocket !== 'undefined') {\n",
       "        return MozWebSocket;\n",
       "    } else {\n",
       "        alert(\n",
       "            'Your browser does not have WebSocket support. ' +\n",
       "                'Please try Chrome, Safari or Firefox ≥ 6. ' +\n",
       "                'Firefox 4 and 5 are also supported but you ' +\n",
       "                'have to enable WebSockets in about:config.'\n",
       "        );\n",
       "    }\n",
       "};\n",
       "\n",
       "mpl.figure = function (figure_id, websocket, ondownload, parent_element) {\n",
       "    this.id = figure_id;\n",
       "\n",
       "    this.ws = websocket;\n",
       "\n",
       "    this.supports_binary = this.ws.binaryType !== undefined;\n",
       "\n",
       "    if (!this.supports_binary) {\n",
       "        var warnings = document.getElementById('mpl-warnings');\n",
       "        if (warnings) {\n",
       "            warnings.style.display = 'block';\n",
       "            warnings.textContent =\n",
       "                'This browser does not support binary websocket messages. ' +\n",
       "                'Performance may be slow.';\n",
       "        }\n",
       "    }\n",
       "\n",
       "    this.imageObj = new Image();\n",
       "\n",
       "    this.context = undefined;\n",
       "    this.message = undefined;\n",
       "    this.canvas = undefined;\n",
       "    this.rubberband_canvas = undefined;\n",
       "    this.rubberband_context = undefined;\n",
       "    this.format_dropdown = undefined;\n",
       "\n",
       "    this.image_mode = 'full';\n",
       "\n",
       "    this.root = document.createElement('div');\n",
       "    this.root.setAttribute('style', 'display: inline-block');\n",
       "    this._root_extra_style(this.root);\n",
       "\n",
       "    parent_element.appendChild(this.root);\n",
       "\n",
       "    this._init_header(this);\n",
       "    this._init_canvas(this);\n",
       "    this._init_toolbar(this);\n",
       "\n",
       "    var fig = this;\n",
       "\n",
       "    this.waiting = false;\n",
       "\n",
       "    this.ws.onopen = function () {\n",
       "        fig.send_message('supports_binary', { value: fig.supports_binary });\n",
       "        fig.send_message('send_image_mode', {});\n",
       "        if (fig.ratio !== 1) {\n",
       "            fig.send_message('set_device_pixel_ratio', {\n",
       "                device_pixel_ratio: fig.ratio,\n",
       "            });\n",
       "        }\n",
       "        fig.send_message('refresh', {});\n",
       "    };\n",
       "\n",
       "    this.imageObj.onload = function () {\n",
       "        if (fig.image_mode === 'full') {\n",
       "            // Full images could contain transparency (where diff images\n",
       "            // almost always do), so we need to clear the canvas so that\n",
       "            // there is no ghosting.\n",
       "            fig.context.clearRect(0, 0, fig.canvas.width, fig.canvas.height);\n",
       "        }\n",
       "        fig.context.drawImage(fig.imageObj, 0, 0);\n",
       "    };\n",
       "\n",
       "    this.imageObj.onunload = function () {\n",
       "        fig.ws.close();\n",
       "    };\n",
       "\n",
       "    this.ws.onmessage = this._make_on_message_function(this);\n",
       "\n",
       "    this.ondownload = ondownload;\n",
       "};\n",
       "\n",
       "mpl.figure.prototype._init_header = function () {\n",
       "    var titlebar = document.createElement('div');\n",
       "    titlebar.classList =\n",
       "        'ui-dialog-titlebar ui-widget-header ui-corner-all ui-helper-clearfix';\n",
       "    var titletext = document.createElement('div');\n",
       "    titletext.classList = 'ui-dialog-title';\n",
       "    titletext.setAttribute(\n",
       "        'style',\n",
       "        'width: 100%; text-align: center; padding: 3px;'\n",
       "    );\n",
       "    titlebar.appendChild(titletext);\n",
       "    this.root.appendChild(titlebar);\n",
       "    this.header = titletext;\n",
       "};\n",
       "\n",
       "mpl.figure.prototype._canvas_extra_style = function (_canvas_div) {};\n",
       "\n",
       "mpl.figure.prototype._root_extra_style = function (_canvas_div) {};\n",
       "\n",
       "mpl.figure.prototype._init_canvas = function () {\n",
       "    var fig = this;\n",
       "\n",
       "    var canvas_div = (this.canvas_div = document.createElement('div'));\n",
       "    canvas_div.setAttribute('tabindex', '0');\n",
       "    canvas_div.setAttribute(\n",
       "        'style',\n",
       "        'border: 1px solid #ddd;' +\n",
       "            'box-sizing: content-box;' +\n",
       "            'clear: both;' +\n",
       "            'min-height: 1px;' +\n",
       "            'min-width: 1px;' +\n",
       "            'outline: 0;' +\n",
       "            'overflow: hidden;' +\n",
       "            'position: relative;' +\n",
       "            'resize: both;' +\n",
       "            'z-index: 2;'\n",
       "    );\n",
       "\n",
       "    function on_keyboard_event_closure(name) {\n",
       "        return function (event) {\n",
       "            return fig.key_event(event, name);\n",
       "        };\n",
       "    }\n",
       "\n",
       "    canvas_div.addEventListener(\n",
       "        'keydown',\n",
       "        on_keyboard_event_closure('key_press')\n",
       "    );\n",
       "    canvas_div.addEventListener(\n",
       "        'keyup',\n",
       "        on_keyboard_event_closure('key_release')\n",
       "    );\n",
       "\n",
       "    this._canvas_extra_style(canvas_div);\n",
       "    this.root.appendChild(canvas_div);\n",
       "\n",
       "    var canvas = (this.canvas = document.createElement('canvas'));\n",
       "    canvas.classList.add('mpl-canvas');\n",
       "    canvas.setAttribute(\n",
       "        'style',\n",
       "        'box-sizing: content-box;' +\n",
       "            'pointer-events: none;' +\n",
       "            'position: relative;' +\n",
       "            'z-index: 0;'\n",
       "    );\n",
       "\n",
       "    this.context = canvas.getContext('2d');\n",
       "\n",
       "    var backingStore =\n",
       "        this.context.backingStorePixelRatio ||\n",
       "        this.context.webkitBackingStorePixelRatio ||\n",
       "        this.context.mozBackingStorePixelRatio ||\n",
       "        this.context.msBackingStorePixelRatio ||\n",
       "        this.context.oBackingStorePixelRatio ||\n",
       "        this.context.backingStorePixelRatio ||\n",
       "        1;\n",
       "\n",
       "    this.ratio = (window.devicePixelRatio || 1) / backingStore;\n",
       "\n",
       "    var rubberband_canvas = (this.rubberband_canvas = document.createElement(\n",
       "        'canvas'\n",
       "    ));\n",
       "    rubberband_canvas.setAttribute(\n",
       "        'style',\n",
       "        'box-sizing: content-box;' +\n",
       "            'left: 0;' +\n",
       "            'pointer-events: none;' +\n",
       "            'position: absolute;' +\n",
       "            'top: 0;' +\n",
       "            'z-index: 1;'\n",
       "    );\n",
       "\n",
       "    // Apply a ponyfill if ResizeObserver is not implemented by browser.\n",
       "    if (this.ResizeObserver === undefined) {\n",
       "        if (window.ResizeObserver !== undefined) {\n",
       "            this.ResizeObserver = window.ResizeObserver;\n",
       "        } else {\n",
       "            var obs = _JSXTOOLS_RESIZE_OBSERVER({});\n",
       "            this.ResizeObserver = obs.ResizeObserver;\n",
       "        }\n",
       "    }\n",
       "\n",
       "    this.resizeObserverInstance = new this.ResizeObserver(function (entries) {\n",
       "        var nentries = entries.length;\n",
       "        for (var i = 0; i < nentries; i++) {\n",
       "            var entry = entries[i];\n",
       "            var width, height;\n",
       "            if (entry.contentBoxSize) {\n",
       "                if (entry.contentBoxSize instanceof Array) {\n",
       "                    // Chrome 84 implements new version of spec.\n",
       "                    width = entry.contentBoxSize[0].inlineSize;\n",
       "                    height = entry.contentBoxSize[0].blockSize;\n",
       "                } else {\n",
       "                    // Firefox implements old version of spec.\n",
       "                    width = entry.contentBoxSize.inlineSize;\n",
       "                    height = entry.contentBoxSize.blockSize;\n",
       "                }\n",
       "            } else {\n",
       "                // Chrome <84 implements even older version of spec.\n",
       "                width = entry.contentRect.width;\n",
       "                height = entry.contentRect.height;\n",
       "            }\n",
       "\n",
       "            // Keep the size of the canvas and rubber band canvas in sync with\n",
       "            // the canvas container.\n",
       "            if (entry.devicePixelContentBoxSize) {\n",
       "                // Chrome 84 implements new version of spec.\n",
       "                canvas.setAttribute(\n",
       "                    'width',\n",
       "                    entry.devicePixelContentBoxSize[0].inlineSize\n",
       "                );\n",
       "                canvas.setAttribute(\n",
       "                    'height',\n",
       "                    entry.devicePixelContentBoxSize[0].blockSize\n",
       "                );\n",
       "            } else {\n",
       "                canvas.setAttribute('width', width * fig.ratio);\n",
       "                canvas.setAttribute('height', height * fig.ratio);\n",
       "            }\n",
       "            /* This rescales the canvas back to display pixels, so that it\n",
       "             * appears correct on HiDPI screens. */\n",
       "            canvas.style.width = width + 'px';\n",
       "            canvas.style.height = height + 'px';\n",
       "\n",
       "            rubberband_canvas.setAttribute('width', width);\n",
       "            rubberband_canvas.setAttribute('height', height);\n",
       "\n",
       "            // And update the size in Python. We ignore the initial 0/0 size\n",
       "            // that occurs as the element is placed into the DOM, which should\n",
       "            // otherwise not happen due to the minimum size styling.\n",
       "            if (fig.ws.readyState == 1 && width != 0 && height != 0) {\n",
       "                fig.request_resize(width, height);\n",
       "            }\n",
       "        }\n",
       "    });\n",
       "    this.resizeObserverInstance.observe(canvas_div);\n",
       "\n",
       "    function on_mouse_event_closure(name) {\n",
       "        /* User Agent sniffing is bad, but WebKit is busted:\n",
       "         * https://bugs.webkit.org/show_bug.cgi?id=144526\n",
       "         * https://bugs.webkit.org/show_bug.cgi?id=181818\n",
       "         * The worst that happens here is that they get an extra browser\n",
       "         * selection when dragging, if this check fails to catch them.\n",
       "         */\n",
       "        var UA = navigator.userAgent;\n",
       "        var isWebKit = /AppleWebKit/.test(UA) && !/Chrome/.test(UA);\n",
       "        if(isWebKit) {\n",
       "            return function (event) {\n",
       "                /* This prevents the web browser from automatically changing to\n",
       "                 * the text insertion cursor when the button is pressed. We\n",
       "                 * want to control all of the cursor setting manually through\n",
       "                 * the 'cursor' event from matplotlib */\n",
       "                event.preventDefault()\n",
       "                return fig.mouse_event(event, name);\n",
       "            };\n",
       "        } else {\n",
       "            return function (event) {\n",
       "                return fig.mouse_event(event, name);\n",
       "            };\n",
       "        }\n",
       "    }\n",
       "\n",
       "    canvas_div.addEventListener(\n",
       "        'mousedown',\n",
       "        on_mouse_event_closure('button_press')\n",
       "    );\n",
       "    canvas_div.addEventListener(\n",
       "        'mouseup',\n",
       "        on_mouse_event_closure('button_release')\n",
       "    );\n",
       "    canvas_div.addEventListener(\n",
       "        'dblclick',\n",
       "        on_mouse_event_closure('dblclick')\n",
       "    );\n",
       "    // Throttle sequential mouse events to 1 every 20ms.\n",
       "    canvas_div.addEventListener(\n",
       "        'mousemove',\n",
       "        on_mouse_event_closure('motion_notify')\n",
       "    );\n",
       "\n",
       "    canvas_div.addEventListener(\n",
       "        'mouseenter',\n",
       "        on_mouse_event_closure('figure_enter')\n",
       "    );\n",
       "    canvas_div.addEventListener(\n",
       "        'mouseleave',\n",
       "        on_mouse_event_closure('figure_leave')\n",
       "    );\n",
       "\n",
       "    canvas_div.addEventListener('wheel', function (event) {\n",
       "        if (event.deltaY < 0) {\n",
       "            event.step = 1;\n",
       "        } else {\n",
       "            event.step = -1;\n",
       "        }\n",
       "        on_mouse_event_closure('scroll')(event);\n",
       "    });\n",
       "\n",
       "    canvas_div.appendChild(canvas);\n",
       "    canvas_div.appendChild(rubberband_canvas);\n",
       "\n",
       "    this.rubberband_context = rubberband_canvas.getContext('2d');\n",
       "    this.rubberband_context.strokeStyle = '#000000';\n",
       "\n",
       "    this._resize_canvas = function (width, height, forward) {\n",
       "        if (forward) {\n",
       "            canvas_div.style.width = width + 'px';\n",
       "            canvas_div.style.height = height + 'px';\n",
       "        }\n",
       "    };\n",
       "\n",
       "    // Disable right mouse context menu.\n",
       "    canvas_div.addEventListener('contextmenu', function (_e) {\n",
       "        event.preventDefault();\n",
       "        return false;\n",
       "    });\n",
       "\n",
       "    function set_focus() {\n",
       "        canvas.focus();\n",
       "        canvas_div.focus();\n",
       "    }\n",
       "\n",
       "    window.setTimeout(set_focus, 100);\n",
       "};\n",
       "\n",
       "mpl.figure.prototype._init_toolbar = function () {\n",
       "    var fig = this;\n",
       "\n",
       "    var toolbar = document.createElement('div');\n",
       "    toolbar.classList = 'mpl-toolbar';\n",
       "    this.root.appendChild(toolbar);\n",
       "\n",
       "    function on_click_closure(name) {\n",
       "        return function (_event) {\n",
       "            return fig.toolbar_button_onclick(name);\n",
       "        };\n",
       "    }\n",
       "\n",
       "    function on_mouseover_closure(tooltip) {\n",
       "        return function (event) {\n",
       "            if (!event.currentTarget.disabled) {\n",
       "                return fig.toolbar_button_onmouseover(tooltip);\n",
       "            }\n",
       "        };\n",
       "    }\n",
       "\n",
       "    fig.buttons = {};\n",
       "    var buttonGroup = document.createElement('div');\n",
       "    buttonGroup.classList = 'mpl-button-group';\n",
       "    for (var toolbar_ind in mpl.toolbar_items) {\n",
       "        var name = mpl.toolbar_items[toolbar_ind][0];\n",
       "        var tooltip = mpl.toolbar_items[toolbar_ind][1];\n",
       "        var image = mpl.toolbar_items[toolbar_ind][2];\n",
       "        var method_name = mpl.toolbar_items[toolbar_ind][3];\n",
       "\n",
       "        if (!name) {\n",
       "            /* Instead of a spacer, we start a new button group. */\n",
       "            if (buttonGroup.hasChildNodes()) {\n",
       "                toolbar.appendChild(buttonGroup);\n",
       "            }\n",
       "            buttonGroup = document.createElement('div');\n",
       "            buttonGroup.classList = 'mpl-button-group';\n",
       "            continue;\n",
       "        }\n",
       "\n",
       "        var button = (fig.buttons[name] = document.createElement('button'));\n",
       "        button.classList = 'mpl-widget';\n",
       "        button.setAttribute('role', 'button');\n",
       "        button.setAttribute('aria-disabled', 'false');\n",
       "        button.addEventListener('click', on_click_closure(method_name));\n",
       "        button.addEventListener('mouseover', on_mouseover_closure(tooltip));\n",
       "\n",
       "        var icon_img = document.createElement('img');\n",
       "        icon_img.src = '_images/' + image + '.png';\n",
       "        icon_img.srcset = '_images/' + image + '_large.png 2x';\n",
       "        icon_img.alt = tooltip;\n",
       "        button.appendChild(icon_img);\n",
       "\n",
       "        buttonGroup.appendChild(button);\n",
       "    }\n",
       "\n",
       "    if (buttonGroup.hasChildNodes()) {\n",
       "        toolbar.appendChild(buttonGroup);\n",
       "    }\n",
       "\n",
       "    var fmt_picker = document.createElement('select');\n",
       "    fmt_picker.classList = 'mpl-widget';\n",
       "    toolbar.appendChild(fmt_picker);\n",
       "    this.format_dropdown = fmt_picker;\n",
       "\n",
       "    for (var ind in mpl.extensions) {\n",
       "        var fmt = mpl.extensions[ind];\n",
       "        var option = document.createElement('option');\n",
       "        option.selected = fmt === mpl.default_extension;\n",
       "        option.innerHTML = fmt;\n",
       "        fmt_picker.appendChild(option);\n",
       "    }\n",
       "\n",
       "    var status_bar = document.createElement('span');\n",
       "    status_bar.classList = 'mpl-message';\n",
       "    toolbar.appendChild(status_bar);\n",
       "    this.message = status_bar;\n",
       "};\n",
       "\n",
       "mpl.figure.prototype.request_resize = function (x_pixels, y_pixels) {\n",
       "    // Request matplotlib to resize the figure. Matplotlib will then trigger a resize in the client,\n",
       "    // which will in turn request a refresh of the image.\n",
       "    this.send_message('resize', { width: x_pixels, height: y_pixels });\n",
       "};\n",
       "\n",
       "mpl.figure.prototype.send_message = function (type, properties) {\n",
       "    properties['type'] = type;\n",
       "    properties['figure_id'] = this.id;\n",
       "    this.ws.send(JSON.stringify(properties));\n",
       "};\n",
       "\n",
       "mpl.figure.prototype.send_draw_message = function () {\n",
       "    if (!this.waiting) {\n",
       "        this.waiting = true;\n",
       "        this.ws.send(JSON.stringify({ type: 'draw', figure_id: this.id }));\n",
       "    }\n",
       "};\n",
       "\n",
       "mpl.figure.prototype.handle_save = function (fig, _msg) {\n",
       "    var format_dropdown = fig.format_dropdown;\n",
       "    var format = format_dropdown.options[format_dropdown.selectedIndex].value;\n",
       "    fig.ondownload(fig, format);\n",
       "};\n",
       "\n",
       "mpl.figure.prototype.handle_resize = function (fig, msg) {\n",
       "    var size = msg['size'];\n",
       "    if (size[0] !== fig.canvas.width || size[1] !== fig.canvas.height) {\n",
       "        fig._resize_canvas(size[0], size[1], msg['forward']);\n",
       "        fig.send_message('refresh', {});\n",
       "    }\n",
       "};\n",
       "\n",
       "mpl.figure.prototype.handle_rubberband = function (fig, msg) {\n",
       "    var x0 = msg['x0'] / fig.ratio;\n",
       "    var y0 = (fig.canvas.height - msg['y0']) / fig.ratio;\n",
       "    var x1 = msg['x1'] / fig.ratio;\n",
       "    var y1 = (fig.canvas.height - msg['y1']) / fig.ratio;\n",
       "    x0 = Math.floor(x0) + 0.5;\n",
       "    y0 = Math.floor(y0) + 0.5;\n",
       "    x1 = Math.floor(x1) + 0.5;\n",
       "    y1 = Math.floor(y1) + 0.5;\n",
       "    var min_x = Math.min(x0, x1);\n",
       "    var min_y = Math.min(y0, y1);\n",
       "    var width = Math.abs(x1 - x0);\n",
       "    var height = Math.abs(y1 - y0);\n",
       "\n",
       "    fig.rubberband_context.clearRect(\n",
       "        0,\n",
       "        0,\n",
       "        fig.canvas.width / fig.ratio,\n",
       "        fig.canvas.height / fig.ratio\n",
       "    );\n",
       "\n",
       "    fig.rubberband_context.strokeRect(min_x, min_y, width, height);\n",
       "};\n",
       "\n",
       "mpl.figure.prototype.handle_figure_label = function (fig, msg) {\n",
       "    // Updates the figure title.\n",
       "    fig.header.textContent = msg['label'];\n",
       "};\n",
       "\n",
       "mpl.figure.prototype.handle_cursor = function (fig, msg) {\n",
       "    fig.canvas_div.style.cursor = msg['cursor'];\n",
       "};\n",
       "\n",
       "mpl.figure.prototype.handle_message = function (fig, msg) {\n",
       "    fig.message.textContent = msg['message'];\n",
       "};\n",
       "\n",
       "mpl.figure.prototype.handle_draw = function (fig, _msg) {\n",
       "    // Request the server to send over a new figure.\n",
       "    fig.send_draw_message();\n",
       "};\n",
       "\n",
       "mpl.figure.prototype.handle_image_mode = function (fig, msg) {\n",
       "    fig.image_mode = msg['mode'];\n",
       "};\n",
       "\n",
       "mpl.figure.prototype.handle_history_buttons = function (fig, msg) {\n",
       "    for (var key in msg) {\n",
       "        if (!(key in fig.buttons)) {\n",
       "            continue;\n",
       "        }\n",
       "        fig.buttons[key].disabled = !msg[key];\n",
       "        fig.buttons[key].setAttribute('aria-disabled', !msg[key]);\n",
       "    }\n",
       "};\n",
       "\n",
       "mpl.figure.prototype.handle_navigate_mode = function (fig, msg) {\n",
       "    if (msg['mode'] === 'PAN') {\n",
       "        fig.buttons['Pan'].classList.add('active');\n",
       "        fig.buttons['Zoom'].classList.remove('active');\n",
       "    } else if (msg['mode'] === 'ZOOM') {\n",
       "        fig.buttons['Pan'].classList.remove('active');\n",
       "        fig.buttons['Zoom'].classList.add('active');\n",
       "    } else {\n",
       "        fig.buttons['Pan'].classList.remove('active');\n",
       "        fig.buttons['Zoom'].classList.remove('active');\n",
       "    }\n",
       "};\n",
       "\n",
       "mpl.figure.prototype.updated_canvas_event = function () {\n",
       "    // Called whenever the canvas gets updated.\n",
       "    this.send_message('ack', {});\n",
       "};\n",
       "\n",
       "// A function to construct a web socket function for onmessage handling.\n",
       "// Called in the figure constructor.\n",
       "mpl.figure.prototype._make_on_message_function = function (fig) {\n",
       "    return function socket_on_message(evt) {\n",
       "        if (evt.data instanceof Blob) {\n",
       "            var img = evt.data;\n",
       "            if (img.type !== 'image/png') {\n",
       "                /* FIXME: We get \"Resource interpreted as Image but\n",
       "                 * transferred with MIME type text/plain:\" errors on\n",
       "                 * Chrome.  But how to set the MIME type?  It doesn't seem\n",
       "                 * to be part of the websocket stream */\n",
       "                img.type = 'image/png';\n",
       "            }\n",
       "\n",
       "            /* Free the memory for the previous frames */\n",
       "            if (fig.imageObj.src) {\n",
       "                (window.URL || window.webkitURL).revokeObjectURL(\n",
       "                    fig.imageObj.src\n",
       "                );\n",
       "            }\n",
       "\n",
       "            fig.imageObj.src = (window.URL || window.webkitURL).createObjectURL(\n",
       "                img\n",
       "            );\n",
       "            fig.updated_canvas_event();\n",
       "            fig.waiting = false;\n",
       "            return;\n",
       "        } else if (\n",
       "            typeof evt.data === 'string' &&\n",
       "            evt.data.slice(0, 21) === 'data:image/png;base64'\n",
       "        ) {\n",
       "            fig.imageObj.src = evt.data;\n",
       "            fig.updated_canvas_event();\n",
       "            fig.waiting = false;\n",
       "            return;\n",
       "        }\n",
       "\n",
       "        var msg = JSON.parse(evt.data);\n",
       "        var msg_type = msg['type'];\n",
       "\n",
       "        // Call the  \"handle_{type}\" callback, which takes\n",
       "        // the figure and JSON message as its only arguments.\n",
       "        try {\n",
       "            var callback = fig['handle_' + msg_type];\n",
       "        } catch (e) {\n",
       "            console.log(\n",
       "                \"No handler for the '\" + msg_type + \"' message type: \",\n",
       "                msg\n",
       "            );\n",
       "            return;\n",
       "        }\n",
       "\n",
       "        if (callback) {\n",
       "            try {\n",
       "                // console.log(\"Handling '\" + msg_type + \"' message: \", msg);\n",
       "                callback(fig, msg);\n",
       "            } catch (e) {\n",
       "                console.log(\n",
       "                    \"Exception inside the 'handler_\" + msg_type + \"' callback:\",\n",
       "                    e,\n",
       "                    e.stack,\n",
       "                    msg\n",
       "                );\n",
       "            }\n",
       "        }\n",
       "    };\n",
       "};\n",
       "\n",
       "function getModifiers(event) {\n",
       "    var mods = [];\n",
       "    if (event.ctrlKey) {\n",
       "        mods.push('ctrl');\n",
       "    }\n",
       "    if (event.altKey) {\n",
       "        mods.push('alt');\n",
       "    }\n",
       "    if (event.shiftKey) {\n",
       "        mods.push('shift');\n",
       "    }\n",
       "    if (event.metaKey) {\n",
       "        mods.push('meta');\n",
       "    }\n",
       "    return mods;\n",
       "}\n",
       "\n",
       "/*\n",
       " * return a copy of an object with only non-object keys\n",
       " * we need this to avoid circular references\n",
       " * https://stackoverflow.com/a/24161582/3208463\n",
       " */\n",
       "function simpleKeys(original) {\n",
       "    return Object.keys(original).reduce(function (obj, key) {\n",
       "        if (typeof original[key] !== 'object') {\n",
       "            obj[key] = original[key];\n",
       "        }\n",
       "        return obj;\n",
       "    }, {});\n",
       "}\n",
       "\n",
       "mpl.figure.prototype.mouse_event = function (event, name) {\n",
       "    if (name === 'button_press') {\n",
       "        this.canvas.focus();\n",
       "        this.canvas_div.focus();\n",
       "    }\n",
       "\n",
       "    // from https://stackoverflow.com/q/1114465\n",
       "    var boundingRect = this.canvas.getBoundingClientRect();\n",
       "    var x = (event.clientX - boundingRect.left) * this.ratio;\n",
       "    var y = (event.clientY - boundingRect.top) * this.ratio;\n",
       "\n",
       "    this.send_message(name, {\n",
       "        x: x,\n",
       "        y: y,\n",
       "        button: event.button,\n",
       "        step: event.step,\n",
       "        modifiers: getModifiers(event),\n",
       "        guiEvent: simpleKeys(event),\n",
       "    });\n",
       "\n",
       "    return false;\n",
       "};\n",
       "\n",
       "mpl.figure.prototype._key_event_extra = function (_event, _name) {\n",
       "    // Handle any extra behaviour associated with a key event\n",
       "};\n",
       "\n",
       "mpl.figure.prototype.key_event = function (event, name) {\n",
       "    // Prevent repeat events\n",
       "    if (name === 'key_press') {\n",
       "        if (event.key === this._key) {\n",
       "            return;\n",
       "        } else {\n",
       "            this._key = event.key;\n",
       "        }\n",
       "    }\n",
       "    if (name === 'key_release') {\n",
       "        this._key = null;\n",
       "    }\n",
       "\n",
       "    var value = '';\n",
       "    if (event.ctrlKey && event.key !== 'Control') {\n",
       "        value += 'ctrl+';\n",
       "    }\n",
       "    else if (event.altKey && event.key !== 'Alt') {\n",
       "        value += 'alt+';\n",
       "    }\n",
       "    else if (event.shiftKey && event.key !== 'Shift') {\n",
       "        value += 'shift+';\n",
       "    }\n",
       "\n",
       "    value += 'k' + event.key;\n",
       "\n",
       "    this._key_event_extra(event, name);\n",
       "\n",
       "    this.send_message(name, { key: value, guiEvent: simpleKeys(event) });\n",
       "    return false;\n",
       "};\n",
       "\n",
       "mpl.figure.prototype.toolbar_button_onclick = function (name) {\n",
       "    if (name === 'download') {\n",
       "        this.handle_save(this, null);\n",
       "    } else {\n",
       "        this.send_message('toolbar_button', { name: name });\n",
       "    }\n",
       "};\n",
       "\n",
       "mpl.figure.prototype.toolbar_button_onmouseover = function (tooltip) {\n",
       "    this.message.textContent = tooltip;\n",
       "};\n",
       "\n",
       "///////////////// REMAINING CONTENT GENERATED BY embed_js.py /////////////////\n",
       "// prettier-ignore\n",
       "var _JSXTOOLS_RESIZE_OBSERVER=function(A){var t,i=new WeakMap,n=new WeakMap,a=new WeakMap,r=new WeakMap,o=new Set;function s(e){if(!(this instanceof s))throw new TypeError(\"Constructor requires 'new' operator\");i.set(this,e)}function h(){throw new TypeError(\"Function is not a constructor\")}function c(e,t,i,n){e=0 in arguments?Number(arguments[0]):0,t=1 in arguments?Number(arguments[1]):0,i=2 in arguments?Number(arguments[2]):0,n=3 in arguments?Number(arguments[3]):0,this.right=(this.x=this.left=e)+(this.width=i),this.bottom=(this.y=this.top=t)+(this.height=n),Object.freeze(this)}function d(){t=requestAnimationFrame(d);var s=new WeakMap,p=new Set;o.forEach((function(t){r.get(t).forEach((function(i){var r=t instanceof window.SVGElement,o=a.get(t),d=r?0:parseFloat(o.paddingTop),f=r?0:parseFloat(o.paddingRight),l=r?0:parseFloat(o.paddingBottom),u=r?0:parseFloat(o.paddingLeft),g=r?0:parseFloat(o.borderTopWidth),m=r?0:parseFloat(o.borderRightWidth),w=r?0:parseFloat(o.borderBottomWidth),b=u+f,F=d+l,v=(r?0:parseFloat(o.borderLeftWidth))+m,W=g+w,y=r?0:t.offsetHeight-W-t.clientHeight,E=r?0:t.offsetWidth-v-t.clientWidth,R=b+v,z=F+W,M=r?t.width:parseFloat(o.width)-R-E,O=r?t.height:parseFloat(o.height)-z-y;if(n.has(t)){var k=n.get(t);if(k[0]===M&&k[1]===O)return}n.set(t,[M,O]);var S=Object.create(h.prototype);S.target=t,S.contentRect=new c(u,d,M,O),s.has(i)||(s.set(i,[]),p.add(i)),s.get(i).push(S)}))})),p.forEach((function(e){i.get(e).call(e,s.get(e),e)}))}return s.prototype.observe=function(i){if(i instanceof window.Element){r.has(i)||(r.set(i,new Set),o.add(i),a.set(i,window.getComputedStyle(i)));var n=r.get(i);n.has(this)||n.add(this),cancelAnimationFrame(t),t=requestAnimationFrame(d)}},s.prototype.unobserve=function(i){if(i instanceof window.Element&&r.has(i)){var n=r.get(i);n.has(this)&&(n.delete(this),n.size||(r.delete(i),o.delete(i))),n.size||r.delete(i),o.size||cancelAnimationFrame(t)}},A.DOMRectReadOnly=c,A.ResizeObserver=s,A.ResizeObserverEntry=h,A}; // eslint-disable-line\n",
       "mpl.toolbar_items = [[\"Home\", \"Reset original view\", \"fa fa-home\", \"home\"], [\"Back\", \"Back to previous view\", \"fa fa-arrow-left\", \"back\"], [\"Forward\", \"Forward to next view\", \"fa fa-arrow-right\", \"forward\"], [\"\", \"\", \"\", \"\"], [\"Pan\", \"Left button pans, Right button zooms\\nx/y fixes axis, CTRL fixes aspect\", \"fa fa-arrows\", \"pan\"], [\"Zoom\", \"Zoom to rectangle\\nx/y fixes axis\", \"fa fa-square-o\", \"zoom\"], [\"\", \"\", \"\", \"\"], [\"Download\", \"Download plot\", \"fa fa-floppy-o\", \"download\"]];\n",
       "\n",
       "mpl.extensions = [\"eps\", \"jpeg\", \"pgf\", \"pdf\", \"png\", \"ps\", \"raw\", \"svg\", \"tif\", \"webp\"];\n",
       "\n",
       "mpl.default_extension = \"png\";/* global mpl */\n",
       "\n",
       "var comm_websocket_adapter = function (comm) {\n",
       "    // Create a \"websocket\"-like object which calls the given IPython comm\n",
       "    // object with the appropriate methods. Currently this is a non binary\n",
       "    // socket, so there is still some room for performance tuning.\n",
       "    var ws = {};\n",
       "\n",
       "    ws.binaryType = comm.kernel.ws.binaryType;\n",
       "    ws.readyState = comm.kernel.ws.readyState;\n",
       "    function updateReadyState(_event) {\n",
       "        if (comm.kernel.ws) {\n",
       "            ws.readyState = comm.kernel.ws.readyState;\n",
       "        } else {\n",
       "            ws.readyState = 3; // Closed state.\n",
       "        }\n",
       "    }\n",
       "    comm.kernel.ws.addEventListener('open', updateReadyState);\n",
       "    comm.kernel.ws.addEventListener('close', updateReadyState);\n",
       "    comm.kernel.ws.addEventListener('error', updateReadyState);\n",
       "\n",
       "    ws.close = function () {\n",
       "        comm.close();\n",
       "    };\n",
       "    ws.send = function (m) {\n",
       "        //console.log('sending', m);\n",
       "        comm.send(m);\n",
       "    };\n",
       "    // Register the callback with on_msg.\n",
       "    comm.on_msg(function (msg) {\n",
       "        //console.log('receiving', msg['content']['data'], msg);\n",
       "        var data = msg['content']['data'];\n",
       "        if (data['blob'] !== undefined) {\n",
       "            data = {\n",
       "                data: new Blob(msg['buffers'], { type: data['blob'] }),\n",
       "            };\n",
       "        }\n",
       "        // Pass the mpl event to the overridden (by mpl) onmessage function.\n",
       "        ws.onmessage(data);\n",
       "    });\n",
       "    return ws;\n",
       "};\n",
       "\n",
       "mpl.mpl_figure_comm = function (comm, msg) {\n",
       "    // This is the function which gets called when the mpl process\n",
       "    // starts-up an IPython Comm through the \"matplotlib\" channel.\n",
       "\n",
       "    var id = msg.content.data.id;\n",
       "    // Get hold of the div created by the display call when the Comm\n",
       "    // socket was opened in Python.\n",
       "    var element = document.getElementById(id);\n",
       "    var ws_proxy = comm_websocket_adapter(comm);\n",
       "\n",
       "    function ondownload(figure, _format) {\n",
       "        window.open(figure.canvas.toDataURL());\n",
       "    }\n",
       "\n",
       "    var fig = new mpl.figure(id, ws_proxy, ondownload, element);\n",
       "\n",
       "    // Call onopen now - mpl needs it, as it is assuming we've passed it a real\n",
       "    // web socket which is closed, not our websocket->open comm proxy.\n",
       "    ws_proxy.onopen();\n",
       "\n",
       "    fig.parent_element = element;\n",
       "    fig.cell_info = mpl.find_output_cell(\"<div id='\" + id + \"'></div>\");\n",
       "    if (!fig.cell_info) {\n",
       "        console.error('Failed to find cell for figure', id, fig);\n",
       "        return;\n",
       "    }\n",
       "    fig.cell_info[0].output_area.element.on(\n",
       "        'cleared',\n",
       "        { fig: fig },\n",
       "        fig._remove_fig_handler\n",
       "    );\n",
       "};\n",
       "\n",
       "mpl.figure.prototype.handle_close = function (fig, msg) {\n",
       "    var width = fig.canvas.width / fig.ratio;\n",
       "    fig.cell_info[0].output_area.element.off(\n",
       "        'cleared',\n",
       "        fig._remove_fig_handler\n",
       "    );\n",
       "    fig.resizeObserverInstance.unobserve(fig.canvas_div);\n",
       "\n",
       "    // Update the output cell to use the data from the current canvas.\n",
       "    fig.push_to_output();\n",
       "    var dataURL = fig.canvas.toDataURL();\n",
       "    // Re-enable the keyboard manager in IPython - without this line, in FF,\n",
       "    // the notebook keyboard shortcuts fail.\n",
       "    IPython.keyboard_manager.enable();\n",
       "    fig.parent_element.innerHTML =\n",
       "        '<img src=\"' + dataURL + '\" width=\"' + width + '\">';\n",
       "    fig.close_ws(fig, msg);\n",
       "};\n",
       "\n",
       "mpl.figure.prototype.close_ws = function (fig, msg) {\n",
       "    fig.send_message('closing', msg);\n",
       "    // fig.ws.close()\n",
       "};\n",
       "\n",
       "mpl.figure.prototype.push_to_output = function (_remove_interactive) {\n",
       "    // Turn the data on the canvas into data in the output cell.\n",
       "    var width = this.canvas.width / this.ratio;\n",
       "    var dataURL = this.canvas.toDataURL();\n",
       "    this.cell_info[1]['text/html'] =\n",
       "        '<img src=\"' + dataURL + '\" width=\"' + width + '\">';\n",
       "};\n",
       "\n",
       "mpl.figure.prototype.updated_canvas_event = function () {\n",
       "    // Tell IPython that the notebook contents must change.\n",
       "    IPython.notebook.set_dirty(true);\n",
       "    this.send_message('ack', {});\n",
       "    var fig = this;\n",
       "    // Wait a second, then push the new image to the DOM so\n",
       "    // that it is saved nicely (might be nice to debounce this).\n",
       "    setTimeout(function () {\n",
       "        fig.push_to_output();\n",
       "    }, 1000);\n",
       "};\n",
       "\n",
       "mpl.figure.prototype._init_toolbar = function () {\n",
       "    var fig = this;\n",
       "\n",
       "    var toolbar = document.createElement('div');\n",
       "    toolbar.classList = 'btn-toolbar';\n",
       "    this.root.appendChild(toolbar);\n",
       "\n",
       "    function on_click_closure(name) {\n",
       "        return function (_event) {\n",
       "            return fig.toolbar_button_onclick(name);\n",
       "        };\n",
       "    }\n",
       "\n",
       "    function on_mouseover_closure(tooltip) {\n",
       "        return function (event) {\n",
       "            if (!event.currentTarget.disabled) {\n",
       "                return fig.toolbar_button_onmouseover(tooltip);\n",
       "            }\n",
       "        };\n",
       "    }\n",
       "\n",
       "    fig.buttons = {};\n",
       "    var buttonGroup = document.createElement('div');\n",
       "    buttonGroup.classList = 'btn-group';\n",
       "    var button;\n",
       "    for (var toolbar_ind in mpl.toolbar_items) {\n",
       "        var name = mpl.toolbar_items[toolbar_ind][0];\n",
       "        var tooltip = mpl.toolbar_items[toolbar_ind][1];\n",
       "        var image = mpl.toolbar_items[toolbar_ind][2];\n",
       "        var method_name = mpl.toolbar_items[toolbar_ind][3];\n",
       "\n",
       "        if (!name) {\n",
       "            /* Instead of a spacer, we start a new button group. */\n",
       "            if (buttonGroup.hasChildNodes()) {\n",
       "                toolbar.appendChild(buttonGroup);\n",
       "            }\n",
       "            buttonGroup = document.createElement('div');\n",
       "            buttonGroup.classList = 'btn-group';\n",
       "            continue;\n",
       "        }\n",
       "\n",
       "        button = fig.buttons[name] = document.createElement('button');\n",
       "        button.classList = 'btn btn-default';\n",
       "        button.href = '#';\n",
       "        button.title = name;\n",
       "        button.innerHTML = '<i class=\"fa ' + image + ' fa-lg\"></i>';\n",
       "        button.addEventListener('click', on_click_closure(method_name));\n",
       "        button.addEventListener('mouseover', on_mouseover_closure(tooltip));\n",
       "        buttonGroup.appendChild(button);\n",
       "    }\n",
       "\n",
       "    if (buttonGroup.hasChildNodes()) {\n",
       "        toolbar.appendChild(buttonGroup);\n",
       "    }\n",
       "\n",
       "    // Add the status bar.\n",
       "    var status_bar = document.createElement('span');\n",
       "    status_bar.classList = 'mpl-message pull-right';\n",
       "    toolbar.appendChild(status_bar);\n",
       "    this.message = status_bar;\n",
       "\n",
       "    // Add the close button to the window.\n",
       "    var buttongrp = document.createElement('div');\n",
       "    buttongrp.classList = 'btn-group inline pull-right';\n",
       "    button = document.createElement('button');\n",
       "    button.classList = 'btn btn-mini btn-primary';\n",
       "    button.href = '#';\n",
       "    button.title = 'Stop Interaction';\n",
       "    button.innerHTML = '<i class=\"fa fa-power-off icon-remove icon-large\"></i>';\n",
       "    button.addEventListener('click', function (_evt) {\n",
       "        fig.handle_close(fig, {});\n",
       "    });\n",
       "    button.addEventListener(\n",
       "        'mouseover',\n",
       "        on_mouseover_closure('Stop Interaction')\n",
       "    );\n",
       "    buttongrp.appendChild(button);\n",
       "    var titlebar = this.root.querySelector('.ui-dialog-titlebar');\n",
       "    titlebar.insertBefore(buttongrp, titlebar.firstChild);\n",
       "};\n",
       "\n",
       "mpl.figure.prototype._remove_fig_handler = function (event) {\n",
       "    var fig = event.data.fig;\n",
       "    if (event.target !== this) {\n",
       "        // Ignore bubbled events from children.\n",
       "        return;\n",
       "    }\n",
       "    fig.close_ws(fig, {});\n",
       "};\n",
       "\n",
       "mpl.figure.prototype._root_extra_style = function (el) {\n",
       "    el.style.boxSizing = 'content-box'; // override notebook setting of border-box.\n",
       "};\n",
       "\n",
       "mpl.figure.prototype._canvas_extra_style = function (el) {\n",
       "    // this is important to make the div 'focusable\n",
       "    el.setAttribute('tabindex', 0);\n",
       "    // reach out to IPython and tell the keyboard manager to turn it's self\n",
       "    // off when our div gets focus\n",
       "\n",
       "    // location in version 3\n",
       "    if (IPython.notebook.keyboard_manager) {\n",
       "        IPython.notebook.keyboard_manager.register_events(el);\n",
       "    } else {\n",
       "        // location in version 2\n",
       "        IPython.keyboard_manager.register_events(el);\n",
       "    }\n",
       "};\n",
       "\n",
       "mpl.figure.prototype._key_event_extra = function (event, _name) {\n",
       "    // Check for shift+enter\n",
       "    if (event.shiftKey && event.which === 13) {\n",
       "        this.canvas_div.blur();\n",
       "        // select the cell after this one\n",
       "        var index = IPython.notebook.find_cell_index(this.cell_info[0]);\n",
       "        IPython.notebook.select(index + 1);\n",
       "    }\n",
       "};\n",
       "\n",
       "mpl.figure.prototype.handle_save = function (fig, _msg) {\n",
       "    fig.ondownload(fig, null);\n",
       "};\n",
       "\n",
       "mpl.find_output_cell = function (html_output) {\n",
       "    // Return the cell and output element which can be found *uniquely* in the notebook.\n",
       "    // Note - this is a bit hacky, but it is done because the \"notebook_saving.Notebook\"\n",
       "    // IPython event is triggered only after the cells have been serialised, which for\n",
       "    // our purposes (turning an active figure into a static one), is too late.\n",
       "    var cells = IPython.notebook.get_cells();\n",
       "    var ncells = cells.length;\n",
       "    for (var i = 0; i < ncells; i++) {\n",
       "        var cell = cells[i];\n",
       "        if (cell.cell_type === 'code') {\n",
       "            for (var j = 0; j < cell.output_area.outputs.length; j++) {\n",
       "                var data = cell.output_area.outputs[j];\n",
       "                if (data.data) {\n",
       "                    // IPython >= 3 moved mimebundle to data attribute of output\n",
       "                    data = data.data;\n",
       "                }\n",
       "                if (data['text/html'] === html_output) {\n",
       "                    return [cell, data, j];\n",
       "                }\n",
       "            }\n",
       "        }\n",
       "    }\n",
       "};\n",
       "\n",
       "// Register the function which deals with the matplotlib target/channel.\n",
       "// The kernel may be null if the page has been refreshed.\n",
       "if (IPython.notebook.kernel !== null) {\n",
       "    IPython.notebook.kernel.comm_manager.register_target(\n",
       "        'matplotlib',\n",
       "        mpl.mpl_figure_comm\n",
       "    );\n",
       "}\n"
      ],
      "text/plain": [
       "<IPython.core.display.Javascript object>"
      ]
     },
     "metadata": {},
     "output_type": "display_data"
    },
    {
     "data": {
      "text/html": [
       "<img src=\"data:image/png;base64,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\" width=\"640\">"
      ],
      "text/plain": [
       "<IPython.core.display.HTML object>"
      ]
     },
     "metadata": {},
     "output_type": "display_data"
    },
    {
     "data": {
      "application/javascript": [
       "/* Put everything inside the global mpl namespace */\n",
       "/* global mpl */\n",
       "window.mpl = {};\n",
       "\n",
       "mpl.get_websocket_type = function () {\n",
       "    if (typeof WebSocket !== 'undefined') {\n",
       "        return WebSocket;\n",
       "    } else if (typeof MozWebSocket !== 'undefined') {\n",
       "        return MozWebSocket;\n",
       "    } else {\n",
       "        alert(\n",
       "            'Your browser does not have WebSocket support. ' +\n",
       "                'Please try Chrome, Safari or Firefox ≥ 6. ' +\n",
       "                'Firefox 4 and 5 are also supported but you ' +\n",
       "                'have to enable WebSockets in about:config.'\n",
       "        );\n",
       "    }\n",
       "};\n",
       "\n",
       "mpl.figure = function (figure_id, websocket, ondownload, parent_element) {\n",
       "    this.id = figure_id;\n",
       "\n",
       "    this.ws = websocket;\n",
       "\n",
       "    this.supports_binary = this.ws.binaryType !== undefined;\n",
       "\n",
       "    if (!this.supports_binary) {\n",
       "        var warnings = document.getElementById('mpl-warnings');\n",
       "        if (warnings) {\n",
       "            warnings.style.display = 'block';\n",
       "            warnings.textContent =\n",
       "                'This browser does not support binary websocket messages. ' +\n",
       "                'Performance may be slow.';\n",
       "        }\n",
       "    }\n",
       "\n",
       "    this.imageObj = new Image();\n",
       "\n",
       "    this.context = undefined;\n",
       "    this.message = undefined;\n",
       "    this.canvas = undefined;\n",
       "    this.rubberband_canvas = undefined;\n",
       "    this.rubberband_context = undefined;\n",
       "    this.format_dropdown = undefined;\n",
       "\n",
       "    this.image_mode = 'full';\n",
       "\n",
       "    this.root = document.createElement('div');\n",
       "    this.root.setAttribute('style', 'display: inline-block');\n",
       "    this._root_extra_style(this.root);\n",
       "\n",
       "    parent_element.appendChild(this.root);\n",
       "\n",
       "    this._init_header(this);\n",
       "    this._init_canvas(this);\n",
       "    this._init_toolbar(this);\n",
       "\n",
       "    var fig = this;\n",
       "\n",
       "    this.waiting = false;\n",
       "\n",
       "    this.ws.onopen = function () {\n",
       "        fig.send_message('supports_binary', { value: fig.supports_binary });\n",
       "        fig.send_message('send_image_mode', {});\n",
       "        if (fig.ratio !== 1) {\n",
       "            fig.send_message('set_device_pixel_ratio', {\n",
       "                device_pixel_ratio: fig.ratio,\n",
       "            });\n",
       "        }\n",
       "        fig.send_message('refresh', {});\n",
       "    };\n",
       "\n",
       "    this.imageObj.onload = function () {\n",
       "        if (fig.image_mode === 'full') {\n",
       "            // Full images could contain transparency (where diff images\n",
       "            // almost always do), so we need to clear the canvas so that\n",
       "            // there is no ghosting.\n",
       "            fig.context.clearRect(0, 0, fig.canvas.width, fig.canvas.height);\n",
       "        }\n",
       "        fig.context.drawImage(fig.imageObj, 0, 0);\n",
       "    };\n",
       "\n",
       "    this.imageObj.onunload = function () {\n",
       "        fig.ws.close();\n",
       "    };\n",
       "\n",
       "    this.ws.onmessage = this._make_on_message_function(this);\n",
       "\n",
       "    this.ondownload = ondownload;\n",
       "};\n",
       "\n",
       "mpl.figure.prototype._init_header = function () {\n",
       "    var titlebar = document.createElement('div');\n",
       "    titlebar.classList =\n",
       "        'ui-dialog-titlebar ui-widget-header ui-corner-all ui-helper-clearfix';\n",
       "    var titletext = document.createElement('div');\n",
       "    titletext.classList = 'ui-dialog-title';\n",
       "    titletext.setAttribute(\n",
       "        'style',\n",
       "        'width: 100%; text-align: center; padding: 3px;'\n",
       "    );\n",
       "    titlebar.appendChild(titletext);\n",
       "    this.root.appendChild(titlebar);\n",
       "    this.header = titletext;\n",
       "};\n",
       "\n",
       "mpl.figure.prototype._canvas_extra_style = function (_canvas_div) {};\n",
       "\n",
       "mpl.figure.prototype._root_extra_style = function (_canvas_div) {};\n",
       "\n",
       "mpl.figure.prototype._init_canvas = function () {\n",
       "    var fig = this;\n",
       "\n",
       "    var canvas_div = (this.canvas_div = document.createElement('div'));\n",
       "    canvas_div.setAttribute('tabindex', '0');\n",
       "    canvas_div.setAttribute(\n",
       "        'style',\n",
       "        'border: 1px solid #ddd;' +\n",
       "            'box-sizing: content-box;' +\n",
       "            'clear: both;' +\n",
       "            'min-height: 1px;' +\n",
       "            'min-width: 1px;' +\n",
       "            'outline: 0;' +\n",
       "            'overflow: hidden;' +\n",
       "            'position: relative;' +\n",
       "            'resize: both;' +\n",
       "            'z-index: 2;'\n",
       "    );\n",
       "\n",
       "    function on_keyboard_event_closure(name) {\n",
       "        return function (event) {\n",
       "            return fig.key_event(event, name);\n",
       "        };\n",
       "    }\n",
       "\n",
       "    canvas_div.addEventListener(\n",
       "        'keydown',\n",
       "        on_keyboard_event_closure('key_press')\n",
       "    );\n",
       "    canvas_div.addEventListener(\n",
       "        'keyup',\n",
       "        on_keyboard_event_closure('key_release')\n",
       "    );\n",
       "\n",
       "    this._canvas_extra_style(canvas_div);\n",
       "    this.root.appendChild(canvas_div);\n",
       "\n",
       "    var canvas = (this.canvas = document.createElement('canvas'));\n",
       "    canvas.classList.add('mpl-canvas');\n",
       "    canvas.setAttribute(\n",
       "        'style',\n",
       "        'box-sizing: content-box;' +\n",
       "            'pointer-events: none;' +\n",
       "            'position: relative;' +\n",
       "            'z-index: 0;'\n",
       "    );\n",
       "\n",
       "    this.context = canvas.getContext('2d');\n",
       "\n",
       "    var backingStore =\n",
       "        this.context.backingStorePixelRatio ||\n",
       "        this.context.webkitBackingStorePixelRatio ||\n",
       "        this.context.mozBackingStorePixelRatio ||\n",
       "        this.context.msBackingStorePixelRatio ||\n",
       "        this.context.oBackingStorePixelRatio ||\n",
       "        this.context.backingStorePixelRatio ||\n",
       "        1;\n",
       "\n",
       "    this.ratio = (window.devicePixelRatio || 1) / backingStore;\n",
       "\n",
       "    var rubberband_canvas = (this.rubberband_canvas = document.createElement(\n",
       "        'canvas'\n",
       "    ));\n",
       "    rubberband_canvas.setAttribute(\n",
       "        'style',\n",
       "        'box-sizing: content-box;' +\n",
       "            'left: 0;' +\n",
       "            'pointer-events: none;' +\n",
       "            'position: absolute;' +\n",
       "            'top: 0;' +\n",
       "            'z-index: 1;'\n",
       "    );\n",
       "\n",
       "    // Apply a ponyfill if ResizeObserver is not implemented by browser.\n",
       "    if (this.ResizeObserver === undefined) {\n",
       "        if (window.ResizeObserver !== undefined) {\n",
       "            this.ResizeObserver = window.ResizeObserver;\n",
       "        } else {\n",
       "            var obs = _JSXTOOLS_RESIZE_OBSERVER({});\n",
       "            this.ResizeObserver = obs.ResizeObserver;\n",
       "        }\n",
       "    }\n",
       "\n",
       "    this.resizeObserverInstance = new this.ResizeObserver(function (entries) {\n",
       "        var nentries = entries.length;\n",
       "        for (var i = 0; i < nentries; i++) {\n",
       "            var entry = entries[i];\n",
       "            var width, height;\n",
       "            if (entry.contentBoxSize) {\n",
       "                if (entry.contentBoxSize instanceof Array) {\n",
       "                    // Chrome 84 implements new version of spec.\n",
       "                    width = entry.contentBoxSize[0].inlineSize;\n",
       "                    height = entry.contentBoxSize[0].blockSize;\n",
       "                } else {\n",
       "                    // Firefox implements old version of spec.\n",
       "                    width = entry.contentBoxSize.inlineSize;\n",
       "                    height = entry.contentBoxSize.blockSize;\n",
       "                }\n",
       "            } else {\n",
       "                // Chrome <84 implements even older version of spec.\n",
       "                width = entry.contentRect.width;\n",
       "                height = entry.contentRect.height;\n",
       "            }\n",
       "\n",
       "            // Keep the size of the canvas and rubber band canvas in sync with\n",
       "            // the canvas container.\n",
       "            if (entry.devicePixelContentBoxSize) {\n",
       "                // Chrome 84 implements new version of spec.\n",
       "                canvas.setAttribute(\n",
       "                    'width',\n",
       "                    entry.devicePixelContentBoxSize[0].inlineSize\n",
       "                );\n",
       "                canvas.setAttribute(\n",
       "                    'height',\n",
       "                    entry.devicePixelContentBoxSize[0].blockSize\n",
       "                );\n",
       "            } else {\n",
       "                canvas.setAttribute('width', width * fig.ratio);\n",
       "                canvas.setAttribute('height', height * fig.ratio);\n",
       "            }\n",
       "            /* This rescales the canvas back to display pixels, so that it\n",
       "             * appears correct on HiDPI screens. */\n",
       "            canvas.style.width = width + 'px';\n",
       "            canvas.style.height = height + 'px';\n",
       "\n",
       "            rubberband_canvas.setAttribute('width', width);\n",
       "            rubberband_canvas.setAttribute('height', height);\n",
       "\n",
       "            // And update the size in Python. We ignore the initial 0/0 size\n",
       "            // that occurs as the element is placed into the DOM, which should\n",
       "            // otherwise not happen due to the minimum size styling.\n",
       "            if (fig.ws.readyState == 1 && width != 0 && height != 0) {\n",
       "                fig.request_resize(width, height);\n",
       "            }\n",
       "        }\n",
       "    });\n",
       "    this.resizeObserverInstance.observe(canvas_div);\n",
       "\n",
       "    function on_mouse_event_closure(name) {\n",
       "        /* User Agent sniffing is bad, but WebKit is busted:\n",
       "         * https://bugs.webkit.org/show_bug.cgi?id=144526\n",
       "         * https://bugs.webkit.org/show_bug.cgi?id=181818\n",
       "         * The worst that happens here is that they get an extra browser\n",
       "         * selection when dragging, if this check fails to catch them.\n",
       "         */\n",
       "        var UA = navigator.userAgent;\n",
       "        var isWebKit = /AppleWebKit/.test(UA) && !/Chrome/.test(UA);\n",
       "        if(isWebKit) {\n",
       "            return function (event) {\n",
       "                /* This prevents the web browser from automatically changing to\n",
       "                 * the text insertion cursor when the button is pressed. We\n",
       "                 * want to control all of the cursor setting manually through\n",
       "                 * the 'cursor' event from matplotlib */\n",
       "                event.preventDefault()\n",
       "                return fig.mouse_event(event, name);\n",
       "            };\n",
       "        } else {\n",
       "            return function (event) {\n",
       "                return fig.mouse_event(event, name);\n",
       "            };\n",
       "        }\n",
       "    }\n",
       "\n",
       "    canvas_div.addEventListener(\n",
       "        'mousedown',\n",
       "        on_mouse_event_closure('button_press')\n",
       "    );\n",
       "    canvas_div.addEventListener(\n",
       "        'mouseup',\n",
       "        on_mouse_event_closure('button_release')\n",
       "    );\n",
       "    canvas_div.addEventListener(\n",
       "        'dblclick',\n",
       "        on_mouse_event_closure('dblclick')\n",
       "    );\n",
       "    // Throttle sequential mouse events to 1 every 20ms.\n",
       "    canvas_div.addEventListener(\n",
       "        'mousemove',\n",
       "        on_mouse_event_closure('motion_notify')\n",
       "    );\n",
       "\n",
       "    canvas_div.addEventListener(\n",
       "        'mouseenter',\n",
       "        on_mouse_event_closure('figure_enter')\n",
       "    );\n",
       "    canvas_div.addEventListener(\n",
       "        'mouseleave',\n",
       "        on_mouse_event_closure('figure_leave')\n",
       "    );\n",
       "\n",
       "    canvas_div.addEventListener('wheel', function (event) {\n",
       "        if (event.deltaY < 0) {\n",
       "            event.step = 1;\n",
       "        } else {\n",
       "            event.step = -1;\n",
       "        }\n",
       "        on_mouse_event_closure('scroll')(event);\n",
       "    });\n",
       "\n",
       "    canvas_div.appendChild(canvas);\n",
       "    canvas_div.appendChild(rubberband_canvas);\n",
       "\n",
       "    this.rubberband_context = rubberband_canvas.getContext('2d');\n",
       "    this.rubberband_context.strokeStyle = '#000000';\n",
       "\n",
       "    this._resize_canvas = function (width, height, forward) {\n",
       "        if (forward) {\n",
       "            canvas_div.style.width = width + 'px';\n",
       "            canvas_div.style.height = height + 'px';\n",
       "        }\n",
       "    };\n",
       "\n",
       "    // Disable right mouse context menu.\n",
       "    canvas_div.addEventListener('contextmenu', function (_e) {\n",
       "        event.preventDefault();\n",
       "        return false;\n",
       "    });\n",
       "\n",
       "    function set_focus() {\n",
       "        canvas.focus();\n",
       "        canvas_div.focus();\n",
       "    }\n",
       "\n",
       "    window.setTimeout(set_focus, 100);\n",
       "};\n",
       "\n",
       "mpl.figure.prototype._init_toolbar = function () {\n",
       "    var fig = this;\n",
       "\n",
       "    var toolbar = document.createElement('div');\n",
       "    toolbar.classList = 'mpl-toolbar';\n",
       "    this.root.appendChild(toolbar);\n",
       "\n",
       "    function on_click_closure(name) {\n",
       "        return function (_event) {\n",
       "            return fig.toolbar_button_onclick(name);\n",
       "        };\n",
       "    }\n",
       "\n",
       "    function on_mouseover_closure(tooltip) {\n",
       "        return function (event) {\n",
       "            if (!event.currentTarget.disabled) {\n",
       "                return fig.toolbar_button_onmouseover(tooltip);\n",
       "            }\n",
       "        };\n",
       "    }\n",
       "\n",
       "    fig.buttons = {};\n",
       "    var buttonGroup = document.createElement('div');\n",
       "    buttonGroup.classList = 'mpl-button-group';\n",
       "    for (var toolbar_ind in mpl.toolbar_items) {\n",
       "        var name = mpl.toolbar_items[toolbar_ind][0];\n",
       "        var tooltip = mpl.toolbar_items[toolbar_ind][1];\n",
       "        var image = mpl.toolbar_items[toolbar_ind][2];\n",
       "        var method_name = mpl.toolbar_items[toolbar_ind][3];\n",
       "\n",
       "        if (!name) {\n",
       "            /* Instead of a spacer, we start a new button group. */\n",
       "            if (buttonGroup.hasChildNodes()) {\n",
       "                toolbar.appendChild(buttonGroup);\n",
       "            }\n",
       "            buttonGroup = document.createElement('div');\n",
       "            buttonGroup.classList = 'mpl-button-group';\n",
       "            continue;\n",
       "        }\n",
       "\n",
       "        var button = (fig.buttons[name] = document.createElement('button'));\n",
       "        button.classList = 'mpl-widget';\n",
       "        button.setAttribute('role', 'button');\n",
       "        button.setAttribute('aria-disabled', 'false');\n",
       "        button.addEventListener('click', on_click_closure(method_name));\n",
       "        button.addEventListener('mouseover', on_mouseover_closure(tooltip));\n",
       "\n",
       "        var icon_img = document.createElement('img');\n",
       "        icon_img.src = '_images/' + image + '.png';\n",
       "        icon_img.srcset = '_images/' + image + '_large.png 2x';\n",
       "        icon_img.alt = tooltip;\n",
       "        button.appendChild(icon_img);\n",
       "\n",
       "        buttonGroup.appendChild(button);\n",
       "    }\n",
       "\n",
       "    if (buttonGroup.hasChildNodes()) {\n",
       "        toolbar.appendChild(buttonGroup);\n",
       "    }\n",
       "\n",
       "    var fmt_picker = document.createElement('select');\n",
       "    fmt_picker.classList = 'mpl-widget';\n",
       "    toolbar.appendChild(fmt_picker);\n",
       "    this.format_dropdown = fmt_picker;\n",
       "\n",
       "    for (var ind in mpl.extensions) {\n",
       "        var fmt = mpl.extensions[ind];\n",
       "        var option = document.createElement('option');\n",
       "        option.selected = fmt === mpl.default_extension;\n",
       "        option.innerHTML = fmt;\n",
       "        fmt_picker.appendChild(option);\n",
       "    }\n",
       "\n",
       "    var status_bar = document.createElement('span');\n",
       "    status_bar.classList = 'mpl-message';\n",
       "    toolbar.appendChild(status_bar);\n",
       "    this.message = status_bar;\n",
       "};\n",
       "\n",
       "mpl.figure.prototype.request_resize = function (x_pixels, y_pixels) {\n",
       "    // Request matplotlib to resize the figure. Matplotlib will then trigger a resize in the client,\n",
       "    // which will in turn request a refresh of the image.\n",
       "    this.send_message('resize', { width: x_pixels, height: y_pixels });\n",
       "};\n",
       "\n",
       "mpl.figure.prototype.send_message = function (type, properties) {\n",
       "    properties['type'] = type;\n",
       "    properties['figure_id'] = this.id;\n",
       "    this.ws.send(JSON.stringify(properties));\n",
       "};\n",
       "\n",
       "mpl.figure.prototype.send_draw_message = function () {\n",
       "    if (!this.waiting) {\n",
       "        this.waiting = true;\n",
       "        this.ws.send(JSON.stringify({ type: 'draw', figure_id: this.id }));\n",
       "    }\n",
       "};\n",
       "\n",
       "mpl.figure.prototype.handle_save = function (fig, _msg) {\n",
       "    var format_dropdown = fig.format_dropdown;\n",
       "    var format = format_dropdown.options[format_dropdown.selectedIndex].value;\n",
       "    fig.ondownload(fig, format);\n",
       "};\n",
       "\n",
       "mpl.figure.prototype.handle_resize = function (fig, msg) {\n",
       "    var size = msg['size'];\n",
       "    if (size[0] !== fig.canvas.width || size[1] !== fig.canvas.height) {\n",
       "        fig._resize_canvas(size[0], size[1], msg['forward']);\n",
       "        fig.send_message('refresh', {});\n",
       "    }\n",
       "};\n",
       "\n",
       "mpl.figure.prototype.handle_rubberband = function (fig, msg) {\n",
       "    var x0 = msg['x0'] / fig.ratio;\n",
       "    var y0 = (fig.canvas.height - msg['y0']) / fig.ratio;\n",
       "    var x1 = msg['x1'] / fig.ratio;\n",
       "    var y1 = (fig.canvas.height - msg['y1']) / fig.ratio;\n",
       "    x0 = Math.floor(x0) + 0.5;\n",
       "    y0 = Math.floor(y0) + 0.5;\n",
       "    x1 = Math.floor(x1) + 0.5;\n",
       "    y1 = Math.floor(y1) + 0.5;\n",
       "    var min_x = Math.min(x0, x1);\n",
       "    var min_y = Math.min(y0, y1);\n",
       "    var width = Math.abs(x1 - x0);\n",
       "    var height = Math.abs(y1 - y0);\n",
       "\n",
       "    fig.rubberband_context.clearRect(\n",
       "        0,\n",
       "        0,\n",
       "        fig.canvas.width / fig.ratio,\n",
       "        fig.canvas.height / fig.ratio\n",
       "    );\n",
       "\n",
       "    fig.rubberband_context.strokeRect(min_x, min_y, width, height);\n",
       "};\n",
       "\n",
       "mpl.figure.prototype.handle_figure_label = function (fig, msg) {\n",
       "    // Updates the figure title.\n",
       "    fig.header.textContent = msg['label'];\n",
       "};\n",
       "\n",
       "mpl.figure.prototype.handle_cursor = function (fig, msg) {\n",
       "    fig.canvas_div.style.cursor = msg['cursor'];\n",
       "};\n",
       "\n",
       "mpl.figure.prototype.handle_message = function (fig, msg) {\n",
       "    fig.message.textContent = msg['message'];\n",
       "};\n",
       "\n",
       "mpl.figure.prototype.handle_draw = function (fig, _msg) {\n",
       "    // Request the server to send over a new figure.\n",
       "    fig.send_draw_message();\n",
       "};\n",
       "\n",
       "mpl.figure.prototype.handle_image_mode = function (fig, msg) {\n",
       "    fig.image_mode = msg['mode'];\n",
       "};\n",
       "\n",
       "mpl.figure.prototype.handle_history_buttons = function (fig, msg) {\n",
       "    for (var key in msg) {\n",
       "        if (!(key in fig.buttons)) {\n",
       "            continue;\n",
       "        }\n",
       "        fig.buttons[key].disabled = !msg[key];\n",
       "        fig.buttons[key].setAttribute('aria-disabled', !msg[key]);\n",
       "    }\n",
       "};\n",
       "\n",
       "mpl.figure.prototype.handle_navigate_mode = function (fig, msg) {\n",
       "    if (msg['mode'] === 'PAN') {\n",
       "        fig.buttons['Pan'].classList.add('active');\n",
       "        fig.buttons['Zoom'].classList.remove('active');\n",
       "    } else if (msg['mode'] === 'ZOOM') {\n",
       "        fig.buttons['Pan'].classList.remove('active');\n",
       "        fig.buttons['Zoom'].classList.add('active');\n",
       "    } else {\n",
       "        fig.buttons['Pan'].classList.remove('active');\n",
       "        fig.buttons['Zoom'].classList.remove('active');\n",
       "    }\n",
       "};\n",
       "\n",
       "mpl.figure.prototype.updated_canvas_event = function () {\n",
       "    // Called whenever the canvas gets updated.\n",
       "    this.send_message('ack', {});\n",
       "};\n",
       "\n",
       "// A function to construct a web socket function for onmessage handling.\n",
       "// Called in the figure constructor.\n",
       "mpl.figure.prototype._make_on_message_function = function (fig) {\n",
       "    return function socket_on_message(evt) {\n",
       "        if (evt.data instanceof Blob) {\n",
       "            var img = evt.data;\n",
       "            if (img.type !== 'image/png') {\n",
       "                /* FIXME: We get \"Resource interpreted as Image but\n",
       "                 * transferred with MIME type text/plain:\" errors on\n",
       "                 * Chrome.  But how to set the MIME type?  It doesn't seem\n",
       "                 * to be part of the websocket stream */\n",
       "                img.type = 'image/png';\n",
       "            }\n",
       "\n",
       "            /* Free the memory for the previous frames */\n",
       "            if (fig.imageObj.src) {\n",
       "                (window.URL || window.webkitURL).revokeObjectURL(\n",
       "                    fig.imageObj.src\n",
       "                );\n",
       "            }\n",
       "\n",
       "            fig.imageObj.src = (window.URL || window.webkitURL).createObjectURL(\n",
       "                img\n",
       "            );\n",
       "            fig.updated_canvas_event();\n",
       "            fig.waiting = false;\n",
       "            return;\n",
       "        } else if (\n",
       "            typeof evt.data === 'string' &&\n",
       "            evt.data.slice(0, 21) === 'data:image/png;base64'\n",
       "        ) {\n",
       "            fig.imageObj.src = evt.data;\n",
       "            fig.updated_canvas_event();\n",
       "            fig.waiting = false;\n",
       "            return;\n",
       "        }\n",
       "\n",
       "        var msg = JSON.parse(evt.data);\n",
       "        var msg_type = msg['type'];\n",
       "\n",
       "        // Call the  \"handle_{type}\" callback, which takes\n",
       "        // the figure and JSON message as its only arguments.\n",
       "        try {\n",
       "            var callback = fig['handle_' + msg_type];\n",
       "        } catch (e) {\n",
       "            console.log(\n",
       "                \"No handler for the '\" + msg_type + \"' message type: \",\n",
       "                msg\n",
       "            );\n",
       "            return;\n",
       "        }\n",
       "\n",
       "        if (callback) {\n",
       "            try {\n",
       "                // console.log(\"Handling '\" + msg_type + \"' message: \", msg);\n",
       "                callback(fig, msg);\n",
       "            } catch (e) {\n",
       "                console.log(\n",
       "                    \"Exception inside the 'handler_\" + msg_type + \"' callback:\",\n",
       "                    e,\n",
       "                    e.stack,\n",
       "                    msg\n",
       "                );\n",
       "            }\n",
       "        }\n",
       "    };\n",
       "};\n",
       "\n",
       "function getModifiers(event) {\n",
       "    var mods = [];\n",
       "    if (event.ctrlKey) {\n",
       "        mods.push('ctrl');\n",
       "    }\n",
       "    if (event.altKey) {\n",
       "        mods.push('alt');\n",
       "    }\n",
       "    if (event.shiftKey) {\n",
       "        mods.push('shift');\n",
       "    }\n",
       "    if (event.metaKey) {\n",
       "        mods.push('meta');\n",
       "    }\n",
       "    return mods;\n",
       "}\n",
       "\n",
       "/*\n",
       " * return a copy of an object with only non-object keys\n",
       " * we need this to avoid circular references\n",
       " * https://stackoverflow.com/a/24161582/3208463\n",
       " */\n",
       "function simpleKeys(original) {\n",
       "    return Object.keys(original).reduce(function (obj, key) {\n",
       "        if (typeof original[key] !== 'object') {\n",
       "            obj[key] = original[key];\n",
       "        }\n",
       "        return obj;\n",
       "    }, {});\n",
       "}\n",
       "\n",
       "mpl.figure.prototype.mouse_event = function (event, name) {\n",
       "    if (name === 'button_press') {\n",
       "        this.canvas.focus();\n",
       "        this.canvas_div.focus();\n",
       "    }\n",
       "\n",
       "    // from https://stackoverflow.com/q/1114465\n",
       "    var boundingRect = this.canvas.getBoundingClientRect();\n",
       "    var x = (event.clientX - boundingRect.left) * this.ratio;\n",
       "    var y = (event.clientY - boundingRect.top) * this.ratio;\n",
       "\n",
       "    this.send_message(name, {\n",
       "        x: x,\n",
       "        y: y,\n",
       "        button: event.button,\n",
       "        step: event.step,\n",
       "        modifiers: getModifiers(event),\n",
       "        guiEvent: simpleKeys(event),\n",
       "    });\n",
       "\n",
       "    return false;\n",
       "};\n",
       "\n",
       "mpl.figure.prototype._key_event_extra = function (_event, _name) {\n",
       "    // Handle any extra behaviour associated with a key event\n",
       "};\n",
       "\n",
       "mpl.figure.prototype.key_event = function (event, name) {\n",
       "    // Prevent repeat events\n",
       "    if (name === 'key_press') {\n",
       "        if (event.key === this._key) {\n",
       "            return;\n",
       "        } else {\n",
       "            this._key = event.key;\n",
       "        }\n",
       "    }\n",
       "    if (name === 'key_release') {\n",
       "        this._key = null;\n",
       "    }\n",
       "\n",
       "    var value = '';\n",
       "    if (event.ctrlKey && event.key !== 'Control') {\n",
       "        value += 'ctrl+';\n",
       "    }\n",
       "    else if (event.altKey && event.key !== 'Alt') {\n",
       "        value += 'alt+';\n",
       "    }\n",
       "    else if (event.shiftKey && event.key !== 'Shift') {\n",
       "        value += 'shift+';\n",
       "    }\n",
       "\n",
       "    value += 'k' + event.key;\n",
       "\n",
       "    this._key_event_extra(event, name);\n",
       "\n",
       "    this.send_message(name, { key: value, guiEvent: simpleKeys(event) });\n",
       "    return false;\n",
       "};\n",
       "\n",
       "mpl.figure.prototype.toolbar_button_onclick = function (name) {\n",
       "    if (name === 'download') {\n",
       "        this.handle_save(this, null);\n",
       "    } else {\n",
       "        this.send_message('toolbar_button', { name: name });\n",
       "    }\n",
       "};\n",
       "\n",
       "mpl.figure.prototype.toolbar_button_onmouseover = function (tooltip) {\n",
       "    this.message.textContent = tooltip;\n",
       "};\n",
       "\n",
       "///////////////// REMAINING CONTENT GENERATED BY embed_js.py /////////////////\n",
       "// prettier-ignore\n",
       "var _JSXTOOLS_RESIZE_OBSERVER=function(A){var t,i=new WeakMap,n=new WeakMap,a=new WeakMap,r=new WeakMap,o=new Set;function s(e){if(!(this instanceof s))throw new TypeError(\"Constructor requires 'new' operator\");i.set(this,e)}function h(){throw new TypeError(\"Function is not a constructor\")}function c(e,t,i,n){e=0 in arguments?Number(arguments[0]):0,t=1 in arguments?Number(arguments[1]):0,i=2 in arguments?Number(arguments[2]):0,n=3 in arguments?Number(arguments[3]):0,this.right=(this.x=this.left=e)+(this.width=i),this.bottom=(this.y=this.top=t)+(this.height=n),Object.freeze(this)}function d(){t=requestAnimationFrame(d);var s=new WeakMap,p=new Set;o.forEach((function(t){r.get(t).forEach((function(i){var r=t instanceof window.SVGElement,o=a.get(t),d=r?0:parseFloat(o.paddingTop),f=r?0:parseFloat(o.paddingRight),l=r?0:parseFloat(o.paddingBottom),u=r?0:parseFloat(o.paddingLeft),g=r?0:parseFloat(o.borderTopWidth),m=r?0:parseFloat(o.borderRightWidth),w=r?0:parseFloat(o.borderBottomWidth),b=u+f,F=d+l,v=(r?0:parseFloat(o.borderLeftWidth))+m,W=g+w,y=r?0:t.offsetHeight-W-t.clientHeight,E=r?0:t.offsetWidth-v-t.clientWidth,R=b+v,z=F+W,M=r?t.width:parseFloat(o.width)-R-E,O=r?t.height:parseFloat(o.height)-z-y;if(n.has(t)){var k=n.get(t);if(k[0]===M&&k[1]===O)return}n.set(t,[M,O]);var S=Object.create(h.prototype);S.target=t,S.contentRect=new c(u,d,M,O),s.has(i)||(s.set(i,[]),p.add(i)),s.get(i).push(S)}))})),p.forEach((function(e){i.get(e).call(e,s.get(e),e)}))}return s.prototype.observe=function(i){if(i instanceof window.Element){r.has(i)||(r.set(i,new Set),o.add(i),a.set(i,window.getComputedStyle(i)));var n=r.get(i);n.has(this)||n.add(this),cancelAnimationFrame(t),t=requestAnimationFrame(d)}},s.prototype.unobserve=function(i){if(i instanceof window.Element&&r.has(i)){var n=r.get(i);n.has(this)&&(n.delete(this),n.size||(r.delete(i),o.delete(i))),n.size||r.delete(i),o.size||cancelAnimationFrame(t)}},A.DOMRectReadOnly=c,A.ResizeObserver=s,A.ResizeObserverEntry=h,A}; // eslint-disable-line\n",
       "mpl.toolbar_items = [[\"Home\", \"Reset original view\", \"fa fa-home\", \"home\"], [\"Back\", \"Back to previous view\", \"fa fa-arrow-left\", \"back\"], [\"Forward\", \"Forward to next view\", \"fa fa-arrow-right\", \"forward\"], [\"\", \"\", \"\", \"\"], [\"Pan\", \"Left button pans, Right button zooms\\nx/y fixes axis, CTRL fixes aspect\", \"fa fa-arrows\", \"pan\"], [\"Zoom\", \"Zoom to rectangle\\nx/y fixes axis\", \"fa fa-square-o\", \"zoom\"], [\"\", \"\", \"\", \"\"], [\"Download\", \"Download plot\", \"fa fa-floppy-o\", \"download\"]];\n",
       "\n",
       "mpl.extensions = [\"eps\", \"jpeg\", \"pgf\", \"pdf\", \"png\", \"ps\", \"raw\", \"svg\", \"tif\", \"webp\"];\n",
       "\n",
       "mpl.default_extension = \"png\";/* global mpl */\n",
       "\n",
       "var comm_websocket_adapter = function (comm) {\n",
       "    // Create a \"websocket\"-like object which calls the given IPython comm\n",
       "    // object with the appropriate methods. Currently this is a non binary\n",
       "    // socket, so there is still some room for performance tuning.\n",
       "    var ws = {};\n",
       "\n",
       "    ws.binaryType = comm.kernel.ws.binaryType;\n",
       "    ws.readyState = comm.kernel.ws.readyState;\n",
       "    function updateReadyState(_event) {\n",
       "        if (comm.kernel.ws) {\n",
       "            ws.readyState = comm.kernel.ws.readyState;\n",
       "        } else {\n",
       "            ws.readyState = 3; // Closed state.\n",
       "        }\n",
       "    }\n",
       "    comm.kernel.ws.addEventListener('open', updateReadyState);\n",
       "    comm.kernel.ws.addEventListener('close', updateReadyState);\n",
       "    comm.kernel.ws.addEventListener('error', updateReadyState);\n",
       "\n",
       "    ws.close = function () {\n",
       "        comm.close();\n",
       "    };\n",
       "    ws.send = function (m) {\n",
       "        //console.log('sending', m);\n",
       "        comm.send(m);\n",
       "    };\n",
       "    // Register the callback with on_msg.\n",
       "    comm.on_msg(function (msg) {\n",
       "        //console.log('receiving', msg['content']['data'], msg);\n",
       "        var data = msg['content']['data'];\n",
       "        if (data['blob'] !== undefined) {\n",
       "            data = {\n",
       "                data: new Blob(msg['buffers'], { type: data['blob'] }),\n",
       "            };\n",
       "        }\n",
       "        // Pass the mpl event to the overridden (by mpl) onmessage function.\n",
       "        ws.onmessage(data);\n",
       "    });\n",
       "    return ws;\n",
       "};\n",
       "\n",
       "mpl.mpl_figure_comm = function (comm, msg) {\n",
       "    // This is the function which gets called when the mpl process\n",
       "    // starts-up an IPython Comm through the \"matplotlib\" channel.\n",
       "\n",
       "    var id = msg.content.data.id;\n",
       "    // Get hold of the div created by the display call when the Comm\n",
       "    // socket was opened in Python.\n",
       "    var element = document.getElementById(id);\n",
       "    var ws_proxy = comm_websocket_adapter(comm);\n",
       "\n",
       "    function ondownload(figure, _format) {\n",
       "        window.open(figure.canvas.toDataURL());\n",
       "    }\n",
       "\n",
       "    var fig = new mpl.figure(id, ws_proxy, ondownload, element);\n",
       "\n",
       "    // Call onopen now - mpl needs it, as it is assuming we've passed it a real\n",
       "    // web socket which is closed, not our websocket->open comm proxy.\n",
       "    ws_proxy.onopen();\n",
       "\n",
       "    fig.parent_element = element;\n",
       "    fig.cell_info = mpl.find_output_cell(\"<div id='\" + id + \"'></div>\");\n",
       "    if (!fig.cell_info) {\n",
       "        console.error('Failed to find cell for figure', id, fig);\n",
       "        return;\n",
       "    }\n",
       "    fig.cell_info[0].output_area.element.on(\n",
       "        'cleared',\n",
       "        { fig: fig },\n",
       "        fig._remove_fig_handler\n",
       "    );\n",
       "};\n",
       "\n",
       "mpl.figure.prototype.handle_close = function (fig, msg) {\n",
       "    var width = fig.canvas.width / fig.ratio;\n",
       "    fig.cell_info[0].output_area.element.off(\n",
       "        'cleared',\n",
       "        fig._remove_fig_handler\n",
       "    );\n",
       "    fig.resizeObserverInstance.unobserve(fig.canvas_div);\n",
       "\n",
       "    // Update the output cell to use the data from the current canvas.\n",
       "    fig.push_to_output();\n",
       "    var dataURL = fig.canvas.toDataURL();\n",
       "    // Re-enable the keyboard manager in IPython - without this line, in FF,\n",
       "    // the notebook keyboard shortcuts fail.\n",
       "    IPython.keyboard_manager.enable();\n",
       "    fig.parent_element.innerHTML =\n",
       "        '<img src=\"' + dataURL + '\" width=\"' + width + '\">';\n",
       "    fig.close_ws(fig, msg);\n",
       "};\n",
       "\n",
       "mpl.figure.prototype.close_ws = function (fig, msg) {\n",
       "    fig.send_message('closing', msg);\n",
       "    // fig.ws.close()\n",
       "};\n",
       "\n",
       "mpl.figure.prototype.push_to_output = function (_remove_interactive) {\n",
       "    // Turn the data on the canvas into data in the output cell.\n",
       "    var width = this.canvas.width / this.ratio;\n",
       "    var dataURL = this.canvas.toDataURL();\n",
       "    this.cell_info[1]['text/html'] =\n",
       "        '<img src=\"' + dataURL + '\" width=\"' + width + '\">';\n",
       "};\n",
       "\n",
       "mpl.figure.prototype.updated_canvas_event = function () {\n",
       "    // Tell IPython that the notebook contents must change.\n",
       "    IPython.notebook.set_dirty(true);\n",
       "    this.send_message('ack', {});\n",
       "    var fig = this;\n",
       "    // Wait a second, then push the new image to the DOM so\n",
       "    // that it is saved nicely (might be nice to debounce this).\n",
       "    setTimeout(function () {\n",
       "        fig.push_to_output();\n",
       "    }, 1000);\n",
       "};\n",
       "\n",
       "mpl.figure.prototype._init_toolbar = function () {\n",
       "    var fig = this;\n",
       "\n",
       "    var toolbar = document.createElement('div');\n",
       "    toolbar.classList = 'btn-toolbar';\n",
       "    this.root.appendChild(toolbar);\n",
       "\n",
       "    function on_click_closure(name) {\n",
       "        return function (_event) {\n",
       "            return fig.toolbar_button_onclick(name);\n",
       "        };\n",
       "    }\n",
       "\n",
       "    function on_mouseover_closure(tooltip) {\n",
       "        return function (event) {\n",
       "            if (!event.currentTarget.disabled) {\n",
       "                return fig.toolbar_button_onmouseover(tooltip);\n",
       "            }\n",
       "        };\n",
       "    }\n",
       "\n",
       "    fig.buttons = {};\n",
       "    var buttonGroup = document.createElement('div');\n",
       "    buttonGroup.classList = 'btn-group';\n",
       "    var button;\n",
       "    for (var toolbar_ind in mpl.toolbar_items) {\n",
       "        var name = mpl.toolbar_items[toolbar_ind][0];\n",
       "        var tooltip = mpl.toolbar_items[toolbar_ind][1];\n",
       "        var image = mpl.toolbar_items[toolbar_ind][2];\n",
       "        var method_name = mpl.toolbar_items[toolbar_ind][3];\n",
       "\n",
       "        if (!name) {\n",
       "            /* Instead of a spacer, we start a new button group. */\n",
       "            if (buttonGroup.hasChildNodes()) {\n",
       "                toolbar.appendChild(buttonGroup);\n",
       "            }\n",
       "            buttonGroup = document.createElement('div');\n",
       "            buttonGroup.classList = 'btn-group';\n",
       "            continue;\n",
       "        }\n",
       "\n",
       "        button = fig.buttons[name] = document.createElement('button');\n",
       "        button.classList = 'btn btn-default';\n",
       "        button.href = '#';\n",
       "        button.title = name;\n",
       "        button.innerHTML = '<i class=\"fa ' + image + ' fa-lg\"></i>';\n",
       "        button.addEventListener('click', on_click_closure(method_name));\n",
       "        button.addEventListener('mouseover', on_mouseover_closure(tooltip));\n",
       "        buttonGroup.appendChild(button);\n",
       "    }\n",
       "\n",
       "    if (buttonGroup.hasChildNodes()) {\n",
       "        toolbar.appendChild(buttonGroup);\n",
       "    }\n",
       "\n",
       "    // Add the status bar.\n",
       "    var status_bar = document.createElement('span');\n",
       "    status_bar.classList = 'mpl-message pull-right';\n",
       "    toolbar.appendChild(status_bar);\n",
       "    this.message = status_bar;\n",
       "\n",
       "    // Add the close button to the window.\n",
       "    var buttongrp = document.createElement('div');\n",
       "    buttongrp.classList = 'btn-group inline pull-right';\n",
       "    button = document.createElement('button');\n",
       "    button.classList = 'btn btn-mini btn-primary';\n",
       "    button.href = '#';\n",
       "    button.title = 'Stop Interaction';\n",
       "    button.innerHTML = '<i class=\"fa fa-power-off icon-remove icon-large\"></i>';\n",
       "    button.addEventListener('click', function (_evt) {\n",
       "        fig.handle_close(fig, {});\n",
       "    });\n",
       "    button.addEventListener(\n",
       "        'mouseover',\n",
       "        on_mouseover_closure('Stop Interaction')\n",
       "    );\n",
       "    buttongrp.appendChild(button);\n",
       "    var titlebar = this.root.querySelector('.ui-dialog-titlebar');\n",
       "    titlebar.insertBefore(buttongrp, titlebar.firstChild);\n",
       "};\n",
       "\n",
       "mpl.figure.prototype._remove_fig_handler = function (event) {\n",
       "    var fig = event.data.fig;\n",
       "    if (event.target !== this) {\n",
       "        // Ignore bubbled events from children.\n",
       "        return;\n",
       "    }\n",
       "    fig.close_ws(fig, {});\n",
       "};\n",
       "\n",
       "mpl.figure.prototype._root_extra_style = function (el) {\n",
       "    el.style.boxSizing = 'content-box'; // override notebook setting of border-box.\n",
       "};\n",
       "\n",
       "mpl.figure.prototype._canvas_extra_style = function (el) {\n",
       "    // this is important to make the div 'focusable\n",
       "    el.setAttribute('tabindex', 0);\n",
       "    // reach out to IPython and tell the keyboard manager to turn it's self\n",
       "    // off when our div gets focus\n",
       "\n",
       "    // location in version 3\n",
       "    if (IPython.notebook.keyboard_manager) {\n",
       "        IPython.notebook.keyboard_manager.register_events(el);\n",
       "    } else {\n",
       "        // location in version 2\n",
       "        IPython.keyboard_manager.register_events(el);\n",
       "    }\n",
       "};\n",
       "\n",
       "mpl.figure.prototype._key_event_extra = function (event, _name) {\n",
       "    // Check for shift+enter\n",
       "    if (event.shiftKey && event.which === 13) {\n",
       "        this.canvas_div.blur();\n",
       "        // select the cell after this one\n",
       "        var index = IPython.notebook.find_cell_index(this.cell_info[0]);\n",
       "        IPython.notebook.select(index + 1);\n",
       "    }\n",
       "};\n",
       "\n",
       "mpl.figure.prototype.handle_save = function (fig, _msg) {\n",
       "    fig.ondownload(fig, null);\n",
       "};\n",
       "\n",
       "mpl.find_output_cell = function (html_output) {\n",
       "    // Return the cell and output element which can be found *uniquely* in the notebook.\n",
       "    // Note - this is a bit hacky, but it is done because the \"notebook_saving.Notebook\"\n",
       "    // IPython event is triggered only after the cells have been serialised, which for\n",
       "    // our purposes (turning an active figure into a static one), is too late.\n",
       "    var cells = IPython.notebook.get_cells();\n",
       "    var ncells = cells.length;\n",
       "    for (var i = 0; i < ncells; i++) {\n",
       "        var cell = cells[i];\n",
       "        if (cell.cell_type === 'code') {\n",
       "            for (var j = 0; j < cell.output_area.outputs.length; j++) {\n",
       "                var data = cell.output_area.outputs[j];\n",
       "                if (data.data) {\n",
       "                    // IPython >= 3 moved mimebundle to data attribute of output\n",
       "                    data = data.data;\n",
       "                }\n",
       "                if (data['text/html'] === html_output) {\n",
       "                    return [cell, data, j];\n",
       "                }\n",
       "            }\n",
       "        }\n",
       "    }\n",
       "};\n",
       "\n",
       "// Register the function which deals with the matplotlib target/channel.\n",
       "// The kernel may be null if the page has been refreshed.\n",
       "if (IPython.notebook.kernel !== null) {\n",
       "    IPython.notebook.kernel.comm_manager.register_target(\n",
       "        'matplotlib',\n",
       "        mpl.mpl_figure_comm\n",
       "    );\n",
       "}\n"
      ],
      "text/plain": [
       "<IPython.core.display.Javascript object>"
      ]
     },
     "metadata": {},
     "output_type": "display_data"
    },
    {
     "data": {
      "text/html": [
       "<img src=\"data:image/png;base64,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\" width=\"1800\">"
      ],
      "text/plain": [
       "<IPython.core.display.HTML object>"
      ]
     },
     "metadata": {},
     "output_type": "display_data"
    }
   ],
   "source": [
    "import numpy as np\n",
    "import matplotlib.pyplot as plt\n",
    "\n",
    "\n",
    "fig,ax=plt.subplots(1,1)\n",
    "plt.figure(figsize=(18,4))\n",
    "cp = ax.contourf(m_arr, b_arr, z_arr)\n",
    "ax.plot(np.array(all_m).ravel(),np.array(all_b).ravel(),color='white')\n",
    "fig.colorbar(cp) # Add a colorbar to a plot\n",
    "ax.set_title('Filled Contours Plot')\n",
    "ax.set_xlabel('m')\n",
    "ax.set_ylabel('b')\n",
    "plt.show()"
   ]
  },
  {
   "cell_type": "code",
   "execution_count": 32,
   "id": "9d219894",
   "metadata": {},
   "outputs": [
    {
     "data": {
      "application/javascript": [
       "/* Put everything inside the global mpl namespace */\n",
       "/* global mpl */\n",
       "window.mpl = {};\n",
       "\n",
       "mpl.get_websocket_type = function () {\n",
       "    if (typeof WebSocket !== 'undefined') {\n",
       "        return WebSocket;\n",
       "    } else if (typeof MozWebSocket !== 'undefined') {\n",
       "        return MozWebSocket;\n",
       "    } else {\n",
       "        alert(\n",
       "            'Your browser does not have WebSocket support. ' +\n",
       "                'Please try Chrome, Safari or Firefox ≥ 6. ' +\n",
       "                'Firefox 4 and 5 are also supported but you ' +\n",
       "                'have to enable WebSockets in about:config.'\n",
       "        );\n",
       "    }\n",
       "};\n",
       "\n",
       "mpl.figure = function (figure_id, websocket, ondownload, parent_element) {\n",
       "    this.id = figure_id;\n",
       "\n",
       "    this.ws = websocket;\n",
       "\n",
       "    this.supports_binary = this.ws.binaryType !== undefined;\n",
       "\n",
       "    if (!this.supports_binary) {\n",
       "        var warnings = document.getElementById('mpl-warnings');\n",
       "        if (warnings) {\n",
       "            warnings.style.display = 'block';\n",
       "            warnings.textContent =\n",
       "                'This browser does not support binary websocket messages. ' +\n",
       "                'Performance may be slow.';\n",
       "        }\n",
       "    }\n",
       "\n",
       "    this.imageObj = new Image();\n",
       "\n",
       "    this.context = undefined;\n",
       "    this.message = undefined;\n",
       "    this.canvas = undefined;\n",
       "    this.rubberband_canvas = undefined;\n",
       "    this.rubberband_context = undefined;\n",
       "    this.format_dropdown = undefined;\n",
       "\n",
       "    this.image_mode = 'full';\n",
       "\n",
       "    this.root = document.createElement('div');\n",
       "    this.root.setAttribute('style', 'display: inline-block');\n",
       "    this._root_extra_style(this.root);\n",
       "\n",
       "    parent_element.appendChild(this.root);\n",
       "\n",
       "    this._init_header(this);\n",
       "    this._init_canvas(this);\n",
       "    this._init_toolbar(this);\n",
       "\n",
       "    var fig = this;\n",
       "\n",
       "    this.waiting = false;\n",
       "\n",
       "    this.ws.onopen = function () {\n",
       "        fig.send_message('supports_binary', { value: fig.supports_binary });\n",
       "        fig.send_message('send_image_mode', {});\n",
       "        if (fig.ratio !== 1) {\n",
       "            fig.send_message('set_device_pixel_ratio', {\n",
       "                device_pixel_ratio: fig.ratio,\n",
       "            });\n",
       "        }\n",
       "        fig.send_message('refresh', {});\n",
       "    };\n",
       "\n",
       "    this.imageObj.onload = function () {\n",
       "        if (fig.image_mode === 'full') {\n",
       "            // Full images could contain transparency (where diff images\n",
       "            // almost always do), so we need to clear the canvas so that\n",
       "            // there is no ghosting.\n",
       "            fig.context.clearRect(0, 0, fig.canvas.width, fig.canvas.height);\n",
       "        }\n",
       "        fig.context.drawImage(fig.imageObj, 0, 0);\n",
       "    };\n",
       "\n",
       "    this.imageObj.onunload = function () {\n",
       "        fig.ws.close();\n",
       "    };\n",
       "\n",
       "    this.ws.onmessage = this._make_on_message_function(this);\n",
       "\n",
       "    this.ondownload = ondownload;\n",
       "};\n",
       "\n",
       "mpl.figure.prototype._init_header = function () {\n",
       "    var titlebar = document.createElement('div');\n",
       "    titlebar.classList =\n",
       "        'ui-dialog-titlebar ui-widget-header ui-corner-all ui-helper-clearfix';\n",
       "    var titletext = document.createElement('div');\n",
       "    titletext.classList = 'ui-dialog-title';\n",
       "    titletext.setAttribute(\n",
       "        'style',\n",
       "        'width: 100%; text-align: center; padding: 3px;'\n",
       "    );\n",
       "    titlebar.appendChild(titletext);\n",
       "    this.root.appendChild(titlebar);\n",
       "    this.header = titletext;\n",
       "};\n",
       "\n",
       "mpl.figure.prototype._canvas_extra_style = function (_canvas_div) {};\n",
       "\n",
       "mpl.figure.prototype._root_extra_style = function (_canvas_div) {};\n",
       "\n",
       "mpl.figure.prototype._init_canvas = function () {\n",
       "    var fig = this;\n",
       "\n",
       "    var canvas_div = (this.canvas_div = document.createElement('div'));\n",
       "    canvas_div.setAttribute('tabindex', '0');\n",
       "    canvas_div.setAttribute(\n",
       "        'style',\n",
       "        'border: 1px solid #ddd;' +\n",
       "            'box-sizing: content-box;' +\n",
       "            'clear: both;' +\n",
       "            'min-height: 1px;' +\n",
       "            'min-width: 1px;' +\n",
       "            'outline: 0;' +\n",
       "            'overflow: hidden;' +\n",
       "            'position: relative;' +\n",
       "            'resize: both;' +\n",
       "            'z-index: 2;'\n",
       "    );\n",
       "\n",
       "    function on_keyboard_event_closure(name) {\n",
       "        return function (event) {\n",
       "            return fig.key_event(event, name);\n",
       "        };\n",
       "    }\n",
       "\n",
       "    canvas_div.addEventListener(\n",
       "        'keydown',\n",
       "        on_keyboard_event_closure('key_press')\n",
       "    );\n",
       "    canvas_div.addEventListener(\n",
       "        'keyup',\n",
       "        on_keyboard_event_closure('key_release')\n",
       "    );\n",
       "\n",
       "    this._canvas_extra_style(canvas_div);\n",
       "    this.root.appendChild(canvas_div);\n",
       "\n",
       "    var canvas = (this.canvas = document.createElement('canvas'));\n",
       "    canvas.classList.add('mpl-canvas');\n",
       "    canvas.setAttribute(\n",
       "        'style',\n",
       "        'box-sizing: content-box;' +\n",
       "            'pointer-events: none;' +\n",
       "            'position: relative;' +\n",
       "            'z-index: 0;'\n",
       "    );\n",
       "\n",
       "    this.context = canvas.getContext('2d');\n",
       "\n",
       "    var backingStore =\n",
       "        this.context.backingStorePixelRatio ||\n",
       "        this.context.webkitBackingStorePixelRatio ||\n",
       "        this.context.mozBackingStorePixelRatio ||\n",
       "        this.context.msBackingStorePixelRatio ||\n",
       "        this.context.oBackingStorePixelRatio ||\n",
       "        this.context.backingStorePixelRatio ||\n",
       "        1;\n",
       "\n",
       "    this.ratio = (window.devicePixelRatio || 1) / backingStore;\n",
       "\n",
       "    var rubberband_canvas = (this.rubberband_canvas = document.createElement(\n",
       "        'canvas'\n",
       "    ));\n",
       "    rubberband_canvas.setAttribute(\n",
       "        'style',\n",
       "        'box-sizing: content-box;' +\n",
       "            'left: 0;' +\n",
       "            'pointer-events: none;' +\n",
       "            'position: absolute;' +\n",
       "            'top: 0;' +\n",
       "            'z-index: 1;'\n",
       "    );\n",
       "\n",
       "    // Apply a ponyfill if ResizeObserver is not implemented by browser.\n",
       "    if (this.ResizeObserver === undefined) {\n",
       "        if (window.ResizeObserver !== undefined) {\n",
       "            this.ResizeObserver = window.ResizeObserver;\n",
       "        } else {\n",
       "            var obs = _JSXTOOLS_RESIZE_OBSERVER({});\n",
       "            this.ResizeObserver = obs.ResizeObserver;\n",
       "        }\n",
       "    }\n",
       "\n",
       "    this.resizeObserverInstance = new this.ResizeObserver(function (entries) {\n",
       "        var nentries = entries.length;\n",
       "        for (var i = 0; i < nentries; i++) {\n",
       "            var entry = entries[i];\n",
       "            var width, height;\n",
       "            if (entry.contentBoxSize) {\n",
       "                if (entry.contentBoxSize instanceof Array) {\n",
       "                    // Chrome 84 implements new version of spec.\n",
       "                    width = entry.contentBoxSize[0].inlineSize;\n",
       "                    height = entry.contentBoxSize[0].blockSize;\n",
       "                } else {\n",
       "                    // Firefox implements old version of spec.\n",
       "                    width = entry.contentBoxSize.inlineSize;\n",
       "                    height = entry.contentBoxSize.blockSize;\n",
       "                }\n",
       "            } else {\n",
       "                // Chrome <84 implements even older version of spec.\n",
       "                width = entry.contentRect.width;\n",
       "                height = entry.contentRect.height;\n",
       "            }\n",
       "\n",
       "            // Keep the size of the canvas and rubber band canvas in sync with\n",
       "            // the canvas container.\n",
       "            if (entry.devicePixelContentBoxSize) {\n",
       "                // Chrome 84 implements new version of spec.\n",
       "                canvas.setAttribute(\n",
       "                    'width',\n",
       "                    entry.devicePixelContentBoxSize[0].inlineSize\n",
       "                );\n",
       "                canvas.setAttribute(\n",
       "                    'height',\n",
       "                    entry.devicePixelContentBoxSize[0].blockSize\n",
       "                );\n",
       "            } else {\n",
       "                canvas.setAttribute('width', width * fig.ratio);\n",
       "                canvas.setAttribute('height', height * fig.ratio);\n",
       "            }\n",
       "            /* This rescales the canvas back to display pixels, so that it\n",
       "             * appears correct on HiDPI screens. */\n",
       "            canvas.style.width = width + 'px';\n",
       "            canvas.style.height = height + 'px';\n",
       "\n",
       "            rubberband_canvas.setAttribute('width', width);\n",
       "            rubberband_canvas.setAttribute('height', height);\n",
       "\n",
       "            // And update the size in Python. We ignore the initial 0/0 size\n",
       "            // that occurs as the element is placed into the DOM, which should\n",
       "            // otherwise not happen due to the minimum size styling.\n",
       "            if (fig.ws.readyState == 1 && width != 0 && height != 0) {\n",
       "                fig.request_resize(width, height);\n",
       "            }\n",
       "        }\n",
       "    });\n",
       "    this.resizeObserverInstance.observe(canvas_div);\n",
       "\n",
       "    function on_mouse_event_closure(name) {\n",
       "        /* User Agent sniffing is bad, but WebKit is busted:\n",
       "         * https://bugs.webkit.org/show_bug.cgi?id=144526\n",
       "         * https://bugs.webkit.org/show_bug.cgi?id=181818\n",
       "         * The worst that happens here is that they get an extra browser\n",
       "         * selection when dragging, if this check fails to catch them.\n",
       "         */\n",
       "        var UA = navigator.userAgent;\n",
       "        var isWebKit = /AppleWebKit/.test(UA) && !/Chrome/.test(UA);\n",
       "        if(isWebKit) {\n",
       "            return function (event) {\n",
       "                /* This prevents the web browser from automatically changing to\n",
       "                 * the text insertion cursor when the button is pressed. We\n",
       "                 * want to control all of the cursor setting manually through\n",
       "                 * the 'cursor' event from matplotlib */\n",
       "                event.preventDefault()\n",
       "                return fig.mouse_event(event, name);\n",
       "            };\n",
       "        } else {\n",
       "            return function (event) {\n",
       "                return fig.mouse_event(event, name);\n",
       "            };\n",
       "        }\n",
       "    }\n",
       "\n",
       "    canvas_div.addEventListener(\n",
       "        'mousedown',\n",
       "        on_mouse_event_closure('button_press')\n",
       "    );\n",
       "    canvas_div.addEventListener(\n",
       "        'mouseup',\n",
       "        on_mouse_event_closure('button_release')\n",
       "    );\n",
       "    canvas_div.addEventListener(\n",
       "        'dblclick',\n",
       "        on_mouse_event_closure('dblclick')\n",
       "    );\n",
       "    // Throttle sequential mouse events to 1 every 20ms.\n",
       "    canvas_div.addEventListener(\n",
       "        'mousemove',\n",
       "        on_mouse_event_closure('motion_notify')\n",
       "    );\n",
       "\n",
       "    canvas_div.addEventListener(\n",
       "        'mouseenter',\n",
       "        on_mouse_event_closure('figure_enter')\n",
       "    );\n",
       "    canvas_div.addEventListener(\n",
       "        'mouseleave',\n",
       "        on_mouse_event_closure('figure_leave')\n",
       "    );\n",
       "\n",
       "    canvas_div.addEventListener('wheel', function (event) {\n",
       "        if (event.deltaY < 0) {\n",
       "            event.step = 1;\n",
       "        } else {\n",
       "            event.step = -1;\n",
       "        }\n",
       "        on_mouse_event_closure('scroll')(event);\n",
       "    });\n",
       "\n",
       "    canvas_div.appendChild(canvas);\n",
       "    canvas_div.appendChild(rubberband_canvas);\n",
       "\n",
       "    this.rubberband_context = rubberband_canvas.getContext('2d');\n",
       "    this.rubberband_context.strokeStyle = '#000000';\n",
       "\n",
       "    this._resize_canvas = function (width, height, forward) {\n",
       "        if (forward) {\n",
       "            canvas_div.style.width = width + 'px';\n",
       "            canvas_div.style.height = height + 'px';\n",
       "        }\n",
       "    };\n",
       "\n",
       "    // Disable right mouse context menu.\n",
       "    canvas_div.addEventListener('contextmenu', function (_e) {\n",
       "        event.preventDefault();\n",
       "        return false;\n",
       "    });\n",
       "\n",
       "    function set_focus() {\n",
       "        canvas.focus();\n",
       "        canvas_div.focus();\n",
       "    }\n",
       "\n",
       "    window.setTimeout(set_focus, 100);\n",
       "};\n",
       "\n",
       "mpl.figure.prototype._init_toolbar = function () {\n",
       "    var fig = this;\n",
       "\n",
       "    var toolbar = document.createElement('div');\n",
       "    toolbar.classList = 'mpl-toolbar';\n",
       "    this.root.appendChild(toolbar);\n",
       "\n",
       "    function on_click_closure(name) {\n",
       "        return function (_event) {\n",
       "            return fig.toolbar_button_onclick(name);\n",
       "        };\n",
       "    }\n",
       "\n",
       "    function on_mouseover_closure(tooltip) {\n",
       "        return function (event) {\n",
       "            if (!event.currentTarget.disabled) {\n",
       "                return fig.toolbar_button_onmouseover(tooltip);\n",
       "            }\n",
       "        };\n",
       "    }\n",
       "\n",
       "    fig.buttons = {};\n",
       "    var buttonGroup = document.createElement('div');\n",
       "    buttonGroup.classList = 'mpl-button-group';\n",
       "    for (var toolbar_ind in mpl.toolbar_items) {\n",
       "        var name = mpl.toolbar_items[toolbar_ind][0];\n",
       "        var tooltip = mpl.toolbar_items[toolbar_ind][1];\n",
       "        var image = mpl.toolbar_items[toolbar_ind][2];\n",
       "        var method_name = mpl.toolbar_items[toolbar_ind][3];\n",
       "\n",
       "        if (!name) {\n",
       "            /* Instead of a spacer, we start a new button group. */\n",
       "            if (buttonGroup.hasChildNodes()) {\n",
       "                toolbar.appendChild(buttonGroup);\n",
       "            }\n",
       "            buttonGroup = document.createElement('div');\n",
       "            buttonGroup.classList = 'mpl-button-group';\n",
       "            continue;\n",
       "        }\n",
       "\n",
       "        var button = (fig.buttons[name] = document.createElement('button'));\n",
       "        button.classList = 'mpl-widget';\n",
       "        button.setAttribute('role', 'button');\n",
       "        button.setAttribute('aria-disabled', 'false');\n",
       "        button.addEventListener('click', on_click_closure(method_name));\n",
       "        button.addEventListener('mouseover', on_mouseover_closure(tooltip));\n",
       "\n",
       "        var icon_img = document.createElement('img');\n",
       "        icon_img.src = '_images/' + image + '.png';\n",
       "        icon_img.srcset = '_images/' + image + '_large.png 2x';\n",
       "        icon_img.alt = tooltip;\n",
       "        button.appendChild(icon_img);\n",
       "\n",
       "        buttonGroup.appendChild(button);\n",
       "    }\n",
       "\n",
       "    if (buttonGroup.hasChildNodes()) {\n",
       "        toolbar.appendChild(buttonGroup);\n",
       "    }\n",
       "\n",
       "    var fmt_picker = document.createElement('select');\n",
       "    fmt_picker.classList = 'mpl-widget';\n",
       "    toolbar.appendChild(fmt_picker);\n",
       "    this.format_dropdown = fmt_picker;\n",
       "\n",
       "    for (var ind in mpl.extensions) {\n",
       "        var fmt = mpl.extensions[ind];\n",
       "        var option = document.createElement('option');\n",
       "        option.selected = fmt === mpl.default_extension;\n",
       "        option.innerHTML = fmt;\n",
       "        fmt_picker.appendChild(option);\n",
       "    }\n",
       "\n",
       "    var status_bar = document.createElement('span');\n",
       "    status_bar.classList = 'mpl-message';\n",
       "    toolbar.appendChild(status_bar);\n",
       "    this.message = status_bar;\n",
       "};\n",
       "\n",
       "mpl.figure.prototype.request_resize = function (x_pixels, y_pixels) {\n",
       "    // Request matplotlib to resize the figure. Matplotlib will then trigger a resize in the client,\n",
       "    // which will in turn request a refresh of the image.\n",
       "    this.send_message('resize', { width: x_pixels, height: y_pixels });\n",
       "};\n",
       "\n",
       "mpl.figure.prototype.send_message = function (type, properties) {\n",
       "    properties['type'] = type;\n",
       "    properties['figure_id'] = this.id;\n",
       "    this.ws.send(JSON.stringify(properties));\n",
       "};\n",
       "\n",
       "mpl.figure.prototype.send_draw_message = function () {\n",
       "    if (!this.waiting) {\n",
       "        this.waiting = true;\n",
       "        this.ws.send(JSON.stringify({ type: 'draw', figure_id: this.id }));\n",
       "    }\n",
       "};\n",
       "\n",
       "mpl.figure.prototype.handle_save = function (fig, _msg) {\n",
       "    var format_dropdown = fig.format_dropdown;\n",
       "    var format = format_dropdown.options[format_dropdown.selectedIndex].value;\n",
       "    fig.ondownload(fig, format);\n",
       "};\n",
       "\n",
       "mpl.figure.prototype.handle_resize = function (fig, msg) {\n",
       "    var size = msg['size'];\n",
       "    if (size[0] !== fig.canvas.width || size[1] !== fig.canvas.height) {\n",
       "        fig._resize_canvas(size[0], size[1], msg['forward']);\n",
       "        fig.send_message('refresh', {});\n",
       "    }\n",
       "};\n",
       "\n",
       "mpl.figure.prototype.handle_rubberband = function (fig, msg) {\n",
       "    var x0 = msg['x0'] / fig.ratio;\n",
       "    var y0 = (fig.canvas.height - msg['y0']) / fig.ratio;\n",
       "    var x1 = msg['x1'] / fig.ratio;\n",
       "    var y1 = (fig.canvas.height - msg['y1']) / fig.ratio;\n",
       "    x0 = Math.floor(x0) + 0.5;\n",
       "    y0 = Math.floor(y0) + 0.5;\n",
       "    x1 = Math.floor(x1) + 0.5;\n",
       "    y1 = Math.floor(y1) + 0.5;\n",
       "    var min_x = Math.min(x0, x1);\n",
       "    var min_y = Math.min(y0, y1);\n",
       "    var width = Math.abs(x1 - x0);\n",
       "    var height = Math.abs(y1 - y0);\n",
       "\n",
       "    fig.rubberband_context.clearRect(\n",
       "        0,\n",
       "        0,\n",
       "        fig.canvas.width / fig.ratio,\n",
       "        fig.canvas.height / fig.ratio\n",
       "    );\n",
       "\n",
       "    fig.rubberband_context.strokeRect(min_x, min_y, width, height);\n",
       "};\n",
       "\n",
       "mpl.figure.prototype.handle_figure_label = function (fig, msg) {\n",
       "    // Updates the figure title.\n",
       "    fig.header.textContent = msg['label'];\n",
       "};\n",
       "\n",
       "mpl.figure.prototype.handle_cursor = function (fig, msg) {\n",
       "    fig.canvas_div.style.cursor = msg['cursor'];\n",
       "};\n",
       "\n",
       "mpl.figure.prototype.handle_message = function (fig, msg) {\n",
       "    fig.message.textContent = msg['message'];\n",
       "};\n",
       "\n",
       "mpl.figure.prototype.handle_draw = function (fig, _msg) {\n",
       "    // Request the server to send over a new figure.\n",
       "    fig.send_draw_message();\n",
       "};\n",
       "\n",
       "mpl.figure.prototype.handle_image_mode = function (fig, msg) {\n",
       "    fig.image_mode = msg['mode'];\n",
       "};\n",
       "\n",
       "mpl.figure.prototype.handle_history_buttons = function (fig, msg) {\n",
       "    for (var key in msg) {\n",
       "        if (!(key in fig.buttons)) {\n",
       "            continue;\n",
       "        }\n",
       "        fig.buttons[key].disabled = !msg[key];\n",
       "        fig.buttons[key].setAttribute('aria-disabled', !msg[key]);\n",
       "    }\n",
       "};\n",
       "\n",
       "mpl.figure.prototype.handle_navigate_mode = function (fig, msg) {\n",
       "    if (msg['mode'] === 'PAN') {\n",
       "        fig.buttons['Pan'].classList.add('active');\n",
       "        fig.buttons['Zoom'].classList.remove('active');\n",
       "    } else if (msg['mode'] === 'ZOOM') {\n",
       "        fig.buttons['Pan'].classList.remove('active');\n",
       "        fig.buttons['Zoom'].classList.add('active');\n",
       "    } else {\n",
       "        fig.buttons['Pan'].classList.remove('active');\n",
       "        fig.buttons['Zoom'].classList.remove('active');\n",
       "    }\n",
       "};\n",
       "\n",
       "mpl.figure.prototype.updated_canvas_event = function () {\n",
       "    // Called whenever the canvas gets updated.\n",
       "    this.send_message('ack', {});\n",
       "};\n",
       "\n",
       "// A function to construct a web socket function for onmessage handling.\n",
       "// Called in the figure constructor.\n",
       "mpl.figure.prototype._make_on_message_function = function (fig) {\n",
       "    return function socket_on_message(evt) {\n",
       "        if (evt.data instanceof Blob) {\n",
       "            var img = evt.data;\n",
       "            if (img.type !== 'image/png') {\n",
       "                /* FIXME: We get \"Resource interpreted as Image but\n",
       "                 * transferred with MIME type text/plain:\" errors on\n",
       "                 * Chrome.  But how to set the MIME type?  It doesn't seem\n",
       "                 * to be part of the websocket stream */\n",
       "                img.type = 'image/png';\n",
       "            }\n",
       "\n",
       "            /* Free the memory for the previous frames */\n",
       "            if (fig.imageObj.src) {\n",
       "                (window.URL || window.webkitURL).revokeObjectURL(\n",
       "                    fig.imageObj.src\n",
       "                );\n",
       "            }\n",
       "\n",
       "            fig.imageObj.src = (window.URL || window.webkitURL).createObjectURL(\n",
       "                img\n",
       "            );\n",
       "            fig.updated_canvas_event();\n",
       "            fig.waiting = false;\n",
       "            return;\n",
       "        } else if (\n",
       "            typeof evt.data === 'string' &&\n",
       "            evt.data.slice(0, 21) === 'data:image/png;base64'\n",
       "        ) {\n",
       "            fig.imageObj.src = evt.data;\n",
       "            fig.updated_canvas_event();\n",
       "            fig.waiting = false;\n",
       "            return;\n",
       "        }\n",
       "\n",
       "        var msg = JSON.parse(evt.data);\n",
       "        var msg_type = msg['type'];\n",
       "\n",
       "        // Call the  \"handle_{type}\" callback, which takes\n",
       "        // the figure and JSON message as its only arguments.\n",
       "        try {\n",
       "            var callback = fig['handle_' + msg_type];\n",
       "        } catch (e) {\n",
       "            console.log(\n",
       "                \"No handler for the '\" + msg_type + \"' message type: \",\n",
       "                msg\n",
       "            );\n",
       "            return;\n",
       "        }\n",
       "\n",
       "        if (callback) {\n",
       "            try {\n",
       "                // console.log(\"Handling '\" + msg_type + \"' message: \", msg);\n",
       "                callback(fig, msg);\n",
       "            } catch (e) {\n",
       "                console.log(\n",
       "                    \"Exception inside the 'handler_\" + msg_type + \"' callback:\",\n",
       "                    e,\n",
       "                    e.stack,\n",
       "                    msg\n",
       "                );\n",
       "            }\n",
       "        }\n",
       "    };\n",
       "};\n",
       "\n",
       "function getModifiers(event) {\n",
       "    var mods = [];\n",
       "    if (event.ctrlKey) {\n",
       "        mods.push('ctrl');\n",
       "    }\n",
       "    if (event.altKey) {\n",
       "        mods.push('alt');\n",
       "    }\n",
       "    if (event.shiftKey) {\n",
       "        mods.push('shift');\n",
       "    }\n",
       "    if (event.metaKey) {\n",
       "        mods.push('meta');\n",
       "    }\n",
       "    return mods;\n",
       "}\n",
       "\n",
       "/*\n",
       " * return a copy of an object with only non-object keys\n",
       " * we need this to avoid circular references\n",
       " * https://stackoverflow.com/a/24161582/3208463\n",
       " */\n",
       "function simpleKeys(original) {\n",
       "    return Object.keys(original).reduce(function (obj, key) {\n",
       "        if (typeof original[key] !== 'object') {\n",
       "            obj[key] = original[key];\n",
       "        }\n",
       "        return obj;\n",
       "    }, {});\n",
       "}\n",
       "\n",
       "mpl.figure.prototype.mouse_event = function (event, name) {\n",
       "    if (name === 'button_press') {\n",
       "        this.canvas.focus();\n",
       "        this.canvas_div.focus();\n",
       "    }\n",
       "\n",
       "    // from https://stackoverflow.com/q/1114465\n",
       "    var boundingRect = this.canvas.getBoundingClientRect();\n",
       "    var x = (event.clientX - boundingRect.left) * this.ratio;\n",
       "    var y = (event.clientY - boundingRect.top) * this.ratio;\n",
       "\n",
       "    this.send_message(name, {\n",
       "        x: x,\n",
       "        y: y,\n",
       "        button: event.button,\n",
       "        step: event.step,\n",
       "        modifiers: getModifiers(event),\n",
       "        guiEvent: simpleKeys(event),\n",
       "    });\n",
       "\n",
       "    return false;\n",
       "};\n",
       "\n",
       "mpl.figure.prototype._key_event_extra = function (_event, _name) {\n",
       "    // Handle any extra behaviour associated with a key event\n",
       "};\n",
       "\n",
       "mpl.figure.prototype.key_event = function (event, name) {\n",
       "    // Prevent repeat events\n",
       "    if (name === 'key_press') {\n",
       "        if (event.key === this._key) {\n",
       "            return;\n",
       "        } else {\n",
       "            this._key = event.key;\n",
       "        }\n",
       "    }\n",
       "    if (name === 'key_release') {\n",
       "        this._key = null;\n",
       "    }\n",
       "\n",
       "    var value = '';\n",
       "    if (event.ctrlKey && event.key !== 'Control') {\n",
       "        value += 'ctrl+';\n",
       "    }\n",
       "    else if (event.altKey && event.key !== 'Alt') {\n",
       "        value += 'alt+';\n",
       "    }\n",
       "    else if (event.shiftKey && event.key !== 'Shift') {\n",
       "        value += 'shift+';\n",
       "    }\n",
       "\n",
       "    value += 'k' + event.key;\n",
       "\n",
       "    this._key_event_extra(event, name);\n",
       "\n",
       "    this.send_message(name, { key: value, guiEvent: simpleKeys(event) });\n",
       "    return false;\n",
       "};\n",
       "\n",
       "mpl.figure.prototype.toolbar_button_onclick = function (name) {\n",
       "    if (name === 'download') {\n",
       "        this.handle_save(this, null);\n",
       "    } else {\n",
       "        this.send_message('toolbar_button', { name: name });\n",
       "    }\n",
       "};\n",
       "\n",
       "mpl.figure.prototype.toolbar_button_onmouseover = function (tooltip) {\n",
       "    this.message.textContent = tooltip;\n",
       "};\n",
       "\n",
       "///////////////// REMAINING CONTENT GENERATED BY embed_js.py /////////////////\n",
       "// prettier-ignore\n",
       "var _JSXTOOLS_RESIZE_OBSERVER=function(A){var t,i=new WeakMap,n=new WeakMap,a=new WeakMap,r=new WeakMap,o=new Set;function s(e){if(!(this instanceof s))throw new TypeError(\"Constructor requires 'new' operator\");i.set(this,e)}function h(){throw new TypeError(\"Function is not a constructor\")}function c(e,t,i,n){e=0 in arguments?Number(arguments[0]):0,t=1 in arguments?Number(arguments[1]):0,i=2 in arguments?Number(arguments[2]):0,n=3 in arguments?Number(arguments[3]):0,this.right=(this.x=this.left=e)+(this.width=i),this.bottom=(this.y=this.top=t)+(this.height=n),Object.freeze(this)}function d(){t=requestAnimationFrame(d);var s=new WeakMap,p=new Set;o.forEach((function(t){r.get(t).forEach((function(i){var r=t instanceof window.SVGElement,o=a.get(t),d=r?0:parseFloat(o.paddingTop),f=r?0:parseFloat(o.paddingRight),l=r?0:parseFloat(o.paddingBottom),u=r?0:parseFloat(o.paddingLeft),g=r?0:parseFloat(o.borderTopWidth),m=r?0:parseFloat(o.borderRightWidth),w=r?0:parseFloat(o.borderBottomWidth),b=u+f,F=d+l,v=(r?0:parseFloat(o.borderLeftWidth))+m,W=g+w,y=r?0:t.offsetHeight-W-t.clientHeight,E=r?0:t.offsetWidth-v-t.clientWidth,R=b+v,z=F+W,M=r?t.width:parseFloat(o.width)-R-E,O=r?t.height:parseFloat(o.height)-z-y;if(n.has(t)){var k=n.get(t);if(k[0]===M&&k[1]===O)return}n.set(t,[M,O]);var S=Object.create(h.prototype);S.target=t,S.contentRect=new c(u,d,M,O),s.has(i)||(s.set(i,[]),p.add(i)),s.get(i).push(S)}))})),p.forEach((function(e){i.get(e).call(e,s.get(e),e)}))}return s.prototype.observe=function(i){if(i instanceof window.Element){r.has(i)||(r.set(i,new Set),o.add(i),a.set(i,window.getComputedStyle(i)));var n=r.get(i);n.has(this)||n.add(this),cancelAnimationFrame(t),t=requestAnimationFrame(d)}},s.prototype.unobserve=function(i){if(i instanceof window.Element&&r.has(i)){var n=r.get(i);n.has(this)&&(n.delete(this),n.size||(r.delete(i),o.delete(i))),n.size||r.delete(i),o.size||cancelAnimationFrame(t)}},A.DOMRectReadOnly=c,A.ResizeObserver=s,A.ResizeObserverEntry=h,A}; // eslint-disable-line\n",
       "mpl.toolbar_items = [[\"Home\", \"Reset original view\", \"fa fa-home\", \"home\"], [\"Back\", \"Back to previous view\", \"fa fa-arrow-left\", \"back\"], [\"Forward\", \"Forward to next view\", \"fa fa-arrow-right\", \"forward\"], [\"\", \"\", \"\", \"\"], [\"Pan\", \"Left button pans, Right button zooms\\nx/y fixes axis, CTRL fixes aspect\", \"fa fa-arrows\", \"pan\"], [\"Zoom\", \"Zoom to rectangle\\nx/y fixes axis\", \"fa fa-square-o\", \"zoom\"], [\"\", \"\", \"\", \"\"], [\"Download\", \"Download plot\", \"fa fa-floppy-o\", \"download\"]];\n",
       "\n",
       "mpl.extensions = [\"eps\", \"jpeg\", \"pgf\", \"pdf\", \"png\", \"ps\", \"raw\", \"svg\", \"tif\", \"webp\"];\n",
       "\n",
       "mpl.default_extension = \"png\";/* global mpl */\n",
       "\n",
       "var comm_websocket_adapter = function (comm) {\n",
       "    // Create a \"websocket\"-like object which calls the given IPython comm\n",
       "    // object with the appropriate methods. Currently this is a non binary\n",
       "    // socket, so there is still some room for performance tuning.\n",
       "    var ws = {};\n",
       "\n",
       "    ws.binaryType = comm.kernel.ws.binaryType;\n",
       "    ws.readyState = comm.kernel.ws.readyState;\n",
       "    function updateReadyState(_event) {\n",
       "        if (comm.kernel.ws) {\n",
       "            ws.readyState = comm.kernel.ws.readyState;\n",
       "        } else {\n",
       "            ws.readyState = 3; // Closed state.\n",
       "        }\n",
       "    }\n",
       "    comm.kernel.ws.addEventListener('open', updateReadyState);\n",
       "    comm.kernel.ws.addEventListener('close', updateReadyState);\n",
       "    comm.kernel.ws.addEventListener('error', updateReadyState);\n",
       "\n",
       "    ws.close = function () {\n",
       "        comm.close();\n",
       "    };\n",
       "    ws.send = function (m) {\n",
       "        //console.log('sending', m);\n",
       "        comm.send(m);\n",
       "    };\n",
       "    // Register the callback with on_msg.\n",
       "    comm.on_msg(function (msg) {\n",
       "        //console.log('receiving', msg['content']['data'], msg);\n",
       "        var data = msg['content']['data'];\n",
       "        if (data['blob'] !== undefined) {\n",
       "            data = {\n",
       "                data: new Blob(msg['buffers'], { type: data['blob'] }),\n",
       "            };\n",
       "        }\n",
       "        // Pass the mpl event to the overridden (by mpl) onmessage function.\n",
       "        ws.onmessage(data);\n",
       "    });\n",
       "    return ws;\n",
       "};\n",
       "\n",
       "mpl.mpl_figure_comm = function (comm, msg) {\n",
       "    // This is the function which gets called when the mpl process\n",
       "    // starts-up an IPython Comm through the \"matplotlib\" channel.\n",
       "\n",
       "    var id = msg.content.data.id;\n",
       "    // Get hold of the div created by the display call when the Comm\n",
       "    // socket was opened in Python.\n",
       "    var element = document.getElementById(id);\n",
       "    var ws_proxy = comm_websocket_adapter(comm);\n",
       "\n",
       "    function ondownload(figure, _format) {\n",
       "        window.open(figure.canvas.toDataURL());\n",
       "    }\n",
       "\n",
       "    var fig = new mpl.figure(id, ws_proxy, ondownload, element);\n",
       "\n",
       "    // Call onopen now - mpl needs it, as it is assuming we've passed it a real\n",
       "    // web socket which is closed, not our websocket->open comm proxy.\n",
       "    ws_proxy.onopen();\n",
       "\n",
       "    fig.parent_element = element;\n",
       "    fig.cell_info = mpl.find_output_cell(\"<div id='\" + id + \"'></div>\");\n",
       "    if (!fig.cell_info) {\n",
       "        console.error('Failed to find cell for figure', id, fig);\n",
       "        return;\n",
       "    }\n",
       "    fig.cell_info[0].output_area.element.on(\n",
       "        'cleared',\n",
       "        { fig: fig },\n",
       "        fig._remove_fig_handler\n",
       "    );\n",
       "};\n",
       "\n",
       "mpl.figure.prototype.handle_close = function (fig, msg) {\n",
       "    var width = fig.canvas.width / fig.ratio;\n",
       "    fig.cell_info[0].output_area.element.off(\n",
       "        'cleared',\n",
       "        fig._remove_fig_handler\n",
       "    );\n",
       "    fig.resizeObserverInstance.unobserve(fig.canvas_div);\n",
       "\n",
       "    // Update the output cell to use the data from the current canvas.\n",
       "    fig.push_to_output();\n",
       "    var dataURL = fig.canvas.toDataURL();\n",
       "    // Re-enable the keyboard manager in IPython - without this line, in FF,\n",
       "    // the notebook keyboard shortcuts fail.\n",
       "    IPython.keyboard_manager.enable();\n",
       "    fig.parent_element.innerHTML =\n",
       "        '<img src=\"' + dataURL + '\" width=\"' + width + '\">';\n",
       "    fig.close_ws(fig, msg);\n",
       "};\n",
       "\n",
       "mpl.figure.prototype.close_ws = function (fig, msg) {\n",
       "    fig.send_message('closing', msg);\n",
       "    // fig.ws.close()\n",
       "};\n",
       "\n",
       "mpl.figure.prototype.push_to_output = function (_remove_interactive) {\n",
       "    // Turn the data on the canvas into data in the output cell.\n",
       "    var width = this.canvas.width / this.ratio;\n",
       "    var dataURL = this.canvas.toDataURL();\n",
       "    this.cell_info[1]['text/html'] =\n",
       "        '<img src=\"' + dataURL + '\" width=\"' + width + '\">';\n",
       "};\n",
       "\n",
       "mpl.figure.prototype.updated_canvas_event = function () {\n",
       "    // Tell IPython that the notebook contents must change.\n",
       "    IPython.notebook.set_dirty(true);\n",
       "    this.send_message('ack', {});\n",
       "    var fig = this;\n",
       "    // Wait a second, then push the new image to the DOM so\n",
       "    // that it is saved nicely (might be nice to debounce this).\n",
       "    setTimeout(function () {\n",
       "        fig.push_to_output();\n",
       "    }, 1000);\n",
       "};\n",
       "\n",
       "mpl.figure.prototype._init_toolbar = function () {\n",
       "    var fig = this;\n",
       "\n",
       "    var toolbar = document.createElement('div');\n",
       "    toolbar.classList = 'btn-toolbar';\n",
       "    this.root.appendChild(toolbar);\n",
       "\n",
       "    function on_click_closure(name) {\n",
       "        return function (_event) {\n",
       "            return fig.toolbar_button_onclick(name);\n",
       "        };\n",
       "    }\n",
       "\n",
       "    function on_mouseover_closure(tooltip) {\n",
       "        return function (event) {\n",
       "            if (!event.currentTarget.disabled) {\n",
       "                return fig.toolbar_button_onmouseover(tooltip);\n",
       "            }\n",
       "        };\n",
       "    }\n",
       "\n",
       "    fig.buttons = {};\n",
       "    var buttonGroup = document.createElement('div');\n",
       "    buttonGroup.classList = 'btn-group';\n",
       "    var button;\n",
       "    for (var toolbar_ind in mpl.toolbar_items) {\n",
       "        var name = mpl.toolbar_items[toolbar_ind][0];\n",
       "        var tooltip = mpl.toolbar_items[toolbar_ind][1];\n",
       "        var image = mpl.toolbar_items[toolbar_ind][2];\n",
       "        var method_name = mpl.toolbar_items[toolbar_ind][3];\n",
       "\n",
       "        if (!name) {\n",
       "            /* Instead of a spacer, we start a new button group. */\n",
       "            if (buttonGroup.hasChildNodes()) {\n",
       "                toolbar.appendChild(buttonGroup);\n",
       "            }\n",
       "            buttonGroup = document.createElement('div');\n",
       "            buttonGroup.classList = 'btn-group';\n",
       "            continue;\n",
       "        }\n",
       "\n",
       "        button = fig.buttons[name] = document.createElement('button');\n",
       "        button.classList = 'btn btn-default';\n",
       "        button.href = '#';\n",
       "        button.title = name;\n",
       "        button.innerHTML = '<i class=\"fa ' + image + ' fa-lg\"></i>';\n",
       "        button.addEventListener('click', on_click_closure(method_name));\n",
       "        button.addEventListener('mouseover', on_mouseover_closure(tooltip));\n",
       "        buttonGroup.appendChild(button);\n",
       "    }\n",
       "\n",
       "    if (buttonGroup.hasChildNodes()) {\n",
       "        toolbar.appendChild(buttonGroup);\n",
       "    }\n",
       "\n",
       "    // Add the status bar.\n",
       "    var status_bar = document.createElement('span');\n",
       "    status_bar.classList = 'mpl-message pull-right';\n",
       "    toolbar.appendChild(status_bar);\n",
       "    this.message = status_bar;\n",
       "\n",
       "    // Add the close button to the window.\n",
       "    var buttongrp = document.createElement('div');\n",
       "    buttongrp.classList = 'btn-group inline pull-right';\n",
       "    button = document.createElement('button');\n",
       "    button.classList = 'btn btn-mini btn-primary';\n",
       "    button.href = '#';\n",
       "    button.title = 'Stop Interaction';\n",
       "    button.innerHTML = '<i class=\"fa fa-power-off icon-remove icon-large\"></i>';\n",
       "    button.addEventListener('click', function (_evt) {\n",
       "        fig.handle_close(fig, {});\n",
       "    });\n",
       "    button.addEventListener(\n",
       "        'mouseover',\n",
       "        on_mouseover_closure('Stop Interaction')\n",
       "    );\n",
       "    buttongrp.appendChild(button);\n",
       "    var titlebar = this.root.querySelector('.ui-dialog-titlebar');\n",
       "    titlebar.insertBefore(buttongrp, titlebar.firstChild);\n",
       "};\n",
       "\n",
       "mpl.figure.prototype._remove_fig_handler = function (event) {\n",
       "    var fig = event.data.fig;\n",
       "    if (event.target !== this) {\n",
       "        // Ignore bubbled events from children.\n",
       "        return;\n",
       "    }\n",
       "    fig.close_ws(fig, {});\n",
       "};\n",
       "\n",
       "mpl.figure.prototype._root_extra_style = function (el) {\n",
       "    el.style.boxSizing = 'content-box'; // override notebook setting of border-box.\n",
       "};\n",
       "\n",
       "mpl.figure.prototype._canvas_extra_style = function (el) {\n",
       "    // this is important to make the div 'focusable\n",
       "    el.setAttribute('tabindex', 0);\n",
       "    // reach out to IPython and tell the keyboard manager to turn it's self\n",
       "    // off when our div gets focus\n",
       "\n",
       "    // location in version 3\n",
       "    if (IPython.notebook.keyboard_manager) {\n",
       "        IPython.notebook.keyboard_manager.register_events(el);\n",
       "    } else {\n",
       "        // location in version 2\n",
       "        IPython.keyboard_manager.register_events(el);\n",
       "    }\n",
       "};\n",
       "\n",
       "mpl.figure.prototype._key_event_extra = function (event, _name) {\n",
       "    // Check for shift+enter\n",
       "    if (event.shiftKey && event.which === 13) {\n",
       "        this.canvas_div.blur();\n",
       "        // select the cell after this one\n",
       "        var index = IPython.notebook.find_cell_index(this.cell_info[0]);\n",
       "        IPython.notebook.select(index + 1);\n",
       "    }\n",
       "};\n",
       "\n",
       "mpl.figure.prototype.handle_save = function (fig, _msg) {\n",
       "    fig.ondownload(fig, null);\n",
       "};\n",
       "\n",
       "mpl.find_output_cell = function (html_output) {\n",
       "    // Return the cell and output element which can be found *uniquely* in the notebook.\n",
       "    // Note - this is a bit hacky, but it is done because the \"notebook_saving.Notebook\"\n",
       "    // IPython event is triggered only after the cells have been serialised, which for\n",
       "    // our purposes (turning an active figure into a static one), is too late.\n",
       "    var cells = IPython.notebook.get_cells();\n",
       "    var ncells = cells.length;\n",
       "    for (var i = 0; i < ncells; i++) {\n",
       "        var cell = cells[i];\n",
       "        if (cell.cell_type === 'code') {\n",
       "            for (var j = 0; j < cell.output_area.outputs.length; j++) {\n",
       "                var data = cell.output_area.outputs[j];\n",
       "                if (data.data) {\n",
       "                    // IPython >= 3 moved mimebundle to data attribute of output\n",
       "                    data = data.data;\n",
       "                }\n",
       "                if (data['text/html'] === html_output) {\n",
       "                    return [cell, data, j];\n",
       "                }\n",
       "            }\n",
       "        }\n",
       "    }\n",
       "};\n",
       "\n",
       "// Register the function which deals with the matplotlib target/channel.\n",
       "// The kernel may be null if the page has been refreshed.\n",
       "if (IPython.notebook.kernel !== null) {\n",
       "    IPython.notebook.kernel.comm_manager.register_target(\n",
       "        'matplotlib',\n",
       "        mpl.mpl_figure_comm\n",
       "    );\n",
       "}\n"
      ],
      "text/plain": [
       "<IPython.core.display.Javascript object>"
      ]
     },
     "metadata": {},
     "output_type": "display_data"
    },
    {
     "data": {
      "text/html": [
       "<img src=\"data:image/png;base64,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\" width=\"900\">"
      ],
      "text/plain": [
       "<IPython.core.display.HTML object>"
      ]
     },
     "metadata": {},
     "output_type": "display_data"
    }
   ],
   "source": [
    "%matplotlib notebook\n",
    "from matplotlib.animation import FuncAnimation\n",
    "import matplotlib.animation as animation\n",
    "\n",
    "# intercept graph\n",
    "num_epochs = list(range(0,30))\n",
    "fig = plt.figure(figsize=(9,5)) \n",
    "axis = plt.axes(xlim =(-150, 150), ylim =(-150, 150)) \n",
    "\n",
    "axis.contourf(m_arr, b_arr, z_arr)\n",
    "\n",
    "line, = axis.plot([], [], lw = 2,color='white') \n",
    "  \n",
    "xdata, ydata = [], [] \n",
    "  \n",
    "# animation function \n",
    "def animate(i): \n",
    "    label = 'epoch {0}'.format(i + 1)\n",
    "    xdata.append(all_m[i]) \n",
    "    ydata.append(all_b[i]) \n",
    "    line.set_data(xdata, ydata) \n",
    "    axis.set_xlabel(label)\n",
    "      \n",
    "    return line, \n",
    "  \n",
    "# calling the animation function     \n",
    "anim = animation.FuncAnimation(fig, animate, frames = 30,repeat=False, interval = 500)\n"
   ]
  }
 ],
 "metadata": {
  "kernelspec": {
   "display_name": "Python 3 (ipykernel)",
   "language": "python",
   "name": "python3"
  },
  "language_info": {
   "codemirror_mode": {
    "name": "ipython",
    "version": 3
   },
   "file_extension": ".py",
   "mimetype": "text/x-python",
   "name": "python",
   "nbconvert_exporter": "python",
   "pygments_lexer": "ipython3",
   "version": "3.11.3"
  }
 },
 "nbformat": 4,
 "nbformat_minor": 5
}
