{
 "cells": [
  {
   "cell_type": "code",
   "execution_count": 1,
   "id": "e1a5bd40",
   "metadata": {},
   "outputs": [],
   "source": [
    "import numpy as np\n",
    "import pandas as pd\n",
    "import matplotlib.pyplot as plt\n",
    "\n",
    "from sklearn.model_selection import train_test_split\n",
    "from sklearn.impute import KNNImputer,SimpleImputer\n",
    "from sklearn.linear_model import LogisticRegression\n",
    "from sklearn.metrics import accuracy_score"
   ]
  },
  {
   "cell_type": "code",
   "execution_count": 2,
   "id": "7a398da3",
   "metadata": {},
   "outputs": [
    {
     "data": {
      "text/html": [
       "<div>\n",
       "<style scoped>\n",
       "    .dataframe tbody tr th:only-of-type {\n",
       "        vertical-align: middle;\n",
       "    }\n",
       "\n",
       "    .dataframe tbody tr th {\n",
       "        vertical-align: top;\n",
       "    }\n",
       "\n",
       "    .dataframe thead th {\n",
       "        text-align: right;\n",
       "    }\n",
       "</style>\n",
       "<table border=\"1\" class=\"dataframe\">\n",
       "  <thead>\n",
       "    <tr style=\"text-align: right;\">\n",
       "      <th></th>\n",
       "      <th>Age</th>\n",
       "      <th>Pclass</th>\n",
       "      <th>Fare</th>\n",
       "      <th>Survived</th>\n",
       "    </tr>\n",
       "  </thead>\n",
       "  <tbody>\n",
       "    <tr>\n",
       "      <th>0</th>\n",
       "      <td>22.0</td>\n",
       "      <td>3</td>\n",
       "      <td>7.2500</td>\n",
       "      <td>0</td>\n",
       "    </tr>\n",
       "    <tr>\n",
       "      <th>1</th>\n",
       "      <td>38.0</td>\n",
       "      <td>1</td>\n",
       "      <td>71.2833</td>\n",
       "      <td>1</td>\n",
       "    </tr>\n",
       "    <tr>\n",
       "      <th>2</th>\n",
       "      <td>26.0</td>\n",
       "      <td>3</td>\n",
       "      <td>7.9250</td>\n",
       "      <td>1</td>\n",
       "    </tr>\n",
       "    <tr>\n",
       "      <th>3</th>\n",
       "      <td>35.0</td>\n",
       "      <td>1</td>\n",
       "      <td>53.1000</td>\n",
       "      <td>1</td>\n",
       "    </tr>\n",
       "    <tr>\n",
       "      <th>4</th>\n",
       "      <td>35.0</td>\n",
       "      <td>3</td>\n",
       "      <td>8.0500</td>\n",
       "      <td>0</td>\n",
       "    </tr>\n",
       "    <tr>\n",
       "      <th>...</th>\n",
       "      <td>...</td>\n",
       "      <td>...</td>\n",
       "      <td>...</td>\n",
       "      <td>...</td>\n",
       "    </tr>\n",
       "    <tr>\n",
       "      <th>886</th>\n",
       "      <td>27.0</td>\n",
       "      <td>2</td>\n",
       "      <td>13.0000</td>\n",
       "      <td>0</td>\n",
       "    </tr>\n",
       "    <tr>\n",
       "      <th>887</th>\n",
       "      <td>19.0</td>\n",
       "      <td>1</td>\n",
       "      <td>30.0000</td>\n",
       "      <td>1</td>\n",
       "    </tr>\n",
       "    <tr>\n",
       "      <th>888</th>\n",
       "      <td>NaN</td>\n",
       "      <td>3</td>\n",
       "      <td>23.4500</td>\n",
       "      <td>0</td>\n",
       "    </tr>\n",
       "    <tr>\n",
       "      <th>889</th>\n",
       "      <td>26.0</td>\n",
       "      <td>1</td>\n",
       "      <td>30.0000</td>\n",
       "      <td>1</td>\n",
       "    </tr>\n",
       "    <tr>\n",
       "      <th>890</th>\n",
       "      <td>32.0</td>\n",
       "      <td>3</td>\n",
       "      <td>7.7500</td>\n",
       "      <td>0</td>\n",
       "    </tr>\n",
       "  </tbody>\n",
       "</table>\n",
       "<p>891 rows × 4 columns</p>\n",
       "</div>"
      ],
      "text/plain": [
       "      Age  Pclass     Fare  Survived\n",
       "0    22.0       3   7.2500         0\n",
       "1    38.0       1  71.2833         1\n",
       "2    26.0       3   7.9250         1\n",
       "3    35.0       1  53.1000         1\n",
       "4    35.0       3   8.0500         0\n",
       "..    ...     ...      ...       ...\n",
       "886  27.0       2  13.0000         0\n",
       "887  19.0       1  30.0000         1\n",
       "888   NaN       3  23.4500         0\n",
       "889  26.0       1  30.0000         1\n",
       "890  32.0       3   7.7500         0\n",
       "\n",
       "[891 rows x 4 columns]"
      ]
     },
     "execution_count": 2,
     "metadata": {},
     "output_type": "execute_result"
    }
   ],
   "source": [
    "df = pd.read_csv(\"C:\\\\Users\\\\arups\\\\OneDrive\\\\Desktop\\\\COLLECTION\\\\PROGRAMS\\\\TEST_CSVs\\\\titanic.csv\")[['Age','Pclass','Fare','Survived']]\n",
    "df"
   ]
  },
  {
   "cell_type": "code",
   "execution_count": 3,
   "id": "3d4e712a",
   "metadata": {},
   "outputs": [],
   "source": [
    "X_train,X_test,y_train,y_test = train_test_split(df.drop('Survived' , axis = 1),df['Survived'],test_size=0.2,random_state=2)"
   ]
  },
  {
   "cell_type": "raw",
   "id": "3d76c5f6",
   "metadata": {},
   "source": [
    "For classification tasks (using Logistic Regression or other classifiers), use accuracy_score to evaluate the model's performance.\n",
    "For regression tasks (using linear regression or other regression models), use r2_score to evaluate the model's performance in predicting continuous outcomes."
   ]
  },
  {
   "cell_type": "code",
   "execution_count": 4,
   "id": "d2b5de61",
   "metadata": {},
   "outputs": [
    {
     "name": "stdout",
     "output_type": "stream",
     "text": [
      "MAX SCORE IS: 0.7150837988826816 AND INDEX IS 2\n"
     ]
    }
   ],
   "source": [
    "MAX = 0\n",
    "best_idx = None\n",
    "\n",
    "for val in range(1, 11):\n",
    "    \n",
    "    X_train,X_test,y_train,y_test = train_test_split(df.drop('Survived' , axis = 1),df['Survived'],test_size=0.2,random_state=2)\n",
    "    rg = LogisticRegression()\n",
    "    knn = KNNImputer(n_neighbors=val , weights = 'distance')\n",
    "    X_train_trf = knn.fit_transform(X_train)\n",
    "    X_test_trf = knn.transform(X_test)\n",
    "    rg.fit(X_train_trf, y_train)\n",
    "    y_pred = rg.predict(X_test_trf)\n",
    "    score = accuracy_score(y_pred, y_test)\n",
    "    if (score > MAX):\n",
    "        MAX = score\n",
    "        best_idx = val\n",
    "\n",
    "print(f'MAX SCORE IS: {MAX} AND INDEX IS {best_idx}')\n"
   ]
  },
  {
   "cell_type": "code",
   "execution_count": 5,
   "id": "9f85560c",
   "metadata": {},
   "outputs": [
    {
     "name": "stdout",
     "output_type": "stream",
     "text": [
      "0.7150837988826816\n"
     ]
    }
   ],
   "source": [
    "knn = KNNImputer(n_neighbors=2 , weights='distance')\n",
    "clf = LogisticRegression()\n",
    "X_train_trf1 = knn.fit_transform(X_train)\n",
    "X_test_trf1 = knn.transform(X_test)\n",
    "clf.fit(X_train_trf1 , y_train)\n",
    "y_pred = clf.predict(X_test_trf1)\n",
    "print(accuracy_score(y_pred , y_test))"
   ]
  },
  {
   "cell_type": "code",
   "execution_count": 6,
   "id": "f632630c",
   "metadata": {
    "scrolled": true
   },
   "outputs": [
    {
     "name": "stdout",
     "output_type": "stream",
     "text": [
      "0.6927374301675978\n"
     ]
    }
   ],
   "source": [
    "# Comparison with simple imputer\n",
    "\n",
    "si = SimpleImputer()\n",
    "clf = LogisticRegression()\n",
    "X_train_trf2 = si.fit_transform(X_train)\n",
    "X_test_trf2 = si.transform(X_test)\n",
    "clf.fit(X_train_trf2 , y_train)\n",
    "y_pred = clf.predict(X_test_trf2)\n",
    "print(accuracy_score(y_pred , y_test))"
   ]
  },
  {
   "cell_type": "code",
   "execution_count": 13,
   "id": "383c1a19",
   "metadata": {},
   "outputs": [],
   "source": [
    "X_train_trf1 = pd.DataFrame(X_train_trf1 , columns = X_train.columns)\n",
    "X_train_trf2 = pd.DataFrame(X_train_trf2 , columns = X_train.columns)\n",
    "X_train_trf3 = pd.DataFrame(X_train_trf3 , columns = X_train.columns)"
   ]
  },
  {
   "cell_type": "code",
   "execution_count": 15,
   "id": "4a175480",
   "metadata": {},
   "outputs": [
    {
     "data": {
      "image/png": "[encoded data removed]",
      "text/plain": [
       "<Figure size 640x480 with 1 Axes>"
      ]
     },
     "metadata": {},
     "output_type": "display_data"
    }
   ],
   "source": [
    "X_train['Age'].plot(kind = 'kde' , c = 'r' , label = 'Original')\n",
    "X_train_trf2['Age'].plot(kind = 'kde' , c = 'b' , label = 'SimpleImputer')\n",
    "X_train_trf1['Age'].plot(kind = 'kde' , c = 'g' , label = 'KNNImputer')\n",
    "X_train_trf3['Age'].plot(kind = 'kde' , c = 'm' , label = 'IterativeImputer')\n",
    "plt.legend()\n",
    "plt.show()\n"
   ]
  },
  {
   "cell_type": "code",
   "execution_count": 9,
   "id": "e34afdd8",
   "metadata": {},
   "outputs": [],
   "source": [
    "from sklearn.experimental import enable_iterative_imputer\n",
    "from sklearn.impute import IterativeImputer"
   ]
  },
  {
   "cell_type": "code",
   "execution_count": 12,
   "id": "6c16e0d9",
   "metadata": {},
   "outputs": [
    {
     "name": "stdout",
     "output_type": "stream",
     "text": [
      "0.6927374301675978\n"
     ]
    }
   ],
   "source": [
    "it = IterativeImputer(max_iter=20 , random_state=2)\n",
    "clf = LogisticRegression()\n",
    "X_train_trf3 = it.fit_transform(X_train)\n",
    "X_test_trf3 = it.transform(X_test)\n",
    "clf.fit(X_train_trf3 , y_train)\n",
    "y_pred = clf.predict(X_test_trf3)\n",
    "print(accuracy_score(y_pred , y_test))"
   ]
  },
  {
   "cell_type": "code",
   "execution_count": null,
   "id": "c4f6a874",
   "metadata": {},
   "outputs": [],
   "source": []
  }
 ],
 "metadata": {
  "kernelspec": {
   "display_name": "Python 3 (ipykernel)",
   "language": "python",
   "name": "python3"
  },
  "language_info": {
   "codemirror_mode": {
    "name": "ipython",
    "version": 3
   },
   "file_extension": ".py",
   "mimetype": "text/x-python",
   "name": "python",
   "nbconvert_exporter": "python",
   "pygments_lexer": "ipython3",
   "version": "3.11.3"
  }
 },
 "nbformat": 4,
 "nbformat_minor": 5
}
