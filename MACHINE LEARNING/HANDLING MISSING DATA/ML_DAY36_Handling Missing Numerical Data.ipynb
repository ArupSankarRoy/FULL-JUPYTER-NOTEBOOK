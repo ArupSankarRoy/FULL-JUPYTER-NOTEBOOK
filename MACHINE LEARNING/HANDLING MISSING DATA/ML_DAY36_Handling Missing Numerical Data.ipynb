{
 "cells": [
  {
   "cell_type": "code",
   "execution_count": 1,
   "id": "35696663",
   "metadata": {},
   "outputs": [],
   "source": [
    "import numpy as np\n",
    "import pandas as pd\n",
    "import matplotlib.pyplot as plt\n",
    "from sklearn.impute import SimpleImputer\n",
    "from sklearn.compose import ColumnTransformer\n",
    "from sklearn.model_selection import train_test_split"
   ]
  },
  {
   "cell_type": "code",
   "execution_count": 2,
   "id": "7587007f",
   "metadata": {
    "scrolled": false
   },
   "outputs": [
    {
     "data": {
      "text/html": [
       "<div>\n",
       "<style scoped>\n",
       "    .dataframe tbody tr th:only-of-type {\n",
       "        vertical-align: middle;\n",
       "    }\n",
       "\n",
       "    .dataframe tbody tr th {\n",
       "        vertical-align: top;\n",
       "    }\n",
       "\n",
       "    .dataframe thead th {\n",
       "        text-align: right;\n",
       "    }\n",
       "</style>\n",
       "<table border=\"1\" class=\"dataframe\">\n",
       "  <thead>\n",
       "    <tr style=\"text-align: right;\">\n",
       "      <th></th>\n",
       "      <th>Age</th>\n",
       "      <th>Fare</th>\n",
       "      <th>Family</th>\n",
       "      <th>Survived</th>\n",
       "    </tr>\n",
       "  </thead>\n",
       "  <tbody>\n",
       "    <tr>\n",
       "      <th>0</th>\n",
       "      <td>22.0</td>\n",
       "      <td>7.2500</td>\n",
       "      <td>1</td>\n",
       "      <td>0</td>\n",
       "    </tr>\n",
       "    <tr>\n",
       "      <th>1</th>\n",
       "      <td>38.0</td>\n",
       "      <td>71.2833</td>\n",
       "      <td>1</td>\n",
       "      <td>1</td>\n",
       "    </tr>\n",
       "    <tr>\n",
       "      <th>2</th>\n",
       "      <td>26.0</td>\n",
       "      <td>7.9250</td>\n",
       "      <td>0</td>\n",
       "      <td>1</td>\n",
       "    </tr>\n",
       "    <tr>\n",
       "      <th>3</th>\n",
       "      <td>35.0</td>\n",
       "      <td>53.1000</td>\n",
       "      <td>1</td>\n",
       "      <td>1</td>\n",
       "    </tr>\n",
       "    <tr>\n",
       "      <th>4</th>\n",
       "      <td>35.0</td>\n",
       "      <td>8.0500</td>\n",
       "      <td>0</td>\n",
       "      <td>0</td>\n",
       "    </tr>\n",
       "  </tbody>\n",
       "</table>\n",
       "</div>"
      ],
      "text/plain": [
       "    Age     Fare  Family  Survived\n",
       "0  22.0   7.2500       1         0\n",
       "1  38.0  71.2833       1         1\n",
       "2  26.0   7.9250       0         1\n",
       "3  35.0  53.1000       1         1\n",
       "4  35.0   8.0500       0         0"
      ]
     },
     "execution_count": 2,
     "metadata": {},
     "output_type": "execute_result"
    }
   ],
   "source": [
    "df = pd.read_csv('https://raw.githubusercontent.com/campusx-official/100-days-of-machine-learning/main/day36-imputing-numerical-data/titanic_toy.csv')\n",
    "df.head()"
   ]
  },
  {
   "cell_type": "code",
   "execution_count": null,
   "id": "368e93db",
   "metadata": {},
   "outputs": [],
   "source": []
  },
  {
   "cell_type": "code",
   "execution_count": 3,
   "id": "91526b90",
   "metadata": {},
   "outputs": [],
   "source": [
    "X = df.drop(columns=['Survived'])\n",
    "y = df['Survived']"
   ]
  },
  {
   "cell_type": "code",
   "execution_count": 4,
   "id": "7fee9fb5",
   "metadata": {},
   "outputs": [],
   "source": [
    "X_train , X_test , y_train , y_test = train_test_split(X , y , random_state=1 , test_size = 0.1)"
   ]
  },
  {
   "cell_type": "code",
   "execution_count": 5,
   "id": "16d7a7d9",
   "metadata": {
    "scrolled": true
   },
   "outputs": [
    {
     "data": {
      "text/plain": [
       "Age       20.099875\n",
       "Fare       5.493134\n",
       "Family     0.000000\n",
       "dtype: float64"
      ]
     },
     "execution_count": 5,
     "metadata": {},
     "output_type": "execute_result"
    }
   ],
   "source": [
    "X_train.isnull().mean()*100"
   ]
  },
  {
   "cell_type": "code",
   "execution_count": 6,
   "id": "afd5663a",
   "metadata": {},
   "outputs": [],
   "source": [
    "X_train['Age_median'] = X_train['Age'].fillna(X_train['Age'].median())\n",
    "X_train['Age_mean'] = X_train['Age'].fillna(X_train['Age'].mean())\n",
    "X_train['Fare_median'] = X_train['Age'].fillna(X_train['Fare'].median())\n",
    "X_train['Fare_mean'] = X_train['Age'].fillna(X_train['Fare'].mean())"
   ]
  },
  {
   "cell_type": "code",
   "execution_count": 7,
   "id": "ee69efe2",
   "metadata": {
    "scrolled": true
   },
   "outputs": [
    {
     "name": "stdout",
     "output_type": "stream",
     "text": [
      "Original Age variable variance:  216.96661348567093\n",
      "Age Variance after median imputation:  173.59933919413234\n",
      "Age Variance after mean imputation:  173.3020825216797\n",
      "Original Fare variable variance:  2381.809487333049\n",
      "Fare Variance after median imputation:  211.7331223308365\n",
      "Fare Variance after mean imputation:  174.13483466536766\n"
     ]
    }
   ],
   "source": [
    "print('Original Age variable variance: ', X_train['Age'].var())\n",
    "print('Age Variance after median imputation: ', X_train['Age_median'].var())\n",
    "print('Age Variance after mean imputation: ', X_train['Age_mean'].var())\n",
    "\n",
    "print('Original Fare variable variance: ', X_train['Fare'].var())\n",
    "print('Fare Variance after median imputation: ', X_train['Fare_median'].var())\n",
    "print('Fare Variance after mean imputation: ', X_train['Fare_mean'].var())\n"
   ]
  },
  {
   "cell_type": "markdown",
   "id": "22fccdc6",
   "metadata": {},
   "source": [
    "### IF DISTRIBUTION CHANGES TOO MUCH THEN IT WILL BE A 'RED FLAG'. MEANS WE MUST HAVE TO AVOID THAT TECHNIQUE .IN BOX PLOT WE CAN CLEARLY SEE THAT AFTER FILLING AGE'S MISSING VALUE THE OUTLIERS ARE INCREASED"
   ]
  },
  {
   "cell_type": "code",
   "execution_count": 8,
   "id": "b161d7f7",
   "metadata": {
    "scrolled": true
   },
   "outputs": [
    {
     "data": {
      "image/png": "[encoded data removed]",
      "text/plain": [
       "<Figure size 640x480 with 1 Axes>"
      ]
     },
     "metadata": {},
     "output_type": "display_data"
    }
   ],
   "source": [
    "# Different types of Age\n",
    "\n",
    "X_train['Age'].plot(kind = 'kde' , c ='r' , label = 'Age')\n",
    "X_train['Age_mean'].plot(kind = 'kde' , c = 'b' , label = 'Age_mean')\n",
    "X_train['Age_median'].plot(kind = 'kde' , c = 'g' , label = 'Age_median')\n",
    "plt.legend(loc = 'upper left')\n",
    "\n",
    "plt.show()\n",
    "\n"
   ]
  },
  {
   "cell_type": "code",
   "execution_count": 9,
   "id": "ea4db4b8",
   "metadata": {},
   "outputs": [
    {
     "data": {
      "image/png": "[encoded data removed]",
      "text/plain": [
       "<Figure size 640x480 with 1 Axes>"
      ]
     },
     "metadata": {},
     "output_type": "display_data"
    }
   ],
   "source": [
    "# Different types of Fare\n",
    "\n",
    "X_train['Fare'].plot(kind = 'kde' , c ='r' , label = 'Fare')\n",
    "X_train['Fare_mean'].plot(kind = 'kde' , c = 'b' , label = 'Fare_mean')\n",
    "X_train['Fare_median'].plot(kind = 'kde' , c = 'g' , label = 'Fare_median')\n",
    "plt.legend(loc = 'upper left')\n",
    "\n",
    "plt.show()"
   ]
  },
  {
   "cell_type": "code",
   "execution_count": 10,
   "id": "c653ad31",
   "metadata": {},
   "outputs": [
    {
     "data": {
      "text/html": [
       "<div>\n",
       "<style scoped>\n",
       "    .dataframe tbody tr th:only-of-type {\n",
       "        vertical-align: middle;\n",
       "    }\n",
       "\n",
       "    .dataframe tbody tr th {\n",
       "        vertical-align: top;\n",
       "    }\n",
       "\n",
       "    .dataframe thead th {\n",
       "        text-align: right;\n",
       "    }\n",
       "</style>\n",
       "<table border=\"1\" class=\"dataframe\">\n",
       "  <thead>\n",
       "    <tr style=\"text-align: right;\">\n",
       "      <th></th>\n",
       "      <th>Age</th>\n",
       "      <th>Fare</th>\n",
       "      <th>Family</th>\n",
       "      <th>Age_median</th>\n",
       "      <th>Age_mean</th>\n",
       "      <th>Fare_median</th>\n",
       "      <th>Fare_mean</th>\n",
       "    </tr>\n",
       "  </thead>\n",
       "  <tbody>\n",
       "    <tr>\n",
       "      <th>Age</th>\n",
       "      <td>216.966613</td>\n",
       "      <td>85.668631</td>\n",
       "      <td>-6.352877</td>\n",
       "      <td>216.966613</td>\n",
       "      <td>216.966613</td>\n",
       "      <td>216.966613</td>\n",
       "      <td>216.966613</td>\n",
       "    </tr>\n",
       "    <tr>\n",
       "      <th>Fare</th>\n",
       "      <td>85.668631</td>\n",
       "      <td>2381.809487</td>\n",
       "      <td>17.633128</td>\n",
       "      <td>70.647701</td>\n",
       "      <td>68.111009</td>\n",
       "      <td>96.954179</td>\n",
       "      <td>63.865207</td>\n",
       "    </tr>\n",
       "    <tr>\n",
       "      <th>Family</th>\n",
       "      <td>-6.352877</td>\n",
       "      <td>17.633128</td>\n",
       "      <td>2.360331</td>\n",
       "      <td>-5.023885</td>\n",
       "      <td>-5.074360</td>\n",
       "      <td>-4.500438</td>\n",
       "      <td>-5.158844</td>\n",
       "    </tr>\n",
       "    <tr>\n",
       "      <th>Age_median</th>\n",
       "      <td>216.966613</td>\n",
       "      <td>70.647701</td>\n",
       "      <td>-5.023885</td>\n",
       "      <td>173.599339</td>\n",
       "      <td>173.302083</td>\n",
       "      <td>176.682006</td>\n",
       "      <td>172.804547</td>\n",
       "    </tr>\n",
       "    <tr>\n",
       "      <th>Age_mean</th>\n",
       "      <td>216.966613</td>\n",
       "      <td>68.111009</td>\n",
       "      <td>-5.074360</td>\n",
       "      <td>173.302083</td>\n",
       "      <td>173.302083</td>\n",
       "      <td>173.302083</td>\n",
       "      <td>173.302083</td>\n",
       "    </tr>\n",
       "    <tr>\n",
       "      <th>Fare_median</th>\n",
       "      <td>216.966613</td>\n",
       "      <td>96.954179</td>\n",
       "      <td>-4.500438</td>\n",
       "      <td>176.682006</td>\n",
       "      <td>173.302083</td>\n",
       "      <td>211.733122</td>\n",
       "      <td>167.644916</td>\n",
       "    </tr>\n",
       "    <tr>\n",
       "      <th>Fare_mean</th>\n",
       "      <td>216.966613</td>\n",
       "      <td>63.865207</td>\n",
       "      <td>-5.158844</td>\n",
       "      <td>172.804547</td>\n",
       "      <td>173.302083</td>\n",
       "      <td>167.644916</td>\n",
       "      <td>174.134835</td>\n",
       "    </tr>\n",
       "  </tbody>\n",
       "</table>\n",
       "</div>"
      ],
      "text/plain": [
       "                    Age         Fare     Family  Age_median    Age_mean  \\\n",
       "Age          216.966613    85.668631  -6.352877  216.966613  216.966613   \n",
       "Fare          85.668631  2381.809487  17.633128   70.647701   68.111009   \n",
       "Family        -6.352877    17.633128   2.360331   -5.023885   -5.074360   \n",
       "Age_median   216.966613    70.647701  -5.023885  173.599339  173.302083   \n",
       "Age_mean     216.966613    68.111009  -5.074360  173.302083  173.302083   \n",
       "Fare_median  216.966613    96.954179  -4.500438  176.682006  173.302083   \n",
       "Fare_mean    216.966613    63.865207  -5.158844  172.804547  173.302083   \n",
       "\n",
       "             Fare_median   Fare_mean  \n",
       "Age           216.966613  216.966613  \n",
       "Fare           96.954179   63.865207  \n",
       "Family         -4.500438   -5.158844  \n",
       "Age_median    176.682006  172.804547  \n",
       "Age_mean      173.302083  173.302083  \n",
       "Fare_median   211.733122  167.644916  \n",
       "Fare_mean     167.644916  174.134835  "
      ]
     },
     "execution_count": 10,
     "metadata": {},
     "output_type": "execute_result"
    }
   ],
   "source": [
    "X_train.cov()"
   ]
  },
  {
   "cell_type": "code",
   "execution_count": 11,
   "id": "561d102e",
   "metadata": {
    "scrolled": true
   },
   "outputs": [
    {
     "data": {
      "text/html": [
       "<div>\n",
       "<style scoped>\n",
       "    .dataframe tbody tr th:only-of-type {\n",
       "        vertical-align: middle;\n",
       "    }\n",
       "\n",
       "    .dataframe tbody tr th {\n",
       "        vertical-align: top;\n",
       "    }\n",
       "\n",
       "    .dataframe thead th {\n",
       "        text-align: right;\n",
       "    }\n",
       "</style>\n",
       "<table border=\"1\" class=\"dataframe\">\n",
       "  <thead>\n",
       "    <tr style=\"text-align: right;\">\n",
       "      <th></th>\n",
       "      <th>Age</th>\n",
       "      <th>Fare</th>\n",
       "      <th>Family</th>\n",
       "      <th>Age_median</th>\n",
       "      <th>Age_mean</th>\n",
       "      <th>Fare_median</th>\n",
       "      <th>Fare_mean</th>\n",
       "    </tr>\n",
       "  </thead>\n",
       "  <tbody>\n",
       "    <tr>\n",
       "      <th>Age</th>\n",
       "      <td>1.000000</td>\n",
       "      <td>0.111276</td>\n",
       "      <td>-0.300201</td>\n",
       "      <td>1.000000</td>\n",
       "      <td>1.000000</td>\n",
       "      <td>1.000000</td>\n",
       "      <td>1.000000</td>\n",
       "    </tr>\n",
       "    <tr>\n",
       "      <th>Fare</th>\n",
       "      <td>0.111276</td>\n",
       "      <td>1.000000</td>\n",
       "      <td>0.232587</td>\n",
       "      <td>0.109193</td>\n",
       "      <td>0.105363</td>\n",
       "      <td>0.135664</td>\n",
       "      <td>0.098559</td>\n",
       "    </tr>\n",
       "    <tr>\n",
       "      <th>Family</th>\n",
       "      <td>-0.300201</td>\n",
       "      <td>0.232587</td>\n",
       "      <td>1.000000</td>\n",
       "      <td>-0.248187</td>\n",
       "      <td>-0.250896</td>\n",
       "      <td>-0.201314</td>\n",
       "      <td>-0.254462</td>\n",
       "    </tr>\n",
       "    <tr>\n",
       "      <th>Age_median</th>\n",
       "      <td>1.000000</td>\n",
       "      <td>0.109193</td>\n",
       "      <td>-0.248187</td>\n",
       "      <td>1.000000</td>\n",
       "      <td>0.999143</td>\n",
       "      <td>0.921561</td>\n",
       "      <td>0.993890</td>\n",
       "    </tr>\n",
       "    <tr>\n",
       "      <th>Age_mean</th>\n",
       "      <td>1.000000</td>\n",
       "      <td>0.105363</td>\n",
       "      <td>-0.250896</td>\n",
       "      <td>0.999143</td>\n",
       "      <td>1.000000</td>\n",
       "      <td>0.904706</td>\n",
       "      <td>0.997606</td>\n",
       "    </tr>\n",
       "    <tr>\n",
       "      <th>Fare_median</th>\n",
       "      <td>1.000000</td>\n",
       "      <td>0.135664</td>\n",
       "      <td>-0.201314</td>\n",
       "      <td>0.921561</td>\n",
       "      <td>0.904706</td>\n",
       "      <td>1.000000</td>\n",
       "      <td>0.873078</td>\n",
       "    </tr>\n",
       "    <tr>\n",
       "      <th>Fare_mean</th>\n",
       "      <td>1.000000</td>\n",
       "      <td>0.098559</td>\n",
       "      <td>-0.254462</td>\n",
       "      <td>0.993890</td>\n",
       "      <td>0.997606</td>\n",
       "      <td>0.873078</td>\n",
       "      <td>1.000000</td>\n",
       "    </tr>\n",
       "  </tbody>\n",
       "</table>\n",
       "</div>"
      ],
      "text/plain": [
       "                  Age      Fare    Family  Age_median  Age_mean  Fare_median  \\\n",
       "Age          1.000000  0.111276 -0.300201    1.000000  1.000000     1.000000   \n",
       "Fare         0.111276  1.000000  0.232587    0.109193  0.105363     0.135664   \n",
       "Family      -0.300201  0.232587  1.000000   -0.248187 -0.250896    -0.201314   \n",
       "Age_median   1.000000  0.109193 -0.248187    1.000000  0.999143     0.921561   \n",
       "Age_mean     1.000000  0.105363 -0.250896    0.999143  1.000000     0.904706   \n",
       "Fare_median  1.000000  0.135664 -0.201314    0.921561  0.904706     1.000000   \n",
       "Fare_mean    1.000000  0.098559 -0.254462    0.993890  0.997606     0.873078   \n",
       "\n",
       "             Fare_mean  \n",
       "Age           1.000000  \n",
       "Fare          0.098559  \n",
       "Family       -0.254462  \n",
       "Age_median    0.993890  \n",
       "Age_mean      0.997606  \n",
       "Fare_median   0.873078  \n",
       "Fare_mean     1.000000  "
      ]
     },
     "execution_count": 11,
     "metadata": {},
     "output_type": "execute_result"
    }
   ],
   "source": [
    "X_train.corr()"
   ]
  },
  {
   "cell_type": "code",
   "execution_count": 12,
   "id": "427a913f",
   "metadata": {},
   "outputs": [
    {
     "data": {
      "image/png": "[encoded data removed]",
      "text/plain": [
       "<Figure size 640x480 with 1 Axes>"
      ]
     },
     "metadata": {},
     "output_type": "display_data"
    }
   ],
   "source": [
    "X_train[['Age' , 'Age_mean' , 'Age_median']].boxplot()\n",
    "plt.show()"
   ]
  },
  {
   "cell_type": "code",
   "execution_count": 13,
   "id": "cc6d2e6b",
   "metadata": {
    "scrolled": true
   },
   "outputs": [
    {
     "data": {
      "image/png": "[encoded data removed]",
      "text/plain": [
       "<Figure size 640x480 with 1 Axes>"
      ]
     },
     "metadata": {},
     "output_type": "display_data"
    }
   ],
   "source": [
    "X_train[['Fare', 'Fare_median', 'Fare_mean']].boxplot()\n",
    "plt.show()"
   ]
  },
  {
   "cell_type": "code",
   "execution_count": 21,
   "id": "bc475280",
   "metadata": {},
   "outputs": [
    {
     "data": {
      "text/html": [
       "<div>\n",
       "<style scoped>\n",
       "    .dataframe tbody tr th:only-of-type {\n",
       "        vertical-align: middle;\n",
       "    }\n",
       "\n",
       "    .dataframe tbody tr th {\n",
       "        vertical-align: top;\n",
       "    }\n",
       "\n",
       "    .dataframe thead th {\n",
       "        text-align: right;\n",
       "    }\n",
       "</style>\n",
       "<table border=\"1\" class=\"dataframe\">\n",
       "  <thead>\n",
       "    <tr style=\"text-align: right;\">\n",
       "      <th></th>\n",
       "      <th>Age</th>\n",
       "      <th>Fare</th>\n",
       "      <th>Family</th>\n",
       "      <th>Survived</th>\n",
       "    </tr>\n",
       "  </thead>\n",
       "  <tbody>\n",
       "    <tr>\n",
       "      <th>0</th>\n",
       "      <td>22.0</td>\n",
       "      <td>7.2500</td>\n",
       "      <td>1</td>\n",
       "      <td>0</td>\n",
       "    </tr>\n",
       "    <tr>\n",
       "      <th>1</th>\n",
       "      <td>38.0</td>\n",
       "      <td>71.2833</td>\n",
       "      <td>1</td>\n",
       "      <td>1</td>\n",
       "    </tr>\n",
       "    <tr>\n",
       "      <th>2</th>\n",
       "      <td>26.0</td>\n",
       "      <td>7.9250</td>\n",
       "      <td>0</td>\n",
       "      <td>1</td>\n",
       "    </tr>\n",
       "    <tr>\n",
       "      <th>3</th>\n",
       "      <td>35.0</td>\n",
       "      <td>53.1000</td>\n",
       "      <td>1</td>\n",
       "      <td>1</td>\n",
       "    </tr>\n",
       "    <tr>\n",
       "      <th>4</th>\n",
       "      <td>35.0</td>\n",
       "      <td>8.0500</td>\n",
       "      <td>0</td>\n",
       "      <td>0</td>\n",
       "    </tr>\n",
       "  </tbody>\n",
       "</table>\n",
       "</div>"
      ],
      "text/plain": [
       "    Age     Fare  Family  Survived\n",
       "0  22.0   7.2500       1         0\n",
       "1  38.0  71.2833       1         1\n",
       "2  26.0   7.9250       0         1\n",
       "3  35.0  53.1000       1         1\n",
       "4  35.0   8.0500       0         0"
      ]
     },
     "execution_count": 21,
     "metadata": {},
     "output_type": "execute_result"
    }
   ],
   "source": [
    "# Using Imputer\n",
    "df = pd.read_csv('https://raw.githubusercontent.com/campusx-official/100-days-of-machine-learning/main/day36-imputing-numerical-data/titanic_toy.csv')\n",
    "df.head()"
   ]
  },
  {
   "cell_type": "code",
   "execution_count": 22,
   "id": "1590ed47",
   "metadata": {},
   "outputs": [],
   "source": [
    "X_train , X_test , y_train , y_test = train_test_split(X , y , random_state=1 , test_size = 0.1)"
   ]
  },
  {
   "cell_type": "code",
   "execution_count": 23,
   "id": "a0cb6679",
   "metadata": {},
   "outputs": [],
   "source": [
    "\n",
    "trf = ColumnTransformer([\n",
    "    ('imputer1' , SimpleImputer(strategy='median') , ['Age']),\n",
    "    ('imputer2' , SimpleImputer(strategy='mean') , ['Fare'])\n",
    "    \n",
    "] , remainder = 'passthrough')"
   ]
  },
  {
   "cell_type": "code",
   "execution_count": 24,
   "id": "80ee8b23",
   "metadata": {},
   "outputs": [],
   "source": [
    "X_train_trf = trf.fit_transform(X_train)\n",
    "X_test_trf = trf.transform(X_test)"
   ]
  },
  {
   "cell_type": "code",
   "execution_count": 27,
   "id": "831637fc",
   "metadata": {},
   "outputs": [
    {
     "data": {
      "text/plain": [
       "array([28.5])"
      ]
     },
     "execution_count": 27,
     "metadata": {},
     "output_type": "execute_result"
    }
   ],
   "source": [
    "trf.named_transformers_['imputer1'].statistics_ # (strategy='median') so .statistics_ gives mean value "
   ]
  },
  {
   "cell_type": "code",
   "execution_count": 28,
   "id": "0b39fd24",
   "metadata": {},
   "outputs": [
    {
     "data": {
      "text/plain": [
       "array([32.1353469])"
      ]
     },
     "execution_count": 28,
     "metadata": {},
     "output_type": "execute_result"
    }
   ],
   "source": [
    "trf.named_transformers_['imputer2'].statistics_"
   ]
  }
 ],
 "metadata": {
  "kernelspec": {
   "display_name": "Python 3 (ipykernel)",
   "language": "python",
   "name": "python3"
  },
  "language_info": {
   "codemirror_mode": {
    "name": "ipython",
    "version": 3
   },
   "file_extension": ".py",
   "mimetype": "text/x-python",
   "name": "python",
   "nbconvert_exporter": "python",
   "pygments_lexer": "ipython3",
   "version": "3.11.3"
  }
 },
 "nbformat": 4,
 "nbformat_minor": 5
}
