{
 "cells": [
  {
   "cell_type": "code",
   "execution_count": 2,
   "id": "0f79ec95",
   "metadata": {},
   "outputs": [],
   "source": [
    "import numpy as np\n",
    "import matplotlib.pyplot as plt\n",
    "import pandas as pd"
   ]
  },
  {
   "cell_type": "code",
   "execution_count": 3,
   "id": "5362dee1",
   "metadata": {},
   "outputs": [
    {
     "data": {
      "text/html": [
       "<div>\n",
       "<style scoped>\n",
       "    .dataframe tbody tr th:only-of-type {\n",
       "        vertical-align: middle;\n",
       "    }\n",
       "\n",
       "    .dataframe tbody tr th {\n",
       "        vertical-align: top;\n",
       "    }\n",
       "\n",
       "    .dataframe thead th {\n",
       "        text-align: right;\n",
       "    }\n",
       "</style>\n",
       "<table border=\"1\" class=\"dataframe\">\n",
       "  <thead>\n",
       "    <tr style=\"text-align: right;\">\n",
       "      <th></th>\n",
       "      <th>Unnamed: 0</th>\n",
       "      <th>cgpa</th>\n",
       "      <th>iq</th>\n",
       "      <th>placement</th>\n",
       "    </tr>\n",
       "  </thead>\n",
       "  <tbody>\n",
       "    <tr>\n",
       "      <th>0</th>\n",
       "      <td>0</td>\n",
       "      <td>6.8</td>\n",
       "      <td>123.0</td>\n",
       "      <td>1</td>\n",
       "    </tr>\n",
       "    <tr>\n",
       "      <th>1</th>\n",
       "      <td>1</td>\n",
       "      <td>5.9</td>\n",
       "      <td>106.0</td>\n",
       "      <td>0</td>\n",
       "    </tr>\n",
       "    <tr>\n",
       "      <th>2</th>\n",
       "      <td>2</td>\n",
       "      <td>5.3</td>\n",
       "      <td>121.0</td>\n",
       "      <td>0</td>\n",
       "    </tr>\n",
       "    <tr>\n",
       "      <th>3</th>\n",
       "      <td>3</td>\n",
       "      <td>7.4</td>\n",
       "      <td>132.0</td>\n",
       "      <td>1</td>\n",
       "    </tr>\n",
       "    <tr>\n",
       "      <th>4</th>\n",
       "      <td>4</td>\n",
       "      <td>5.8</td>\n",
       "      <td>142.0</td>\n",
       "      <td>0</td>\n",
       "    </tr>\n",
       "  </tbody>\n",
       "</table>\n",
       "</div>"
      ],
      "text/plain": [
       "   Unnamed: 0  cgpa     iq  placement\n",
       "0           0   6.8  123.0          1\n",
       "1           1   5.9  106.0          0\n",
       "2           2   5.3  121.0          0\n",
       "3           3   7.4  132.0          1\n",
       "4           4   5.8  142.0          0"
      ]
     },
     "execution_count": 3,
     "metadata": {},
     "output_type": "execute_result"
    }
   ],
   "source": [
    "df = pd.read_csv(\"C:\\\\Users\\\\arups\\\\OneDrive\\\\Desktop\\\\COLLECTION\\\\PROGRAMS\\\\TEST_CSVs\\\\placement.csv\")\n",
    "\n",
    "df.head()"
   ]
  },
  {
   "cell_type": "code",
   "execution_count": 4,
   "id": "c650b6fa",
   "metadata": {},
   "outputs": [
    {
     "data": {
      "text/html": [
       "<div>\n",
       "<style scoped>\n",
       "    .dataframe tbody tr th:only-of-type {\n",
       "        vertical-align: middle;\n",
       "    }\n",
       "\n",
       "    .dataframe tbody tr th {\n",
       "        vertical-align: top;\n",
       "    }\n",
       "\n",
       "    .dataframe thead th {\n",
       "        text-align: right;\n",
       "    }\n",
       "</style>\n",
       "<table border=\"1\" class=\"dataframe\">\n",
       "  <thead>\n",
       "    <tr style=\"text-align: right;\">\n",
       "      <th></th>\n",
       "      <th>cgpa</th>\n",
       "      <th>iq</th>\n",
       "      <th>placement</th>\n",
       "    </tr>\n",
       "  </thead>\n",
       "  <tbody>\n",
       "    <tr>\n",
       "      <th>0</th>\n",
       "      <td>6.8</td>\n",
       "      <td>123.0</td>\n",
       "      <td>1</td>\n",
       "    </tr>\n",
       "    <tr>\n",
       "      <th>1</th>\n",
       "      <td>5.9</td>\n",
       "      <td>106.0</td>\n",
       "      <td>0</td>\n",
       "    </tr>\n",
       "    <tr>\n",
       "      <th>2</th>\n",
       "      <td>5.3</td>\n",
       "      <td>121.0</td>\n",
       "      <td>0</td>\n",
       "    </tr>\n",
       "    <tr>\n",
       "      <th>3</th>\n",
       "      <td>7.4</td>\n",
       "      <td>132.0</td>\n",
       "      <td>1</td>\n",
       "    </tr>\n",
       "    <tr>\n",
       "      <th>4</th>\n",
       "      <td>5.8</td>\n",
       "      <td>142.0</td>\n",
       "      <td>0</td>\n",
       "    </tr>\n",
       "  </tbody>\n",
       "</table>\n",
       "</div>"
      ],
      "text/plain": [
       "   cgpa     iq  placement\n",
       "0   6.8  123.0          1\n",
       "1   5.9  106.0          0\n",
       "2   5.3  121.0          0\n",
       "3   7.4  132.0          1\n",
       "4   5.8  142.0          0"
      ]
     },
     "execution_count": 4,
     "metadata": {},
     "output_type": "execute_result"
    }
   ],
   "source": [
    "df = df.iloc[: , 1:]\n",
    "df.head()\n",
    "\n",
    "# SUPPOSE I WANT TO SELECT SPECIFIC COL HOW I DO THAT USING ILOC ?\n",
    "# df = df.iloc[: , [1 , 3]] eg. 'cgpa' , 'placement' ; columns will be selected.\n",
    "# similarly df = df.iloc[[1 , 3] , [1 , 3]] this is for rows"
   ]
  },
  {
   "cell_type": "code",
   "execution_count": 5,
   "id": "01fba596",
   "metadata": {},
   "outputs": [
    {
     "data": {
      "image/png": "[encoded data removed]",
      "text/plain": [
       "<Figure size 640x480 with 1 Axes>"
      ]
     },
     "metadata": {},
     "output_type": "display_data"
    }
   ],
   "source": [
    "plt.scatter(df['cgpa'] , df['iq'] , c = df['placement'] )\n",
    "plt.show()"
   ]
  },
  {
   "cell_type": "code",
   "execution_count": 5,
   "id": "6d651d69",
   "metadata": {},
   "outputs": [],
   "source": [
    "# Steps :: \n",
    "\n",
    "# 0.1 : Process + EDA + Feature Selection\n",
    "# 0.2 : Extract input and output cols\n",
    "# 0.3 : Scale the values \n",
    "# 0.4 : Train test model\n",
    "# 0.5 : Evaluate the model/model selection\n",
    "# 0.6 : Deploy the model"
   ]
  },
  {
   "cell_type": "code",
   "execution_count": 6,
   "id": "a4b0fdb3",
   "metadata": {},
   "outputs": [],
   "source": [
    "X = df.iloc[: , : 2] # independent variable\n",
    "y = df.iloc[: , -1]  # dependent variable"
   ]
  },
  {
   "cell_type": "code",
   "execution_count": 7,
   "id": "47b71787",
   "metadata": {
    "scrolled": true
   },
   "outputs": [
    {
     "data": {
      "text/plain": [
       "0     1\n",
       "1     0\n",
       "2     0\n",
       "3     1\n",
       "4     0\n",
       "     ..\n",
       "95    0\n",
       "96    0\n",
       "97    1\n",
       "98    1\n",
       "99    1\n",
       "Name: placement, Length: 100, dtype: int64"
      ]
     },
     "execution_count": 7,
     "metadata": {},
     "output_type": "execute_result"
    }
   ],
   "source": [
    "y"
   ]
  },
  {
   "cell_type": "code",
   "execution_count": 7,
   "id": "565b83fe",
   "metadata": {},
   "outputs": [],
   "source": [
    "from sklearn.model_selection import train_test_split\n",
    "\n",
    "X_train , X_test , y_train , y_test = train_test_split(X , y , test_size = 0.1)\n",
    "#  10% of the data will be allocated for testing, and the remaining 90% will be used for training.\n"
   ]
  },
  {
   "cell_type": "markdown",
   "id": "c69b2381",
   "metadata": {},
   "source": [
    "# Here are a few reasons why scaling is necessary:\n",
    "\n",
    "Avoiding bias: Many machine learning algorithms use distance-based calculations to make predictions or find patterns in the data. Features with larger scales or ranges can dominate the learning process and introduce bias. Scaling the features ensures that each feature contributes proportionately to the learning process.\n",
    "\n",
    "Gradient-based optimization: Optimization algorithms, such as gradient descent, are commonly used in training machine learning models. Scaling the features can help these algorithms converge faster, as the optimization process can be more efficient when the features have similar scales.\n",
    "\n",
    "Regularization: Regularization techniques, such as L1 and L2 regularization, penalize large coefficients in the model. Scaling the features can prevent some features with larger scales from dominating the regularization process.\n",
    "\n",
    "Improving algorithm performance: Some machine learning algorithms, such as Support Vector Machines (SVM) and K-means clustering, are sensitive to the scales of the features. Scaling the features can improve the performance of these algorithms and help them converge faster or find better solutions.\n",
    "\n",
    "Dealing with different units: When features have different units of measurement, it becomes challenging to compare and combine them. Scaling the features to a similar range removes the unit differences and allows for easier comparison and integration.\n",
    "\n",
    "There are different scaling techniques available, such as Standardization (mean=0, variance=1), Min-Max Scaling (0-1 range), and Robust Scaling (scales based on median and quartiles), among others. The choice of scaling technique depends on the nature of the data and the requirements of the machine learning algorithm being used."
   ]
  },
  {
   "cell_type": "code",
   "execution_count": 8,
   "id": "66b28924",
   "metadata": {},
   "outputs": [],
   "source": [
    "#Scaling\n",
    "\n",
    "\n",
    "from sklearn.preprocessing import StandardScaler\n"
   ]
  },
  {
   "cell_type": "code",
   "execution_count": 9,
   "id": "e0164cda",
   "metadata": {},
   "outputs": [],
   "source": [
    "scaler = StandardScaler()"
   ]
  },
  {
   "cell_type": "code",
   "execution_count": 10,
   "id": "ceb72a52",
   "metadata": {},
   "outputs": [
    {
     "data": {
      "text/plain": [
       "array([[ 1.39766061,  0.11830372],\n",
       "       [ 0.08278826, -1.4637295 ],\n",
       "       [-0.70613515,  2.52902101],\n",
       "       [-0.96910962, -0.08258939],\n",
       "       [ 1.74829323, -1.11216656],\n",
       "       [ 0.25810457, -0.50948724],\n",
       "       [ 0.43342088, -0.83593854],\n",
       "       [-1.14442593, -0.05747775],\n",
       "       [ 0.87171167,  0.39453174],\n",
       "       [-0.53081884,  0.39453174],\n",
       "       [ 1.13468614, -0.93638509],\n",
       "       [-0.88145146, -0.8108269 ],\n",
       "       [-0.88145146, -0.13281267],\n",
       "       [-1.49505856,  1.92634169],\n",
       "       [-1.75803303, -1.21261312],\n",
       "       [ 1.31000245,  0.87165287],\n",
       "       [-0.79379331,  0.11830372],\n",
       "       [ 0.87171167,  1.29855072],\n",
       "       [-0.96910962, -1.56417606],\n",
       "       [-0.70613515, -0.33370577],\n",
       "       [-0.0048699 , -1.43861786],\n",
       "       [-2.19632381,  2.75502575],\n",
       "       [-0.61847699, -0.23325922],\n",
       "       [-1.05676778, -0.2834825 ],\n",
       "       [ 0.78405351,  0.39453174],\n",
       "       [-0.96910962,  1.82589513],\n",
       "       [ 1.57297692, -0.23325922],\n",
       "       [ 0.69639535, -0.00725447],\n",
       "       [-0.26784437,  0.21875027],\n",
       "       [ 1.13468614, -0.18303594],\n",
       "       [ 0.17044642, -0.25837086],\n",
       "       [ 2.0112677 ,  1.12276926],\n",
       "       [ 0.34576273,  0.44475502],\n",
       "       [ 0.95936982, -1.89062735],\n",
       "       [-1.23208409,  0.57031321],\n",
       "       [-2.37164012,  1.49944383],\n",
       "       [ 0.6087372 ,  1.47433219],\n",
       "       [-0.18018621,  0.46986666],\n",
       "       [-1.14442593, -1.7901808 ],\n",
       "       [-1.4074004 , -2.04129719],\n",
       "       [-0.96910962,  0.6958714 ],\n",
       "       [-1.05676778,  0.99721106],\n",
       "       [ 0.43342088,  0.168527  ],\n",
       "       [-1.14442593, -0.91127346],\n",
       "       [ 0.25810457,  0.09319208],\n",
       "       [ 0.87171167, -0.2834825 ],\n",
       "       [ 0.87171167,  1.90123005],\n",
       "       [ 0.69639535,  0.44475502],\n",
       "       [ 0.87171167, -1.48884114],\n",
       "       [ 0.95936982,  0.6958714 ],\n",
       "       [ 0.43342088, -2.16685538],\n",
       "       [ 0.25810457,  0.11830372],\n",
       "       [-0.70613515,  0.94698779],\n",
       "       [ 0.08278826,  0.82142959],\n",
       "       [-0.53081884,  0.29408519],\n",
       "       [-0.26784437,  1.14788089],\n",
       "       [ 0.52107904, -0.08258939],\n",
       "       [-0.61847699, -0.05747775],\n",
       "       [-1.84569118, -0.35881741],\n",
       "       [-0.70613515, -0.83593854],\n",
       "       [-0.96910962,  0.26897355],\n",
       "       [ 1.13468614,  0.34430846],\n",
       "       [ 1.31000245,  0.168527  ],\n",
       "       [-0.53081884, -0.40904069],\n",
       "       [ 0.6087372 ,  0.77120632],\n",
       "       [-0.0048699 ,  0.64564813],\n",
       "       [-0.09252805, -0.43415233],\n",
       "       [ 0.69639535, -0.2834825 ],\n",
       "       [ 0.43342088,  0.92187615],\n",
       "       [-0.0048699 , -0.53459888],\n",
       "       [ 1.83595139,  0.64564813],\n",
       "       [-1.75803303, -0.58482216],\n",
       "       [ 0.52107904,  0.3694201 ],\n",
       "       [ 0.08278826,  0.21875027],\n",
       "       [-0.0048699 , -1.96596227],\n",
       "       [ 0.69639535, -0.83593854],\n",
       "       [-1.05676778,  0.44475502],\n",
       "       [ 1.22234429,  0.21875027],\n",
       "       [ 1.31000245, -1.56417606],\n",
       "       [ 1.13468614, -1.84040408],\n",
       "       [ 0.78405351, -0.68526871],\n",
       "       [ 0.08278826, -1.06194329],\n",
       "       [ 0.78405351,  0.3694201 ],\n",
       "       [-0.79379331,  1.32366236],\n",
       "       [ 2.18658401, -0.08258939],\n",
       "       [-0.26784437,  0.4949783 ],\n",
       "       [-0.0048699 ,  0.01785717],\n",
       "       [-0.53081884, -0.23325922],\n",
       "       [-1.4074004 ,  0.64564813],\n",
       "       [ 0.08278826, -0.50948724]])"
      ]
     },
     "execution_count": 10,
     "metadata": {},
     "output_type": "execute_result"
    }
   ],
   "source": [
    "X_train = scaler.fit_transform(X_train)\n",
    "X_train  # between -1 <= X_train <= 1"
   ]
  },
  {
   "cell_type": "code",
   "execution_count": 11,
   "id": "88a7d068",
   "metadata": {},
   "outputs": [
    {
     "data": {
      "text/plain": [
       "array([[-0.59841949,  0.14896496],\n",
       "       [ 1.57765138, -0.95543043],\n",
       "       [-0.05440177,  1.02220782],\n",
       "       [-0.96109797,  1.09925867],\n",
       "       [-0.14507139,  0.35443387],\n",
       "       [ 2.03099948,  1.02220782],\n",
       "       [ 0.48961595, -0.26197286],\n",
       "       [-0.87042835,  0.73968807],\n",
       "       [-0.77975873, -1.62320438],\n",
       "       [-0.68908911, -1.54615354]])"
      ]
     },
     "execution_count": 11,
     "metadata": {},
     "output_type": "execute_result"
    }
   ],
   "source": [
    "X_test = scaler.fit_transform(X_test)\n",
    "X_test"
   ]
  },
  {
   "cell_type": "code",
   "execution_count": 13,
   "id": "04cc4733",
   "metadata": {},
   "outputs": [],
   "source": [
    "from sklearn.linear_model import LogisticRegression"
   ]
  },
  {
   "cell_type": "code",
   "execution_count": 14,
   "id": "1907419a",
   "metadata": {},
   "outputs": [
    {
     "data": {
      "text/html": [
       "<style>#sk-container-id-1 {color: black;background-color: white;}#sk-container-id-1 pre{padding: 0;}#sk-container-id-1 div.sk-toggleable {background-color: white;}#sk-container-id-1 label.sk-toggleable__label {cursor: pointer;display: block;width: 100%;margin-bottom: 0;padding: 0.3em;box-sizing: border-box;text-align: center;}#sk-container-id-1 label.sk-toggleable__label-arrow:before {content: \"▸\";float: left;margin-right: 0.25em;color: #696969;}#sk-container-id-1 label.sk-toggleable__label-arrow:hover:before {color: black;}#sk-container-id-1 div.sk-estimator:hover label.sk-toggleable__label-arrow:before {color: black;}#sk-container-id-1 div.sk-toggleable__content {max-height: 0;max-width: 0;overflow: hidden;text-align: left;background-color: #f0f8ff;}#sk-container-id-1 div.sk-toggleable__content pre {margin: 0.2em;color: black;border-radius: 0.25em;background-color: #f0f8ff;}#sk-container-id-1 input.sk-toggleable__control:checked~div.sk-toggleable__content {max-height: 200px;max-width: 100%;overflow: auto;}#sk-container-id-1 input.sk-toggleable__control:checked~label.sk-toggleable__label-arrow:before {content: \"▾\";}#sk-container-id-1 div.sk-estimator input.sk-toggleable__control:checked~label.sk-toggleable__label {background-color: #d4ebff;}#sk-container-id-1 div.sk-label input.sk-toggleable__control:checked~label.sk-toggleable__label {background-color: #d4ebff;}#sk-container-id-1 input.sk-hidden--visually {border: 0;clip: rect(1px 1px 1px 1px);clip: rect(1px, 1px, 1px, 1px);height: 1px;margin: -1px;overflow: hidden;padding: 0;position: absolute;width: 1px;}#sk-container-id-1 div.sk-estimator {font-family: monospace;background-color: #f0f8ff;border: 1px dotted black;border-radius: 0.25em;box-sizing: border-box;margin-bottom: 0.5em;}#sk-container-id-1 div.sk-estimator:hover {background-color: #d4ebff;}#sk-container-id-1 div.sk-parallel-item::after {content: \"\";width: 100%;border-bottom: 1px solid gray;flex-grow: 1;}#sk-container-id-1 div.sk-label:hover label.sk-toggleable__label {background-color: #d4ebff;}#sk-container-id-1 div.sk-serial::before {content: \"\";position: absolute;border-left: 1px solid gray;box-sizing: border-box;top: 0;bottom: 0;left: 50%;z-index: 0;}#sk-container-id-1 div.sk-serial {display: flex;flex-direction: column;align-items: center;background-color: white;padding-right: 0.2em;padding-left: 0.2em;position: relative;}#sk-container-id-1 div.sk-item {position: relative;z-index: 1;}#sk-container-id-1 div.sk-parallel {display: flex;align-items: stretch;justify-content: center;background-color: white;position: relative;}#sk-container-id-1 div.sk-item::before, #sk-container-id-1 div.sk-parallel-item::before {content: \"\";position: absolute;border-left: 1px solid gray;box-sizing: border-box;top: 0;bottom: 0;left: 50%;z-index: -1;}#sk-container-id-1 div.sk-parallel-item {display: flex;flex-direction: column;z-index: 1;position: relative;background-color: white;}#sk-container-id-1 div.sk-parallel-item:first-child::after {align-self: flex-end;width: 50%;}#sk-container-id-1 div.sk-parallel-item:last-child::after {align-self: flex-start;width: 50%;}#sk-container-id-1 div.sk-parallel-item:only-child::after {width: 0;}#sk-container-id-1 div.sk-dashed-wrapped {border: 1px dashed gray;margin: 0 0.4em 0.5em 0.4em;box-sizing: border-box;padding-bottom: 0.4em;background-color: white;}#sk-container-id-1 div.sk-label label {font-family: monospace;font-weight: bold;display: inline-block;line-height: 1.2em;}#sk-container-id-1 div.sk-label-container {text-align: center;}#sk-container-id-1 div.sk-container {/* jupyter's `normalize.less` sets `[hidden] { display: none; }` but bootstrap.min.css set `[hidden] { display: none !important; }` so we also need the `!important` here to be able to override the default hidden behavior on the sphinx rendered scikit-learn.org. See: https://github.com/scikit-learn/scikit-learn/issues/21755 */display: inline-block !important;position: relative;}#sk-container-id-1 div.sk-text-repr-fallback {display: none;}</style><div id=\"sk-container-id-1\" class=\"sk-top-container\"><div class=\"sk-text-repr-fallback\"><pre>LogisticRegression()</pre><b>In a Jupyter environment, please rerun this cell to show the HTML representation or trust the notebook. <br />On GitHub, the HTML representation is unable to render, please try loading this page with nbviewer.org.</b></div><div class=\"sk-container\" hidden><div class=\"sk-item\"><div class=\"sk-estimator sk-toggleable\"><input class=\"sk-toggleable__control sk-hidden--visually\" id=\"sk-estimator-id-1\" type=\"checkbox\" checked><label for=\"sk-estimator-id-1\" class=\"sk-toggleable__label sk-toggleable__label-arrow\">LogisticRegression</label><div class=\"sk-toggleable__content\"><pre>LogisticRegression()</pre></div></div></div></div></div>"
      ],
      "text/plain": [
       "LogisticRegression()"
      ]
     },
     "execution_count": 14,
     "metadata": {},
     "output_type": "execute_result"
    }
   ],
   "source": [
    "clf = LogisticRegression()\n",
    "\n",
    "# MOdel Training\n",
    "clf.fit(X_train , y_train)"
   ]
  },
  {
   "cell_type": "code",
   "execution_count": 15,
   "id": "24672eef",
   "metadata": {},
   "outputs": [
    {
     "data": {
      "text/plain": [
       "array([0, 1, 1, 0, 0, 1, 1, 1, 0, 1], dtype=int64)"
      ]
     },
     "execution_count": 15,
     "metadata": {},
     "output_type": "execute_result"
    }
   ],
   "source": [
    "# PREDICTION\n",
    "\n",
    "y_pred = clf.predict(X_test)\n",
    "y_pred"
   ]
  },
  {
   "cell_type": "code",
   "execution_count": 16,
   "id": "6e125d0e",
   "metadata": {},
   "outputs": [
    {
     "data": {
      "text/plain": [
       "86    0\n",
       "33    0\n",
       "0     1\n",
       "51    0\n",
       "50    0\n",
       "97    1\n",
       "30    1\n",
       "82    1\n",
       "92    0\n",
       "79    1\n",
       "Name: placement, dtype: int64"
      ]
     },
     "execution_count": 16,
     "metadata": {},
     "output_type": "execute_result"
    }
   ],
   "source": [
    "y_test"
   ]
  },
  {
   "cell_type": "code",
   "execution_count": 17,
   "id": "b8e52029",
   "metadata": {},
   "outputs": [],
   "source": [
    "from sklearn.metrics import accuracy_score"
   ]
  },
  {
   "cell_type": "code",
   "execution_count": 18,
   "id": "3b99a588",
   "metadata": {},
   "outputs": [
    {
     "data": {
      "text/plain": [
       "0.9"
      ]
     },
     "execution_count": 18,
     "metadata": {},
     "output_type": "execute_result"
    }
   ],
   "source": [
    "accuracy_score(y_test , y_pred)"
   ]
  },
  {
   "cell_type": "code",
   "execution_count": 19,
   "id": "9aeab0d6",
   "metadata": {},
   "outputs": [],
   "source": [
    "from mlxtend.plotting import plot_decision_regions"
   ]
  },
  {
   "cell_type": "code",
   "execution_count": 20,
   "id": "f494dd64",
   "metadata": {
    "scrolled": false
   },
   "outputs": [
    {
     "data": {
      "image/png": "[encoded data removed]",
      "text/plain": [
       "<Figure size 640x480 with 1 Axes>"
      ]
     },
     "metadata": {},
     "output_type": "display_data"
    }
   ],
   "source": [
    "plot_decision_regions(X_train , y_train.values , clf = clf , legend = 2)\n",
    "plt.show()\n",
    "\n",
    "# The clf argument in the plot_decision_regions function is used to specify the\n",
    "# trained classifier model that you want to visualize. In this case, clf refers \n",
    "# to the classifier model that has been trained using the X_train data and y_train labels."
   ]
  },
  {
   "cell_type": "code",
   "execution_count": 21,
   "id": "a634c6a0",
   "metadata": {},
   "outputs": [],
   "source": [
    "import pickle # This is for Making Model"
   ]
  },
  {
   "cell_type": "code",
   "execution_count": 22,
   "id": "a18a7e53",
   "metadata": {},
   "outputs": [],
   "source": [
    "pickle.dump(clf , open('model.pk1' , 'wb')) # Object ko dump karta hai , using Write Binary 'wb'"
   ]
  },
  {
   "cell_type": "code",
   "execution_count": null,
   "id": "c4021784",
   "metadata": {},
   "outputs": [],
   "source": []
  }
 ],
 "metadata": {
  "kernelspec": {
   "display_name": "Python 3 (ipykernel)",
   "language": "python",
   "name": "python3"
  },
  "language_info": {
   "codemirror_mode": {
    "name": "ipython",
    "version": 3
   },
   "file_extension": ".py",
   "mimetype": "text/x-python",
   "name": "python",
   "nbconvert_exporter": "python",
   "pygments_lexer": "ipython3",
   "version": "3.11.3"
  }
 },
 "nbformat": 4,
 "nbformat_minor": 5
}
