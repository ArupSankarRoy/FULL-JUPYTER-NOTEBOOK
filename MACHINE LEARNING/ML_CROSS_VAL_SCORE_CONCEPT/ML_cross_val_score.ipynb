{
 "cells": [
  {
   "cell_type": "raw",
   "id": "6d6c385c",
   "metadata": {},
   "source": [
    "Accuracy: Used for classification tasks, where the goal is to correctly predict the class label of each input sample.\n",
    "\n",
    "Precision: Relevant for classification tasks, especially when the focus is on minimizing false positives (e.g., identifying spam emails).\n",
    "\n",
    "Recall (Sensitivity): Important in classification tasks, particularly when the emphasis is on minimizing false negatives (e.g., detecting diseases).\n",
    "\n",
    "F1 Score: A combined metric that considers both precision and recall. It is useful when you want to balance the trade-off between precision and recall.\n",
    "\n",
    "Specificity: Used in binary classification tasks to measure the ability of a model to correctly identify negative samples.\n",
    "\n",
    "Mean Squared Error (MSE): Frequently used in regression tasks, it calculates the average squared difference between the predicted and actual values.\n",
    "\n",
    "Mean Absolute Error (MAE): Also employed in regression tasks, it measures the average absolute difference between the predicted and actual values.\n",
    "\n",
    "R-squared (Coefficient of Determination): Used in regression tasks, it assesses how well the model fits the data by measuring the proportion of the variance in the dependent variable that can be explained by the independent variables.\n",
    "\n",
    "Area Under the ROC Curve (AUC-ROC): Typically employed in binary classification tasks to evaluate the performance of a model in terms of the trade-off between true positive rate and false positive rate.\n",
    "\n",
    "Mean Average Precision (MAP): Often used in information retrieval tasks, it calculates the average precision of a model across multiple recall levels."
   ]
  },
  {
   "cell_type": "code",
   "execution_count": 1,
   "id": "063ae006",
   "metadata": {},
   "outputs": [],
   "source": [
    "import numpy as np\n",
    "from sklearn.datasets import load_iris\n",
    "from sklearn.model_selection import train_test_split\n",
    "from sklearn.metrics import accuracy_score \n",
    "from sklearn.neighbors import KNeighborsClassifier\n",
    "from sklearn.model_selection import KFold\n",
    "from sklearn.model_selection import cross_val_score\n",
    "from sklearn import datasets\n",
    "from sklearn.linear_model import LinearRegression"
   ]
  },
  {
   "cell_type": "code",
   "execution_count": 2,
   "id": "5ba4ebba",
   "metadata": {},
   "outputs": [],
   "source": [
    "data = load_iris()\n",
    "\n",
    "X = data['data']\n",
    "y = data['target']"
   ]
  },
  {
   "cell_type": "code",
   "execution_count": 3,
   "id": "9fe6f303",
   "metadata": {},
   "outputs": [],
   "source": [
    "X_train , X_test , y_train , y_test = train_test_split(X,y,random_state = 2 , test_size = 4)"
   ]
  },
  {
   "cell_type": "code",
   "execution_count": 4,
   "id": "11f4d6e9",
   "metadata": {
    "scrolled": true
   },
   "outputs": [
    {
     "data": {
      "text/plain": [
       "array([[4.8, 3.4, 1.9, 0.2],\n",
       "       [7.2, 3. , 5.8, 1.6],\n",
       "       [5. , 3. , 1.6, 0.2],\n",
       "       [6.7, 2.5, 5.8, 1.8],\n",
       "       [6.4, 2.8, 5.6, 2.1],\n",
       "       [4.8, 3. , 1.4, 0.3],\n",
       "       [5.3, 3.7, 1.5, 0.2],\n",
       "       [4.4, 3.2, 1.3, 0.2],\n",
       "       [5. , 3.2, 1.2, 0.2],\n",
       "       [5.4, 3.9, 1.7, 0.4],\n",
       "       [6. , 3.4, 4.5, 1.6],\n",
       "       [6.5, 2.8, 4.6, 1.5],\n",
       "       [4.5, 2.3, 1.3, 0.3],\n",
       "       [5.7, 2.9, 4.2, 1.3],\n",
       "       [6.7, 3.3, 5.7, 2.5],\n",
       "       [5.5, 2.5, 4. , 1.3],\n",
       "       [6.7, 3. , 5. , 1.7],\n",
       "       [6.4, 2.9, 4.3, 1.3],\n",
       "       [6.4, 3.2, 5.3, 2.3],\n",
       "       [5.6, 2.7, 4.2, 1.3],\n",
       "       [6.3, 2.3, 4.4, 1.3],\n",
       "       [4.7, 3.2, 1.6, 0.2],\n",
       "       [4.7, 3.2, 1.3, 0.2],\n",
       "       [6.1, 3. , 4.9, 1.8],\n",
       "       [5.1, 3.8, 1.9, 0.4],\n",
       "       [7.2, 3.2, 6. , 1.8],\n",
       "       [6.2, 2.8, 4.8, 1.8],\n",
       "       [5.1, 3.3, 1.7, 0.5],\n",
       "       [5.6, 2.9, 3.6, 1.3],\n",
       "       [7.7, 3.8, 6.7, 2.2],\n",
       "       [5.4, 3. , 4.5, 1.5],\n",
       "       [5.8, 4. , 1.2, 0.2],\n",
       "       [6.4, 2.8, 5.6, 2.2],\n",
       "       [6.1, 3. , 4.6, 1.4],\n",
       "       [5.5, 2.3, 4. , 1.3],\n",
       "       [6.9, 3.1, 5.1, 2.3],\n",
       "       [6. , 2.9, 4.5, 1.5],\n",
       "       [6.2, 2.9, 4.3, 1.3],\n",
       "       [6.8, 3.2, 5.9, 2.3],\n",
       "       [5. , 2.3, 3.3, 1. ],\n",
       "       [4.8, 3.4, 1.6, 0.2],\n",
       "       [6.1, 2.6, 5.6, 1.4],\n",
       "       [5.2, 3.4, 1.4, 0.2],\n",
       "       [6.7, 3.1, 4.4, 1.4],\n",
       "       [5.1, 3.5, 1.4, 0.2],\n",
       "       [5.2, 3.5, 1.5, 0.2],\n",
       "       [5.5, 3.5, 1.3, 0.2],\n",
       "       [4.9, 2.5, 4.5, 1.7],\n",
       "       [6.2, 3.4, 5.4, 2.3],\n",
       "       [7.9, 3.8, 6.4, 2. ],\n",
       "       [5.4, 3.4, 1.7, 0.2],\n",
       "       [6.7, 3.1, 5.6, 2.4],\n",
       "       [6.3, 3.4, 5.6, 2.4],\n",
       "       [7.6, 3. , 6.6, 2.1],\n",
       "       [6. , 2.2, 5. , 1.5],\n",
       "       [4.3, 3. , 1.1, 0.1],\n",
       "       [4.8, 3.1, 1.6, 0.2],\n",
       "       [5.8, 2.7, 5.1, 1.9],\n",
       "       [5.7, 2.8, 4.1, 1.3],\n",
       "       [5.2, 2.7, 3.9, 1.4],\n",
       "       [7.7, 3. , 6.1, 2.3],\n",
       "       [6.3, 2.7, 4.9, 1.8],\n",
       "       [6.1, 2.8, 4. , 1.3],\n",
       "       [5.1, 3.7, 1.5, 0.4],\n",
       "       [5.7, 2.8, 4.5, 1.3],\n",
       "       [5.4, 3.9, 1.3, 0.4],\n",
       "       [5.8, 2.8, 5.1, 2.4],\n",
       "       [5.8, 2.6, 4. , 1.2],\n",
       "       [5.1, 2.5, 3. , 1.1],\n",
       "       [5.7, 3.8, 1.7, 0.3],\n",
       "       [5.5, 2.4, 3.7, 1. ],\n",
       "       [5.9, 3. , 4.2, 1.5],\n",
       "       [6.7, 3.1, 4.7, 1.5],\n",
       "       [7.7, 2.8, 6.7, 2. ],\n",
       "       [4.9, 3. , 1.4, 0.2],\n",
       "       [6.3, 3.3, 4.7, 1.6],\n",
       "       [5.1, 3.8, 1.5, 0.3],\n",
       "       [5.8, 2.7, 3.9, 1.2],\n",
       "       [6.9, 3.2, 5.7, 2.3],\n",
       "       [4.9, 3.1, 1.5, 0.1],\n",
       "       [5. , 2. , 3.5, 1. ],\n",
       "       [4.9, 3.1, 1.5, 0.2],\n",
       "       [5. , 3.5, 1.3, 0.3],\n",
       "       [5.4, 3.7, 1.5, 0.2],\n",
       "       [6.8, 3. , 5.5, 2.1],\n",
       "       [6.3, 3.3, 6. , 2.5],\n",
       "       [5. , 3.4, 1.6, 0.4],\n",
       "       [5.2, 4.1, 1.5, 0.1],\n",
       "       [6.3, 2.5, 5. , 1.9],\n",
       "       [7.7, 2.6, 6.9, 2.3],\n",
       "       [6. , 2.2, 4. , 1. ],\n",
       "       [7.2, 3.6, 6.1, 2.5],\n",
       "       [4.9, 2.4, 3.3, 1. ],\n",
       "       [6.1, 2.8, 4.7, 1.2],\n",
       "       [6.5, 3. , 5.2, 2. ],\n",
       "       [5.1, 3.5, 1.4, 0.3],\n",
       "       [7.4, 2.8, 6.1, 1.9],\n",
       "       [5.9, 3. , 5.1, 1.8],\n",
       "       [6.4, 2.7, 5.3, 1.9],\n",
       "       [4.4, 2.9, 1.4, 0.2],\n",
       "       [5.6, 2.8, 4.9, 2. ],\n",
       "       [5.1, 3.4, 1.5, 0.2],\n",
       "       [5. , 3.3, 1.4, 0.2],\n",
       "       [5.7, 2.6, 3.5, 1. ],\n",
       "       [6.9, 3.1, 5.4, 2.1],\n",
       "       [5.5, 2.6, 4.4, 1.2],\n",
       "       [6.3, 2.8, 5.1, 1.5],\n",
       "       [7. , 3.2, 4.7, 1.4],\n",
       "       [6.8, 2.8, 4.8, 1.4],\n",
       "       [6.5, 3.2, 5.1, 2. ],\n",
       "       [6.9, 3.1, 4.9, 1.5],\n",
       "       [5.5, 2.4, 3.8, 1.1],\n",
       "       [5.6, 3. , 4.5, 1.5],\n",
       "       [6. , 3. , 4.8, 1.8],\n",
       "       [6. , 2.7, 5.1, 1.6],\n",
       "       [5.8, 2.7, 5.1, 1.9],\n",
       "       [5.9, 3.2, 4.8, 1.8],\n",
       "       [5.1, 3.8, 1.6, 0.2],\n",
       "       [6.2, 2.2, 4.5, 1.5],\n",
       "       [5.6, 3. , 4.1, 1.3],\n",
       "       [5.6, 2.5, 3.9, 1.1],\n",
       "       [5.8, 2.7, 4.1, 1. ],\n",
       "       [6.4, 3.1, 5.5, 1.8],\n",
       "       [6.6, 2.9, 4.6, 1.3],\n",
       "       [5.5, 4.2, 1.4, 0.2],\n",
       "       [4.4, 3. , 1.3, 0.2],\n",
       "       [6.3, 2.9, 5.6, 1.8],\n",
       "       [6.4, 3.2, 4.5, 1.5],\n",
       "       [7.3, 2.9, 6.3, 1.8],\n",
       "       [5. , 3.6, 1.4, 0.2],\n",
       "       [7.1, 3. , 5.9, 2.1],\n",
       "       [4.9, 3.6, 1.4, 0.1],\n",
       "       [6.5, 3. , 5.5, 1.8],\n",
       "       [6.7, 3.3, 5.7, 2.1],\n",
       "       [5.4, 3.4, 1.5, 0.4],\n",
       "       [6.1, 2.9, 4.7, 1.4],\n",
       "       [4.6, 3.2, 1.4, 0.2],\n",
       "       [6.7, 3. , 5.2, 2.3],\n",
       "       [5.7, 3. , 4.2, 1.2],\n",
       "       [5. , 3.4, 1.5, 0.2],\n",
       "       [6.5, 3. , 5.8, 2.2],\n",
       "       [6.6, 3. , 4.4, 1.4],\n",
       "       [5. , 3.5, 1.6, 0.6],\n",
       "       [4.6, 3.6, 1. , 0.2],\n",
       "       [6.3, 2.5, 4.9, 1.5],\n",
       "       [5.7, 4.4, 1.5, 0.4]])"
      ]
     },
     "execution_count": 4,
     "metadata": {},
     "output_type": "execute_result"
    }
   ],
   "source": [
    "X_train # changing random_state X_train also changed "
   ]
  },
  {
   "cell_type": "code",
   "execution_count": 5,
   "id": "b8b288c7",
   "metadata": {},
   "outputs": [
    {
     "data": {
      "text/plain": [
       "1.0"
      ]
     },
     "execution_count": 5,
     "metadata": {},
     "output_type": "execute_result"
    }
   ],
   "source": [
    "knn = KNeighborsClassifier(n_neighbors=5)\n",
    "knn.fit(X_train , y_train)\n",
    "y_pred = knn.predict(X_test)\n",
    "accuracy_score(y_test , y_pred)"
   ]
  },
  {
   "cell_type": "code",
   "execution_count": 6,
   "id": "6baf7bc7",
   "metadata": {},
   "outputs": [],
   "source": [
    "X = np.random.random((25,5))\n",
    "y = np.random.randint(low=0 , high=2 , size = (25))"
   ]
  },
  {
   "cell_type": "raw",
   "id": "289b83ce",
   "metadata": {},
   "source": [
    "'n_splits=K' means that the dataset will be divided into K equally sized \"folds\" or subsets. In each iteration of the cross-validation process, one of these folds will be used as the test set, while the remaining 9 folds will be used as the training set."
   ]
  },
  {
   "cell_type": "code",
   "execution_count": 7,
   "id": "4a9067e9",
   "metadata": {
    "scrolled": true
   },
   "outputs": [
    {
     "name": "stdout",
     "output_type": "stream",
     "text": [
      "[ 5  6  7  8  9 10 11 12 13 14 15 16 17 18 19 20 21 22 23 24] [0 1 2 3 4]\n",
      "[ 0  1  2  3  4  9 10 11 12 13 14 15 16 17 18 19 20 21 22 23 24] [5 6 7 8]\n",
      "[ 0  1  2  3  4  5  6  7  8 13 14 15 16 17 18 19 20 21 22 23 24] [ 9 10 11 12]\n",
      "[ 0  1  2  3  4  5  6  7  8  9 10 11 12 17 18 19 20 21 22 23 24] [13 14 15 16]\n",
      "[ 0  1  2  3  4  5  6  7  8  9 10 11 12 13 14 15 16 21 22 23 24] [17 18 19 20]\n",
      "[ 0  1  2  3  4  5  6  7  8  9 10 11 12 13 14 15 16 17 18 19 20] [21 22 23 24]\n"
     ]
    }
   ],
   "source": [
    "kf = KFold(n_splits=6)\n",
    "for train_index , test_index in kf.split(X):\n",
    "    print(train_index , test_index)"
   ]
  },
  {
   "cell_type": "markdown",
   "id": "ef974d64",
   "metadata": {},
   "source": [
    "# cross_val_score (classification)"
   ]
  },
  {
   "cell_type": "code",
   "execution_count": 8,
   "id": "141d3f43",
   "metadata": {},
   "outputs": [],
   "source": [
    "data = load_iris()\n",
    "\n",
    "X = data['data']\n",
    "y = data['target']"
   ]
  },
  {
   "cell_type": "code",
   "execution_count": 9,
   "id": "6842b537",
   "metadata": {},
   "outputs": [
    {
     "data": {
      "text/plain": [
       "array([1.        , 0.93333333, 1.        , 1.        , 0.86666667,\n",
       "       0.93333333, 0.93333333, 1.        , 1.        , 1.        ])"
      ]
     },
     "execution_count": 9,
     "metadata": {},
     "output_type": "execute_result"
    }
   ],
   "source": [
    "knn = KNeighborsClassifier(n_neighbors=5)\n",
    "knn.fit(X , y)\n",
    "scores = cross_val_score(knn , X , y , scoring='accuracy' , cv=10 )\n",
    "scores"
   ]
  },
  {
   "cell_type": "code",
   "execution_count": 10,
   "id": "b5c3080f",
   "metadata": {},
   "outputs": [
    {
     "data": {
      "text/plain": [
       "0.9666666666666668"
      ]
     },
     "execution_count": 10,
     "metadata": {},
     "output_type": "execute_result"
    }
   ],
   "source": [
    "scores.mean()"
   ]
  },
  {
   "cell_type": "code",
   "execution_count": 11,
   "id": "3c13a589",
   "metadata": {},
   "outputs": [
    {
     "name": "stdout",
     "output_type": "stream",
     "text": [
      "1 0.96\n",
      "2 0.9533333333333334\n",
      "3 0.9666666666666666\n",
      "4 0.9666666666666666\n",
      "5 0.9666666666666668\n",
      "6 0.9666666666666668\n",
      "7 0.9666666666666668\n",
      "8 0.9666666666666668\n",
      "9 0.9733333333333334\n",
      "10 0.9666666666666668\n",
      "11 0.9666666666666668\n",
      "12 0.9733333333333334\n",
      "13 0.9800000000000001\n",
      "14 0.9733333333333334\n",
      "15 0.9733333333333334\n",
      "16 0.9733333333333334\n",
      "17 0.9733333333333334\n",
      "18 0.9800000000000001\n",
      "19 0.9733333333333334\n",
      "20 0.9800000000000001\n"
     ]
    }
   ],
   "source": [
    "for i in range(1,21):\n",
    "    knn = KNeighborsClassifier(n_neighbors=i)\n",
    "    scores = cross_val_score(knn , X , y , scoring='accuracy' , cv=10 )\n",
    "    print(i , scores.mean())"
   ]
  },
  {
   "cell_type": "code",
   "execution_count": 12,
   "id": "990d8c78",
   "metadata": {},
   "outputs": [],
   "source": [
    "data = datasets.load_diabetes()\n",
    "\n",
    "X = data['data']\n",
    "y = data['target']"
   ]
  },
  {
   "cell_type": "code",
   "execution_count": 13,
   "id": "0874d9bd",
   "metadata": {},
   "outputs": [
    {
     "name": "stdout",
     "output_type": "stream",
     "text": [
      "0.4619602420450601\n"
     ]
    }
   ],
   "source": [
    "reg = LinearRegression()\n",
    "scores = np.mean(cross_val_score(reg , X , y , cv=10 , scoring='r2'))\n",
    "print(scores)"
   ]
  }
 ],
 "metadata": {
  "kernelspec": {
   "display_name": "Python 3 (ipykernel)",
   "language": "python",
   "name": "python3"
  },
  "language_info": {
   "codemirror_mode": {
    "name": "ipython",
    "version": 3
   },
   "file_extension": ".py",
   "mimetype": "text/x-python",
   "name": "python",
   "nbconvert_exporter": "python",
   "pygments_lexer": "ipython3",
   "version": "3.11.3"
  }
 },
 "nbformat": 4,
 "nbformat_minor": 5
}
