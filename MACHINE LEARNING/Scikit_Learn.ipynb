{
 "cells": [
  {
   "cell_type": "code",
   "execution_count": null,
   "id": "a23a8f17",
   "metadata": {},
   "outputs": [],
   "source": [
    "FEATURES AND LABELS :: \n",
    "    \n",
    "Features are independent variable which means that one feature does not effect another one.\n",
    "They act as a input to our Machine Learning Input so that we determine the correct Label Or Say Output.\n",
    "The Number of 'Feature' is also known as 'Dimention'\n",
    "\n",
    "Label,dependent variable , Output.\n",
    "No of Rows = Number Of Instances.\n",
    "In terminology Features are assigned as 'X' and labels are 'y'"
   ]
  },
  {
   "cell_type": "code",
   "execution_count": null,
   "id": "32459de7",
   "metadata": {},
   "outputs": [],
   "source": []
  }
 ],
 "metadata": {
  "kernelspec": {
   "display_name": "Python 3 (ipykernel)",
   "language": "python",
   "name": "python3"
  },
  "language_info": {
   "codemirror_mode": {
    "name": "ipython",
    "version": 3
   },
   "file_extension": ".py",
   "mimetype": "text/x-python",
   "name": "python",
   "nbconvert_exporter": "python",
   "pygments_lexer": "ipython3",
   "version": "3.10.9"
  }
 },
 "nbformat": 4,
 "nbformat_minor": 5
}
