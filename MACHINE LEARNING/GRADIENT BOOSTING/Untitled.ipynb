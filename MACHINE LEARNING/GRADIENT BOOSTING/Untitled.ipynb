{
 "cells": [
  {
   "cell_type": "code",
   "execution_count": 1,
   "id": "0a903fda",
   "metadata": {},
   "outputs": [],
   "source": [
    "import numpy as np\n",
    "import pandas as pd\n",
    "from sklearn.tree import DecisionTreeRegressor"
   ]
  },
  {
   "cell_type": "code",
   "execution_count": 27,
   "id": "7b0639b2",
   "metadata": {},
   "outputs": [],
   "source": [
    "class CustomGradientBoostingClassifier:\n",
    "    \n",
    "    def __init__(self, learning_rate, n_estimators, max_depth=1):\n",
    "        self.learning_rate = learning_rate\n",
    "        self.n_estimators = n_estimators\n",
    "        self.max_depth = max_depth\n",
    "        self.trees = []\n",
    "        \n",
    "    def fit(self, X, y):\n",
    "        \n",
    "        F0 = np.log(y.mean()/(1-y.mean()))  # log-odds values\n",
    "        self.F0 = np.full(len(y), F0)  # converting to array with the input length\n",
    "        Fm = self.F0.copy()\n",
    "        \n",
    "        for _ in range(self.n_estimators):\n",
    "            p = np.exp(Fm) / (1 + np.exp(Fm))  # converting back to probabilities\n",
    "            r = y - p  # residuals\n",
    "            tree = DecisionTreeRegressor(max_depth=self.max_depth, random_state=0)\n",
    "            tree.fit(X, r)\n",
    "            ids = tree.apply(x)  # getting the terminal node IDs\n",
    "\n",
    "            # looping through the terminal nodes \n",
    "            for j in np.unique(ids):\n",
    "                fltr = ids == j\n",
    "\n",
    "                # getting gamma using the formula (Σresiduals/Σp(1-p))\n",
    "                num = r[fltr].sum()\n",
    "                den = (p[fltr]*(1-p[fltr])).sum()\n",
    "                gamma = num / den\n",
    "\n",
    "                # updating the prediction\n",
    "                Fm[fltr] += self.learning_rate * gamma\n",
    "\n",
    "                # replacing the prediction value in the tree\n",
    "                tree.tree_.value[j, 0, 0] = gamma\n",
    "\n",
    "            self.trees.append(tree)\n",
    "            \n",
    "    def predict_proba(self, X):\n",
    "        \n",
    "        Fm = self.F0\n",
    "        \n",
    "        for i in range(self.n_estimators):\n",
    "            Fm += self.learning_rate * self.trees[i].predict(X)\n",
    "            \n",
    "        return np.exp(Fm) / (1 + np.exp(Fm))  # converting back to probabilities"
   ]
  },
  {
   "cell_type": "code",
   "execution_count": 28,
   "id": "7005a376",
   "metadata": {},
   "outputs": [
    {
     "name": "stdout",
     "output_type": "stream",
     "text": [
      "[1 2]\n",
      "[1 2]\n",
      "[1 2]\n",
      "[1 2]\n",
      "[1 2]\n",
      "[1 2]\n",
      "[1 2]\n",
      "[1 2]\n",
      "[1 2]\n",
      "[1 2]\n",
      "[1 2]\n",
      "[1 2]\n",
      "[1 2]\n",
      "[1 2]\n",
      "[1 2]\n",
      "[1 2]\n",
      "[1 2]\n",
      "[1 2]\n",
      "[1 2]\n",
      "[1 2]\n",
      "f(0) is ::  [-1.58252068 -0.31657724 -1.58252068 -1.58252068 -0.86905818 -0.86905818\n",
      "  0.14345481 -0.31657724 -1.58252068 -1.58252068  0.14345481 -0.31657724\n",
      " -1.299584   -1.58252068 -0.86905818 -0.86905818 -1.58252068 -1.58252068\n",
      " -1.58252068 -1.58252068 -1.58252068 -0.48267714 -1.58252068 -1.58252068\n",
      " -1.58252068 -1.58252068 -1.58252068 -1.58252068 -1.58252068  0.14345481\n",
      " -1.58252068 -0.86905818  0.14345481 -0.31657724 -0.31657724 -1.58252068\n",
      " -1.58252068  0.14345481 -1.58252068 -1.58252068 -0.14650689 -1.58252068\n",
      "  0.14345481 -0.31657724 -1.58252068 -1.58252068 -1.58252068 -1.58252068\n",
      " -1.58252068 -0.86905818 -0.31657724 -1.58252068 -0.31657724 -0.31657724\n",
      " -1.58252068 -0.31657724  0.14345481 -1.13734113  0.14345481 -1.58252068\n",
      " -1.58252068 -1.58252068 -1.299584   -1.58252068 -1.58252068 -1.58252068\n",
      " -0.86905818 -1.58252068  0.14345481 -0.31657724 -1.58252068 -1.58252068\n",
      "  0.14345481 -1.58252068 -1.58252068 -1.58252068 -1.58252068  0.14345481\n",
      " -1.58252068 -0.14650689 -0.31657724 -1.58252068 -1.58252068  0.14345481\n",
      " -1.58252068 -1.58252068 -1.58252068 -1.58252068 -0.31657724 -1.58252068\n",
      " -0.14650689 -1.58252068 -1.58252068 -1.58252068 -1.58252068 -1.58252068\n",
      " -1.58252068 -1.58252068  0.14345481  0.14345481]\n"
     ]
    }
   ],
   "source": [
    "np.random.seed(42)\n",
    "X = np.random.rand(100, 1) - 0.5\n",
    "y = 3*X[:, 0]**2 + 0.05 * np.random.randn(100)\n",
    "gd = CustomGradientBoostingClassifier(learning_rate=0.1, n_estimators=20)\n",
    "gd.fit(X,y)\n",
    "gd.predict_proba(X)\n",
    "print('f(0) is :: ',gd.F0)"
   ]
  },
  {
   "cell_type": "code",
   "execution_count": 17,
   "id": "0c6e110f",
   "metadata": {
    "scrolled": true
   },
   "outputs": [
    {
     "name": "stdout",
     "output_type": "stream",
     "text": [
      "Custom GBM Log-Loss: 0.284047360116223\n",
      "Scikit-learn GBM Log-Loss: 0.310336960055931\n"
     ]
    }
   ],
   "source": [
    "from sklearn.ensemble import GradientBoostingClassifier\n",
    "from sklearn.metrics import log_loss\n",
    "\n",
    "# ... CustomGradientBoostingClassifier implementation ...\n",
    "\n",
    "np.random.seed(42)\n",
    "X = np.random.rand(100, 1) - 0.5\n",
    "y = (3 * X[:, 0]**2 + 0.05 * np.random.randn(100)) > 0.2  # Convert to binary labels\n",
    "\n",
    "custom_gbm = CustomGradientBoostingClassifier(\n",
    "    n_estimators=20, \n",
    "    learning_rate=0.1, \n",
    "    max_depth=1\n",
    ")\n",
    "custom_gbm.fit(X, y)\n",
    "custom_gbm_log_loss = log_loss(y, custom_gbm.predict_proba(X))\n",
    "print(f\"Custom GBM Log-Loss: {custom_gbm_log_loss:.15f}\")\n",
    "\n",
    "sklearn_gbm = GradientBoostingClassifier(\n",
    "    n_estimators=20, \n",
    "    learning_rate=0.1, \n",
    "    max_depth=1\n",
    ")\n",
    "sklearn_gbm.fit(X, y)\n",
    "sklearn_gbm_log_loss = log_loss(y, sklearn_gbm.predict_proba(X))\n",
    "print(f\"Scikit-learn GBM Log-Loss: {sklearn_gbm_log_loss:.15f}\")\n"
   ]
  },
  {
   "cell_type": "code",
   "execution_count": null,
   "id": "96d0b96e",
   "metadata": {},
   "outputs": [],
   "source": []
  },
  {
   "cell_type": "code",
   "execution_count": null,
   "id": "6af3a8ae",
   "metadata": {},
   "outputs": [],
   "source": []
  }
 ],
 "metadata": {
  "kernelspec": {
   "display_name": "Python 3 (ipykernel)",
   "language": "python",
   "name": "python3"
  },
  "language_info": {
   "codemirror_mode": {
    "name": "ipython",
    "version": 3
   },
   "file_extension": ".py",
   "mimetype": "text/x-python",
   "name": "python",
   "nbconvert_exporter": "python",
   "pygments_lexer": "ipython3",
   "version": "3.11.3"
  }
 },
 "nbformat": 4,
 "nbformat_minor": 5
}
