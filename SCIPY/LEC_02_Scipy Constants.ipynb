{
 "cells": [
  {
   "cell_type": "code",
   "execution_count": 7,
   "id": "94e83a83",
   "metadata": {},
   "outputs": [],
   "source": [
    "import scipy\n",
    "import numpy as np"
   ]
  },
  {
   "cell_type": "code",
   "execution_count": 2,
   "id": "a9679985",
   "metadata": {},
   "outputs": [
    {
     "name": "stdout",
     "output_type": "stream",
     "text": [
      "1.11.1\n"
     ]
    }
   ],
   "source": [
    "print(scipy.__version__)"
   ]
  },
  {
   "cell_type": "code",
   "execution_count": 4,
   "id": "1401fb3a",
   "metadata": {},
   "outputs": [
    {
     "name": "stdout",
     "output_type": "stream",
     "text": [
      "3.141592653589793\n"
     ]
    }
   ],
   "source": [
    "from scipy import constants\n",
    "\n",
    "print(constants.pi) # It gives accurate value of all scientific constants"
   ]
  },
  {
   "cell_type": "code",
   "execution_count": 5,
   "id": "207c27c1",
   "metadata": {},
   "outputs": [
    {
     "name": "stdout",
     "output_type": "stream",
     "text": [
      "['LowLevelCallable', '__version__', 'cluster', 'constants', 'datasets', 'fft', 'fftpack', 'integrate', 'interpolate', 'io', 'linalg', 'misc', 'ndimage', 'odr', 'optimize', 'show_config', 'signal', 'sparse', 'spatial', 'special', 'stats', 'test']\n"
     ]
    }
   ],
   "source": [
    "print(dir(scipy))"
   ]
  },
  {
   "cell_type": "raw",
   "id": "e1b33061",
   "metadata": {},
   "source": [
    "UNIT CATEGORIES: METRIC, BINARY, MASS, ANGLE, TIME, LENGTH, PRESSURE, VOLUME, SPEED, TEMPRATURE, ENERGY, POWER, FORCE."
   ]
  },
  {
   "cell_type": "code",
   "execution_count": 10,
   "id": "6da5b358",
   "metadata": {},
   "outputs": [
    {
     "name": "stdout",
     "output_type": "stream",
     "text": [
      "1e+24\n",
      "1e+21\n",
      "1e+18\n",
      "1000000000000000.0\n",
      "1000000000000.0\n",
      "1000000000.0\n",
      "1000000.0\n",
      "1000.0\n",
      "100.0\n",
      "10.0\n",
      "0.1\n",
      "0.01\n",
      "0.001\n",
      "1e-06\n",
      "1e-09\n",
      "1e-12\n",
      "1e-15\n",
      "1e-18\n",
      "1e-21\n"
     ]
    }
   ],
   "source": [
    "# Metric(Si unit) Prefixes :\n",
    "\n",
    "print(constants.yotta) # 1e+24\n",
    "print(constants.zetta) # 1e+21\n",
    "print(constants.exa) # 1e+18\n",
    "print(constants.peta) # 1000000000000000.0\n",
    "print(constants.tera) # 10000000000000.0\n",
    "print(constants.giga) # 1000000000.0\n",
    "print(constants.mega) # 1000000.0\n",
    "print(constants.kilo) # 1000.0\n",
    "print(constants.hecto) # 100.0\n",
    "print(constants.deka) # 10.0\n",
    "print(constants.deci) # 0.1\n",
    "print(constants.centi) # 0.01\n",
    "print(constants.milli) # 0.001\n",
    "print(constants.micro) # 1e-06\n",
    "print(constants.nano) # 1e-09\n",
    "print(constants.pico) # 1e-12\n",
    "print(constants.femto) # 1e-15\n",
    "print(constants.atto) # 1e-18\n",
    "print(constants.zepto) # 1e-21"
   ]
  },
  {
   "cell_type": "code",
   "execution_count": 11,
   "id": "9d02619c",
   "metadata": {
    "scrolled": true
   },
   "outputs": [
    {
     "name": "stdout",
     "output_type": "stream",
     "text": [
      "1024\n",
      "1048576\n",
      "1073741824\n",
      "1099511627776\n",
      "1125899906842624\n",
      "1152921504606846976\n",
      "1180591620717411303424\n",
      "1208925819614629174706176\n"
     ]
    }
   ],
   "source": [
    "# Binary Prefixes: \n",
    "from scipy import constants\n",
    "print(constants.kibi) \n",
    "print(constants.mebi)  \n",
    "print(constants.gibi)\n",
    "print(constants.tebi)\n",
    "print(constants.pebi)\n",
    "print(constants.exbi)\n",
    "print(constants.zebi)\n",
    "print(constants.yobi)"
   ]
  },
  {
   "cell_type": "code",
   "execution_count": 12,
   "id": "7a7cc9e6",
   "metadata": {
    "scrolled": true
   },
   "outputs": [
    {
     "name": "stdout",
     "output_type": "stream",
     "text": [
      "0.001\n",
      "1000.0\n",
      "6.479891e-05\n",
      "0.45359236999999997\n",
      "0.45359236999999997\n",
      "0.028349523124999998\n",
      "0.028349523124999998\n",
      "6.3502931799999995\n",
      "1016.0469088\n",
      "907.1847399999999\n",
      "0.031103476799999998\n",
      "0.37324172159999996\n",
      "0.0002\n",
      "1.6605390666e-27\n",
      "1.6605390666e-27\n",
      "1.6605390666e-27\n"
     ]
    }
   ],
   "source": [
    "# MASS: \n",
    "from scipy import constants\n",
    "print(constants.gram) # 0.001\n",
    "print(constants.metric_ton) # 1000.0\n",
    "print(constants.grain)\n",
    "print(constants.lb)\n",
    "print(constants.pound)\n",
    "print(constants.oz)\n",
    "print(constants.ounce)\n",
    "print(constants.stone)\n",
    "print(constants.long_ton)\n",
    "print(constants.short_ton)\n",
    "print(constants.troy_ounce)\n",
    "print(constants.troy_pound)\n",
    "print(constants.carat)\n",
    "print(constants.atomic_mass)\n",
    "print(constants.m_u)\n",
    "print(constants.u)"
   ]
  },
  {
   "cell_type": "code",
   "execution_count": 13,
   "id": "fc813217",
   "metadata": {
    "scrolled": true
   },
   "outputs": [
    {
     "name": "stdout",
     "output_type": "stream",
     "text": [
      "0.017453292519943295\n",
      "0.0002908882086657216\n",
      "0.0002908882086657216\n",
      "4.84813681109536e-06\n",
      "4.84813681109536e-06\n"
     ]
    }
   ],
   "source": [
    "# Angle: \n",
    "from scipy import constants\n",
    "print(constants.degree) # 0.0174\n",
    "print(constants.arcmin)\n",
    "print(constants.arcminute) # 0.0002\n",
    "print(constants.arcsec)\n",
    "print(constants.arcsecond)"
   ]
  },
  {
   "cell_type": "code",
   "execution_count": 14,
   "id": "ce1a64c5",
   "metadata": {},
   "outputs": [
    {
     "name": "stdout",
     "output_type": "stream",
     "text": [
      "60.0\n",
      "3600.0\n",
      "86400.0\n",
      "604800.0\n",
      "31536000.0\n",
      "31557600.0\n"
     ]
    }
   ],
   "source": [
    "# Time: (convert into sec)\n",
    "from scipy import constants\n",
    "print(constants.minute) # 60.0\n",
    "print(constants.hour) # 3600\n",
    "print(constants.day) \n",
    "print(constants.week)\n",
    "print(constants.year)\n",
    "print(constants.Julian_year)"
   ]
  },
  {
   "cell_type": "code",
   "execution_count": 15,
   "id": "301c2250",
   "metadata": {},
   "outputs": [
    {
     "name": "stdout",
     "output_type": "stream",
     "text": [
      "0.0254\n",
      "0.30479999999999996\n",
      "0.9143999999999999\n",
      "1609.3439999999998\n",
      "2.5399999999999997e-05\n",
      "0.00035277777777777776\n",
      "0.00035277777777777776\n",
      "0.3048006096012192\n",
      "1609.3472186944373\n",
      "1852.0\n",
      "1e-15\n",
      "1e-10\n",
      "1e-06\n",
      "149597870700.0\n",
      "149597870700.0\n",
      "9460730472580800.0\n",
      "3.085677581491367e+16\n"
     ]
    }
   ],
   "source": [
    "# length :(convert into meter)\n",
    "from scipy import constants\n",
    "print(constants.inch) # 0.0254\n",
    "print(constants.foot)\n",
    "print(constants.yard)\n",
    "print(constants.mile)\n",
    "print(constants.mil)\n",
    "print(constants.pt)\n",
    "print(constants.point)\n",
    "print(constants.survey_foot)\n",
    "print(constants.survey_mile)\n",
    "print(constants.nautical_mile)\n",
    "print(constants.fermi)\n",
    "print(constants.angstrom)\n",
    "print(constants.micron)\n",
    "print(constants.au)\n",
    "print(constants.astronomical_unit)\n",
    "print(constants.light_year)\n",
    "print(constants.parsec)"
   ]
  },
  {
   "cell_type": "code",
   "execution_count": 16,
   "id": "bfd2a5ea",
   "metadata": {
    "scrolled": true
   },
   "outputs": [
    {
     "name": "stdout",
     "output_type": "stream",
     "text": [
      "101325.0\n",
      "101325.0\n",
      "100000.0\n",
      "133.32236842105263\n",
      "133.32236842105263\n",
      "6894.757293168361\n"
     ]
    }
   ],
   "source": [
    "# Pressure: pascals\n",
    "from scipy import constants\n",
    "print(constants.atm)\n",
    "print(constants.atmosphere)\n",
    "print(constants.bar)\n",
    "print(constants.torr)\n",
    "print(constants.mmHg) \n",
    "print(constants.psi)"
   ]
  },
  {
   "cell_type": "code",
   "execution_count": 17,
   "id": "840a8e9d",
   "metadata": {},
   "outputs": [
    {
     "name": "stdout",
     "output_type": "stream",
     "text": [
      "0.001\n",
      "0.001\n",
      "0.0037854117839999997\n",
      "0.0037854117839999997\n",
      "0.00454609\n",
      "2.9573529562499998e-05\n",
      "2.9573529562499998e-05\n",
      "2.84130625e-05\n",
      "0.15898729492799998\n",
      "0.15898729492799998\n"
     ]
    }
   ],
   "source": [
    "# Volume: cubic meter\n",
    "from scipy import constants\n",
    "print(constants.liter) # 0.001\n",
    "print(constants.litre) # 0.001\n",
    "print(constants.gallon)\n",
    "print(constants.gallon_US)\n",
    "print(constants.gallon_imp)\n",
    "print(constants.fluid_ounce)\n",
    "print(constants.fluid_ounce_US)\n",
    "print(constants.fluid_ounce_imp)\n",
    "print(constants.barrel)\n",
    "print(constants.bbl)"
   ]
  },
  {
   "cell_type": "code",
   "execution_count": 18,
   "id": "ef94737e",
   "metadata": {},
   "outputs": [
    {
     "name": "stdout",
     "output_type": "stream",
     "text": [
      "0.2777777777777778\n",
      "0.44703999999999994\n",
      "340.5\n",
      "340.5\n",
      "0.5144444444444445\n"
     ]
    }
   ],
   "source": [
    "# speed: meter per sec\n",
    "from scipy import constants\n",
    "print(constants.kmh) # 0.27777777\n",
    "print(constants.mph)\n",
    "print(constants.mach) # 340.5\n",
    "print(constants.speed_of_sound) # 340.5\n",
    "print(constants.knot)"
   ]
  },
  {
   "cell_type": "code",
   "execution_count": 19,
   "id": "5bd8a46b",
   "metadata": {},
   "outputs": [
    {
     "name": "stdout",
     "output_type": "stream",
     "text": [
      "273.15\n",
      "0.5555555555555556\n"
     ]
    }
   ],
   "source": [
    "# Temprature: kelvin\n",
    "from scipy import constants\n",
    "print(constants.zero_Celsius)\n",
    "print(constants.degree_Fahrenheit)"
   ]
  },
  {
   "cell_type": "code",
   "execution_count": 20,
   "id": "8f2392b5",
   "metadata": {},
   "outputs": [
    {
     "name": "stdout",
     "output_type": "stream",
     "text": [
      "1.602176634e-19\n",
      "1.602176634e-19\n",
      "4.184\n",
      "4.184\n",
      "4.1868\n",
      "1e-07\n",
      "1055.05585262\n",
      "1055.05585262\n",
      "1054.3502644888888\n",
      "4184000000.0\n"
     ]
    }
   ],
   "source": [
    "# Energy: joules\n",
    "from scipy import constants\n",
    "print(constants.eV)\n",
    "print(constants.electron_volt)\n",
    "print(constants.calorie) # 4.184\n",
    "print(constants.calorie_th) # 4.184\n",
    "print(constants.calorie_IT)\n",
    "print(constants.erg) # 07\n",
    "print(constants.Btu)\n",
    "print(constants.Btu_IT)\n",
    "print(constants.Btu_th)\n",
    "print(constants.ton_TNT)"
   ]
  },
  {
   "cell_type": "code",
   "execution_count": 21,
   "id": "0c2e3b9d",
   "metadata": {},
   "outputs": [
    {
     "name": "stdout",
     "output_type": "stream",
     "text": [
      "1e-05\n",
      "1e-05\n",
      "4.4482216152605\n",
      "4.4482216152605\n",
      "9.80665\n",
      "9.80665\n"
     ]
    }
   ],
   "source": [
    "# Power : newton\n",
    "from scipy import constants\n",
    "print(constants.dyn)\n",
    "print(constants.dyne)\n",
    "print(constants.lbf)\n",
    "print(constants.pound_force)\n",
    "print(constants.kgf)\n",
    "print(constants.kilogram_force)"
   ]
  }
 ],
 "metadata": {
  "kernelspec": {
   "display_name": "Python 3 (ipykernel)",
   "language": "python",
   "name": "python3"
  },
  "language_info": {
   "codemirror_mode": {
    "name": "ipython",
    "version": 3
   },
   "file_extension": ".py",
   "mimetype": "text/x-python",
   "name": "python",
   "nbconvert_exporter": "python",
   "pygments_lexer": "ipython3",
   "version": "3.11.3"
  }
 },
 "nbformat": 4,
 "nbformat_minor": 5
}
