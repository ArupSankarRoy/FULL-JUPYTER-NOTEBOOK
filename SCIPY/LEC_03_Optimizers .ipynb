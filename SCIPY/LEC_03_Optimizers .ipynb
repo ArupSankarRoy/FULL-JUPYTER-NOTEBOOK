{
 "cells": [
  {
   "cell_type": "markdown",
   "id": "0c6d2911",
   "metadata": {},
   "source": [
    "# Optimizers in Scipy: they are a set of procedures defined in scipy that either find the minimum value of a function or a root of an equation.\n",
    "## optimizing function: all the algorithms which helps in minimizing the data.\n",
    "## Root of an equation: x + cos(x), we will solve it via optimize.root function. \n",
    "## this function takes 2 arguments: \"fun\" and x0\n",
    "## example: here we will find the root of the equation x + cos(x) ."
   ]
  },
  {
   "cell_type": "code",
   "execution_count": 3,
   "id": "e31bbe2d",
   "metadata": {},
   "outputs": [
    {
     "name": "stdout",
     "output_type": "stream",
     "text": [
      "[-0.73908513]\n",
      " message: The solution converged.\n",
      " success: True\n",
      "  status: 1\n",
      "     fun: [ 0.000e+00]\n",
      "       x: [-7.391e-01]\n",
      "    nfev: 9\n",
      "    fjac: [[-1.000e+00]]\n",
      "       r: [-1.674e+00]\n",
      "     qtf: [-2.668e-13]\n"
     ]
    },
    {
     "name": "stderr",
     "output_type": "stream",
     "text": [
      "C:\\Users\\arups\\AppData\\Local\\Temp\\ipykernel_9324\\3030911635.py:5: DeprecationWarning: Conversion of an array with ndim > 0 to a scalar is deprecated, and will error in future. Ensure you extract a single element from your array before performing this operation. (Deprecated NumPy 1.25.)\n",
      "  return x+cos(x)\n"
     ]
    }
   ],
   "source": [
    "from scipy.optimize import root\n",
    "from math import cos\n",
    "\n",
    "def eqn(x):\n",
    "    return x+cos(x)\n",
    "myroot = root(eqn , 0)\n",
    "print(myroot.x)\n",
    "print(myroot) # Whole root info"
   ]
  },
  {
   "cell_type": "markdown",
   "id": "aba6b530",
   "metadata": {},
   "source": [
    "# Minimizing the Function or data:\n",
    "# high points are called maxima and low points are called minima.\n",
    "# finding the Minima:\n",
    "# we use scipy.optimize.minimize(). it uses 3 arguments: \"fun\", x0 and method:it also has some legal values: \"CG\", \"BFGS\", \"NEWTON-CG\", \"L-BFGS-B\", \"TNC\", \"COBYLA\", \"SLSQP\".(These all are a kind of functions)\n",
    "# callback: functions called after each iteration of optimizations.(EX: in for loop i++)"
   ]
  },
  {
   "cell_type": "code",
   "execution_count": null,
   "id": "90027d1d",
   "metadata": {},
   "outputs": [],
   "source": []
  },
  {
   "cell_type": "code",
   "execution_count": null,
   "id": "36d101e0",
   "metadata": {},
   "outputs": [],
   "source": []
  }
 ],
 "metadata": {
  "kernelspec": {
   "display_name": "Python 3 (ipykernel)",
   "language": "python",
   "name": "python3"
  },
  "language_info": {
   "codemirror_mode": {
    "name": "ipython",
    "version": 3
   },
   "file_extension": ".py",
   "mimetype": "text/x-python",
   "name": "python",
   "nbconvert_exporter": "python",
   "pygments_lexer": "ipython3",
   "version": "3.11.3"
  }
 },
 "nbformat": 4,
 "nbformat_minor": 5
}
